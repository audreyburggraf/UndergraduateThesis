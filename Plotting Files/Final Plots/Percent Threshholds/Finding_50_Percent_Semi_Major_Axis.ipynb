{
 "cells": [
  {
   "cell_type": "code",
   "execution_count": 3,
   "id": "1293611c",
   "metadata": {
    "code_folding": []
   },
   "outputs": [],
   "source": [
    "# Importing things \n",
    "import numpy as np\n",
    "import pandas as pd \n",
    "import seaborn as sns\n",
    "\n",
    "import matplotlib.pyplot as plt\n",
    "\n",
    "import matplotlib.patches as mpatches\n",
    "\n",
    "import matplotlib.ticker as mticker\n",
    "from matplotlib.ticker import (MultipleLocator, AutoMinorLocator)\n",
    "from matplotlib.ticker import ScalarFormatter\n",
    "\n",
    "import matplotlib.colors as colors\n",
    "from matplotlib.colors import ListedColormap\n",
    "from matplotlib.colors import LogNorm\n",
    "from matplotlib.colors import Normalize\n",
    "\n",
    "from scipy.ndimage import gaussian_filter\n",
    "\n",
    "from matplotlib.gridspec import GridSpec"
   ]
  },
  {
   "cell_type": "markdown",
   "id": "331dcc32",
   "metadata": {},
   "source": [
    "## Plotting preferences"
   ]
  },
  {
   "cell_type": "code",
   "execution_count": 4,
   "id": "a758abcd",
   "metadata": {},
   "outputs": [],
   "source": [
    "# Font sizes\n",
    "axis_label_font = 30\n",
    "axis_numbers_font = 25\n",
    "title_font = 50\n",
    "legend_font = 25\n",
    "\n",
    "detection_colours = sns.color_palette(\"hls\", 4)\n",
    "dark_colours = sns.color_palette(\"viridis\", 8)\n",
    "my_colours = sns.color_palette(\"husl\", 8)\n",
    "\n",
    "cmap_reds = ListedColormap(plt.cm.get_cmap('Reds', 10)(np.arange(10)))\n",
    "cmap_greens = ListedColormap(plt.cm.get_cmap('Greens', 10)(np.arange(10)))\n",
    "cmap_purples = ListedColormap(plt.cm.get_cmap('Purples', 10)(np.arange(10)))\n",
    "\n",
    "alpha = 0.7\n",
    "\n",
    "path = '/Users/audreyburggraf/Desktop/THESIS/Figures/'"
   ]
  },
  {
   "cell_type": "code",
   "execution_count": 7,
   "id": "e459e7f1",
   "metadata": {},
   "outputs": [
    {
     "data": {
      "text/plain": [
       "Index(['Inj.0P alpha0', 'Inj.0P delta0', 'Inj.0P pmra', 'Inj.0P pmdec',\n",
       "       'Inj.0P prlx', 'Inj.1P alpha0', 'Inj.1P delta0', 'Inj.1P pmra',\n",
       "       'Inj.1P pmdec', 'Inj.1P prlx', 'Inj.1P e', 'Inj.1P omega',\n",
       "       'Inj.1P Omega', 'Inj.1P cosi', 'Inj.1P log(m_p)', 'Inj.1P log(P)',\n",
       "       'Inj.1P tp', 'Rec.0P alpha0', 'Rec.0P delta0', 'Rec.0P pmra',\n",
       "       'Rec.0P pmdec', 'Rec0P prlx', 'Rec.1P alpha0', 'Rec.1P delta0',\n",
       "       'Rec.1P pmra', 'Rec.1P pmdec', 'Rec.1P prlx', 'Rec.1P e',\n",
       "       'Rec.1P omega', 'Rec.1P Omega', 'Rec.1P cosi', 'Rec.1P log(m_p)',\n",
       "       'Rec.1P log(P)', 'Rec.1P tp', 'np_chi_sq', 'wp_chi_sq', 'npBIC',\n",
       "       'wpBIC', 'DeltaBIC', 'Condition 1', 'Condition 2', 'Condition 3',\n",
       "       'Condition 4', 'Detection', 'Astrometric Signature', 'Stellar Mass',\n",
       "       'Scaling Factor', 'Distance', 'Semi-Major Axis', 'Sigma fov', 'Noise',\n",
       "       'S/N', 'm_p', 'P'],\n",
       "      dtype='object')"
      ]
     },
     "execution_count": 7,
     "metadata": {},
     "output_type": "execute_result"
    }
   ],
   "source": [
    "df.columns"
   ]
  },
  {
   "cell_type": "markdown",
   "id": "bf6f5123",
   "metadata": {},
   "source": [
    "## Data "
   ]
  },
  {
   "cell_type": "code",
   "execution_count": 5,
   "id": "e5b1da1f",
   "metadata": {},
   "outputs": [],
   "source": [
    "# Importing data file \n",
    "df = pd.read_csv('/Users/audreyburggraf/Desktop/THESIS/Data Files/bigrun_10000_after_changes.csv')\n",
    "\n",
    "df['m_p'] = 10**df['Inj.1P log(m_p)']\n",
    "df['P'] = 10**df['Inj.1P log(P)']\n",
    "\n",
    "# cut off certain range \n",
    "df_JupiterAnalog = df[(0.3 <= df.m_p) & (df.m_p <= 3)].reset_index(drop=True)\n",
    "df_JupiterMass = df[(0.9 <= df.m_p) & (df.m_p <= 1.1)].reset_index(drop=True)"
   ]
  },
  {
   "cell_type": "code",
   "execution_count": 16,
   "id": "c4cc91da",
   "metadata": {},
   "outputs": [
    {
     "data": {
      "text/plain": [
       "6130"
      ]
     },
     "execution_count": 16,
     "metadata": {},
     "output_type": "execute_result"
    }
   ],
   "source": [
    "len(df_JupiterAnalog)\n"
   ]
  },
  {
   "cell_type": "code",
   "execution_count": 17,
   "id": "ba91c9b9",
   "metadata": {},
   "outputs": [
    {
     "data": {
      "text/plain": [
       "321"
      ]
     },
     "execution_count": 17,
     "metadata": {},
     "output_type": "execute_result"
    }
   ],
   "source": [
    "df_JupiterAnalog['Detection'].sum()"
   ]
  },
  {
   "cell_type": "code",
   "execution_count": null,
   "id": "cf3d5a5a",
   "metadata": {},
   "outputs": [],
   "source": []
  },
  {
   "cell_type": "markdown",
   "id": "2f30fe00",
   "metadata": {},
   "source": [
    "## Bins"
   ]
  },
  {
   "cell_type": "code",
   "execution_count": 8,
   "id": "4f0fd564",
   "metadata": {},
   "outputs": [],
   "source": [
    "SmaBin = np.linspace(df['Semi-Major Axis'].min(),df['Semi-Major Axis'].max(), 20) \n",
    "SmaBin_JupiterAnalog = np.linspace(df_JupiterAnalog['Semi-Major Axis'].min(), df_JupiterAnalog['Semi-Major Axis'].max(), 20) \n",
    "\n",
    "num_SmaBin = len(SmaBin) - 1\n",
    "num_SmaBin_JupiterAnalog = len(SmaBin_JupiterAnalog) - 1\n",
    "\n",
    "SmaBin_midpoints = (SmaBin[:-1] + SmaBin[1:]) / 2\n",
    "SmaBin_midpoints_JupiterAnalog = (SmaBin_JupiterAnalog[:-1] + SmaBin_JupiterAnalog[1:]) / 2"
   ]
  },
  {
   "cell_type": "code",
   "execution_count": 9,
   "id": "3db44311",
   "metadata": {},
   "outputs": [],
   "source": [
    "SmaBin_detection = []\n",
    "SmaBin_detection_uncertainty = []\n",
    "\n",
    "SmaBin_detection_JupiterAnalog = []\n",
    "SmaBin_detection_uncertainty_JupiterAnalog = []"
   ]
  },
  {
   "cell_type": "markdown",
   "id": "0bd89f95",
   "metadata": {},
   "source": [
    "# Full Data Frame "
   ]
  },
  {
   "cell_type": "code",
   "execution_count": 11,
   "id": "1fe5b55f",
   "metadata": {},
   "outputs": [
    {
     "name": "stdout",
     "output_type": "stream",
     "text": [
      "For Semi Major Axis > 0.020, sensitivity to detection fraction: 15.36 ± 0.00\n",
      "For Semi Major Axis > 0.239, sensitivity to detection fraction: 24.80 ± 0.01\n",
      "For Semi Major Axis > 0.459, sensitivity to detection fraction: 27.95 ± 0.01\n",
      "For Semi Major Axis > 0.678, sensitivity to detection fraction: 30.82 ± 0.01\n",
      "For Semi Major Axis > 0.898, sensitivity to detection fraction: 32.41 ± 0.01\n",
      "For Semi Major Axis > 1.117, sensitivity to detection fraction: 33.22 ± 0.01\n",
      "For Semi Major Axis > 1.336, sensitivity to detection fraction: 33.66 ± 0.01\n",
      "For Semi Major Axis > 1.556, sensitivity to detection fraction: 33.55 ± 0.02\n",
      "For Semi Major Axis > 1.775, sensitivity to detection fraction: 33.97 ± 0.02\n",
      "For Semi Major Axis > 1.994, sensitivity to detection fraction: 34.31 ± 0.02\n",
      "For Semi Major Axis > 2.214, sensitivity to detection fraction: 33.44 ± 0.02\n",
      "For Semi Major Axis > 2.433, sensitivity to detection fraction: 32.25 ± 0.03\n",
      "For Semi Major Axis > 2.653, sensitivity to detection fraction: 32.15 ± 0.03\n",
      "For Semi Major Axis > 2.872, sensitivity to detection fraction: 30.59 ± 0.04\n",
      "For Semi Major Axis > 3.091, sensitivity to detection fraction: 32.41 ± 0.05\n",
      "For Semi Major Axis > 3.311, sensitivity to detection fraction: 34.94 ± 0.06\n",
      "For Semi Major Axis > 3.530, sensitivity to detection fraction: 40.43 ± 0.09\n",
      "For Semi Major Axis > 3.749, sensitivity to detection fraction: 41.67 ± 0.13\n",
      "For Semi Major Axis > 3.969, sensitivity to detection fraction: 50.00 ± 0.29\n",
      "For Semi Major Axis > 4.188, sensitivity to detection fraction: nan ± nan\n"
     ]
    },
    {
     "name": "stderr",
     "output_type": "stream",
     "text": [
      "/var/folders/p9/hcwv87bd7lxfdw1nmx4wt8d00000gn/T/ipykernel_97949/1092397337.py:10: RuntimeWarning: invalid value encountered in long_scalars\n",
      "  detection_fraction = num_detected / num_samples\n",
      "/var/folders/p9/hcwv87bd7lxfdw1nmx4wt8d00000gn/T/ipykernel_97949/1092397337.py:11: RuntimeWarning: invalid value encountered in double_scalars\n",
      "  detection_fraction_uncertainty = np.sqrt(num_detected) / num_samples\n"
     ]
    }
   ],
   "source": [
    "# Iterate over each bin of S/N values\n",
    "for i in range(len(SmaBin)):\n",
    "\n",
    "    # Filter the DataFrame for S/N values within the current bin range\n",
    "    filtered_df = df[(df['Semi-Major Axis'] > SmaBin[i])]\n",
    "\n",
    "    # Calculate detection fraction as the fraction of detected samples\n",
    "    num_detected = filtered_df['Detection'].sum()\n",
    "    num_samples = len(filtered_df)\n",
    "    detection_fraction = num_detected / num_samples\n",
    "    detection_fraction_uncertainty = np.sqrt(num_detected) / num_samples\n",
    "    \n",
    "    # Append the detection fraction to the new list\n",
    "    SmaBin_detection.append(detection_fraction)\n",
    "    SmaBin_detection_uncertainty.append(detection_fraction_uncertainty)\n",
    "    \n",
    "    print(f\"For Semi Major Axis > {SmaBin[i]:.3f}, sensitivity to detection fraction: {detection_fraction*100:.2f} ± {detection_fraction_uncertainty:.2f}\")"
   ]
  },
  {
   "cell_type": "markdown",
   "id": "545eb631",
   "metadata": {},
   "source": [
    "# Jupiter Analog"
   ]
  },
  {
   "cell_type": "code",
   "execution_count": 13,
   "id": "354cff1f",
   "metadata": {},
   "outputs": [
    {
     "name": "stdout",
     "output_type": "stream",
     "text": [
      "For Semi Major Axis > 0.020, sensitivity to detection fraction: 5.24 ± 0.00\n",
      "For Semi Major Axis > 0.230, sensitivity to detection fraction: 9.16 ± 0.01\n",
      "For Semi Major Axis > 0.441, sensitivity to detection fraction: 11.13 ± 0.01\n",
      "For Semi Major Axis > 0.651, sensitivity to detection fraction: 12.85 ± 0.01\n",
      "For Semi Major Axis > 0.862, sensitivity to detection fraction: 14.05 ± 0.01\n",
      "For Semi Major Axis > 1.072, sensitivity to detection fraction: 15.59 ± 0.01\n",
      "For Semi Major Axis > 1.282, sensitivity to detection fraction: 16.07 ± 0.01\n",
      "For Semi Major Axis > 1.493, sensitivity to detection fraction: 15.62 ± 0.01\n",
      "For Semi Major Axis > 1.703, sensitivity to detection fraction: 15.59 ± 0.01\n",
      "For Semi Major Axis > 1.914, sensitivity to detection fraction: 15.42 ± 0.02\n",
      "For Semi Major Axis > 2.124, sensitivity to detection fraction: 15.60 ± 0.02\n",
      "For Semi Major Axis > 2.334, sensitivity to detection fraction: 13.83 ± 0.02\n",
      "For Semi Major Axis > 2.545, sensitivity to detection fraction: 13.01 ± 0.02\n",
      "For Semi Major Axis > 2.755, sensitivity to detection fraction: 11.49 ± 0.03\n",
      "For Semi Major Axis > 2.966, sensitivity to detection fraction: 14.40 ± 0.03\n",
      "For Semi Major Axis > 3.176, sensitivity to detection fraction: 14.10 ± 0.04\n",
      "For Semi Major Axis > 3.386, sensitivity to detection fraction: 19.51 ± 0.07\n",
      "For Semi Major Axis > 3.597, sensitivity to detection fraction: 15.00 ± 0.09\n",
      "For Semi Major Axis > 3.807, sensitivity to detection fraction: 11.11 ± 0.11\n",
      "For Semi Major Axis > 4.017, sensitivity to detection fraction: nan ± nan\n"
     ]
    },
    {
     "name": "stderr",
     "output_type": "stream",
     "text": [
      "/var/folders/p9/hcwv87bd7lxfdw1nmx4wt8d00000gn/T/ipykernel_97949/2181074838.py:9: RuntimeWarning: invalid value encountered in long_scalars\n",
      "  detection_fraction_JupiterAnalog = num_detected / num_samples\n",
      "/var/folders/p9/hcwv87bd7lxfdw1nmx4wt8d00000gn/T/ipykernel_97949/2181074838.py:12: RuntimeWarning: invalid value encountered in double_scalars\n",
      "  detection_fraction_uncertainty_JupiterAnalog = np.sqrt(num_detected) / num_samples\n"
     ]
    }
   ],
   "source": [
    "# Iterate over each bin of S/N values\n",
    "for i in range(len(SmaBin_JupiterAnalog)):\n",
    "    # Filter the DataFrame for S/N values within the current bin range\n",
    "    filtered_df = df_JupiterAnalog[df_JupiterAnalog['Semi-Major Axis'] > SmaBin_JupiterAnalog[i]]\n",
    "\n",
    "    # Calculate detection fraction as the fraction of detected samples\n",
    "    num_detected = filtered_df['Detection'].sum()\n",
    "    num_samples = len(filtered_df)\n",
    "    detection_fraction_JupiterAnalog = num_detected / num_samples\n",
    "    \n",
    "    # Calculate uncertainty in detection fraction\n",
    "    detection_fraction_uncertainty_JupiterAnalog = np.sqrt(num_detected) / num_samples\n",
    "    \n",
    "    # Append the detection fraction and uncertainty to the respective lists\n",
    "    SmaBin_detection_JupiterAnalog.append(detection_fraction_JupiterAnalog)\n",
    "    SmaBin_detection_uncertainty_JupiterAnalog.append(detection_fraction_uncertainty_JupiterAnalog)\n",
    "    \n",
    "    print(f\"For Semi Major Axis > {SmaBin_JupiterAnalog[i]:.3f}, sensitivity to detection fraction: {detection_fraction_JupiterAnalog*100:.2f} ± {detection_fraction_uncertainty_JupiterAnalog:.2f}\")"
   ]
  },
  {
   "cell_type": "code",
   "execution_count": null,
   "id": "79d86bd8",
   "metadata": {},
   "outputs": [],
   "source": []
  }
 ],
 "metadata": {
  "kernelspec": {
   "display_name": "Python 3 (ipykernel)",
   "language": "python",
   "name": "python3"
  },
  "language_info": {
   "codemirror_mode": {
    "name": "ipython",
    "version": 3
   },
   "file_extension": ".py",
   "mimetype": "text/x-python",
   "name": "python",
   "nbconvert_exporter": "python",
   "pygments_lexer": "ipython3",
   "version": "3.9.7"
  },
  "varInspector": {
   "cols": {
    "lenName": 16,
    "lenType": 16,
    "lenVar": 40
   },
   "kernels_config": {
    "python": {
     "delete_cmd_postfix": "",
     "delete_cmd_prefix": "del ",
     "library": "var_list.py",
     "varRefreshCmd": "print(var_dic_list())"
    },
    "r": {
     "delete_cmd_postfix": ") ",
     "delete_cmd_prefix": "rm(",
     "library": "var_list.r",
     "varRefreshCmd": "cat(var_dic_list()) "
    }
   },
   "types_to_exclude": [
    "module",
    "function",
    "builtin_function_or_method",
    "instance",
    "_Feature"
   ],
   "window_display": false
  }
 },
 "nbformat": 4,
 "nbformat_minor": 5
}
