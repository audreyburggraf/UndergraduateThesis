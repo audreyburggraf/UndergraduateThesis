{
 "cells": [
  {
   "cell_type": "code",
   "execution_count": 1,
   "id": "1293611c",
   "metadata": {
    "code_folding": []
   },
   "outputs": [],
   "source": [
    "# Importing things \n",
    "import numpy as np\n",
    "import pandas as pd \n",
    "import seaborn as sns\n",
    "\n",
    "import matplotlib.pyplot as plt\n",
    "\n",
    "import matplotlib.patches as mpatches\n",
    "\n",
    "import matplotlib.ticker as mticker\n",
    "from matplotlib.ticker import (MultipleLocator, AutoMinorLocator)\n",
    "from matplotlib.ticker import ScalarFormatter\n",
    "\n",
    "import matplotlib.colors as colors\n",
    "from matplotlib.colors import ListedColormap\n",
    "from matplotlib.colors import LogNorm\n",
    "from matplotlib.colors import Normalize\n",
    "\n",
    "from scipy.ndimage import gaussian_filter\n",
    "\n",
    "from matplotlib.gridspec import GridSpec"
   ]
  },
  {
   "cell_type": "markdown",
   "id": "331dcc32",
   "metadata": {},
   "source": [
    "## Plotting preferences"
   ]
  },
  {
   "cell_type": "code",
   "execution_count": 2,
   "id": "a758abcd",
   "metadata": {},
   "outputs": [],
   "source": [
    "# Font sizes\n",
    "axis_label_font = 30\n",
    "axis_numbers_font = 25\n",
    "title_font = 50\n",
    "legend_font = 25\n",
    "\n",
    "detection_colours = sns.color_palette(\"hls\", 4)\n",
    "dark_colours = sns.color_palette(\"viridis\", 8)\n",
    "my_colours = sns.color_palette(\"husl\", 8)\n",
    "\n",
    "cmap_reds = ListedColormap(plt.cm.get_cmap('Reds', 10)(np.arange(10)))\n",
    "cmap_greens = ListedColormap(plt.cm.get_cmap('Greens', 10)(np.arange(10)))\n",
    "cmap_purples = ListedColormap(plt.cm.get_cmap('Purples', 10)(np.arange(10)))\n",
    "\n",
    "alpha = 0.7\n",
    "\n",
    "path = '/Users/audreyburggraf/Desktop/THESIS/Figures/'"
   ]
  },
  {
   "cell_type": "markdown",
   "id": "bf6f5123",
   "metadata": {},
   "source": [
    "## Data "
   ]
  },
  {
   "cell_type": "code",
   "execution_count": 3,
   "id": "e5b1da1f",
   "metadata": {},
   "outputs": [],
   "source": [
    "# Importing data file \n",
    "df = pd.read_csv('/Users/audreyburggraf/Desktop/THESIS/Data Files/bigrun_10000_after_changes.csv')\n",
    "\n",
    "df['m_p'] = 10**df['Inj.1P log(m_p)']\n",
    "\n",
    "# cut off certain range \n",
    "df_JupiterAnalog = df[(0.3 <= df.m_p) & (df.m_p <= 3)].reset_index(drop=True)\n",
    "df_JupiterMass = df[(0.9 <= df.m_p) & (df.m_p <= 1.1)].reset_index(drop=True)"
   ]
  },
  {
   "cell_type": "markdown",
   "id": "2f30fe00",
   "metadata": {},
   "source": [
    "## Bins"
   ]
  },
  {
   "cell_type": "code",
   "execution_count": 11,
   "id": "4f0fd564",
   "metadata": {},
   "outputs": [],
   "source": [
    "# MsBin = np.logspace(np.log10(df['Stellar Mass'].min()), np.log10(df['Stellar Mass'].max()), 20) \n",
    "# MsBin_JupiterAnalog = np.logspace(np.log10(df_JupiterAnalog['Stellar Mass'].min()), np.log10(df_JupiterAnalog['Stellar Mass'].max()), 20) \n",
    "# MsBin_JupiterMass = np.logspace(np.log10(df_JupiterMass['Stellar Mass'].min()), np.log10(df_JupiterMass['Stellar Mass'].max()), 20) \n",
    "\n",
    "MsBin = np.linspace(df['Stellar Mass'].min(),df['Stellar Mass'].max(), 20) \n",
    "MsBin_JupiterAnalog = np.linspace(df_JupiterAnalog['Stellar Mass'].min(), df_JupiterAnalog['Stellar Mass'].max(), 20) \n",
    "\n",
    "\n",
    "\n",
    "num_MsBin = len(MsBin) - 1\n",
    "num_MsBin_JupiterAnalog = len(MsBin_JupiterAnalog) - 1\n",
    "num_MsBin_JupiterMass = len(MsBin_JupiterMass) - 1\n",
    "\n",
    "MsBin_midpoints = (MsBin[:-1] + MsBin[1:]) / 2\n",
    "MsBin_midpoints_JupiterAnalog = (MsBin_JupiterAnalog[:-1] + MsBin_JupiterAnalog[1:]) / 2\n",
    "MsBin_midpoints_JupiterMass = (MsBin_JupiterMass[:-1] + MsBin_JupiterMass[1:]) / 2"
   ]
  },
  {
   "cell_type": "code",
   "execution_count": 12,
   "id": "3db44311",
   "metadata": {},
   "outputs": [],
   "source": [
    "Ms_detection = []\n",
    "Ms_detection_uncertainty = []\n",
    "\n",
    "Ms_detection_JupiterAnalog = []\n",
    "Ms_detection_uncertainty_JupiterAnalog = []\n",
    "\n",
    "Ms_detection_JupiterMass = []\n",
    "Ms_detection_uncertainty_JupiterMass = []"
   ]
  },
  {
   "cell_type": "markdown",
   "id": "0bd89f95",
   "metadata": {},
   "source": [
    "# Full Data Frame "
   ]
  },
  {
   "cell_type": "code",
   "execution_count": 20,
   "id": "1fe5b55f",
   "metadata": {},
   "outputs": [
    {
     "name": "stdout",
     "output_type": "stream",
     "text": [
      "For Ms > 0.074, sensitivity to detection fraction: 15.36 ± 0.00\n",
      "For Ms > 0.109, sensitivity to detection fraction: 16.90 ± 0.00\n",
      "For Ms > 0.144, sensitivity to detection fraction: 17.73 ± 0.00\n",
      "For Ms > 0.179, sensitivity to detection fraction: 18.12 ± 0.01\n",
      "For Ms > 0.215, sensitivity to detection fraction: 18.47 ± 0.01\n",
      "For Ms > 0.250, sensitivity to detection fraction: 18.68 ± 0.01\n",
      "For Ms > 0.285, sensitivity to detection fraction: 18.86 ± 0.01\n",
      "For Ms > 0.320, sensitivity to detection fraction: 19.40 ± 0.01\n",
      "For Ms > 0.356, sensitivity to detection fraction: 19.30 ± 0.01\n",
      "For Ms > 0.391, sensitivity to detection fraction: 19.93 ± 0.01\n",
      "For Ms > 0.426, sensitivity to detection fraction: 20.19 ± 0.01\n",
      "For Ms > 0.461, sensitivity to detection fraction: 20.17 ± 0.01\n",
      "For Ms > 0.497, sensitivity to detection fraction: 20.76 ± 0.01\n",
      "For Ms > 0.532, sensitivity to detection fraction: 20.72 ± 0.01\n",
      "For Ms > 0.567, sensitivity to detection fraction: 19.56 ± 0.01\n",
      "For Ms > 0.603, sensitivity to detection fraction: 19.73 ± 0.01\n",
      "For Ms > 0.638, sensitivity to detection fraction: 19.20 ± 0.02\n",
      "For Ms > 0.673, sensitivity to detection fraction: 20.71 ± 0.02\n",
      "For Ms > 0.708, sensitivity to detection fraction: 23.11 ± 0.03\n",
      "For Ms > 0.744, sensitivity to detection fraction: nan ± nan\n"
     ]
    },
    {
     "name": "stderr",
     "output_type": "stream",
     "text": [
      "/var/folders/p9/hcwv87bd7lxfdw1nmx4wt8d00000gn/T/ipykernel_97489/2399815892.py:10: RuntimeWarning: invalid value encountered in long_scalars\n",
      "  detection_fraction = num_detected / num_saMsles\n",
      "/var/folders/p9/hcwv87bd7lxfdw1nmx4wt8d00000gn/T/ipykernel_97489/2399815892.py:11: RuntimeWarning: invalid value encountered in double_scalars\n",
      "  detection_fraction_uncertainty = np.sqrt(num_detected) / num_saMsles\n"
     ]
    }
   ],
   "source": [
    "# Iterate over each bin of S/N values\n",
    "for i in range(len(MsBin)):\n",
    "\n",
    "    # Filter the DataFrame for S/N values within the current bin range\n",
    "    filtered_df = df[(df['Stellar Mass'] > MsBin[i])]\n",
    "\n",
    "    # Calculate detection fraction as the fraction of detected saMsles\n",
    "    num_detected = filtered_df['Detection'].sum()\n",
    "    num_saMsles = len(filtered_df)\n",
    "    detection_fraction = num_detected / num_saMsles\n",
    "    detection_fraction_uncertainty = np.sqrt(num_detected) / num_saMsles\n",
    "    \n",
    "    # Append the detection fraction to the new list\n",
    "    Ms_detection.append(detection_fraction)\n",
    "    Ms_detection_uncertainty.append(detection_fraction_uncertainty)\n",
    "    \n",
    "    print(f\"For Ms > {MsBin[i]:.3f}, sensitivity to detection fraction: {detection_fraction*100:.2f} ± {detection_fraction_uncertainty:.2f}\")"
   ]
  },
  {
   "cell_type": "code",
   "execution_count": 16,
   "id": "e1ae4980",
   "metadata": {},
   "outputs": [],
   "source": [
    "# # Create a figure and axes\n",
    "# fig, ax = plt.subplots(figsize=(13, 10))\n",
    "\n",
    "# # Plot the sensitivity values as a bar graph\n",
    "\n",
    "# plt.plot(MsBin, \n",
    "#          Ms_detection, \n",
    "#          marker='o', \n",
    "#          ms = 10,\n",
    "#          lw = 5, \n",
    "#          linestyle='-',\n",
    "#          color=my_colours[5], \n",
    "#          alpha=alpha)\n",
    "\n",
    "\n",
    "# plt.axhline(y=0.5, color='red', linestyle='--', lw = 3, label='Horizontal Line at y=0.5')\n",
    "\n",
    "\n",
    "# # Axes labels \n",
    "# ax.set_xlabel('$S/N$', fontsize=axis_label_font)\n",
    "# ax.set_ylabel('Detection Fraction for $S/N>x$', fontsize=axis_label_font)\n",
    "\n",
    "# # add legned\n",
    "# # ax.legend(fontsize=legend_font)\n",
    "\n",
    "# ax.set_xscale('log')\n",
    "\n",
    "\n",
    "# # Formatting axes labels to avoid scientific notation\n",
    "# # ax.xaxis.set_major_formatter(ScalarFormatter(useMathText=True))\n",
    "# # ax.yaxis.set_major_formatter(ScalarFormatter(useMathText=True))\n",
    "\n",
    "# # Set x-axis tick parameters\n",
    "# ax.tick_params(labelsize=axis_numbers_font, which='major', length=7)\n",
    "# ax.tick_params(which='minor', length=4)\n",
    "\n",
    "# # plt.savefig(path + 'SN_xgeq_.pdf', dpi=300)"
   ]
  },
  {
   "cell_type": "markdown",
   "id": "545eb631",
   "metadata": {},
   "source": [
    "# Jupiter Analog"
   ]
  },
  {
   "cell_type": "code",
   "execution_count": 21,
   "id": "354cff1f",
   "metadata": {},
   "outputs": [
    {
     "name": "stdout",
     "output_type": "stream",
     "text": [
      "For Ms > 0.074, sensitivity to detection fraction: 5.24 ± 0.00\n",
      "For Ms > 0.109, sensitivity to detection fraction: 5.87 ± 0.00\n",
      "For Ms > 0.144, sensitivity to detection fraction: 6.37 ± 0.00\n",
      "For Ms > 0.179, sensitivity to detection fraction: 6.53 ± 0.00\n",
      "For Ms > 0.215, sensitivity to detection fraction: 6.66 ± 0.00\n",
      "For Ms > 0.250, sensitivity to detection fraction: 6.65 ± 0.00\n",
      "For Ms > 0.285, sensitivity to detection fraction: 6.54 ± 0.00\n",
      "For Ms > 0.320, sensitivity to detection fraction: 6.95 ± 0.01\n",
      "For Ms > 0.356, sensitivity to detection fraction: 6.56 ± 0.01\n",
      "For Ms > 0.391, sensitivity to detection fraction: 6.97 ± 0.01\n",
      "For Ms > 0.426, sensitivity to detection fraction: 7.21 ± 0.01\n",
      "For Ms > 0.461, sensitivity to detection fraction: 7.31 ± 0.01\n",
      "For Ms > 0.497, sensitivity to detection fraction: 7.31 ± 0.01\n",
      "For Ms > 0.532, sensitivity to detection fraction: 7.10 ± 0.01\n",
      "For Ms > 0.567, sensitivity to detection fraction: 6.68 ± 0.01\n",
      "For Ms > 0.603, sensitivity to detection fraction: 6.71 ± 0.01\n",
      "For Ms > 0.638, sensitivity to detection fraction: 6.04 ± 0.01\n",
      "For Ms > 0.673, sensitivity to detection fraction: 7.89 ± 0.02\n",
      "For Ms > 0.708, sensitivity to detection fraction: 9.60 ± 0.03\n",
      "For Ms > 0.744, sensitivity to detection fraction: nan ± nan\n"
     ]
    },
    {
     "name": "stderr",
     "output_type": "stream",
     "text": [
      "/var/folders/p9/hcwv87bd7lxfdw1nmx4wt8d00000gn/T/ipykernel_97489/3824598535.py:9: RuntimeWarning: invalid value encountered in long_scalars\n",
      "  detection_fraction_JupiterAnalog = num_detected / num_samples\n",
      "/var/folders/p9/hcwv87bd7lxfdw1nmx4wt8d00000gn/T/ipykernel_97489/3824598535.py:12: RuntimeWarning: invalid value encountered in double_scalars\n",
      "  detection_fraction_uncertainty_JupiterAnalog = np.sqrt(num_detected) / num_samples\n"
     ]
    }
   ],
   "source": [
    "# Iterate over each bin of S/N values\n",
    "for i in range(len(MsBin_JupiterAnalog)):\n",
    "    # Filter the DataFrame for S/N values within the current bin range\n",
    "    filtered_df = df_JupiterAnalog[df_JupiterAnalog['Stellar Mass'] > MsBin_JupiterAnalog[i]]\n",
    "\n",
    "    # Calculate detection fraction as the fraction of detected samples\n",
    "    num_detected = filtered_df['Detection'].sum()\n",
    "    num_samples = len(filtered_df)\n",
    "    detection_fraction_JupiterAnalog = num_detected / num_samples\n",
    "    \n",
    "    # Calculate uncertainty in detection fraction\n",
    "    detection_fraction_uncertainty_JupiterAnalog = np.sqrt(num_detected) / num_samples\n",
    "    \n",
    "    # Append the detection fraction and uncertainty to the respective lists\n",
    "    Ms_detection_JupiterAnalog.append(detection_fraction_JupiterAnalog)\n",
    "    Ms_detection_uncertainty_JupiterAnalog.append(detection_fraction_uncertainty_JupiterAnalog)\n",
    "    \n",
    "    print(f\"For Ms > {MsBin_JupiterAnalog[i]:.3f}, sensitivity to detection fraction: {detection_fraction_JupiterAnalog*100:.2f} ± {detection_fraction_uncertainty_JupiterAnalog:.2f}\")"
   ]
  },
  {
   "cell_type": "code",
   "execution_count": 9,
   "id": "39d5f7a0",
   "metadata": {},
   "outputs": [
    {
     "ename": "NameError",
     "evalue": "name 'MpBin_JupiterAnalog' is not defined",
     "output_type": "error",
     "traceback": [
      "\u001b[0;31m---------------------------------------------------------------------------\u001b[0m",
      "\u001b[0;31mNameError\u001b[0m                                 Traceback (most recent call last)",
      "\u001b[0;32m/var/folders/p9/hcwv87bd7lxfdw1nmx4wt8d00000gn/T/ipykernel_97489/4218863811.py\u001b[0m in \u001b[0;36m<module>\u001b[0;34m\u001b[0m\n\u001b[1;32m      4\u001b[0m \u001b[0;31m# Plot the sensitivity values as a bar graph\u001b[0m\u001b[0;34m\u001b[0m\u001b[0;34m\u001b[0m\u001b[0m\n\u001b[1;32m      5\u001b[0m \u001b[0;34m\u001b[0m\u001b[0m\n\u001b[0;32m----> 6\u001b[0;31m plt.plot(MpBin_JupiterAnalog, \n\u001b[0m\u001b[1;32m      7\u001b[0m          \u001b[0mMp_detection_JupiterAnalog\u001b[0m\u001b[0;34m,\u001b[0m\u001b[0;34m\u001b[0m\u001b[0;34m\u001b[0m\u001b[0m\n\u001b[1;32m      8\u001b[0m          \u001b[0mmarker\u001b[0m\u001b[0;34m=\u001b[0m\u001b[0;34m'o'\u001b[0m\u001b[0;34m,\u001b[0m\u001b[0;34m\u001b[0m\u001b[0;34m\u001b[0m\u001b[0m\n",
      "\u001b[0;31mNameError\u001b[0m: name 'MpBin_JupiterAnalog' is not defined"
     ]
    },
    {
     "data": {
      "image/png": "[encoded data removed]",
      "text/plain": [
       "<Figure size 936x720 with 1 Axes>"
      ]
     },
     "metadata": {
      "needs_background": "light"
     },
     "output_type": "display_data"
    }
   ],
   "source": [
    "# Create a figure and axes\n",
    "fig, ax = plt.subplots(figsize=(13, 10))\n",
    "\n",
    "# Plot the sensitivity values as a bar graph\n",
    "\n",
    "plt.plot(MpBin_JupiterAnalog, \n",
    "         Mp_detection_JupiterAnalog, \n",
    "         marker='o', \n",
    "         ms = 10,\n",
    "         lw = 5, \n",
    "         linestyle='-',\n",
    "         color=my_colours[5], \n",
    "         alpha=alpha)\n",
    "\n",
    "\n",
    "plt.axhline(y=0.5, color='red', linestyle='--', lw = 3, label='Horizontal Line at y=0.5')\n",
    "\n",
    "\n",
    "# Axes labels \n",
    "ax.set_xlabel('$Mp$', fontsize=axis_label_font)\n",
    "ax.set_ylabel('Detection Fraction for $Mp>x$', fontsize=axis_label_font)\n",
    "\n",
    "# add legned\n",
    "# ax.legend(fontsize=legend_font)\n",
    "\n",
    "ax.set_xscale('log')\n",
    "\n",
    "\n",
    "# Formatting axes labels to avoid scientific notation\n",
    "ax.xaxis.set_major_formatter(ScalarFormatter(useMathText=True))\n",
    "# ax.yaxis.set_major_formatter(ScalarFormatter(useMathText=True))\n",
    "\n",
    "# Set x-axis tick parameters\n",
    "ax.tick_params(labelsize=axis_numbers_font, which='major', length=7)\n",
    "ax.tick_params(which='minor', length=4)\n",
    "\n",
    "# plt.savefig(path + 'SN_xgeq_.pdf', dpi=300)"
   ]
  },
  {
   "cell_type": "markdown",
   "id": "ca9098b3",
   "metadata": {},
   "source": [
    "# Jupiter Mass\n",
    "\n"
   ]
  },
  {
   "cell_type": "code",
   "execution_count": null,
   "id": "208d2303",
   "metadata": {},
   "outputs": [],
   "source": [
    "# Iterate over each bin of S/N values\n",
    "for i in range(len(MpBin_JupiterMass)):\n",
    "    # Filter the DataFrame for S/N values within the current bin range\n",
    "    filtered_df = df_JupiterMass[df_JupiterMass['m_p'] > MpBin_JupiterMass[i]]\n",
    "\n",
    "    # Calculate detection fraction as the fraction of detected samples\n",
    "    num_detected = filtered_df['Detection'].sum()\n",
    "    num_samples = len(filtered_df)\n",
    "    detection_fraction_JupiterMass = num_detected / num_samples\n",
    "    \n",
    "    # Calculate uncertainty in detection fraction\n",
    "    detection_fraction_uncertainty_JupiterMass = np.sqrt(num_detected) / num_samples\n",
    "    \n",
    "    # Append the detection fraction and uncertainty to the respective lists\n",
    "    Mp_detection_JupiterMass.append(detection_fraction_JupiterMass)\n",
    "    Mp_detection_uncertainty_JupiterMass.append(detection_fraction_uncertainty_JupiterMass)\n",
    "    \n",
    "    print(f\"For Mp > {MpBin_JupiterMass[i]:.3f}, sensitivity to detection fraction: {detection_fraction_JupiterMass*100:.0f} ± {detection_fraction_uncertainty_JupiterMass:.2f}\")\n"
   ]
  },
  {
   "cell_type": "code",
   "execution_count": null,
   "id": "f5084485",
   "metadata": {},
   "outputs": [],
   "source": [
    "# Create a figure and axes\n",
    "fig, ax = plt.subplots(figsize=(13, 10))\n",
    "\n",
    "# Plot the sensitivity values as a bar graph\n",
    "\n",
    "plt.plot(MpBin_JupiterMass, \n",
    "         Mp_detection_JupiterMass, \n",
    "         marker='o', \n",
    "         ms = 10,\n",
    "         lw = 5, \n",
    "         linestyle='-',\n",
    "         color=my_colours[5], \n",
    "         alpha=alpha)\n",
    "\n",
    "\n",
    "plt.axhline(y=0.5, color='red', linestyle='--', lw = 3, label='Horizontal Line at y=0.5')\n",
    "\n",
    "\n",
    "# Axes labels \n",
    "ax.set_xlabel('$Mp$', fontsize=axis_label_font)\n",
    "ax.set_ylabel('Detection Fraction for $Mp>x$', fontsize=axis_label_font)\n",
    "\n",
    "# add legned\n",
    "# ax.legend(fontsize=legend_font)\n",
    "\n",
    "ax.set_xscale('log')\n",
    "\n",
    "\n",
    "# Formatting axes labels to avoid scientific notation\n",
    "ax.xaxis.set_major_formatter(ScalarFormatter(useMathText=True))\n",
    "# ax.yaxis.set_major_formatter(ScalarFormatter(useMathText=True))\n",
    "\n",
    "# Set x-axis tick parameters\n",
    "ax.tick_params(labelsize=axis_numbers_font, which='major', length=7)\n",
    "ax.tick_params(which='minor', length=4)\n",
    "\n",
    "# plt.savefig(path + 'SN_xgeq_.pdf', dpi=300)"
   ]
  },
  {
   "cell_type": "code",
   "execution_count": null,
   "id": "012c8004",
   "metadata": {},
   "outputs": [],
   "source": []
  }
 ],
 "metadata": {
  "kernelspec": {
   "display_name": "Python 3 (ipykernel)",
   "language": "python",
   "name": "python3"
  },
  "language_info": {
   "codemirror_mode": {
    "name": "ipython",
    "version": 3
   },
   "file_extension": ".py",
   "mimetype": "text/x-python",
   "name": "python",
   "nbconvert_exporter": "python",
   "pygments_lexer": "ipython3",
   "version": "3.9.7"
  },
  "varInspector": {
   "cols": {
    "lenName": 16,
    "lenType": 16,
    "lenVar": 40
   },
   "kernels_config": {
    "python": {
     "delete_cmd_postfix": "",
     "delete_cmd_prefix": "del ",
     "library": "var_list.py",
     "varRefreshCmd": "print(var_dic_list())"
    },
    "r": {
     "delete_cmd_postfix": ") ",
     "delete_cmd_prefix": "rm(",
     "library": "var_list.r",
     "varRefreshCmd": "cat(var_dic_list()) "
    }
   },
   "types_to_exclude": [
    "module",
    "function",
    "builtin_function_or_method",
    "instance",
    "_Feature"
   ],
   "window_display": false
  }
 },
 "nbformat": 4,
 "nbformat_minor": 5
}
