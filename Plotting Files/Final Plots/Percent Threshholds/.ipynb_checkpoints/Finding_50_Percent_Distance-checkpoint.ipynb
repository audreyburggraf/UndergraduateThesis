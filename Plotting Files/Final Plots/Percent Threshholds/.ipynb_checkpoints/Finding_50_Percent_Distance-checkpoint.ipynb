{
 "cells": [
  {
   "cell_type": "code",
   "execution_count": 1,
   "id": "1293611c",
   "metadata": {
    "code_folding": []
   },
   "outputs": [],
   "source": [
    "# Importing things \n",
    "import numpy as np\n",
    "import pandas as pd \n",
    "import seaborn as sns\n",
    "\n",
    "import matplotlib.pyplot as plt\n",
    "\n",
    "import matplotlib.patches as mpatches\n",
    "\n",
    "import matplotlib.ticker as mticker\n",
    "from matplotlib.ticker import (MultipleLocator, AutoMinorLocator)\n",
    "from matplotlib.ticker import ScalarFormatter\n",
    "\n",
    "import matplotlib.colors as colors\n",
    "from matplotlib.colors import ListedColormap\n",
    "from matplotlib.colors import LogNorm\n",
    "from matplotlib.colors import Normalize\n",
    "\n",
    "from scipy.ndimage import gaussian_filter\n",
    "\n",
    "from matplotlib.gridspec import GridSpec"
   ]
  },
  {
   "cell_type": "markdown",
   "id": "331dcc32",
   "metadata": {},
   "source": [
    "## Plotting preferences"
   ]
  },
  {
   "cell_type": "code",
   "execution_count": 2,
   "id": "a758abcd",
   "metadata": {},
   "outputs": [],
   "source": [
    "# Font sizes\n",
    "axis_label_font = 30\n",
    "axis_numbers_font = 25\n",
    "title_font = 50\n",
    "legend_font = 25\n",
    "\n",
    "detection_colours = sns.color_palette(\"hls\", 4)\n",
    "dark_colours = sns.color_palette(\"viridis\", 8)\n",
    "my_colours = sns.color_palette(\"husl\", 8)\n",
    "\n",
    "cmap_reds = ListedColormap(plt.cm.get_cmap('Reds', 10)(np.arange(10)))\n",
    "cmap_greens = ListedColormap(plt.cm.get_cmap('Greens', 10)(np.arange(10)))\n",
    "cmap_purples = ListedColormap(plt.cm.get_cmap('Purples', 10)(np.arange(10)))\n",
    "\n",
    "alpha = 0.7\n",
    "\n",
    "path = '/Users/audreyburggraf/Desktop/THESIS/Figures/'"
   ]
  },
  {
   "cell_type": "markdown",
   "id": "bf6f5123",
   "metadata": {},
   "source": [
    "## Data "
   ]
  },
  {
   "cell_type": "code",
   "execution_count": 3,
   "id": "e5b1da1f",
   "metadata": {},
   "outputs": [],
   "source": [
    "# Importing data file \n",
    "df = pd.read_csv('/Users/audreyburggraf/Desktop/THESIS/Data Files/bigrun_10000_after_changes.csv')\n",
    "\n",
    "df['m_p'] = 10**df['Inj.1P log(m_p)']\n",
    "df['P'] = 10**df['Inj.1P log(P)']\n",
    "\n",
    "# cut off certain range \n",
    "df_JupiterAnalog = df[(0.3 <= df.m_p) & (df.m_p <= 3)].reset_index(drop=True)\n",
    "df_JupiterMass = df[(0.9 <= df.m_p) & (df.m_p <= 1.1)].reset_index(drop=True)"
   ]
  },
  {
   "cell_type": "code",
   "execution_count": 4,
   "id": "04d93772",
   "metadata": {},
   "outputs": [
    {
     "data": {
      "text/plain": [
       "546"
      ]
     },
     "execution_count": 4,
     "metadata": {},
     "output_type": "execute_result"
    }
   ],
   "source": [
    "len(df_JupiterMass)"
   ]
  },
  {
   "cell_type": "code",
   "execution_count": 5,
   "id": "1be8c423",
   "metadata": {},
   "outputs": [
    {
     "data": {
      "text/plain": [
       "3"
      ]
     },
     "execution_count": 5,
     "metadata": {},
     "output_type": "execute_result"
    }
   ],
   "source": [
    "df_JupiterMass['Detection'].sum()"
   ]
  },
  {
   "cell_type": "markdown",
   "id": "2f30fe00",
   "metadata": {},
   "source": [
    "## Bins"
   ]
  },
  {
   "cell_type": "code",
   "execution_count": 6,
   "id": "4f0fd564",
   "metadata": {},
   "outputs": [],
   "source": [
    "PBin = np.logspace(np.log10(df['P'].min()), np.log10(df['P'].max()), 20) \n",
    "PBin_JupiterAnalog = np.logspace(np.log10(df_JupiterAnalog['P'].min()), np.log10(df_JupiterAnalog['P'].max()), 20) \n",
    "\n",
    "num_PBin = len(PBin) - 1\n",
    "num_PBin_JupiterAnalog = len(PBin_JupiterAnalog) - 1\n",
    "\n",
    "PBin_midpoints = (PBin[:-1] + PBin[1:]) / 2\n",
    "PBin_midpoints_JupiterAnalog = (PBin_JupiterAnalog[:-1] + PBin_JupiterAnalog[1:]) / 2"
   ]
  },
  {
   "cell_type": "code",
   "execution_count": 7,
   "id": "3db44311",
   "metadata": {},
   "outputs": [],
   "source": [
    "P_detection = []\n",
    "P_detection_uncertainty = []\n",
    "\n",
    "P_detection_JupiterAnalog = []\n",
    "P_detection_uncertainty_JupiterAnalog = []"
   ]
  },
  {
   "cell_type": "markdown",
   "id": "0bd89f95",
   "metadata": {},
   "source": [
    "# Full Data Frame "
   ]
  },
  {
   "cell_type": "code",
   "execution_count": 10,
   "id": "1fe5b55f",
   "metadata": {},
   "outputs": [
    {
     "name": "stdout",
     "output_type": "stream",
     "text": [
      "For P > 0.010, sensitivity to detection fraction: 15.36 ± 0.00\n",
      "For P > 0.014, sensitivity to detection fraction: 16.14 ± 0.00\n",
      "For P > 0.021, sensitivity to detection fraction: 17.05 ± 0.00\n",
      "For P > 0.030, sensitivity to detection fraction: 17.99 ± 0.00\n",
      "For P > 0.043, sensitivity to detection fraction: 19.08 ± 0.00\n",
      "For P > 0.062, sensitivity to detection fraction: 20.24 ± 0.01\n",
      "For P > 0.089, sensitivity to detection fraction: 21.37 ± 0.01\n",
      "For P > 0.127, sensitivity to detection fraction: 22.56 ± 0.01\n",
      "For P > 0.183, sensitivity to detection fraction: 23.74 ± 0.01\n",
      "For P > 0.264, sensitivity to detection fraction: 25.03 ± 0.01\n",
      "For P > 0.379, sensitivity to detection fraction: 25.83 ± 0.01\n",
      "For P > 0.545, sensitivity to detection fraction: 27.22 ± 0.01\n",
      "For P > 0.784, sensitivity to detection fraction: 27.94 ± 0.01\n",
      "For P > 1.128, sensitivity to detection fraction: 30.07 ± 0.01\n",
      "For P > 1.623, sensitivity to detection fraction: 31.37 ± 0.01\n",
      "For P > 2.335, sensitivity to detection fraction: 31.20 ± 0.01\n",
      "For P > 3.358, sensitivity to detection fraction: 31.29 ± 0.01\n",
      "For P > 4.830, sensitivity to detection fraction: 28.34 ± 0.02\n",
      "For P > 6.948, sensitivity to detection fraction: 27.91 ± 0.02\n",
      "For P > 9.994, sensitivity to detection fraction: nan ± nan\n"
     ]
    },
    {
     "name": "stderr",
     "output_type": "stream",
     "text": [
      "/var/folders/p9/hcwv87bd7lxfdw1nmx4wt8d00000gn/T/ipykernel_97576/2343026087.py:10: RuntimeWarning: invalid value encountered in long_scalars\n",
      "  detection_fraction = num_detected / num_samples\n",
      "/var/folders/p9/hcwv87bd7lxfdw1nmx4wt8d00000gn/T/ipykernel_97576/2343026087.py:11: RuntimeWarning: invalid value encountered in double_scalars\n",
      "  detection_fraction_uncertainty = np.sqrt(num_detected) / num_samples\n"
     ]
    }
   ],
   "source": [
    "# Iterate over each bin of S/N values\n",
    "for i in range(len(PBin)):\n",
    "\n",
    "    # Filter the DataFrame for S/N values within the current bin range\n",
    "    filtered_df = df[(df['P'] > PBin[i])]\n",
    "\n",
    "    # Calculate detection fraction as the fraction of detected samples\n",
    "    num_detected = filtered_df['Detection'].sum()\n",
    "    num_samples = len(filtered_df)\n",
    "    detection_fraction = num_detected / num_samples\n",
    "    detection_fraction_uncertainty = np.sqrt(num_detected) / num_samples\n",
    "    \n",
    "    # Append the detection fraction to the new list\n",
    "    P_detection.append(detection_fraction)\n",
    "    P_detection_uncertainty.append(detection_fraction_uncertainty)\n",
    "    \n",
    "    print(f\"For P > {PBin[i]:.3f}, sensitivity to detection fraction: {detection_fraction*100:.2f} ± {detection_fraction_uncertainty:.2f}\")"
   ]
  },
  {
   "cell_type": "markdown",
   "id": "545eb631",
   "metadata": {},
   "source": [
    "# Jupiter Analog"
   ]
  },
  {
   "cell_type": "code",
   "execution_count": 9,
   "id": "354cff1f",
   "metadata": {},
   "outputs": [
    {
     "name": "stdout",
     "output_type": "stream",
     "text": [
      "For P > 0.010, sensitivity to detection fraction: 5.24 ± 0.00\n",
      "For P > 0.014, sensitivity to detection fraction: 5.53 ± 0.00\n",
      "For P > 0.021, sensitivity to detection fraction: 5.89 ± 0.00\n",
      "For P > 0.030, sensitivity to detection fraction: 6.27 ± 0.00\n",
      "For P > 0.043, sensitivity to detection fraction: 6.71 ± 0.00\n",
      "For P > 0.062, sensitivity to detection fraction: 7.14 ± 0.00\n",
      "For P > 0.089, sensitivity to detection fraction: 7.69 ± 0.00\n",
      "For P > 0.127, sensitivity to detection fraction: 8.22 ± 0.00\n",
      "For P > 0.183, sensitivity to detection fraction: 8.77 ± 0.00\n",
      "For P > 0.264, sensitivity to detection fraction: 9.43 ± 0.01\n",
      "For P > 0.379, sensitivity to detection fraction: 10.10 ± 0.01\n",
      "For P > 0.545, sensitivity to detection fraction: 11.00 ± 0.01\n",
      "For P > 0.784, sensitivity to detection fraction: 11.50 ± 0.01\n",
      "For P > 1.128, sensitivity to detection fraction: 12.93 ± 0.01\n",
      "For P > 1.623, sensitivity to detection fraction: 13.84 ± 0.01\n",
      "For P > 2.335, sensitivity to detection fraction: 14.05 ± 0.01\n",
      "For P > 3.358, sensitivity to detection fraction: 14.58 ± 0.01\n",
      "For P > 4.830, sensitivity to detection fraction: 12.76 ± 0.01\n",
      "For P > 6.948, sensitivity to detection fraction: 10.89 ± 0.02\n",
      "For P > 9.994, sensitivity to detection fraction: nan ± nan\n"
     ]
    },
    {
     "name": "stderr",
     "output_type": "stream",
     "text": [
      "/var/folders/p9/hcwv87bd7lxfdw1nmx4wt8d00000gn/T/ipykernel_97576/2470491921.py:9: RuntimeWarning: invalid value encountered in long_scalars\n",
      "  detection_fraction_JupiterAnalog = num_detected / num_samples\n",
      "/var/folders/p9/hcwv87bd7lxfdw1nmx4wt8d00000gn/T/ipykernel_97576/2470491921.py:12: RuntimeWarning: invalid value encountered in double_scalars\n",
      "  detection_fraction_uncertainty_JupiterAnalog = np.sqrt(num_detected) / num_samples\n"
     ]
    }
   ],
   "source": [
    "# Iterate over each bin of S/N values\n",
    "for i in range(len(PBin_JupiterAnalog)):\n",
    "    # Filter the DataFrame for S/N values within the current bin range\n",
    "    filtered_df = df_JupiterAnalog[df_JupiterAnalog['P'] > PBin_JupiterAnalog[i]]\n",
    "\n",
    "    # Calculate detection fraction as the fraction of detected samples\n",
    "    num_detected = filtered_df['Detection'].sum()\n",
    "    num_samples = len(filtered_df)\n",
    "    detection_fraction_JupiterAnalog = num_detected / num_samples\n",
    "    \n",
    "    # Calculate uncertainty in detection fraction\n",
    "    detection_fraction_uncertainty_JupiterAnalog = np.sqrt(num_detected) / num_samples\n",
    "    \n",
    "    # Append the detection fraction and uncertainty to the respective lists\n",
    "    P_detection_JupiterAnalog.append(detection_fraction_JupiterAnalog)\n",
    "    P_detection_uncertainty_JupiterAnalog.append(detection_fraction_uncertainty_JupiterAnalog)\n",
    "    \n",
    "    print(f\"For P > {PBin_JupiterAnalog[i]:.3f}, sensitivity to detection fraction: {detection_fraction_JupiterAnalog*100:.2f} ± {detection_fraction_uncertainty_JupiterAnalog:.2f}\")"
   ]
  }
 ],
 "metadata": {
  "kernelspec": {
   "display_name": "Python 3 (ipykernel)",
   "language": "python",
   "name": "python3"
  },
  "language_info": {
   "codemirror_mode": {
    "name": "ipython",
    "version": 3
   },
   "file_extension": ".py",
   "mimetype": "text/x-python",
   "name": "python",
   "nbconvert_exporter": "python",
   "pygments_lexer": "ipython3",
   "version": "3.9.7"
  },
  "varInspector": {
   "cols": {
    "lenName": 16,
    "lenType": 16,
    "lenVar": 40
   },
   "kernels_config": {
    "python": {
     "delete_cmd_postfix": "",
     "delete_cmd_prefix": "del ",
     "library": "var_list.py",
     "varRefreshCmd": "print(var_dic_list())"
    },
    "r": {
     "delete_cmd_postfix": ") ",
     "delete_cmd_prefix": "rm(",
     "library": "var_list.r",
     "varRefreshCmd": "cat(var_dic_list()) "
    }
   },
   "types_to_exclude": [
    "module",
    "function",
    "builtin_function_or_method",
    "instance",
    "_Feature"
   ],
   "window_display": false
  }
 },
 "nbformat": 4,
 "nbformat_minor": 5
}
