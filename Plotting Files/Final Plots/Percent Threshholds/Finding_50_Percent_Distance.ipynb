{
 "cells": [
  {
   "cell_type": "code",
   "execution_count": 1,
   "id": "1293611c",
   "metadata": {
    "code_folding": []
   },
   "outputs": [],
   "source": [
    "# Importing things \n",
    "import numpy as np\n",
    "import pandas as pd \n",
    "import seaborn as sns\n",
    "\n",
    "import matplotlib.pyplot as plt\n",
    "\n",
    "import matplotlib.patches as mpatches\n",
    "\n",
    "import matplotlib.ticker as mticker\n",
    "from matplotlib.ticker import (MultipleLocator, AutoMinorLocator)\n",
    "from matplotlib.ticker import ScalarFormatter\n",
    "\n",
    "import matplotlib.colors as colors\n",
    "from matplotlib.colors import ListedColormap\n",
    "from matplotlib.colors import LogNorm\n",
    "from matplotlib.colors import Normalize\n",
    "\n",
    "from scipy.ndimage import gaussian_filter\n",
    "\n",
    "from matplotlib.gridspec import GridSpec"
   ]
  },
  {
   "cell_type": "markdown",
   "id": "331dcc32",
   "metadata": {},
   "source": [
    "## Plotting preferences"
   ]
  },
  {
   "cell_type": "code",
   "execution_count": 2,
   "id": "a758abcd",
   "metadata": {},
   "outputs": [],
   "source": [
    "# Font sizes\n",
    "axis_label_font = 30\n",
    "axis_numbers_font = 25\n",
    "title_font = 50\n",
    "legend_font = 25\n",
    "\n",
    "detection_colours = sns.color_palette(\"hls\", 4)\n",
    "dark_colours = sns.color_palette(\"viridis\", 8)\n",
    "my_colours = sns.color_palette(\"husl\", 8)\n",
    "\n",
    "cmap_reds = ListedColormap(plt.cm.get_cmap('Reds', 10)(np.arange(10)))\n",
    "cmap_greens = ListedColormap(plt.cm.get_cmap('Greens', 10)(np.arange(10)))\n",
    "cmap_purples = ListedColormap(plt.cm.get_cmap('Purples', 10)(np.arange(10)))\n",
    "\n",
    "alpha = 0.7\n",
    "\n",
    "path = '/Users/audreyburggraf/Desktop/THESIS/Figures/'"
   ]
  },
  {
   "cell_type": "markdown",
   "id": "bf6f5123",
   "metadata": {},
   "source": [
    "## Data "
   ]
  },
  {
   "cell_type": "code",
   "execution_count": 3,
   "id": "e5b1da1f",
   "metadata": {},
   "outputs": [],
   "source": [
    "# Importing data file \n",
    "df = pd.read_csv('/Users/audreyburggraf/Desktop/THESIS/Data Files/bigrun_10000_after_changes.csv')\n",
    "\n",
    "df['m_p'] = 10**df['Inj.1P log(m_p)']\n",
    "df['P'] = 10**df['Inj.1P log(P)']\n",
    "\n",
    "# cut off certain range \n",
    "df_JupiterAnalog = df[(0.3 <= df.m_p) & (df.m_p <= 3)].reset_index(drop=True)\n",
    "df_JupiterMass = df[(0.9 <= df.m_p) & (df.m_p <= 1.1)].reset_index(drop=True)"
   ]
  },
  {
   "cell_type": "code",
   "execution_count": 4,
   "id": "04d93772",
   "metadata": {},
   "outputs": [
    {
     "data": {
      "text/plain": [
       "546"
      ]
     },
     "execution_count": 4,
     "metadata": {},
     "output_type": "execute_result"
    }
   ],
   "source": [
    "len(df_JupiterMass)"
   ]
  },
  {
   "cell_type": "code",
   "execution_count": 5,
   "id": "1be8c423",
   "metadata": {},
   "outputs": [
    {
     "data": {
      "text/plain": [
       "3"
      ]
     },
     "execution_count": 5,
     "metadata": {},
     "output_type": "execute_result"
    }
   ],
   "source": [
    "df_JupiterMass['Detection'].sum()"
   ]
  },
  {
   "cell_type": "markdown",
   "id": "2f30fe00",
   "metadata": {},
   "source": [
    "## Bins"
   ]
  },
  {
   "cell_type": "code",
   "execution_count": 6,
   "id": "4f0fd564",
   "metadata": {},
   "outputs": [],
   "source": [
    "DBin = np.linspace(df['P'].min(), df['Distance'].max(), 20) \n",
    "DBin_JupiterAnalog = np.linspace(df_JupiterAnalog['Distance'].min(), df_JupiterAnalog['Distance'].max(), 20) \n",
    "\n",
    "num_DBin = len(DBin) - 1\n",
    "num_DBin_JupiterAnalog = len(DBin_JupiterAnalog) - 1\n",
    "\n",
    "DBin_midpoints = (DBin[:-1] + DBin[1:]) / 2\n",
    "DBin_midpoints_JupiterAnalog = (DBin_JupiterAnalog[:-1] + DBin_JupiterAnalog[1:]) / 2"
   ]
  },
  {
   "cell_type": "code",
   "execution_count": 7,
   "id": "3db44311",
   "metadata": {},
   "outputs": [],
   "source": [
    "D_detection = []\n",
    "D_detection_uncertainty = []\n",
    "\n",
    "D_detection_JupiterAnalog = []\n",
    "D_detection_uncertainty_JupiterAnalog = []"
   ]
  },
  {
   "cell_type": "markdown",
   "id": "0bd89f95",
   "metadata": {},
   "source": [
    "# Full Data Frame "
   ]
  },
  {
   "cell_type": "code",
   "execution_count": 11,
   "id": "1fe5b55f",
   "metadata": {},
   "outputs": [
    {
     "name": "stdout",
     "output_type": "stream",
     "text": [
      "For Distance < 0.010, sensitivity to detection fraction: nan ± nan\n",
      "For Distance < 5.272, sensitivity to detection fraction: 100.00 ± 1.00\n",
      "For Distance < 10.535, sensitivity to detection fraction: 66.67 ± 0.24\n",
      "For Distance < 15.797, sensitivity to detection fraction: 50.00 ± 0.11\n",
      "For Distance < 21.060, sensitivity to detection fraction: 39.80 ± 0.06\n",
      "For Distance < 26.322, sensitivity to detection fraction: 40.88 ± 0.05\n",
      "For Distance < 31.584, sensitivity to detection fraction: 38.02 ± 0.03\n",
      "For Distance < 36.847, sensitivity to detection fraction: 34.50 ± 0.03\n",
      "For Distance < 42.109, sensitivity to detection fraction: 31.03 ± 0.02\n",
      "For Distance < 47.372, sensitivity to detection fraction: 28.78 ± 0.02\n",
      "For Distance < 52.634, sensitivity to detection fraction: 27.39 ± 0.01\n",
      "For Distance < 57.897, sensitivity to detection fraction: 26.34 ± 0.01\n",
      "For Distance < 63.159, sensitivity to detection fraction: 24.84 ± 0.01\n",
      "For Distance < 68.421, sensitivity to detection fraction: 23.62 ± 0.01\n",
      "For Distance < 73.684, sensitivity to detection fraction: 21.77 ± 0.01\n",
      "For Distance < 78.946, sensitivity to detection fraction: 20.02 ± 0.01\n",
      "For Distance < 84.209, sensitivity to detection fraction: 18.62 ± 0.01\n",
      "For Distance < 89.471, sensitivity to detection fraction: 17.46 ± 0.00\n",
      "For Distance < 94.733, sensitivity to detection fraction: 16.44 ± 0.00\n",
      "For Distance < 99.996, sensitivity to detection fraction: 15.36 ± 0.00\n"
     ]
    },
    {
     "name": "stderr",
     "output_type": "stream",
     "text": [
      "/var/folders/p9/hcwv87bd7lxfdw1nmx4wt8d00000gn/T/ipykernel_97607/4250176918.py:10: RuntimeWarning: invalid value encountered in long_scalars\n",
      "  detection_fraction = num_detected / num_samples\n",
      "/var/folders/p9/hcwv87bd7lxfdw1nmx4wt8d00000gn/T/ipykernel_97607/4250176918.py:11: RuntimeWarning: invalid value encountered in double_scalars\n",
      "  detection_fraction_uncertainty = np.sqrt(num_detected) / num_samples\n"
     ]
    }
   ],
   "source": [
    "# Iterate over each bin of S/N values\n",
    "for i in range(len(DBin)):\n",
    "\n",
    "    # Filter the DataFrame for S/N values within the current bin range\n",
    "    filtered_df = df[(df['Distance'] < DBin[i])]\n",
    "\n",
    "    # Calculate detection fraction as the fraction of detected samples\n",
    "    num_detected = filtered_df['Detection'].sum()\n",
    "    num_samples = len(filtered_df)\n",
    "    detection_fraction = num_detected / num_samples\n",
    "    detection_fraction_uncertainty = np.sqrt(num_detected) / num_samples\n",
    "    \n",
    "    # Append the detection fraction to the new list\n",
    "    D_detection.append(detection_fraction)\n",
    "    D_detection_uncertainty.append(detection_fraction_uncertainty)\n",
    "    \n",
    "    print(f\"For Distance < {DBin[i]:.3f}, sensitivity to detection fraction: {detection_fraction*100:.2f} ± {detection_fraction_uncertainty:.2f}\")"
   ]
  },
  {
   "cell_type": "markdown",
   "id": "545eb631",
   "metadata": {},
   "source": [
    "# Jupiter Analog"
   ]
  },
  {
   "cell_type": "code",
   "execution_count": 12,
   "id": "354cff1f",
   "metadata": {},
   "outputs": [
    {
     "name": "stdout",
     "output_type": "stream",
     "text": [
      "For Distance < 5.620, sensitivity to detection fraction: nan ± nan\n",
      "For Distance < 10.587, sensitivity to detection fraction: 33.33 ± 0.24\n",
      "For Distance < 15.554, sensitivity to detection fraction: 29.17 ± 0.11\n",
      "For Distance < 20.521, sensitivity to detection fraction: 25.00 ± 0.06\n",
      "For Distance < 25.488, sensitivity to detection fraction: 28.16 ± 0.05\n",
      "For Distance < 30.455, sensitivity to detection fraction: 24.28 ± 0.04\n",
      "For Distance < 35.422, sensitivity to detection fraction: 22.02 ± 0.03\n",
      "For Distance < 40.389, sensitivity to detection fraction: 19.12 ± 0.02\n",
      "For Distance < 45.356, sensitivity to detection fraction: 17.11 ± 0.02\n",
      "For Distance < 50.323, sensitivity to detection fraction: 14.97 ± 0.01\n",
      "For Distance < 55.290, sensitivity to detection fraction: 13.18 ± 0.01\n",
      "For Distance < 60.257, sensitivity to detection fraction: 12.06 ± 0.01\n",
      "For Distance < 65.224, sensitivity to detection fraction: 11.12 ± 0.01\n",
      "For Distance < 70.191, sensitivity to detection fraction: 10.10 ± 0.01\n",
      "For Distance < 75.158, sensitivity to detection fraction: 8.97 ± 0.01\n",
      "For Distance < 80.125, sensitivity to detection fraction: 8.06 ± 0.01\n",
      "For Distance < 85.092, sensitivity to detection fraction: 7.14 ± 0.00\n",
      "For Distance < 90.059, sensitivity to detection fraction: 6.48 ± 0.00\n",
      "For Distance < 95.026, sensitivity to detection fraction: 5.79 ± 0.00\n",
      "For Distance < 99.993, sensitivity to detection fraction: 5.24 ± 0.00\n"
     ]
    },
    {
     "name": "stderr",
     "output_type": "stream",
     "text": [
      "/var/folders/p9/hcwv87bd7lxfdw1nmx4wt8d00000gn/T/ipykernel_97607/3743782019.py:9: RuntimeWarning: invalid value encountered in long_scalars\n",
      "  detection_fraction_JupiterAnalog = num_detected / num_samples\n",
      "/var/folders/p9/hcwv87bd7lxfdw1nmx4wt8d00000gn/T/ipykernel_97607/3743782019.py:12: RuntimeWarning: invalid value encountered in double_scalars\n",
      "  detection_fraction_uncertainty_JupiterAnalog = np.sqrt(num_detected) / num_samples\n"
     ]
    }
   ],
   "source": [
    "# Iterate over each bin of S/N values\n",
    "for i in range(len(DBin_JupiterAnalog)):\n",
    "    # Filter the DataFrame for S/N values within the current bin range\n",
    "    filtered_df = df_JupiterAnalog[df_JupiterAnalog['Distance'] < DBin_JupiterAnalog[i]]\n",
    "\n",
    "    # Calculate detection fraction as the fraction of detected samples\n",
    "    num_detected = filtered_df['Detection'].sum()\n",
    "    num_samples = len(filtered_df)\n",
    "    detection_fraction_JupiterAnalog = num_detected / num_samples\n",
    "    \n",
    "    # Calculate uncertainty in detection fraction\n",
    "    detection_fraction_uncertainty_JupiterAnalog = np.sqrt(num_detected) / num_samples\n",
    "    \n",
    "    # Append the detection fraction and uncertainty to the respective lists\n",
    "    D_detection_JupiterAnalog.append(detection_fraction_JupiterAnalog)\n",
    "    D_detection_uncertainty_JupiterAnalog.append(detection_fraction_uncertainty_JupiterAnalog)\n",
    "    \n",
    "    print(f\"For Distance < {DBin_JupiterAnalog[i]:.3f}, sensitivity to detection fraction: {detection_fraction_JupiterAnalog*100:.2f} ± {detection_fraction_uncertainty_JupiterAnalog:.2f}\")"
   ]
  },
  {
   "cell_type": "code",
   "execution_count": null,
   "id": "3c247584",
   "metadata": {},
   "outputs": [],
   "source": []
  },
  {
   "cell_type": "code",
   "execution_count": null,
   "id": "225205fc",
   "metadata": {},
   "outputs": [],
   "source": []
  },
  {
   "cell_type": "code",
   "execution_count": null,
   "id": "2d2d28c3",
   "metadata": {},
   "outputs": [],
   "source": []
  }
 ],
 "metadata": {
  "kernelspec": {
   "display_name": "Python 3 (ipykernel)",
   "language": "python",
   "name": "python3"
  },
  "language_info": {
   "codemirror_mode": {
    "name": "ipython",
    "version": 3
   },
   "file_extension": ".py",
   "mimetype": "text/x-python",
   "name": "python",
   "nbconvert_exporter": "python",
   "pygments_lexer": "ipython3",
   "version": "3.9.7"
  },
  "varInspector": {
   "cols": {
    "lenName": 16,
    "lenType": 16,
    "lenVar": 40
   },
   "kernels_config": {
    "python": {
     "delete_cmd_postfix": "",
     "delete_cmd_prefix": "del ",
     "library": "var_list.py",
     "varRefreshCmd": "print(var_dic_list())"
    },
    "r": {
     "delete_cmd_postfix": ") ",
     "delete_cmd_prefix": "rm(",
     "library": "var_list.r",
     "varRefreshCmd": "cat(var_dic_list()) "
    }
   },
   "types_to_exclude": [
    "module",
    "function",
    "builtin_function_or_method",
    "instance",
    "_Feature"
   ],
   "window_display": false
  }
 },
 "nbformat": 4,
 "nbformat_minor": 5
}
