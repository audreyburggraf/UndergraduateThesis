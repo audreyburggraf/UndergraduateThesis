{
 "cells": [
  {
   "cell_type": "markdown",
   "id": "331dcc32",
   "metadata": {},
   "source": [
    "## Plotting preferences"
   ]
  },
  {
   "cell_type": "code",
   "execution_count": 1,
   "id": "2dac89c6",
   "metadata": {},
   "outputs": [],
   "source": [
    "# Importing things \n",
    "import numpy as np\n",
    "import pandas as pd \n",
    "import seaborn as sns\n",
    "\n",
    "import matplotlib.pyplot as plt\n",
    "\n",
    "import matplotlib.patches as mpatches\n",
    "\n",
    "import matplotlib.ticker as mticker\n",
    "from matplotlib.ticker import (MultipleLocator, AutoMinorLocator)\n",
    "from matplotlib.ticker import ScalarFormatter\n",
    "\n",
    "import matplotlib.colors as colors\n",
    "from matplotlib.colors import ListedColormap\n",
    "from matplotlib.colors import LogNorm\n",
    "from matplotlib.colors import Normalize\n",
    "\n",
    "from scipy.ndimage import gaussian_filter\n",
    "\n",
    "from matplotlib.gridspec import GridSpec"
   ]
  },
  {
   "cell_type": "code",
   "execution_count": 2,
   "id": "a758abcd",
   "metadata": {},
   "outputs": [],
   "source": [
    "# Font sizes\n",
    "axis_label_font = 30\n",
    "axis_numbers_font = 25\n",
    "title_font = 50\n",
    "legend_font = 25\n",
    "\n",
    "detection_colours = sns.color_palette(\"hls\", 4)\n",
    "dark_colours = sns.color_palette(\"viridis\", 8)\n",
    "my_colours = sns.color_palette(\"husl\", 8)\n",
    "\n",
    "cmap_reds = ListedColormap(plt.cm.get_cmap('Reds', 10)(np.arange(10)))\n",
    "cmap_greens = ListedColormap(plt.cm.get_cmap('Greens', 10)(np.arange(10)))\n",
    "cmap_purples = ListedColormap(plt.cm.get_cmap('Purples', 10)(np.arange(10)))\n",
    "\n",
    "alpha = 0.7\n",
    "\n",
    "path = '/Users/audreyburggraf/Desktop/THESIS/Figures/'"
   ]
  },
  {
   "cell_type": "markdown",
   "id": "bf6f5123",
   "metadata": {},
   "source": [
    "## Data "
   ]
  },
  {
   "cell_type": "code",
   "execution_count": 3,
   "id": "e5b1da1f",
   "metadata": {},
   "outputs": [],
   "source": [
    "# Importing data file \n",
    "df_original = pd.read_csv('/Users/audreyburggraf/Desktop/THESIS/Data Files/bigrun_10000_after_changes.csv')"
   ]
  },
  {
   "cell_type": "code",
   "execution_count": 33,
   "id": "48aea3c0",
   "metadata": {},
   "outputs": [
    {
     "name": "stdout",
     "output_type": "stream",
     "text": [
      "10000\n",
      "6130\n"
     ]
    }
   ],
   "source": [
    "#  add the absolute gaia K band magnitude and stellar mass\n",
    "df_original['m_p'] = 10**df_original['Inj.1P log(m_p)']\n",
    "\n",
    "# cut off certain range \n",
    "df = df_original[(0.3 <= df_original.m_p) & (df_original.m_p <= 3)].reset_index(drop=True)\n",
    "\n",
    "print(len(df_original))\n",
    "print(len(df))"
   ]
  },
  {
   "cell_type": "code",
   "execution_count": 116,
   "id": "833dd0a2",
   "metadata": {},
   "outputs": [
    {
     "name": "stdout",
     "output_type": "stream",
     "text": [
      "There are 10000 systems\n",
      "There are 1536 systems detected\n",
      "Sensitivity: 1.5e+01\n",
      "Sensitivity Uncertainty: 0.4\n"
     ]
    }
   ],
   "source": [
    "# total number of samples\n",
    "total_number = len(df_original)\n",
    "print('There are {:.0f} systems'.format(total_number))\n",
    "\n",
    "# total number of detected \n",
    "total_detected = df_original['Detection'].sum()\n",
    "print('There are {:.0f} systems detected'.format(total_detected))\n",
    "\n",
    "overall_sensitivty = total_detected / total_number\n",
    "print('Sensitivity: {:.2}'.format(overall_sensitivty*100))\n",
    "\n",
    "# uncertainty \n",
    "overall_sensitivty_uncertainty = np.sqrt(total_detected) / total_number\n",
    "print('Sensitivity Uncertainty: {:.1}'.format(overall_sensitivty_uncertainty*100))\n"
   ]
  },
  {
   "cell_type": "code",
   "execution_count": 117,
   "id": "401077db",
   "metadata": {},
   "outputs": [
    {
     "name": "stdout",
     "output_type": "stream",
     "text": [
      "There are 6130 systems\n",
      "There are 321 systems detected\n",
      "Sensitivity: 5.24\n",
      "Sensitivity Uncertainty: 0.3\n"
     ]
    }
   ],
   "source": [
    "# total number of samples\n",
    "total_number = len(df)\n",
    "print('There are {:.0f} systems'.format(total_number))\n",
    "\n",
    "# total number of detected \n",
    "total_detected = df['Detection'].sum()\n",
    "print('There are {:.0f} systems detected'.format(total_detected))\n",
    "\n",
    "overall_sensitivty = total_detected / total_number\n",
    "print('Sensitivity: {:.3}'.format(overall_sensitivty*100))\n",
    "\n",
    "# uncertainty \n",
    "overall_sensitivty_uncertainty = np.sqrt(total_detected) / total_number\n",
    "print('Sensitivity Uncertainty: {:.1}'.format(overall_sensitivty_uncertainty*100))\n"
   ]
  },
  {
   "cell_type": "code",
   "execution_count": 35,
   "id": "b1728de2",
   "metadata": {},
   "outputs": [
    {
     "data": {
      "text/plain": [
       "0.0039191835884530846"
      ]
     },
     "execution_count": 35,
     "metadata": {},
     "output_type": "execute_result"
    }
   ],
   "source": [
    "np.sqrt(1536)/10000"
   ]
  },
  {
   "cell_type": "markdown",
   "id": "22355af1",
   "metadata": {},
   "source": [
    "### Bins"
   ]
  },
  {
   "cell_type": "code",
   "execution_count": null,
   "id": "3ca7bdd7",
   "metadata": {},
   "outputs": [],
   "source": []
  },
  {
   "cell_type": "code",
   "execution_count": 36,
   "id": "fb92089f",
   "metadata": {},
   "outputs": [],
   "source": [
    "inj_mass_data   = 10**df['Inj.1P log(m_p)'] # [M_J]\n",
    "inj_period_data = 10**df['Inj.1P log(P)'] # [years]"
   ]
  },
  {
   "cell_type": "code",
   "execution_count": 37,
   "id": "13c4ce4a",
   "metadata": {},
   "outputs": [],
   "source": [
    "# Setting the mass and period bins \n",
    "Mbins = np.logspace(np.log10(0.3), np.log10(3), 20) \n",
    "Pbins = np.logspace(-2, 1, 20) \n",
    "\n",
    "# Number of bins \n",
    "num_Pbins = len(Pbins) - 1\n",
    "num_Mbins = len(Mbins) - 1\n",
    "\n",
    "# Midpoints of the bins \n",
    "Mbin_midpoints = (Mbins[:-1] + Mbins[1:]) / 2\n",
    "Pbin_midpoints = (Pbins[:-1] + Pbins[1:]) / 2"
   ]
  },
  {
   "cell_type": "markdown",
   "id": "51a07b1d",
   "metadata": {},
   "source": [
    "# Histograms"
   ]
  },
  {
   "cell_type": "markdown",
   "id": "e6cf2137",
   "metadata": {},
   "source": [
    "## Period $P$"
   ]
  },
  {
   "cell_type": "code",
   "execution_count": 69,
   "id": "32779ffe",
   "metadata": {},
   "outputs": [],
   "source": [
    "Pbins = np.logspace(-2, 1, 20) \n",
    "num_Pbins = len(Pbins) - 1\n",
    "Pbin_midpoints = (Pbins[:-1] + Pbins[1:]) / 2"
   ]
  },
  {
   "cell_type": "code",
   "execution_count": 109,
   "id": "ced3e857",
   "metadata": {},
   "outputs": [
    {
     "name": "stdout",
     "output_type": "stream",
     "text": [
      "Period range = 0.010 , Sensitivity = 0.052\n",
      "Period range = 0.014 , Sensitivity = 0.055\n",
      "Period range = 0.021 , Sensitivity = 0.059\n",
      "Period range = 0.030 , Sensitivity = 0.063\n",
      "Period range = 0.043 , Sensitivity = 0.067\n",
      "Period range = 0.062 , Sensitivity = 0.071\n",
      "Period range = 0.089 , Sensitivity = 0.077\n",
      "Period range = 0.127 , Sensitivity = 0.082\n",
      "Period range = 0.183 , Sensitivity = 0.088\n",
      "Period range = 0.264 , Sensitivity = 0.094\n",
      "Period range = 0.379 , Sensitivity = 0.101\n",
      "Period range = 0.546 , Sensitivity = 0.110\n",
      "Period range = 0.785 , Sensitivity = 0.115\n",
      "Period range = 1.129 , Sensitivity = 0.129\n",
      "Period range = 1.624 , Sensitivity = 0.138\n",
      "Period range = 2.336 , Sensitivity = 0.140\n",
      "Period range = 3.360 , Sensitivity = 0.146\n",
      "Period range = 4.833 , Sensitivity = 0.128\n",
      "Period range = 6.952 , Sensitivity = 0.109\n",
      "Period range = 10.000 , Sensitivity = nan\n"
     ]
    },
    {
     "name": "stderr",
     "output_type": "stream",
     "text": [
      "/var/folders/p9/hcwv87bd7lxfdw1nmx4wt8d00000gn/T/ipykernel_88888/1514128432.py:21: RuntimeWarning: invalid value encountered in double_scalars\n",
      "  sensitivity_Pbins[i] = num_detected_Pbin[i]/ num_planets_per_P_bin[i]\n",
      "/var/folders/p9/hcwv87bd7lxfdw1nmx4wt8d00000gn/T/ipykernel_88888/1514128432.py:22: RuntimeWarning: invalid value encountered in double_scalars\n",
      "  detection_uncertainty_Pbins[i] = np.sqrt(num_detected_Pbin[i])/ num_planets_per_P_bin[i]\n"
     ]
    }
   ],
   "source": [
    "num_planets_per_P_bin       = np.zeros(num_Pbins+1)\n",
    "num_detected_Pbin           = np.zeros(num_Pbins+1)\n",
    "sensitivity_Pbins           = np.zeros(num_Pbins+1)\n",
    "detection_uncertainty_Pbins = np.zeros(num_Pbins+1)\n",
    "\n",
    "# Iterate through each Period bin\n",
    "for i, P in enumerate(Pbins):\n",
    "        \n",
    "    # Mask to determine if data falls within the current Meriod-mass bin\n",
    "    mask = (inj_period_data >= Pbins[i]) \n",
    "\n",
    "    # Determine the number of detected Mlanets in the current bin\n",
    "    detected = mask & (df['Detection'] == 1)\n",
    "\n",
    "    # Find the number of Mlanets/data Moints in the current bin\n",
    "    num_planets_per_P_bin[i] = mask.sum()\n",
    "\n",
    "    # Find the number of detected Mlanets in the current bin\n",
    "    num_detected_Pbin[i] = detected.sum()\n",
    "\n",
    "    sensitivity_Pbins[i] = num_detected_Pbin[i]/ num_planets_per_P_bin[i]\n",
    "    detection_uncertainty_Pbins[i] = np.sqrt(num_detected_Pbin[i])/ num_planets_per_P_bin[i]\n",
    "    \n",
    "    print(f\"Period range = {Pbins[i]:.3f} , Sensitivity = {sensitivity_Pbins[i]:.3f}\")"
   ]
  },
  {
   "cell_type": "code",
   "execution_count": 111,
   "id": "0935237b",
   "metadata": {},
   "outputs": [
    {
     "name": "stdout",
     "output_type": "stream",
     "text": [
      "Period range = 0.010 - 0.014, Sensitivity = 0.000, +/- 0.000\n",
      "Period range = 0.014 - 0.021, Sensitivity = 0.000, +/- 0.000\n",
      "Period range = 0.021 - 0.030, Sensitivity = 0.000, +/- 0.000\n",
      "Period range = 0.030 - 0.043, Sensitivity = 0.000, +/- 0.000\n",
      "Period range = 0.043 - 0.062, Sensitivity = 0.003, +/- 0.003\n",
      "Period range = 0.062 - 0.089, Sensitivity = 0.000, +/- 0.000\n",
      "Period range = 0.089 - 0.127, Sensitivity = 0.004, +/- 0.004\n",
      "Period range = 0.127 - 0.183, Sensitivity = 0.022, +/- 0.008\n",
      "Period range = 0.183 - 0.264, Sensitivity = 0.017, +/- 0.007\n",
      "Period range = 0.264 - 0.379, Sensitivity = 0.025, +/- 0.009\n",
      "Period range = 0.379 - 0.546, Sensitivity = 0.032, +/- 0.010\n",
      "Period range = 0.546 - 0.785, Sensitivity = 0.072, +/- 0.015\n",
      "Period range = 0.785 - 1.129, Sensitivity = 0.030, +/- 0.009\n",
      "Period range = 1.129 - 1.624, Sensitivity = 0.086, +/- 0.016\n",
      "Period range = 1.624 - 2.336, Sensitivity = 0.130, +/- 0.020\n",
      "Period range = 2.336 - 3.360, Sensitivity = 0.123, +/- 0.020\n",
      "Period range = 3.360 - 4.833, Sensitivity = 0.182, +/- 0.023\n",
      "Period range = 4.833 - 6.952, Sensitivity = 0.148, +/- 0.021\n",
      "Period range = 6.952 - 10.000, Sensitivity = 0.109, +/- 0.018\n"
     ]
    }
   ],
   "source": [
    "num_planets_per_P_bin       = np.zeros(num_Pbins)\n",
    "num_detected_Pbin           = np.zeros(num_Pbins)\n",
    "sensitivity_Pbins           = np.zeros(num_Pbins)\n",
    "detection_uncertainty_Pbins = np.zeros(num_Pbins)\n",
    "\n",
    "# Iterate through each Period bin\n",
    "for i, P in enumerate(Pbins[:-1]):\n",
    "        \n",
    "    # Mask to determine if data falls within the current Meriod-mass bin\n",
    "    mask = (inj_period_data >= Pbins[i]) & (inj_period_data < Pbins[i+1])\n",
    "\n",
    "    # Determine the number of detected Mlanets in the current bin\n",
    "    detected = mask & (df['Detection'] == 1)\n",
    "\n",
    "    # Find the number of Mlanets/data Moints in the current bin\n",
    "    num_planets_per_P_bin[i] = mask.sum()\n",
    "\n",
    "    # Find the number of detected Mlanets in the current bin\n",
    "    num_detected_Pbin[i] = detected.sum()\n",
    "\n",
    "    sensitivity_Pbins[i] = num_detected_Pbin[i]/ num_planets_per_P_bin[i]\n",
    "    detection_uncertainty_Pbins[i] = np.sqrt(num_detected_Pbin[i])/ num_planets_per_P_bin[i]\n",
    "    \n",
    "    print(f\"Period range = {Pbins[i]:.3f} - {Pbins[i+1]:.3f}, Sensitivity = {sensitivity_Pbins[i]:.3f}, +/- {detection_uncertainty_Pbins[i]:.3f}\")"
   ]
  },
  {
   "cell_type": "code",
   "execution_count": 71,
   "id": "29ecdef5",
   "metadata": {},
   "outputs": [
    {
     "data": {
      "text/plain": [
       "Text(0.01, 0.93, '(a)')"
      ]
     },
     "execution_count": 71,
     "metadata": {},
     "output_type": "execute_result"
    },
    {
     "data": {
      "image/png": "[encoded data removed]",
      "text/plain": [
       "<Figure size 936x720 with 1 Axes>"
      ]
     },
     "metadata": {
      "needs_background": "light"
     },
     "output_type": "display_data"
    }
   ],
   "source": [
    "Pbar_width = np.diff(Pbins)\n",
    "\n",
    "# Create a figure and axes\n",
    "fig, ax = plt.subplots(figsize=(13, 10))\n",
    "\n",
    "# Plot the sensitivity values as a bar graph\n",
    "\n",
    "# ax.bar(Pbin_midpoints, \n",
    "#         cumulative_sensitivity_P[:-1], \n",
    "#         color=my_colours[5], \n",
    "#         edgecolor='black',\n",
    "#         alpha=1,\n",
    "#         align=\"edge\",\n",
    "#         width = Pbar_width,\n",
    "#         label='Sensitivity for P > x',)\n",
    "\n",
    "\n",
    "ax.bar(Pbin_midpoints,\n",
    "       sensitivity_Pbins,\n",
    "       width=Pbar_width,\n",
    "       color=my_colours[6], \n",
    "       alpha=alpha, \n",
    "       edgecolor='black',\n",
    "       align=\"edge\",\n",
    "       label='Sensitivity in Each P Bin')\n",
    "\n",
    "\n",
    "# ax.plot(Pbin_midpoints, \n",
    "#         sensitivity_Pbins, \n",
    "#         marker='o', \n",
    "#         linestyle='-', \n",
    "#         color=my_colours[0], \n",
    "#         label='Sensitivity (line)')\n",
    "\n",
    "\n",
    "\n",
    "# # # Plot the sensitivity values as a line plot on top of the bar graph\n",
    "# ax.plot(Pbin_midpoints, \n",
    "#         sensitivity_values_P[:-1], \n",
    "#         marker='o', \n",
    "#         linestyle='-', \n",
    "#         color='skyblue', \n",
    "#         label='Sensitivity (line)')\n",
    "\n",
    "# Axes labels \n",
    "ax.set_xlabel('Orbital Period [years]', fontsize=axis_label_font)\n",
    "ax.set_ylabel('Detection Fraction', fontsize=axis_label_font)\n",
    "\n",
    "# add legned\n",
    "# ax.legend(fontsize=legend_font)\n",
    "\n",
    "\n",
    "# Set x-axis to log scale\n",
    "ax.set_xscale('log')\n",
    "\n",
    "# Formatting axes labels to avoid scientific notation\n",
    "ax.xaxis.set_major_formatter(ScalarFormatter(useMathText=True))\n",
    "ax.yaxis.set_major_formatter(ScalarFormatter(useMathText=True))\n",
    "\n",
    "# Set x-axis tick parameters\n",
    "ax.tick_params(labelsize=axis_numbers_font, which='major', length=7)\n",
    "ax.tick_params(which='minor', length=4)\n",
    "\n",
    "ax.text(0.01, 0.93, '(a)', transform=ax.transAxes, fontsize=axis_label_font)"
   ]
  },
  {
   "cell_type": "markdown",
   "id": "afaef173",
   "metadata": {},
   "source": [
    "## Stellar Mass $M_*$"
   ]
  },
  {
   "cell_type": "code",
   "execution_count": 72,
   "id": "ea1e003d",
   "metadata": {},
   "outputs": [
    {
     "name": "stdout",
     "output_type": "stream",
     "text": [
      "Min:  0.0735588461744077\n",
      "Max:  0.7436028289014885\n"
     ]
    }
   ],
   "source": [
    "print('Min: ', df['Stellar Mass'].min())\n",
    "print('Max: ', df['Stellar Mass'].max())"
   ]
  },
  {
   "cell_type": "code",
   "execution_count": 73,
   "id": "8389ee33",
   "metadata": {},
   "outputs": [],
   "source": [
    "MstarBin = np.linspace(0.07, 0.8, 20) \n",
    "num_MstarBin = len(MstarBin) - 1\n",
    "MstarBin_midpoints = (MstarBin[:-1] + MstarBin[1:]) / 2"
   ]
  },
  {
   "cell_type": "code",
   "execution_count": 104,
   "id": "753212f6",
   "metadata": {},
   "outputs": [
    {
     "name": "stdout",
     "output_type": "stream",
     "text": [
      "Period range = 0.070, Sensitivity = 0.052\n",
      "Period range = 0.108, Sensitivity = 0.059\n",
      "Period range = 0.147, Sensitivity = 0.064\n",
      "Period range = 0.185, Sensitivity = 0.066\n",
      "Period range = 0.224, Sensitivity = 0.067\n",
      "Period range = 0.262, Sensitivity = 0.066\n",
      "Period range = 0.301, Sensitivity = 0.067\n",
      "Period range = 0.339, Sensitivity = 0.067\n",
      "Period range = 0.377, Sensitivity = 0.068\n",
      "Period range = 0.416, Sensitivity = 0.071\n",
      "Period range = 0.454, Sensitivity = 0.072\n",
      "Period range = 0.493, Sensitivity = 0.074\n",
      "Period range = 0.531, Sensitivity = 0.070\n",
      "Period range = 0.569, Sensitivity = 0.068\n",
      "Period range = 0.608, Sensitivity = 0.065\n",
      "Period range = 0.646, Sensitivity = 0.066\n",
      "Period range = 0.685, Sensitivity = 0.088\n",
      "Period range = 0.723, Sensitivity = 0.147\n",
      "Period range = 0.762, Sensitivity = nan\n"
     ]
    },
    {
     "name": "stderr",
     "output_type": "stream",
     "text": [
      "/var/folders/p9/hcwv87bd7lxfdw1nmx4wt8d00000gn/T/ipykernel_88888/808180361.py:21: RuntimeWarning: invalid value encountered in double_scalars\n",
      "  sensitivity_MstarBin[i] = num_detected_MstarBin[i]/ num_planets_per_MstarBin[i]\n",
      "/var/folders/p9/hcwv87bd7lxfdw1nmx4wt8d00000gn/T/ipykernel_88888/808180361.py:22: RuntimeWarning: invalid value encountered in double_scalars\n",
      "  detection_uncertainty_MstarBin[i] = np.sqrt(num_detected_MstarBin[i])/ num_planets_per_MstarBin[i]\n"
     ]
    }
   ],
   "source": [
    "num_planets_per_MstarBin       = np.zeros(num_MstarBin)\n",
    "num_detected_MstarBin         = np.zeros(num_MstarBin)\n",
    "sensitivity_MstarBin          = np.zeros(num_MstarBin)\n",
    "detection_uncertainty_MstarBin = np.zeros(num_MstarBin)\n",
    "\n",
    "# Iterate through each Period bin\n",
    "for i, M in enumerate(MstarBin[:-1]):\n",
    "        \n",
    "    # Mask to determine if data falls within the current Meriod-mass bin\n",
    "    mask = (df['Stellar Mass'] >= MstarBin[i]) \n",
    "\n",
    "    # Determine the number of detected Mlanets in the current bin\n",
    "    detected = mask & (df['Detection'] == 1)\n",
    "\n",
    "    # Find the number of Mlanets/data Moints in the current bin\n",
    "    num_planets_per_MstarBin[i] = mask.sum()\n",
    "\n",
    "    # Find the number of detected Mlanets in the current bin\n",
    "    num_detected_MstarBin[i] = detected.sum()\n",
    "\n",
    "    sensitivity_MstarBin[i] = num_detected_MstarBin[i]/ num_planets_per_MstarBin[i]\n",
    "    detection_uncertainty_MstarBin[i] = np.sqrt(num_detected_MstarBin[i])/ num_planets_per_MstarBin[i]\n",
    "    \n",
    "    print(f\"Period range = {MstarBin[i]:.3f}, Sensitivity = {sensitivity_MstarBin[i]:.3f}\")"
   ]
  },
  {
   "cell_type": "code",
   "execution_count": 74,
   "id": "590f02ea",
   "metadata": {},
   "outputs": [
    {
     "name": "stdout",
     "output_type": "stream",
     "text": [
      "Period range = 0.070 - 0.108, Sensitivity = 0.010\n",
      "Period range = 0.108 - 0.147, Sensitivity = 0.019\n",
      "Period range = 0.147 - 0.185, Sensitivity = 0.051\n",
      "Period range = 0.185 - 0.224, Sensitivity = 0.064\n",
      "Period range = 0.224 - 0.262, Sensitivity = 0.072\n",
      "Period range = 0.262 - 0.301, Sensitivity = 0.060\n",
      "Period range = 0.301 - 0.339, Sensitivity = 0.063\n",
      "Period range = 0.339 - 0.377, Sensitivity = 0.065\n",
      "Period range = 0.377 - 0.416, Sensitivity = 0.051\n",
      "Period range = 0.416 - 0.454, Sensitivity = 0.065\n",
      "Period range = 0.454 - 0.493, Sensitivity = 0.061\n",
      "Period range = 0.493 - 0.531, Sensitivity = 0.091\n",
      "Period range = 0.531 - 0.569, Sensitivity = 0.084\n",
      "Period range = 0.569 - 0.608, Sensitivity = 0.076\n",
      "Period range = 0.608 - 0.646, Sensitivity = 0.063\n",
      "Period range = 0.646 - 0.685, Sensitivity = 0.034\n",
      "Period range = 0.685 - 0.723, Sensitivity = 0.068\n",
      "Period range = 0.723 - 0.762, Sensitivity = 0.147\n",
      "Period range = 0.762 - 0.800, Sensitivity = nan\n"
     ]
    },
    {
     "name": "stderr",
     "output_type": "stream",
     "text": [
      "/var/folders/p9/hcwv87bd7lxfdw1nmx4wt8d00000gn/T/ipykernel_88888/4133633892.py:21: RuntimeWarning: invalid value encountered in double_scalars\n",
      "  sensitivity_MstarBin[i] = num_detected_MstarBin[i]/ num_planets_per_MstarBin[i]\n",
      "/var/folders/p9/hcwv87bd7lxfdw1nmx4wt8d00000gn/T/ipykernel_88888/4133633892.py:22: RuntimeWarning: invalid value encountered in double_scalars\n",
      "  detection_uncertainty_MstarBin[i] = np.sqrt(num_detected_MstarBin[i])/ num_planets_per_MstarBin[i]\n"
     ]
    }
   ],
   "source": [
    "num_planets_per_MstarBin       = np.zeros(num_MstarBin)\n",
    "num_detected_MstarBin         = np.zeros(num_MstarBin)\n",
    "sensitivity_MstarBin          = np.zeros(num_MstarBin)\n",
    "detection_uncertainty_MstarBin = np.zeros(num_MstarBin)\n",
    "\n",
    "# Iterate through each Period bin\n",
    "for i, M in enumerate(MstarBin[:-1]):\n",
    "        \n",
    "    # Mask to determine if data falls within the current Meriod-mass bin\n",
    "    mask = (df['Stellar Mass'] >= MstarBin[i]) & (df['Stellar Mass'] < MstarBin[i+1])\n",
    "\n",
    "    # Determine the number of detected Mlanets in the current bin\n",
    "    detected = mask & (df['Detection'] == 1)\n",
    "\n",
    "    # Find the number of Mlanets/data Moints in the current bin\n",
    "    num_planets_per_MstarBin[i] = mask.sum()\n",
    "\n",
    "    # Find the number of detected Mlanets in the current bin\n",
    "    num_detected_MstarBin[i] = detected.sum()\n",
    "\n",
    "    sensitivity_MstarBin[i] = num_detected_MstarBin[i]/ num_planets_per_MstarBin[i]\n",
    "    detection_uncertainty_MstarBin[i] = np.sqrt(num_detected_MstarBin[i])/ num_planets_per_MstarBin[i]\n",
    "    \n",
    "    print(f\"Period range = {MstarBin[i]:.3f} - {MstarBin[i+1]:.3f}, Sensitivity = {sensitivity_MstarBin[i]:.3f}\")"
   ]
  },
  {
   "cell_type": "code",
   "execution_count": 75,
   "id": "d8008622",
   "metadata": {},
   "outputs": [
    {
     "data": {
      "text/plain": [
       "Text(0.01, 0.93, '(d)')"
      ]
     },
     "execution_count": 75,
     "metadata": {},
     "output_type": "execute_result"
    },
    {
     "data": {
      "image/png": "[encoded data removed]",
      "text/plain": [
       "<Figure size 936x720 with 1 Axes>"
      ]
     },
     "metadata": {
      "needs_background": "light"
     },
     "output_type": "display_data"
    }
   ],
   "source": [
    "# Create a figure and axes\n",
    "fig, ax = plt.subplots(figsize=(13, 10))\n",
    "\n",
    "# Plot the sensitivity values as a bar graph\n",
    "\n",
    "ax.bar(MstarBin_midpoints,\n",
    "       sensitivity_MstarBin,\n",
    "       width = np.diff(MstarBin),\n",
    "       color=my_colours[3], \n",
    "       alpha=alpha, \n",
    "       edgecolor='black',\n",
    "       align=\"edge\",\n",
    "       label='Sensitivity in Each P Bin')\n",
    "\n",
    "\n",
    "# Axes labels \n",
    "ax.set_xlabel('Stellar Mass [$M_\\odot$]', fontsize=axis_label_font)\n",
    "ax.set_ylabel('Detection Fraction', fontsize=axis_label_font)\n",
    "\n",
    "# add legned\n",
    "# ax.legend(fontsize=legend_font)\n",
    "\n",
    "\n",
    "\n",
    "# Formatting axes labels to avoid scientific notation\n",
    "ax.xaxis.set_major_formatter(ScalarFormatter(useMathText=True))\n",
    "ax.yaxis.set_major_formatter(ScalarFormatter(useMathText=True))\n",
    "\n",
    "# Set x-axis tick parameters\n",
    "ax.tick_params(labelsize=axis_numbers_font, which='major', length=7)\n",
    "ax.tick_params(which='minor', length=4)\n",
    "\n",
    "ax.text(0.01, 0.93, '(d)', transform=ax.transAxes, fontsize=axis_label_font)"
   ]
  },
  {
   "cell_type": "markdown",
   "id": "6d454ef8",
   "metadata": {},
   "source": [
    "## Signal to Noise $S/N$"
   ]
  },
  {
   "cell_type": "code",
   "execution_count": 76,
   "id": "07717f44",
   "metadata": {},
   "outputs": [
    {
     "name": "stdout",
     "output_type": "stream",
     "text": [
      "Min:  0.0143129444470995\n",
      "Max:  29.755899859193168\n"
     ]
    }
   ],
   "source": [
    "print('Min: ', df['S/N'].min())\n",
    "print('Max: ', df['S/N'].max())"
   ]
  },
  {
   "cell_type": "code",
   "execution_count": 77,
   "id": "dca75567",
   "metadata": {},
   "outputs": [],
   "source": [
    "SNBin = np.logspace(np.log10(df['S/N'].min()), np.log10(df['S/N'].max()), 20) \n",
    "num_SNBin = len(SNBin) - 1\n",
    "SNBin_midpoints = (SNBin[:-1] + SNBin[1:]) / 2"
   ]
  },
  {
   "cell_type": "code",
   "execution_count": 102,
   "id": "ea60e987",
   "metadata": {},
   "outputs": [
    {
     "name": "stdout",
     "output_type": "stream",
     "text": [
      "SN = 0.014 ,  Sensitivity = 0.054 +/- 0.003\n",
      "SN = 0.021 ,  Sensitivity = 0.055 +/- 0.003\n",
      "SN = 0.032 ,  Sensitivity = 0.055 +/- 0.003\n",
      "SN = 0.048 ,  Sensitivity = 0.056 +/- 0.003\n",
      "SN = 0.071 ,  Sensitivity = 0.058 +/- 0.003\n",
      "SN = 0.107 ,  Sensitivity = 0.061 +/- 0.003\n",
      "SN = 0.160 ,  Sensitivity = 0.068 +/- 0.004\n",
      "SN = 0.239 ,  Sensitivity = 0.080 +/- 0.004\n",
      "SN = 0.357 ,  Sensitivity = 0.100 +/- 0.006\n",
      "SN = 0.534 ,  Sensitivity = 0.133 +/- 0.008\n",
      "SN = 0.798 ,  Sensitivity = 0.183 +/- 0.011\n",
      "SN = 1.193 ,  Sensitivity = 0.261 +/- 0.018\n",
      "SN = 1.783 ,  Sensitivity = 0.392 +/- 0.032\n",
      "SN = 2.666 ,  Sensitivity = 0.500 +/- 0.053\n",
      "SN = 3.985 ,  Sensitivity = 0.602 +/- 0.085\n",
      "SN = 5.958 ,  Sensitivity = 0.694 +/- 0.139\n",
      "SN = 8.906 ,  Sensitivity = 0.667 +/- 0.236\n",
      "SN = 13.315 ,  Sensitivity = 1.000 +/- 0.447\n",
      "SN = 19.904 ,  Sensitivity = 1.000 +/- 1.000\n"
     ]
    }
   ],
   "source": [
    "num_planets_per_SNBin       = np.zeros(num_SNBin)\n",
    "num_detected_SNBin         = np.zeros(num_SNBin)\n",
    "sensitivity_SNBin          = np.zeros(num_SNBin)\n",
    "detection_uncertainty_SNBin = np.zeros(num_SNBin)\n",
    "\n",
    "# Iterate through each Period bin\n",
    "for i, M in enumerate(SNBin[:-1]):\n",
    "        \n",
    "    # Mask to determine if data falls within the current Meriod-mass bin\n",
    "    mask = (df['S/N'] >= SNBin[i]) \n",
    "\n",
    "    # Determine the number of detected Mlanets in the current bin\n",
    "    detected = mask & (df['Detection'] == 1)\n",
    "\n",
    "    # Find the number of Mlanets/data Moints in the current bin\n",
    "    num_planets_per_SNBin[i] = mask.sum()\n",
    "\n",
    "    # Find the number of detected Mlanets in the current bin\n",
    "    num_detected_SNBin[i] = detected.sum()\n",
    "\n",
    "    sensitivity_SNBin[i] = num_detected_SNBin[i]/ num_planets_per_SNBin[i]\n",
    "    detection_uncertainty_SNBin[i] = np.sqrt(num_detected_SNBin[i])/ num_planets_per_SNBin[i]\n",
    "    \n",
    "    print(f\"SN = {SNBin[i]:.3f} ,  Sensitivity = {sensitivity_SNBin[i]:.3f} +/- {detection_uncertainty_SNBin[i]:.3f}\")"
   ]
  },
  {
   "cell_type": "code",
   "execution_count": 78,
   "id": "54911d4f",
   "metadata": {},
   "outputs": [
    {
     "name": "stdout",
     "output_type": "stream",
     "text": [
      "SN range = 0.014 - 0.021,  num in each bin =  19.000, Sensitivity = 0.000 +/- 0.000\n",
      "SN range = 0.021 - 0.032,  num in each bin =  24.000, Sensitivity = 0.000 +/- 0.000\n",
      "SN range = 0.032 - 0.048,  num in each bin =  89.000, Sensitivity = 0.000 +/- 0.000\n",
      "SN range = 0.048 - 0.071,  num in each bin =  193.000, Sensitivity = 0.000 +/- 0.000\n",
      "SN range = 0.071 - 0.107,  num in each bin =  326.000, Sensitivity = 0.000 +/- 0.000\n",
      "SN range = 0.107 - 0.160,  num in each bin =  529.000, Sensitivity = 0.000 +/- 0.000\n",
      "SN range = 0.160 - 0.239,  num in each bin =  737.000, Sensitivity = 0.003 +/- 0.002\n",
      "SN range = 0.239 - 0.357,  num in each bin =  817.000, Sensitivity = 0.002 +/- 0.002\n",
      "SN range = 0.357 - 0.534,  num in each bin =  900.000, Sensitivity = 0.019 +/- 0.005\n",
      "SN range = 0.534 - 0.798,  num in each bin =  774.000, Sensitivity = 0.037 +/- 0.007\n",
      "SN range = 0.798 - 1.193,  num in each bin =  633.000, Sensitivity = 0.077 +/- 0.011\n",
      "SN range = 1.193 - 1.783,  num in each bin =  465.000, Sensitivity = 0.153 +/- 0.018\n",
      "SN range = 1.783 - 2.666,  num in each bin =  209.000, Sensitivity = 0.301 +/- 0.038\n",
      "SN range = 2.666 - 3.985,  num in each bin =  93.000, Sensitivity = 0.409 +/- 0.066\n",
      "SN range = 3.985 - 5.958,  num in each bin =  47.000, Sensitivity = 0.532 +/- 0.106\n",
      "SN range = 5.958 - 8.906,  num in each bin =  24.000, Sensitivity = 0.708 +/- 0.172\n",
      "SN range = 8.906 - 13.315,  num in each bin =  7.000, Sensitivity = 0.429 +/- 0.247\n",
      "SN range = 13.315 - 19.904,  num in each bin =  4.000, Sensitivity = 1.000 +/- 0.500\n",
      "SN range = 19.904 - 29.756,  num in each bin =  0.000, Sensitivity = nan +/- nan\n"
     ]
    },
    {
     "name": "stderr",
     "output_type": "stream",
     "text": [
      "/var/folders/p9/hcwv87bd7lxfdw1nmx4wt8d00000gn/T/ipykernel_88888/2825652536.py:21: RuntimeWarning: invalid value encountered in double_scalars\n",
      "  sensitivity_SNBin[i] = num_detected_SNBin[i]/ num_planets_per_SNBin[i]\n",
      "/var/folders/p9/hcwv87bd7lxfdw1nmx4wt8d00000gn/T/ipykernel_88888/2825652536.py:22: RuntimeWarning: invalid value encountered in double_scalars\n",
      "  detection_uncertainty_SNBin[i] = np.sqrt(num_detected_SNBin[i])/ num_planets_per_SNBin[i]\n"
     ]
    }
   ],
   "source": [
    "num_planets_per_SNBin       = np.zeros(num_SNBin)\n",
    "num_detected_SNBin         = np.zeros(num_SNBin)\n",
    "sensitivity_SNBin          = np.zeros(num_SNBin)\n",
    "detection_uncertainty_SNBin = np.zeros(num_SNBin)\n",
    "\n",
    "# Iterate through each Period bin\n",
    "for i, M in enumerate(SNBin[:-1]):\n",
    "        \n",
    "    # Mask to determine if data falls within the current Meriod-mass bin\n",
    "    mask = (df['S/N'] >= SNBin[i]) & (df['S/N'] < SNBin[i+1])\n",
    "\n",
    "    # Determine the number of detected Mlanets in the current bin\n",
    "    detected = mask & (df['Detection'] == 1)\n",
    "\n",
    "    # Find the number of Mlanets/data Moints in the current bin\n",
    "    num_planets_per_SNBin[i] = mask.sum()\n",
    "\n",
    "    # Find the number of detected Mlanets in the current bin\n",
    "    num_detected_SNBin[i] = detected.sum()\n",
    "\n",
    "    sensitivity_SNBin[i] = num_detected_SNBin[i]/ num_planets_per_SNBin[i]\n",
    "    detection_uncertainty_SNBin[i] = np.sqrt(num_detected_SNBin[i])/ num_planets_per_SNBin[i]\n",
    "    \n",
    "    print(f\"SN range = {SNBin[i]:.3f} - {SNBin[i+1]:.3f},  num in each bin =  {num_planets_per_SNBin[i]:.3f}, Sensitivity = {sensitivity_SNBin[i]:.3f} +/- {detection_uncertainty_SNBin[i]:.3f}\")"
   ]
  },
  {
   "cell_type": "code",
   "execution_count": 79,
   "id": "02a06366",
   "metadata": {},
   "outputs": [
    {
     "data": {
      "text/plain": [
       "Text(0.01, 0.93, '(c)')"
      ]
     },
     "execution_count": 79,
     "metadata": {},
     "output_type": "execute_result"
    },
    {
     "data": {
      "image/png": "[encoded data removed]",
      "text/plain": [
       "<Figure size 936x720 with 1 Axes>"
      ]
     },
     "metadata": {
      "needs_background": "light"
     },
     "output_type": "display_data"
    }
   ],
   "source": [
    "# Create a figure and axes\n",
    "fig, ax = plt.subplots(figsize=(13, 10))\n",
    "\n",
    "# Plot the sensitivity values as a bar graph\n",
    "\n",
    "ax.bar(SNBin_midpoints,\n",
    "       sensitivity_SNBin,\n",
    "       yerr=detection_uncertainty_SNBin,\n",
    "       capsize=5,\n",
    "       width=np.diff(SNBin),\n",
    "       color=my_colours[5], \n",
    "       alpha=alpha, \n",
    "       edgecolor='black',\n",
    "       align=\"edge\",\n",
    "       label='Sensitivity in Each P Bin')\n",
    "\n",
    "\n",
    "# Axes labels \n",
    "ax.set_xlabel('$S/N$', fontsize=axis_label_font)\n",
    "ax.set_ylabel('Detection Fraction', fontsize=axis_label_font)\n",
    "\n",
    "# add legned\n",
    "# ax.legend(fontsize=legend_font)\n",
    "\n",
    "ax.set_xscale('log')\n",
    "\n",
    "# Formatting axes labels to avoid scientific notation\n",
    "ax.xaxis.set_major_formatter(ScalarFormatter(useMathText=True))\n",
    "ax.yaxis.set_major_formatter(ScalarFormatter(useMathText=True))\n",
    "\n",
    "# Set x-axis tick parameters\n",
    "ax.tick_params(labelsize=axis_numbers_font, which='major', length=7)\n",
    "ax.tick_params(which='minor', length=4)\n",
    "\n",
    "ax.text(0.01, 0.93, '(c)', transform=ax.transAxes, fontsize=axis_label_font)"
   ]
  },
  {
   "cell_type": "code",
   "execution_count": 80,
   "id": "c8d7b812",
   "metadata": {},
   "outputs": [
    {
     "name": "stderr",
     "output_type": "stream",
     "text": [
      "No handles with labels found to put in legend.\n",
      "No handles with labels found to put in legend.\n"
     ]
    },
    {
     "data": {
      "image/png": "[encoded data removed]",
      "text/plain": [
       "<Figure size 936x720 with 2 Axes>"
      ]
     },
     "metadata": {
      "needs_background": "light"
     },
     "output_type": "display_data"
    }
   ],
   "source": [
    "import matplotlib.pyplot as plt\n",
    "import numpy as np\n",
    "\n",
    "# Create a figure and axes\n",
    "fig, ax1 = plt.subplots(figsize=(13, 10))\n",
    "\n",
    "# Plot the first set of bars with the primary y-axis (left)\n",
    "ax1.bar(SNBin_midpoints,\n",
    "       sensitivity_SNBin,\n",
    "       width=np.diff(SNBin),\n",
    "       color=my_colours[4], \n",
    "       alpha=alpha, \n",
    "       edgecolor='black',\n",
    "       align=\"edge\")\n",
    "\n",
    "\n",
    "# Create a secondary y-axis for the second set of bars (right)\n",
    "ax2 = ax1.twinx()\n",
    "ax2.bar(SNBin_midpoints,\n",
    "       num_detected_SNBin,\n",
    "       width=np.diff(SNBin),\n",
    "       color='red', \n",
    "       alpha=0.5, \n",
    "       edgecolor='black',\n",
    "       align=\"edge\")\n",
    "\n",
    "ax2.set_ylabel('Data 2', fontsize=14)\n",
    "ax2.tick_params(axis='y')\n",
    "\n",
    "# Add legend\n",
    "ax1.legend(loc='upper left')\n",
    "ax2.legend(loc='upper right')\n",
    "\n",
    "\n",
    "\n",
    "# Axes labels \n",
    "ax1.set_xlabel('Distance [pc]', fontsize=axis_label_font)\n",
    "\n",
    "ax1.set_ylabel('Detection Fraction', fontsize=axis_label_font)\n",
    "ax2.set_ylabel('Detection Count', fontsize=axis_label_font)\n",
    "\n",
    "\n",
    "# Set x-axis tick parameters\n",
    "ax1.tick_params(labelsize=axis_numbers_font, which='major', length=7)\n",
    "ax1.tick_params(which='minor', length=4)\n",
    "\n",
    "ax2.tick_params(labelsize=axis_numbers_font, which='major', length=7)\n",
    "ax2.tick_params(which='minor', length=4)\n",
    "\n"
   ]
  },
  {
   "cell_type": "markdown",
   "id": "ab29900b",
   "metadata": {},
   "source": [
    "## Distance $d$"
   ]
  },
  {
   "cell_type": "code",
   "execution_count": null,
   "id": "77d3800f",
   "metadata": {},
   "outputs": [],
   "source": []
  },
  {
   "cell_type": "code",
   "execution_count": 81,
   "id": "591d1b76",
   "metadata": {},
   "outputs": [
    {
     "name": "stdout",
     "output_type": "stream",
     "text": [
      "Min:  5.620149134079134\n",
      "Max:  99.9925758150458\n"
     ]
    }
   ],
   "source": [
    "print('Min: ', df['Distance'].min())\n",
    "print('Max: ', df['Distance'].max())"
   ]
  },
  {
   "cell_type": "code",
   "execution_count": 98,
   "id": "3dc92ccf",
   "metadata": {},
   "outputs": [],
   "source": [
    "# DBin = np.linspace(0, 100, 20) \n",
    "\n",
    "DBin = np.logspace(np.log10(0.0000001), np.log10(100), 50) \n",
    "\n",
    "\n",
    "num_DBin = len(DBin) - 1\n",
    "DBin_midpoints = (DBin[:-1] + DBin[1:]) / 2"
   ]
  },
  {
   "cell_type": "code",
   "execution_count": 99,
   "id": "d2ac7210",
   "metadata": {},
   "outputs": [
    {
     "name": "stdout",
     "output_type": "stream",
     "text": [
      "Period range = 0.00000 - 0.000, Sensitivity = 0.000\n",
      "Period range = 0.00000 - 0.000, Sensitivity = 0.000\n",
      "Period range = 0.00000 - 0.000, Sensitivity = 0.000\n",
      "Period range = 0.00000 - 0.000, Sensitivity = 0.000\n",
      "Period range = 0.00000 - 0.000, Sensitivity = 0.003\n",
      "Period range = 0.00000 - 0.000, Sensitivity = 0.000\n",
      "Period range = 0.00000 - 0.000, Sensitivity = 0.004\n",
      "Period range = 0.00000 - 0.000, Sensitivity = 0.022\n",
      "Period range = 0.00000 - 0.000, Sensitivity = 0.017\n",
      "Period range = 0.00000 - 0.000, Sensitivity = 0.025\n",
      "Period range = 0.00001 - 0.000, Sensitivity = 0.032\n",
      "Period range = 0.00001 - 0.000, Sensitivity = 0.072\n",
      "Period range = 0.00002 - 0.000, Sensitivity = 0.030\n",
      "Period range = 0.00002 - 0.000, Sensitivity = 0.086\n",
      "Period range = 0.00004 - 0.000, Sensitivity = 0.130\n",
      "Period range = 0.00006 - 0.000, Sensitivity = 0.123\n",
      "Period range = 0.00009 - 0.000, Sensitivity = 0.182\n",
      "Period range = 0.00013 - 0.000, Sensitivity = 0.148\n",
      "Period range = 0.00020 - 0.000, Sensitivity = 0.109\n"
     ]
    },
    {
     "name": "stderr",
     "output_type": "stream",
     "text": [
      "/var/folders/p9/hcwv87bd7lxfdw1nmx4wt8d00000gn/T/ipykernel_88888/1320520217.py:21: RuntimeWarning: invalid value encountered in double_scalars\n",
      "  sensitivity_DBin[i] = num_detected_DBin[i]/ num_planets_per_DBin[i]\n",
      "/var/folders/p9/hcwv87bd7lxfdw1nmx4wt8d00000gn/T/ipykernel_88888/1320520217.py:22: RuntimeWarning: invalid value encountered in double_scalars\n",
      "  detection_uncertainty_DBin[i] = np.sqrt(num_detected_DBin[i])/ num_planets_per_DBin[i]\n"
     ]
    },
    {
     "ename": "IndexError",
     "evalue": "index 19 is out of bounds for axis 0 with size 19",
     "output_type": "error",
     "traceback": [
      "\u001b[0;31m---------------------------------------------------------------------------\u001b[0m",
      "\u001b[0;31mIndexError\u001b[0m                                Traceback (most recent call last)",
      "\u001b[0;32m/var/folders/p9/hcwv87bd7lxfdw1nmx4wt8d00000gn/T/ipykernel_88888/1320520217.py\u001b[0m in \u001b[0;36m<module>\u001b[0;34m\u001b[0m\n\u001b[1;32m     22\u001b[0m     \u001b[0mdetection_uncertainty_DBin\u001b[0m\u001b[0;34m[\u001b[0m\u001b[0mi\u001b[0m\u001b[0;34m]\u001b[0m \u001b[0;34m=\u001b[0m \u001b[0mnp\u001b[0m\u001b[0;34m.\u001b[0m\u001b[0msqrt\u001b[0m\u001b[0;34m(\u001b[0m\u001b[0mnum_detected_DBin\u001b[0m\u001b[0;34m[\u001b[0m\u001b[0mi\u001b[0m\u001b[0;34m]\u001b[0m\u001b[0;34m)\u001b[0m\u001b[0;34m/\u001b[0m \u001b[0mnum_planets_per_DBin\u001b[0m\u001b[0;34m[\u001b[0m\u001b[0mi\u001b[0m\u001b[0;34m]\u001b[0m\u001b[0;34m\u001b[0m\u001b[0;34m\u001b[0m\u001b[0m\n\u001b[1;32m     23\u001b[0m \u001b[0;34m\u001b[0m\u001b[0m\n\u001b[0;32m---> 24\u001b[0;31m     \u001b[0mprint\u001b[0m\u001b[0;34m(\u001b[0m\u001b[0;34mf\"Period range = {DBin[i]:.5f} - {DBin[i+1]:.3f}, Sensitivity = {sensitivity_Pbins[i]:.3f}\"\u001b[0m\u001b[0;34m)\u001b[0m\u001b[0;34m\u001b[0m\u001b[0;34m\u001b[0m\u001b[0m\n\u001b[0m",
      "\u001b[0;31mIndexError\u001b[0m: index 19 is out of bounds for axis 0 with size 19"
     ]
    }
   ],
   "source": [
    "num_planets_per_DBin       = np.zeros(num_DBin)\n",
    "num_detected_DBin         = np.zeros(num_DBin)\n",
    "sensitivity_DBin          = np.zeros(num_DBin)\n",
    "detection_uncertainty_DBin = np.zeros(num_DBin)\n",
    "\n",
    "# Iterate through each Period bin\n",
    "for i, M in enumerate(DBin[:-1]):\n",
    "        \n",
    "    # Mask to determine if data falls within the current Meriod-mass bin\n",
    "    mask = (df['Distance'] >= DBin[i]) & (df['Distance'] < DBin[i+1])\n",
    "\n",
    "    # Determine the number of detected Mlanets in the current bin\n",
    "    detected = mask & (df['Detection'] == 1)\n",
    "\n",
    "    # Find the number of Mlanets/data Moints in the current bin\n",
    "    num_planets_per_DBin[i] = mask.sum()\n",
    "\n",
    "    # Find the number of detected Mlanets in the current bin\n",
    "    num_detected_DBin[i] = detected.sum()\n",
    "\n",
    "    sensitivity_DBin[i] = num_detected_DBin[i]/ num_planets_per_DBin[i]\n",
    "    detection_uncertainty_DBin[i] = np.sqrt(num_detected_DBin[i])/ num_planets_per_DBin[i]\n",
    "    \n",
    "    print(f\"Period range = {DBin[i]:.5f} - {DBin[i+1]:.3f}, Sensitivity = {sensitivity_Pbins[i]:.3f}\")"
   ]
  },
  {
   "cell_type": "code",
   "execution_count": 94,
   "id": "93e394d4",
   "metadata": {},
   "outputs": [
    {
     "name": "stderr",
     "output_type": "stream",
     "text": [
      "No handles with labels found to put in legend.\n",
      "No handles with labels found to put in legend.\n"
     ]
    },
    {
     "data": {
      "image/png": "[encoded data removed]",
      "text/plain": [
       "<Figure size 936x720 with 2 Axes>"
      ]
     },
     "metadata": {
      "needs_background": "light"
     },
     "output_type": "display_data"
    }
   ],
   "source": [
    "import matplotlib.pyplot as plt\n",
    "import numpy as np\n",
    "\n",
    "# Create a figure and axes\n",
    "fig, ax1 = plt.subplots(figsize=(13, 10))\n",
    "\n",
    "# Plot the first set of bars with the primary y-axis (left)\n",
    "ax1.bar(DBin_midpoints,\n",
    "       sensitivity_DBin,\n",
    "       width=np.diff(DBin),\n",
    "       color=my_colours[4], \n",
    "       alpha=alpha, \n",
    "       edgecolor='black',\n",
    "       align=\"edge\")\n",
    "\n",
    "\n",
    "# Create a secondary y-axis for the second set of bars (right)\n",
    "ax2 = ax1.twinx()\n",
    "ax2.bar(DBin_midpoints,\n",
    "       num_detected_DBin,\n",
    "       width=np.diff(DBin),\n",
    "       color=my_colours[4], \n",
    "       alpha=0.5, \n",
    "       edgecolor='black',\n",
    "       align=\"edge\")\n",
    "\n",
    "ax2.set_ylabel('Data 2', fontsize=14)\n",
    "ax2.tick_params(axis='y')\n",
    "\n",
    "# Add legend\n",
    "ax1.legend(loc='upper left')\n",
    "ax2.legend(loc='upper right')\n",
    "\n",
    "\n",
    "\n",
    "# Axes labels \n",
    "ax1.set_xlabel('Distance [pc]', fontsize=axis_label_font)\n",
    "\n",
    "ax1.set_ylabel('Detection Fraction', fontsize=axis_label_font)\n",
    "ax2.set_ylabel('Detection Count', fontsize=axis_label_font)\n",
    "\n",
    "\n",
    "# Set x-axis tick parameters\n",
    "ax1.tick_params(labelsize=axis_numbers_font, which='major', length=7)\n",
    "ax1.tick_params(which='minor', length=4)\n",
    "\n",
    "ax2.tick_params(labelsize=axis_numbers_font, which='major', length=7)\n",
    "ax2.tick_params(which='minor', length=4)\n",
    "\n"
   ]
  },
  {
   "cell_type": "code",
   "execution_count": 95,
   "id": "76127835",
   "metadata": {},
   "outputs": [
    {
     "data": {
      "image/png": "[encoded data removed]",
      "text/plain": [
       "<Figure size 1440x1008 with 4 Axes>"
      ]
     },
     "metadata": {
      "needs_background": "light"
     },
     "output_type": "display_data"
    }
   ],
   "source": [
    "cs = 5\n",
    "\n",
    "# Create a 4x4 figure of histograms\n",
    "fig, axs = plt.subplots(2, 2, figsize=(20, 14))\n",
    "\n",
    "# Plot histogram for period (top left)\n",
    "axs[0, 0].bar(Pbin_midpoints,\n",
    "       sensitivity_Pbins,\n",
    "       yerr=detection_uncertainty_Pbins,\n",
    "       capsize=cs,\n",
    "       width=Pbar_width,\n",
    "       color=my_colours[6], \n",
    "       alpha=alpha, \n",
    "       edgecolor='black',\n",
    "       align=\"edge\")\n",
    "\n",
    "axs[0,0].set_xscale('log')\n",
    "\n",
    "# Plot histogram for distance (bottom left)\n",
    "axs[0, 1].bar(DBin_midpoints,\n",
    "       sensitivity_DBin,\n",
    "       yerr=detection_uncertainty_DBin,\n",
    "       capsize=cs,\n",
    "       width=np.diff(DBin),\n",
    "       color=my_colours[4], \n",
    "       alpha=alpha, \n",
    "       edgecolor='black',\n",
    "       align=\"edge\")\n",
    "\n",
    "axs[0,1].set_xscale('log')\n",
    "axs[0,1].xaxis.set_major_formatter(ScalarFormatter(useMathText=True))\n",
    "\n",
    "# Plot histogram stellar mass (bottom right)\n",
    "axs[1, 0].bar(MstarBin_midpoints,\n",
    "       sensitivity_MstarBin,\n",
    "       yerr=detection_uncertainty_MstarBin,\n",
    "       capsize=cs,\n",
    "       width = np.diff(MstarBin),\n",
    "       color=my_colours[3], \n",
    "       alpha=alpha, \n",
    "       edgecolor='black',\n",
    "       align=\"edge\")\n",
    "\n",
    "# Plot histogram stellar mass (bottom right)\n",
    "axs[1, 1].bar(SNBin_midpoints,\n",
    "       sensitivity_SNBin,\n",
    "       yerr=detection_uncertainty_SNBin,\n",
    "       capsize=cs,\n",
    "       width=np.diff(SNBin),\n",
    "       color=my_colours[5], \n",
    "       alpha=alpha, \n",
    "       edgecolor='black',\n",
    "       align=\"edge\")\n",
    "\n",
    "axs[1,1].set_xscale('log')\n",
    "axs[1,1].xaxis.set_major_formatter(ScalarFormatter(useMathText=True))\n",
    "\n",
    "\n",
    "# Axes labels \n",
    "axs[0,0].set_xlabel('Orbital Period, $P$ [years]', fontsize=axis_label_font)\n",
    "axs[0, 1].set_xlabel('Distance, $d$ [pc]', fontsize=axis_label_font)\n",
    "axs[1, 0].set_xlabel('Stellar Mass, $M_*$ [$M_\\odot$]', fontsize=axis_label_font)\n",
    "axs[1, 1].set_xlabel('$S/N$', fontsize=axis_label_font)\n",
    "\n",
    "for i in range(2):\n",
    "    for j in range(2):\n",
    "        axs[i, j].set_ylabel('Detection Fraction', fontsize=axis_label_font)\n",
    "        axs[i, j].tick_params(labelsize=axis_numbers_font, which='major', length=7)\n",
    "        axs[i, j].tick_params(which='minor', length=4)\n",
    "\n",
    "for i in range(1):\n",
    "    for j in range(2):\n",
    "        # Make x-axis lo\n",
    "        \n",
    "        # Make axes not scientific notation\n",
    "        axs[i, j].xaxis.set_major_formatter(ScalarFormatter(useMathText=True))\n",
    "        # axs[i, j].yaxis.set_major_formatter(ScalarFormatter(useMathText=True))\n",
    "\n",
    "# Add (a), (b), (c), (d)\n",
    "axs[0, 0].text(0.03, 0.9, '(a)', transform=axs[0, 0].transAxes, fontsize=axis_label_font)\n",
    "axs[0, 1].text(0.11, 0.9, '(b)', transform=axs[0, 1].transAxes, fontsize=axis_label_font)\n",
    "axs[1, 0].text(0.03, 0.9, '(c)', transform=axs[1, 0].transAxes, fontsize=axis_label_font)\n",
    "axs[1, 1].text(0.03, 0.9, '(d)', transform=axs[1, 1].transAxes, fontsize=axis_label_font)\n",
    "\n",
    "# Adjust layout\n",
    "plt.tight_layout()\n",
    "\n",
    "plt.savefig(path + 'JupiterAnalogDetectionFrac.pdf', dpi=300)"
   ]
  },
  {
   "cell_type": "markdown",
   "id": "9d69fe8b",
   "metadata": {},
   "source": [
    "# Detection Conditions"
   ]
  },
  {
   "cell_type": "code",
   "execution_count": 96,
   "id": "8d9b99b0",
   "metadata": {},
   "outputs": [],
   "source": [
    "# Sample data\n",
    "conditions = ['Condition 1', 'Condition 2', 'Condition 3', 'Condition 4', 'Detection']\n",
    "\n",
    "pass_c1 = np.sum(df['Condition 1'])\n",
    "pass_c2 = np.sum(df['Condition 2'])\n",
    "pass_c3 = np.sum(df['Condition 3'])\n",
    "pass_c4 = np.sum(df['Condition 4'])  \n",
    "pass_det = np.sum(df['Detection'])\n",
    "\n",
    "fail_c1 = len(df['Condition 1']) - pass_c1\n",
    "fail_c2 = len(df['Condition 2']) - pass_c2\n",
    "fail_c3 = len(df['Condition 3']) - pass_c3\n",
    "fail_c4 = len(df['Condition 4']) - pass_c4\n",
    "fail_det = len(df['Detection'])  - pass_det\n",
    "\n",
    "pass_counts = [pass_c1, pass_c2, pass_c3, pass_c4, pass_det]  # Number of signals passing each condition\n",
    "fail_counts = [fail_c1, fail_c2, fail_c3, fail_c4, fail_det]  # Number of signals failing each condition\n",
    "\n",
    "# Calculate total counts (pass + fail) for each condition\n",
    "total_counts = np.array(pass_counts) + np.array(fail_counts)"
   ]
  },
  {
   "cell_type": "code",
   "execution_count": null,
   "id": "5e0dd764",
   "metadata": {},
   "outputs": [],
   "source": [
    "# Plotting\n",
    "fig, ax = plt.subplots(figsize=(12, 6)) \n",
    "\n",
    "# Stacked bar plot\n",
    "ax.bar(conditions, \n",
    "        pass_counts, \n",
    "        color=my_colours[3],\n",
    "        edgecolor='black',\n",
    "        alpha = alpha,\n",
    "        label='Pass')\n",
    "\n",
    "ax.bar(conditions, \n",
    "        fail_counts, \n",
    "        bottom=pass_counts, \n",
    "        color=detection_colours[0], \n",
    "        edgecolor='black',\n",
    "        alpha = alpha,\n",
    "        label='Fail')\n",
    "\n",
    "\n",
    "#ax.set_xlabel('Conditions',fontsize = paper_axis_label_fs)\n",
    "ax.set_ylabel('Number of Signals', fontsize = axis_label_font)\n",
    "\n",
    "# plt.title('Pass/Fail Ratio for Each Condition', fontsize=paper_title_fs)\n",
    "\n",
    "ax.tick_params(labelsize=20, which='major', length=7)\n",
    "ax.tick_params(which='minor', length=4)\n",
    "        \n",
    "\n",
    "plt.legend(fontsize = 15)\n",
    "\n",
    "plt.tight_layout()\n"
   ]
  },
  {
   "cell_type": "markdown",
   "id": "653e84b0",
   "metadata": {},
   "source": [
    "## P "
   ]
  },
  {
   "cell_type": "code",
   "execution_count": 54,
   "id": "c8ca29ec",
   "metadata": {},
   "outputs": [],
   "source": [
    "# cumulative_sensitivity_P = []\n",
    "\n",
    "# # Iterate over each combination of N and n\n",
    "# for n in Pbins:\n",
    "#     # Filter the DataFrame based on the current values of N and n\n",
    "#     filtered_df = filtered_df = df[(inj_period_data > n)]\n",
    "\n",
    "#     # Calculate sensitivity for the filtered DataFrame\n",
    "#     sensitivity = filtered_df['Detection'].mean()  # Assuming detection column contains binary values\n",
    "\n",
    "#     # Print or store the sensitivity along with the current values of N and n\n",
    "#     print(f\"We are sensitive to {sensitivity*100:.2f}% Jupiter analog planets with P>{n} years\")\n",
    "    \n",
    "#     cumulative_sensitivity_P.append(sensitivity)"
   ]
  },
  {
   "cell_type": "code",
   "execution_count": 55,
   "id": "bc771906",
   "metadata": {},
   "outputs": [
    {
     "name": "stdout",
     "output_type": "stream",
     "text": [
      "We are sensitive to 5.24% Jupiter analog planets with P > 0.01 years\n",
      "We are sensitive to 5.38% Jupiter analog planets with P > 0.01438449888287663 years\n",
      "We are sensitive to 5.54% Jupiter analog planets with P > 0.0206913808111479 years\n",
      "We are sensitive to 5.71% Jupiter analog planets with P > 0.029763514416313176 years\n",
      "We are sensitive to 5.88% Jupiter analog planets with P > 0.04281332398719394 years\n",
      "We are sensitive to 6.06% Jupiter analog planets with P > 0.06158482110660264 years\n",
      "We are sensitive to 6.25% Jupiter analog planets with P > 0.08858667904100823 years\n",
      "We are sensitive to 6.44% Jupiter analog planets with P > 0.12742749857031335 years\n",
      "We are sensitive to 6.63% Jupiter analog planets with P > 0.18329807108324356 years\n",
      "We are sensitive to 6.83% Jupiter analog planets with P > 0.26366508987303583 years\n",
      "We are sensitive to 7.02% Jupiter analog planets with P > 0.37926901907322497 years\n",
      "We are sensitive to 7.22% Jupiter analog planets with P > 0.5455594781168517 years\n",
      "We are sensitive to 7.40% Jupiter analog planets with P > 0.7847599703514611 years\n",
      "We are sensitive to 7.60% Jupiter analog planets with P > 1.1288378916846884 years\n",
      "We are sensitive to 7.78% Jupiter analog planets with P > 1.623776739188721 years\n",
      "We are sensitive to 7.91% Jupiter analog planets with P > 2.3357214690901213 years\n",
      "We are sensitive to 8.02% Jupiter analog planets with P > 3.359818286283781 years\n",
      "We are sensitive to 8.08% Jupiter analog planets with P > 4.832930238571752 years\n",
      "We are sensitive to 8.09% Jupiter analog planets with P > 6.951927961775605 years\n"
     ]
    }
   ],
   "source": [
    "cumulative_sensitivity_P = []\n",
    "\n",
    "# Initialize variables to store cumulative detections and planets per bin\n",
    "cumulative_detections = 0\n",
    "cumulative_planets_per_bin = 0\n",
    "\n",
    "# Iterate over each Period bin\n",
    "for i, P in enumerate(Pbins[:-1]):\n",
    "    # Filter the DataFrame based on the current bin's upper limit\n",
    "    filtered_df = df[inj_period_data > P]\n",
    "\n",
    "    # Count the number of detections in the filtered DataFrame\n",
    "    detections_in_bin = filtered_df['Detection'].sum()\n",
    "\n",
    "    # Count the number of planets in the filtered DataFrame\n",
    "    planets_in_bin = len(filtered_df)\n",
    "\n",
    "    # Accumulate detections and planets\n",
    "    cumulative_detections += detections_in_bin\n",
    "    cumulative_planets_per_bin += planets_in_bin\n",
    "\n",
    "    # Calculate cumulative sensitivity\n",
    "    cumulative_sensitivity = cumulative_detections / cumulative_planets_per_bin\n",
    "\n",
    "    # Print or store the cumulative sensitivity along with the current Period bin\n",
    "    print(f\"We are sensitive to {cumulative_sensitivity * 100:.2f}% Jupiter analog planets with P > {P} years\")\n",
    "\n",
    "    cumulative_sensitivity_P.append(cumulative_sensitivity)\n"
   ]
  },
  {
   "cell_type": "code",
   "execution_count": 56,
   "id": "33cafb6a",
   "metadata": {},
   "outputs": [
    {
     "name": "stdout",
     "output_type": "stream",
     "text": [
      "Period range = 0.010 - 0.014, Sensitivity = 0.000\n",
      "Period range = 0.014 - 0.021, Sensitivity = 0.000\n",
      "Period range = 0.021 - 0.030, Sensitivity = 0.000\n",
      "Period range = 0.030 - 0.043, Sensitivity = 0.000\n",
      "Period range = 0.043 - 0.062, Sensitivity = 0.003\n",
      "Period range = 0.062 - 0.089, Sensitivity = 0.000\n",
      "Period range = 0.089 - 0.127, Sensitivity = 0.004\n",
      "Period range = 0.127 - 0.183, Sensitivity = 0.022\n",
      "Period range = 0.183 - 0.264, Sensitivity = 0.017\n",
      "Period range = 0.264 - 0.379, Sensitivity = 0.025\n",
      "Period range = 0.379 - 0.546, Sensitivity = 0.032\n",
      "Period range = 0.546 - 0.785, Sensitivity = 0.072\n",
      "Period range = 0.785 - 1.129, Sensitivity = 0.030\n",
      "Period range = 1.129 - 1.624, Sensitivity = 0.086\n",
      "Period range = 1.624 - 2.336, Sensitivity = 0.130\n",
      "Period range = 2.336 - 3.360, Sensitivity = 0.123\n",
      "Period range = 3.360 - 4.833, Sensitivity = 0.182\n",
      "Period range = 4.833 - 6.952, Sensitivity = 0.148\n",
      "Period range = 6.952 - 10.000, Sensitivity = 0.109\n"
     ]
    }
   ],
   "source": [
    "num_planets_per_P_bin       = np.zeros(num_Pbins)\n",
    "num_detected_Pbin           = np.zeros(num_Pbins)\n",
    "sensitivity_Pbins           = np.zeros(num_Pbins)\n",
    "detection_uncertainty_Pbins = np.zeros(num_Pbins)\n",
    "\n",
    "# Iterate through each Period bin\n",
    "for i, P in enumerate(Pbins[:-1]):\n",
    "        \n",
    "    # Mask to determine if data falls within the current Meriod-mass bin\n",
    "    mask = (inj_period_data >= Pbins[i]) & (inj_period_data < Pbins[i+1])\n",
    "\n",
    "    # Determine the number of detected Mlanets in the current bin\n",
    "    detected = mask & (df['Detection'] == 1)\n",
    "\n",
    "    # Find the number of Mlanets/data Moints in the current bin\n",
    "    num_planets_per_P_bin[i] = mask.sum()\n",
    "\n",
    "    # Find the number of detected Mlanets in the current bin\n",
    "    num_detected_Pbin[i] = detected.sum()\n",
    "\n",
    "    sensitivity_Pbins[i] = num_detected_Pbin[i]/ num_planets_per_P_bin[i]\n",
    "    \n",
    "    print(f\"Period range = {Pbins[i]:.3f} - {Pbins[i+1]:.3f}, Sensitivity = {sensitivity_Pbins[i]:.3f}\")"
   ]
  },
  {
   "cell_type": "code",
   "execution_count": 57,
   "id": "dd622e7d",
   "metadata": {},
   "outputs": [
    {
     "name": "stdout",
     "output_type": "stream",
     "text": [
      "19\n",
      "18\n",
      "19\n"
     ]
    }
   ],
   "source": [
    "print(len(Pbin_midpoints))\n",
    "print(len(cumulative_sensitivity_P[:-1]))\n",
    "print(len(sensitivity_Pbins))"
   ]
  },
  {
   "cell_type": "code",
   "execution_count": 58,
   "id": "49da35ea",
   "metadata": {},
   "outputs": [
    {
     "ename": "NameError",
     "evalue": "name 'n_values_P' is not defined",
     "output_type": "error",
     "traceback": [
      "\u001b[0;31m---------------------------------------------------------------------------\u001b[0m",
      "\u001b[0;31mNameError\u001b[0m                                 Traceback (most recent call last)",
      "\u001b[0;32m/var/folders/p9/hcwv87bd7lxfdw1nmx4wt8d00000gn/T/ipykernel_88888/2878626493.py\u001b[0m in \u001b[0;36m<module>\u001b[0;34m\u001b[0m\n\u001b[1;32m      1\u001b[0m \u001b[0;31m# Convert lists to numpy arrays\u001b[0m\u001b[0;34m\u001b[0m\u001b[0;34m\u001b[0m\u001b[0m\n\u001b[0;32m----> 2\u001b[0;31m \u001b[0mn_values_P\u001b[0m \u001b[0;34m=\u001b[0m \u001b[0mnp\u001b[0m\u001b[0;34m.\u001b[0m\u001b[0marray\u001b[0m\u001b[0;34m(\u001b[0m\u001b[0mn_values_P\u001b[0m\u001b[0;34m)\u001b[0m\u001b[0;34m\u001b[0m\u001b[0;34m\u001b[0m\u001b[0m\n\u001b[0m\u001b[1;32m      3\u001b[0m \u001b[0msensitivity_values_P\u001b[0m \u001b[0;34m=\u001b[0m \u001b[0mnp\u001b[0m\u001b[0;34m.\u001b[0m\u001b[0marray\u001b[0m\u001b[0;34m(\u001b[0m\u001b[0msensitivity_values_P\u001b[0m\u001b[0;34m)\u001b[0m\u001b[0;34m\u001b[0m\u001b[0;34m\u001b[0m\u001b[0m\n\u001b[1;32m      4\u001b[0m \u001b[0;34m\u001b[0m\u001b[0m\n\u001b[1;32m      5\u001b[0m \u001b[0;31m# Plot the sensitivity values as a bar graph\u001b[0m\u001b[0;34m\u001b[0m\u001b[0;34m\u001b[0m\u001b[0m\n",
      "\u001b[0;31mNameError\u001b[0m: name 'n_values_P' is not defined"
     ]
    }
   ],
   "source": [
    "# Convert lists to numpy arrays\n",
    "n_values_P = np.array(n_values_P)\n",
    "sensitivity_values_P = np.array(sensitivity_values_P)\n",
    "\n",
    "# Plot the sensitivity values as a bar graph\n",
    "fig, axs =  plt.subplots(1,1, figsize=(10, 9))\n",
    "\n",
    "axs.bar(Pbins, \n",
    "        sensitivity_values_P, \n",
    "        color='skyblue', \n",
    "        label='Sensitivity',\n",
    "        edgecolor='black',\n",
    "        alpha=0.7)\n",
    "\n",
    "# Plot the sensitivity values as a line plot on top of the bar graph\n",
    "axs.plot(n_values_P, \n",
    "         sensitivity_values_P, \n",
    "         marker='o', \n",
    "         linestyle='-', \n",
    "         color='red', \n",
    "         label='Sensitivity (line)')\n",
    "\n",
    "axs.set_xlabel('Orbital Period [years]', fontsize=axis_label_font)\n",
    "axs.set_ylabel('Detection Fraction', fontsize=axis_label_font)\n",
    "\n",
    "axs.set_xscale('log')\n",
    "\n",
    "\n",
    "# Make axes not scientific notation\n",
    "axs.xaxis.set_major_formatter(ScalarFormatter(useMathText=True))\n",
    "\n",
    "axs.tick_params(labelsize=axis_numbers_font, which='major', length=7)\n",
    "axs.tick_params(which='minor', length=4)\n",
    "\n",
    "# Set axis number size \n",
    "axs.tick_params(labelsize=axis_numbers_font, which='major', length=7)\n",
    "axs.tick_params(which='minor', length=4)\n",
    "\n",
    "\n",
    "# plt.legend()\n",
    "\n",
    "plt.show()"
   ]
  },
  {
   "cell_type": "markdown",
   "id": "3c0a66a0",
   "metadata": {},
   "source": [
    "## Star Mass"
   ]
  },
  {
   "cell_type": "code",
   "execution_count": 59,
   "id": "290de559",
   "metadata": {},
   "outputs": [
    {
     "name": "stdout",
     "output_type": "stream",
     "text": [
      "We are sensitive to 5.37% Jupiter analog planets with Mstar>0.08 Msolar\n",
      "We are sensitive to 6.47% Jupiter analog planets with Mstar>0.16 Msolar\n",
      "We are sensitive to 6.66% Jupiter analog planets with Mstar>0.24 Msolar\n",
      "We are sensitive to 6.93% Jupiter analog planets with Mstar>0.32 Msolar\n",
      "We are sensitive to 7.12% Jupiter analog planets with Mstar>0.40 Msolar\n",
      "We are sensitive to 7.26% Jupiter analog planets with Mstar>0.48 Msolar\n",
      "We are sensitive to 7.08% Jupiter analog planets with Mstar>0.56 Msolar\n",
      "We are sensitive to 6.22% Jupiter analog planets with Mstar>0.64 Msolar\n",
      "We are sensitive to 13.75% Jupiter analog planets with Mstar>0.72 Msolar\n",
      "We are sensitive to nan% Jupiter analog planets with Mstar>0.80 Msolar\n"
     ]
    }
   ],
   "source": [
    "n_values_Mstar = np.linspace(0.08, 0.8, num=10)\n",
    "sensitivity_values_Mstar = []\n",
    "\n",
    "# Iterate over each combination of N and n\n",
    "for n in n_values_Mstar:\n",
    "    # Filter the DataFrame based on the current values of N and n\n",
    "    filtered_df = filtered_df = df[(df['Stellar Mass'] > n)]\n",
    "\n",
    "    # Calculate sensitivity for the filtered DataFrame\n",
    "    sensitivity = filtered_df['Detection'].mean()  # Assuming detection column contains binary values\n",
    "\n",
    "    # Print or store the sensitivity along with the current values of N and n\n",
    "    print(f\"We are sensitive to {sensitivity*100:.2f}% Jupiter analog planets with Mstar>{n:.2f} Msolar\")\n",
    "    \n",
    "    sensitivity_values_Mstar.append(sensitivity)"
   ]
  },
  {
   "cell_type": "code",
   "execution_count": 60,
   "id": "bc685b68",
   "metadata": {},
   "outputs": [
    {
     "data": {
      "image/png": "[encoded data removed]",
      "text/plain": [
       "<Figure size 720x648 with 1 Axes>"
      ]
     },
     "metadata": {
      "needs_background": "light"
     },
     "output_type": "display_data"
    }
   ],
   "source": [
    "# Convert lists to numpy arrays\n",
    "n_values_Mstar = np.array(n_values_Mstar)\n",
    "sensitivity_values_Mstar = np.array(sensitivity_values_Mstar)\n",
    "\n",
    "bin_width_Mstar = (n_values_Mstar.max() - n_values_Mstar.min()) / len(n_values_Mstar)\n",
    "\n",
    "# Plot the sensitivity values as a bar graph\n",
    "fig, axs =  plt.subplots(1,1, figsize=(10, 9))\n",
    "\n",
    "plt.bar(n_values_Mstar, \n",
    "        sensitivity_values_Mstar, \n",
    "        color='skyblue', \n",
    "        label='Sensitivity',\n",
    "        width=bin_width_Mstar,\n",
    "        edgecolor='black',\n",
    "        alpha=0.7)\n",
    "\n",
    "# Plot the sensitivity values as a line plot on top of the bar graph\n",
    "plt.plot(n_values_Mstar, \n",
    "         sensitivity_values_Mstar, \n",
    "         marker='o', \n",
    "         linestyle='-', \n",
    "         color='red', \n",
    "         label='Sensitivity (line)')\n",
    "\n",
    "plt.xlabel('Stellar Mass [$M_\\odot$]', fontsize=axis_label_font)\n",
    "plt.ylabel('Detection Fraction', fontsize=axis_label_font)\n",
    "\n",
    "axs.tick_params(labelsize=axis_numbers_font, which='major', length=7)\n",
    "axs.tick_params(which='minor', length=4)\n",
    "\n",
    "# Set axis number size \n",
    "axs.tick_params(labelsize=axis_numbers_font, which='major', length=7)\n",
    "axs.tick_params(which='minor', length=4)\n",
    "\n",
    "plt.show()\n"
   ]
  },
  {
   "cell_type": "markdown",
   "id": "61ca9c7b",
   "metadata": {},
   "source": [
    "## $S/N$"
   ]
  },
  {
   "cell_type": "code",
   "execution_count": 61,
   "id": "e0560b4b",
   "metadata": {},
   "outputs": [
    {
     "name": "stdout",
     "output_type": "stream",
     "text": [
      "Min =  0.0143129444470995\n",
      "Max =  29.755899859193168\n"
     ]
    }
   ],
   "source": [
    "print('Min = ', df['S/N'].min())\n",
    "print('Max = ', df['S/N'].max())"
   ]
  },
  {
   "cell_type": "code",
   "execution_count": 62,
   "id": "a1c9541c",
   "metadata": {},
   "outputs": [
    {
     "ename": "NameError",
     "evalue": "name 'n_values_SN' is not defined",
     "output_type": "error",
     "traceback": [
      "\u001b[0;31m---------------------------------------------------------------------------\u001b[0m",
      "\u001b[0;31mNameError\u001b[0m                                 Traceback (most recent call last)",
      "\u001b[0;32m/var/folders/p9/hcwv87bd7lxfdw1nmx4wt8d00000gn/T/ipykernel_88888/3159500032.py\u001b[0m in \u001b[0;36m<module>\u001b[0;34m\u001b[0m\n\u001b[0;32m----> 1\u001b[0;31m \u001b[0mn_values_SN\u001b[0m\u001b[0;34m\u001b[0m\u001b[0;34m\u001b[0m\u001b[0m\n\u001b[0m",
      "\u001b[0;31mNameError\u001b[0m: name 'n_values_SN' is not defined"
     ]
    }
   ],
   "source": [
    "n_values_SN"
   ]
  },
  {
   "cell_type": "code",
   "execution_count": 63,
   "id": "531a3165",
   "metadata": {},
   "outputs": [
    {
     "name": "stdout",
     "output_type": "stream",
     "text": [
      "We are sensitive to 5.45% Jupiter analog planets with S/N>0.01 \n",
      "We are sensitive to 55.56% Jupiter analog planets with S/N>3.35 \n",
      "We are sensitive to 65.38% Jupiter analog planets with S/N>6.68 \n",
      "We are sensitive to 77.78% Jupiter analog planets with S/N>10.01 \n",
      "We are sensitive to 100.00% Jupiter analog planets with S/N>13.34 \n",
      "We are sensitive to 100.00% Jupiter analog planets with S/N>16.67 \n",
      "We are sensitive to 100.00% Jupiter analog planets with S/N>20.00 \n",
      "We are sensitive to 100.00% Jupiter analog planets with S/N>23.34 \n",
      "We are sensitive to 100.00% Jupiter analog planets with S/N>26.67 \n",
      "We are sensitive to nan% Jupiter analog planets with S/N>30.00 \n"
     ]
    }
   ],
   "source": [
    "n_values_SN = np.linspace(df['S/N'].min(), 30, num=10)\n",
    "sensitivity_values_SN = []\n",
    "\n",
    "# Iterate over each combination of N and n\n",
    "for n in n_values_SN:\n",
    "    # Filter the DataFrame based on the current values of N and n\n",
    "    filtered_df = filtered_df = df[(df['S/N'] > n)]\n",
    "\n",
    "    # Calculate sensitivity for the filtered DataFrame\n",
    "    sensitivity = filtered_df['Detection'].mean()  # Assuming detection column contains binary values\n",
    "\n",
    "    # Print or store the sensitivity along with the current values of N and n\n",
    "    print(f\"We are sensitive to {sensitivity*100:.2f}% Jupiter analog planets with S/N>{n:.2f} \")\n",
    "    \n",
    "    sensitivity_values_SN.append(sensitivity)"
   ]
  },
  {
   "cell_type": "code",
   "execution_count": 64,
   "id": "768cfd58",
   "metadata": {},
   "outputs": [
    {
     "data": {
      "image/png": "[encoded data removed]",
      "text/plain": [
       "<Figure size 720x648 with 1 Axes>"
      ]
     },
     "metadata": {
      "needs_background": "light"
     },
     "output_type": "display_data"
    }
   ],
   "source": [
    "# Convert lists to numpy arrays\n",
    "n_values_SN = np.array(n_values_SN)\n",
    "sensitivity_values_SN = np.array(sensitivity_values_SN)\n",
    "\n",
    "bin_width_SN = (n_values_SN.max() - n_values_SN.min()) / len(n_values_SN)\n",
    "\n",
    "# Plot the sensitivity values as a bar graph\n",
    "fig, axs =  plt.subplots(1,1, figsize=(10, 9))\n",
    "\n",
    "plt.bar(n_values_SN, \n",
    "        sensitivity_values_SN, \n",
    "        color='skyblue', \n",
    "        label='Sensitivity',\n",
    "        width=bin_width_SN,\n",
    "        edgecolor='black',\n",
    "        alpha=0.7)\n",
    "\n",
    "# Plot the sensitivity values as a line plot on top of the bar graph\n",
    "plt.plot(n_values_SN, \n",
    "         sensitivity_values_SN, \n",
    "         marker='o', \n",
    "         linestyle='-', \n",
    "         color='red', \n",
    "         label='Sensitivity (line)')\n",
    "\n",
    "plt.xlabel('$S/N$', fontsize=axis_label_font)\n",
    "plt.ylabel('Detection Fraction', fontsize=axis_label_font)\n",
    "\n",
    "axs.tick_params(labelsize=axis_numbers_font, which='major', length=7)\n",
    "axs.tick_params(which='minor', length=4)\n",
    "\n",
    "# Set axis number size \n",
    "axs.tick_params(labelsize=axis_numbers_font, which='major', length=7)\n",
    "axs.tick_params(which='minor', length=4)\n",
    "\n",
    "plt.show()\n"
   ]
  },
  {
   "cell_type": "markdown",
   "id": "6901365d",
   "metadata": {},
   "source": [
    "## Distance"
   ]
  },
  {
   "cell_type": "code",
   "execution_count": 65,
   "id": "3aafb1b3",
   "metadata": {},
   "outputs": [
    {
     "name": "stdout",
     "output_type": "stream",
     "text": [
      "Min =  5.620149134079134\n",
      "Max =  99.9925758150458\n"
     ]
    }
   ],
   "source": [
    "print('Min = ', df['Distance'].min())\n",
    "print('Max = ', df['Distance'].max())"
   ]
  },
  {
   "cell_type": "code",
   "execution_count": 66,
   "id": "202dc877",
   "metadata": {},
   "outputs": [
    {
     "name": "stdout",
     "output_type": "stream",
     "text": [
      "We are sensitive to 5.24% Jupiter analog planets with Distance>0.00 pc\n",
      "We are sensitive to 5.21% Jupiter analog planets with Distance>11.11 pc\n",
      "We are sensitive to 4.97% Jupiter analog planets with Distance>22.22 pc\n",
      "We are sensitive to 4.53% Jupiter analog planets with Distance>33.33 pc\n",
      "We are sensitive to 4.09% Jupiter analog planets with Distance>44.44 pc\n",
      "We are sensitive to 3.63% Jupiter analog planets with Distance>55.56 pc\n",
      "We are sensitive to 2.92% Jupiter analog planets with Distance>66.67 pc\n",
      "We are sensitive to 2.46% Jupiter analog planets with Distance>77.78 pc\n",
      "We are sensitive to 2.02% Jupiter analog planets with Distance>88.89 pc\n",
      "We are sensitive to nan% Jupiter analog planets with Distance>100.00 pc\n"
     ]
    }
   ],
   "source": [
    "n_values_Distance = np.linspace(0, 100, num=10)\n",
    "sensitivity_values_Distance = []\n",
    "\n",
    "# Iterate over each combination of N and n\n",
    "for n in n_values_Distance:\n",
    "    # Filter the DataFrame based on the current values of N and n\n",
    "    filtered_df = filtered_df = df[(df['Distance'] > n)]\n",
    "\n",
    "    # Calculate sensitivity for the filtered DataFrame\n",
    "    sensitivity = filtered_df['Detection'].mean()  # Assuming detection column contains binary values\n",
    "\n",
    "    # Print or store the sensitivity along with the current values of N and n\n",
    "    print(f\"We are sensitive to {sensitivity*100:.2f}% Jupiter analog planets with Distance>{n:.2f} pc\")\n",
    "    \n",
    "    sensitivity_values_Distance.append(sensitivity)"
   ]
  },
  {
   "cell_type": "code",
   "execution_count": null,
   "id": "aa788d70",
   "metadata": {},
   "outputs": [],
   "source": []
  },
  {
   "cell_type": "code",
   "execution_count": null,
   "id": "2537264e",
   "metadata": {},
   "outputs": [],
   "source": []
  }
 ],
 "metadata": {
  "kernelspec": {
   "display_name": "Python 3 (ipykernel)",
   "language": "python",
   "name": "python3"
  },
  "language_info": {
   "codemirror_mode": {
    "name": "ipython",
    "version": 3
   },
   "file_extension": ".py",
   "mimetype": "text/x-python",
   "name": "python",
   "nbconvert_exporter": "python",
   "pygments_lexer": "ipython3",
   "version": "3.9.7"
  },
  "varInspector": {
   "cols": {
    "lenName": 16,
    "lenType": 16,
    "lenVar": 40
   },
   "kernels_config": {
    "python": {
     "delete_cmd_postfix": "",
     "delete_cmd_prefix": "del ",
     "library": "var_list.py",
     "varRefreshCmd": "print(var_dic_list())"
    },
    "r": {
     "delete_cmd_postfix": ") ",
     "delete_cmd_prefix": "rm(",
     "library": "var_list.r",
     "varRefreshCmd": "cat(var_dic_list()) "
    }
   },
   "types_to_exclude": [
    "module",
    "function",
    "builtin_function_or_method",
    "instance",
    "_Feature"
   ],
   "window_display": false
  }
 },
 "nbformat": 4,
 "nbformat_minor": 5
}
