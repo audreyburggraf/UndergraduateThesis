{
 "cells": [
  {
   "cell_type": "code",
   "execution_count": 138,
   "id": "1293611c",
   "metadata": {
    "code_folding": []
   },
   "outputs": [],
   "source": [
    "# Importing things \n",
    "import numpy as np\n",
    "import pandas as pd \n",
    "import seaborn as sns\n",
    "\n",
    "import matplotlib.pyplot as plt\n",
    "\n",
    "import matplotlib.patches as mpatches\n",
    "\n",
    "import matplotlib.ticker as mticker\n",
    "from matplotlib.ticker import (MultipleLocator, AutoMinorLocator)\n",
    "from matplotlib.ticker import ScalarFormatter\n",
    "\n",
    "import matplotlib.colors as colors\n",
    "from matplotlib.colors import ListedColormap\n",
    "from matplotlib.colors import LogNorm\n",
    "from matplotlib.colors import Normalize\n",
    "\n",
    "from scipy.ndimage import gaussian_filter\n",
    "\n",
    "from matplotlib.gridspec import GridSpec"
   ]
  },
  {
   "cell_type": "markdown",
   "id": "331dcc32",
   "metadata": {},
   "source": [
    "## Plotting preferences"
   ]
  },
  {
   "cell_type": "code",
   "execution_count": 146,
   "id": "33b3f707",
   "metadata": {},
   "outputs": [],
   "source": [
    "# Font sizes\n",
    "axis_label_font = 30\n",
    "axis_numbers_font = 25\n",
    "title_font = 50\n",
    "legend_font = 50\n",
    "\n",
    "detection_colours = sns.color_palette(\"hls\", 4)\n",
    "dark_colours = sns.color_palette(\"viridis\", 8)\n",
    "my_colours = sns.color_palette(\"husl\", 8)\n",
    "\n",
    "cmap_reds = ListedColormap(plt.cm.get_cmap('Reds', 10)(np.arange(10)))\n",
    "cmap_greens = ListedColormap(plt.cm.get_cmap('Greens', 10)(np.arange(10)))\n",
    "cmap_purples = ListedColormap(plt.cm.get_cmap('Purples', 10)(np.arange(10)))\n",
    "\n",
    "alpha = 0.7\n",
    "\n",
    "path = '/Users/audreyburggraf/Desktop/THESIS/Figures/'"
   ]
  },
  {
   "cell_type": "markdown",
   "id": "bf6f5123",
   "metadata": {},
   "source": [
    "## Full Data "
   ]
  },
  {
   "cell_type": "code",
   "execution_count": 148,
   "id": "63b014f6",
   "metadata": {},
   "outputs": [],
   "source": [
    "df_full = pd.read_csv('/Users/audreyburggraf/Desktop/THESIS/Data Files/bigrun_10000_after_changes.csv')\n",
    "\n",
    "df_full['m_p'] = 10**df_full['Inj.1P log(m_p)']"
   ]
  },
  {
   "cell_type": "code",
   "execution_count": 149,
   "id": "eedcc00d",
   "metadata": {},
   "outputs": [
    {
     "data": {
      "text/plain": [
       "6610"
      ]
     },
     "execution_count": 149,
     "metadata": {},
     "output_type": "execute_result"
    }
   ],
   "source": [
    "df_full_max_row_index = df['S/N'].idxmax()\n",
    "df_full_max_row_index"
   ]
  },
  {
   "cell_type": "code",
   "execution_count": 162,
   "id": "cb4fdf7c",
   "metadata": {},
   "outputs": [
    {
     "data": {
      "text/plain": [
       "Index(['Inj.0P alpha0', 'Inj.0P delta0', 'Inj.0P pmra', 'Inj.0P pmdec',\n",
       "       'Inj.0P prlx', 'Inj.1P alpha0', 'Inj.1P delta0', 'Inj.1P pmra',\n",
       "       'Inj.1P pmdec', 'Inj.1P prlx', 'Inj.1P e', 'Inj.1P omega',\n",
       "       'Inj.1P Omega', 'Inj.1P cosi', 'Inj.1P log(m_p)', 'Inj.1P log(P)',\n",
       "       'Inj.1P tp', 'Rec.0P alpha0', 'Rec.0P delta0', 'Rec.0P pmra',\n",
       "       'Rec.0P pmdec', 'Rec0P prlx', 'Rec.1P alpha0', 'Rec.1P delta0',\n",
       "       'Rec.1P pmra', 'Rec.1P pmdec', 'Rec.1P prlx', 'Rec.1P e',\n",
       "       'Rec.1P omega', 'Rec.1P Omega', 'Rec.1P cosi', 'Rec.1P log(m_p)',\n",
       "       'Rec.1P log(P)', 'Rec.1P tp', 'np_chi_sq', 'wp_chi_sq', 'npBIC',\n",
       "       'wpBIC', 'DeltaBIC', 'Condition 1', 'Condition 2', 'Condition 3',\n",
       "       'Condition 4', 'Detection', 'Astrometric Signature', 'Stellar Mass',\n",
       "       'Scaling Factor', 'Distance', 'Semi-Major Axis', 'Sigma fov', 'Noise',\n",
       "       'S/N', 'm_p'],\n",
       "      dtype='object')"
      ]
     },
     "execution_count": 162,
     "metadata": {},
     "output_type": "execute_result"
    }
   ],
   "source": [
    "df_full.columns"
   ]
  },
  {
   "cell_type": "code",
   "execution_count": 166,
   "id": "b8349acb",
   "metadata": {},
   "outputs": [
    {
     "name": "stdout",
     "output_type": "stream",
     "text": [
      "Planetary mass =  5.054293867181126 Jupiter masses\n",
      "Orbital Period =  0.21462194770719747 years\n",
      "Detection      =  1\n"
     ]
    }
   ],
   "source": [
    "print('Planetary mass = ', 10**df.loc[df_full_max_row_index, 'Inj.1P log(m_p)'], 'Jupiter masses')\n",
    "print('Orbital Period = ', 10**df.loc[df_full_max_row_index, 'Inj.1P log(P)'], 'years')\n",
    "print('Detection      = ', df.loc[df_full_max_row_index, 'Detection'])"
   ]
  },
  {
   "cell_type": "markdown",
   "id": "415c8d67",
   "metadata": {},
   "source": [
    "# Jupiter Analog"
   ]
  },
  {
   "cell_type": "code",
   "execution_count": 152,
   "id": "f53bbdfc",
   "metadata": {},
   "outputs": [],
   "source": [
    "# cut off certain range \n",
    "df_analog = df_full[(0.3 <= df_full.m_p) & (df_full.m_p <= 3)].reset_index(drop=True)"
   ]
  },
  {
   "cell_type": "code",
   "execution_count": 157,
   "id": "bf482341",
   "metadata": {},
   "outputs": [
    {
     "data": {
      "text/plain": [
       "1408"
      ]
     },
     "execution_count": 157,
     "metadata": {},
     "output_type": "execute_result"
    }
   ],
   "source": [
    "df_analog_max_row_index = df_analog['S/N'].idxmax()\n",
    "df_analog_max_row_index"
   ]
  },
  {
   "cell_type": "code",
   "execution_count": null,
   "id": "fa578977",
   "metadata": {},
   "outputs": [],
   "source": [
    "print('Planetary mass = ', 10**df.loc[df_full_max_row_index, 'Inj.1P log(m_p)'], 'Jupiter masses')\n",
    "print('Orbital Period = ', 10**df.loc[df_full_max_row_index, 'Inj.1P log(P)'], 'years')\n",
    "print('Detection      = ', df.loc[df_full_max_row_index, 'Detection'])"
   ]
  },
  {
   "cell_type": "markdown",
   "id": "bdee6976",
   "metadata": {},
   "source": [
    "# Jupiter mass"
   ]
  },
  {
   "cell_type": "code",
   "execution_count": 158,
   "id": "618df9db",
   "metadata": {},
   "outputs": [],
   "source": [
    "# cut off certain range \n",
    "df_MJ = df_full[(0.9 <= df_full.m_p) & (df_full.m_p <= 1.1)].reset_index(drop=True)"
   ]
  },
  {
   "cell_type": "code",
   "execution_count": 159,
   "id": "c9be7ea4",
   "metadata": {},
   "outputs": [
    {
     "data": {
      "text/plain": [
       "524"
      ]
     },
     "execution_count": 159,
     "metadata": {},
     "output_type": "execute_result"
    }
   ],
   "source": [
    "df_MJ_max_row_index = df_MJ['S/N'].idxmax()\n",
    "df_MJ_max_row_index"
   ]
  },
  {
   "cell_type": "code",
   "execution_count": 167,
   "id": "6fc1af11",
   "metadata": {},
   "outputs": [
    {
     "name": "stdout",
     "output_type": "stream",
     "text": [
      "Planetary mass =  0.9352350673106157 Jupiter masses\n",
      "Orbital Period =  1.3310571871649695 years\n",
      "Detection      =  0\n"
     ]
    }
   ],
   "source": [
    "print('Planetary mass = ', 10**df_MJ.loc[df_MJ_max_row_index, 'Inj.1P log(m_p)'], 'Jupiter masses')\n",
    "print('Orbital Period = ', 10**df_MJ.loc[df_MJ_max_row_index, 'Inj.1P log(P)'], 'years')\n",
    "print('Detection      = ', df_MJ.loc[df_MJ_max_row_index, 'Detection'])"
   ]
  },
  {
   "cell_type": "code",
   "execution_count": null,
   "id": "1a7f7d8e",
   "metadata": {},
   "outputs": [],
   "source": []
  }
 ],
 "metadata": {
  "kernelspec": {
   "display_name": "Python 3 (ipykernel)",
   "language": "python",
   "name": "python3"
  },
  "language_info": {
   "codemirror_mode": {
    "name": "ipython",
    "version": 3
   },
   "file_extension": ".py",
   "mimetype": "text/x-python",
   "name": "python",
   "nbconvert_exporter": "python",
   "pygments_lexer": "ipython3",
   "version": "3.9.7"
  },
  "varInspector": {
   "cols": {
    "lenName": 16,
    "lenType": 16,
    "lenVar": 40
   },
   "kernels_config": {
    "python": {
     "delete_cmd_postfix": "",
     "delete_cmd_prefix": "del ",
     "library": "var_list.py",
     "varRefreshCmd": "print(var_dic_list())"
    },
    "r": {
     "delete_cmd_postfix": ") ",
     "delete_cmd_prefix": "rm(",
     "library": "var_list.r",
     "varRefreshCmd": "cat(var_dic_list()) "
    }
   },
   "types_to_exclude": [
    "module",
    "function",
    "builtin_function_or_method",
    "instance",
    "_Feature"
   ],
   "window_display": false
  }
 },
 "nbformat": 4,
 "nbformat_minor": 5
}
