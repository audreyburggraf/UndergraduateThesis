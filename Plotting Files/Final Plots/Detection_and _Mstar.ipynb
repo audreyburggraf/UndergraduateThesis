{
 "cells": [
  {
   "cell_type": "markdown",
   "id": "331dcc32",
   "metadata": {},
   "source": [
    "## Plotting preferences"
   ]
  },
  {
   "cell_type": "code",
   "execution_count": 13,
   "id": "2dac89c6",
   "metadata": {},
   "outputs": [],
   "source": [
    "# Importing things \n",
    "import numpy as np\n",
    "import pandas as pd \n",
    "import seaborn as sns\n",
    "\n",
    "import matplotlib.pyplot as plt\n",
    "\n",
    "import matplotlib.patches as mpatches\n",
    "\n",
    "import matplotlib.ticker as mticker\n",
    "from matplotlib.ticker import (MultipleLocator, AutoMinorLocator)\n",
    "from matplotlib.ticker import ScalarFormatter\n",
    "\n",
    "import matplotlib.colors as colors\n",
    "from matplotlib.colors import ListedColormap\n",
    "from matplotlib.colors import LogNorm\n",
    "from matplotlib.colors import Normalize\n",
    "\n",
    "from scipy.ndimage import gaussian_filter\n",
    "\n",
    "from matplotlib.gridspec import GridSpec"
   ]
  },
  {
   "cell_type": "code",
   "execution_count": 14,
   "id": "a758abcd",
   "metadata": {},
   "outputs": [],
   "source": [
    "# Font sizes\n",
    "axis_label_font = 30\n",
    "axis_numbers_font = 25\n",
    "title_font = 50\n",
    "legend_font = 25\n",
    "\n",
    "detection_colours = sns.color_palette(\"hls\", 4)\n",
    "dark_colours = sns.color_palette(\"viridis\", 8)\n",
    "my_colours = sns.color_palette(\"husl\", 8)\n",
    "\n",
    "cmap_reds = ListedColormap(plt.cm.get_cmap('Reds', 10)(np.arange(10)))\n",
    "cmap_greens = ListedColormap(plt.cm.get_cmap('Greens', 10)(np.arange(10)))\n",
    "cmap_purples = ListedColormap(plt.cm.get_cmap('Purples', 10)(np.arange(10)))\n",
    "\n",
    "alpha = 0.7\n",
    "\n",
    "path = '/Users/audreyburggraf/Desktop/THESIS/Figures/'"
   ]
  },
  {
   "cell_type": "markdown",
   "id": "bf6f5123",
   "metadata": {},
   "source": [
    "## Data "
   ]
  },
  {
   "cell_type": "code",
   "execution_count": 15,
   "id": "e5b1da1f",
   "metadata": {},
   "outputs": [],
   "source": [
    "# Importing data file \n",
    "df = pd.read_csv('/Users/audreyburggraf/Desktop/THESIS/Data Files/bigrun_10000_after_changes.csv')"
   ]
  },
  {
   "cell_type": "markdown",
   "id": "afaef173",
   "metadata": {},
   "source": [
    "## Stellar Mass $M_*$"
   ]
  },
  {
   "cell_type": "code",
   "execution_count": 16,
   "id": "ea1e003d",
   "metadata": {},
   "outputs": [
    {
     "name": "stdout",
     "output_type": "stream",
     "text": [
      "Min:  0.0735588461744077\n",
      "Max:  0.7436028289014885\n"
     ]
    }
   ],
   "source": [
    "print('Min: ', df['Stellar Mass'].min())\n",
    "print('Max: ', df['Stellar Mass'].max())"
   ]
  },
  {
   "cell_type": "code",
   "execution_count": 17,
   "id": "8389ee33",
   "metadata": {},
   "outputs": [],
   "source": [
    "MstarBin = np.linspace(0.07, 0.8, 20) \n",
    "num_MstarBin = len(MstarBin) - 1\n",
    "MstarBin_midpoints = (MstarBin[:-1] + MstarBin[1:]) / 2"
   ]
  },
  {
   "cell_type": "code",
   "execution_count": 18,
   "id": "c1b4a1e5",
   "metadata": {},
   "outputs": [
    {
     "name": "stdout",
     "output_type": "stream",
     "text": [
      "Period range = 0.070, Sensitivity = 0.154\n",
      "Period range = 0.108, Sensitivity = 0.169\n",
      "Period range = 0.147, Sensitivity = 0.178\n",
      "Period range = 0.185, Sensitivity = 0.182\n",
      "Period range = 0.224, Sensitivity = 0.185\n",
      "Period range = 0.262, Sensitivity = 0.186\n",
      "Period range = 0.301, Sensitivity = 0.191\n",
      "Period range = 0.339, Sensitivity = 0.192\n",
      "Period range = 0.377, Sensitivity = 0.195\n",
      "Period range = 0.416, Sensitivity = 0.201\n",
      "Period range = 0.454, Sensitivity = 0.201\n",
      "Period range = 0.493, Sensitivity = 0.206\n",
      "Period range = 0.531, Sensitivity = 0.206\n",
      "Period range = 0.569, Sensitivity = 0.195\n",
      "Period range = 0.608, Sensitivity = 0.196\n",
      "Period range = 0.646, Sensitivity = 0.199\n",
      "Period range = 0.685, Sensitivity = 0.204\n",
      "Period range = 0.723, Sensitivity = 0.258\n",
      "Period range = 0.762, Sensitivity = nan\n"
     ]
    },
    {
     "name": "stderr",
     "output_type": "stream",
     "text": [
      "/var/folders/p9/hcwv87bd7lxfdw1nmx4wt8d00000gn/T/ipykernel_94752/808180361.py:21: RuntimeWarning: invalid value encountered in double_scalars\n",
      "  sensitivity_MstarBin[i] = num_detected_MstarBin[i]/ num_planets_per_MstarBin[i]\n",
      "/var/folders/p9/hcwv87bd7lxfdw1nmx4wt8d00000gn/T/ipykernel_94752/808180361.py:22: RuntimeWarning: invalid value encountered in double_scalars\n",
      "  detection_uncertainty_MstarBin[i] = np.sqrt(num_detected_MstarBin[i])/ num_planets_per_MstarBin[i]\n"
     ]
    }
   ],
   "source": [
    "num_planets_per_MstarBin       = np.zeros(num_MstarBin)\n",
    "num_detected_MstarBin         = np.zeros(num_MstarBin)\n",
    "sensitivity_MstarBin          = np.zeros(num_MstarBin)\n",
    "detection_uncertainty_MstarBin = np.zeros(num_MstarBin)\n",
    "\n",
    "# Iterate through each Period bin\n",
    "for i, M in enumerate(MstarBin[:-1]):\n",
    "        \n",
    "    # Mask to determine if data falls within the current Meriod-mass bin\n",
    "    mask = (df['Stellar Mass'] >= MstarBin[i]) \n",
    "\n",
    "    # Determine the number of detected Mlanets in the current bin\n",
    "    detected = mask & (df['Detection'] == 1)\n",
    "\n",
    "    # Find the number of Mlanets/data Moints in the current bin\n",
    "    num_planets_per_MstarBin[i] = mask.sum()\n",
    "\n",
    "    # Find the number of detected Mlanets in the current bin\n",
    "    num_detected_MstarBin[i] = detected.sum()\n",
    "\n",
    "    sensitivity_MstarBin[i] = num_detected_MstarBin[i]/ num_planets_per_MstarBin[i]\n",
    "    detection_uncertainty_MstarBin[i] = np.sqrt(num_detected_MstarBin[i])/ num_planets_per_MstarBin[i]\n",
    "    \n",
    "    print(f\"Period range = {MstarBin[i]:.3f}, Sensitivity = {sensitivity_MstarBin[i]:.3f}\")"
   ]
  },
  {
   "cell_type": "code",
   "execution_count": 19,
   "id": "590f02ea",
   "metadata": {},
   "outputs": [
    {
     "name": "stdout",
     "output_type": "stream",
     "text": [
      "Period range = 0.070 - 0.108, Sensitivity = 0.051\n",
      "Period range = 0.108 - 0.147, Sensitivity = 0.107\n",
      "Period range = 0.147 - 0.185, Sensitivity = 0.151\n",
      "Period range = 0.185 - 0.224, Sensitivity = 0.162\n",
      "Period range = 0.224 - 0.262, Sensitivity = 0.179\n",
      "Period range = 0.262 - 0.301, Sensitivity = 0.158\n",
      "Period range = 0.301 - 0.339, Sensitivity = 0.182\n",
      "Period range = 0.339 - 0.377, Sensitivity = 0.172\n",
      "Period range = 0.377 - 0.416, Sensitivity = 0.165\n",
      "Period range = 0.416 - 0.454, Sensitivity = 0.197\n",
      "Period range = 0.454 - 0.493, Sensitivity = 0.177\n",
      "Period range = 0.493 - 0.531, Sensitivity = 0.203\n",
      "Period range = 0.531 - 0.569, Sensitivity = 0.255\n",
      "Period range = 0.569 - 0.608, Sensitivity = 0.192\n",
      "Period range = 0.608 - 0.646, Sensitivity = 0.191\n",
      "Period range = 0.646 - 0.685, Sensitivity = 0.191\n",
      "Period range = 0.685 - 0.723, Sensitivity = 0.182\n",
      "Period range = 0.723 - 0.762, Sensitivity = 0.258\n",
      "Period range = 0.762 - 0.800, Sensitivity = nan\n"
     ]
    },
    {
     "name": "stderr",
     "output_type": "stream",
     "text": [
      "/var/folders/p9/hcwv87bd7lxfdw1nmx4wt8d00000gn/T/ipykernel_94752/4133633892.py:21: RuntimeWarning: invalid value encountered in double_scalars\n",
      "  sensitivity_MstarBin[i] = num_detected_MstarBin[i]/ num_planets_per_MstarBin[i]\n",
      "/var/folders/p9/hcwv87bd7lxfdw1nmx4wt8d00000gn/T/ipykernel_94752/4133633892.py:22: RuntimeWarning: invalid value encountered in double_scalars\n",
      "  detection_uncertainty_MstarBin[i] = np.sqrt(num_detected_MstarBin[i])/ num_planets_per_MstarBin[i]\n"
     ]
    }
   ],
   "source": [
    "num_planets_per_MstarBin       = np.zeros(num_MstarBin)\n",
    "num_detected_MstarBin         = np.zeros(num_MstarBin)\n",
    "sensitivity_MstarBin          = np.zeros(num_MstarBin)\n",
    "detection_uncertainty_MstarBin = np.zeros(num_MstarBin)\n",
    "\n",
    "# Iterate through each Period bin\n",
    "for i, M in enumerate(MstarBin[:-1]):\n",
    "        \n",
    "    # Mask to determine if data falls within the current Meriod-mass bin\n",
    "    mask = (df['Stellar Mass'] >= MstarBin[i]) & (df['Stellar Mass'] < MstarBin[i+1])\n",
    "\n",
    "    # Determine the number of detected Mlanets in the current bin\n",
    "    detected = mask & (df['Detection'] == 1)\n",
    "\n",
    "    # Find the number of Mlanets/data Moints in the current bin\n",
    "    num_planets_per_MstarBin[i] = mask.sum()\n",
    "\n",
    "    # Find the number of detected Mlanets in the current bin\n",
    "    num_detected_MstarBin[i] = detected.sum()\n",
    "\n",
    "    sensitivity_MstarBin[i] = num_detected_MstarBin[i]/ num_planets_per_MstarBin[i]\n",
    "    detection_uncertainty_MstarBin[i] = np.sqrt(num_detected_MstarBin[i])/ num_planets_per_MstarBin[i]\n",
    "    \n",
    "    print(f\"Period range = {MstarBin[i]:.3f} - {MstarBin[i+1]:.3f}, Sensitivity = {sensitivity_MstarBin[i]:.3f}\")"
   ]
  },
  {
   "cell_type": "code",
   "execution_count": 39,
   "id": "d8008622",
   "metadata": {},
   "outputs": [
    {
     "data": {
      "image/png": "[encoded data removed]",
      "text/plain": [
       "<Figure size 936x720 with 1 Axes>"
      ]
     },
     "metadata": {
      "needs_background": "light"
     },
     "output_type": "display_data"
    }
   ],
   "source": [
    "# Create a figure and axes\n",
    "fig, ax = plt.subplots(figsize=(13, 10))\n",
    "\n",
    "# Plot the sensitivity values as a bar graph\n",
    "\n",
    "ax.bar(MstarBin_midpoints,\n",
    "       sensitivity_MstarBin,\n",
    "       yerr=detection_uncertainty_MstarBin,\n",
    "       capsize=5,\n",
    "       width = np.diff(MstarBin),\n",
    "       color=my_colours[3], \n",
    "       alpha=alpha, \n",
    "       edgecolor='black',\n",
    "       align=\"edge\",\n",
    "       label='Sensitivity in Each P Bin')\n",
    "\n",
    "\n",
    "# Axes labels \n",
    "ax.set_xlabel('Stellar Mass [$M_\\odot$]', fontsize=axis_label_font)\n",
    "ax.set_ylabel('Detection Fraction', fontsize=axis_label_font)\n",
    "\n",
    "# add legned\n",
    "# ax.legend(fontsize=legend_font)\n",
    "\n",
    "\n",
    "\n",
    "# Formatting axes labels to avoid scientific notation\n",
    "ax.xaxis.set_major_formatter(ScalarFormatter(useMathText=True))\n",
    "ax.yaxis.set_major_formatter(ScalarFormatter(useMathText=True))\n",
    "\n",
    "# Set x-axis tick parameters\n",
    "ax.tick_params(labelsize=axis_numbers_font, which='major', length=7)\n",
    "ax.tick_params(which='minor', length=4)\n",
    "\n",
    "\n",
    "plt.savefig(path + 'Stellar_Mass_det_frac_full_sample.pdf', dpi=300)"
   ]
  },
  {
   "cell_type": "markdown",
   "id": "ed5dd381",
   "metadata": {},
   "source": [
    "# $S/N$"
   ]
  },
  {
   "cell_type": "code",
   "execution_count": 21,
   "id": "7330380d",
   "metadata": {},
   "outputs": [],
   "source": [
    "SNBin = np.logspace(np.log10(df['S/N'].min()), np.log10(df['S/N'].max()), 20) \n",
    "num_SNBin = len(SNBin) - 1\n",
    "SNBin_midpoints = (SNBin[:-1] + SNBin[1:]) / 2"
   ]
  },
  {
   "cell_type": "code",
   "execution_count": 22,
   "id": "4f38a45f",
   "metadata": {},
   "outputs": [],
   "source": [
    "SNBin = np.logspace(np.log10(df['S/N'].min()), np.log10(df['S/N'].max()), 20) \n",
    "num_SNBin = len(SNBin) - 1\n",
    "SNBin_midpoints = (SNBin[:-1] + SNBin[1:]) / 2"
   ]
  },
  {
   "cell_type": "code",
   "execution_count": 23,
   "id": "5e4a670c",
   "metadata": {},
   "outputs": [
    {
     "name": "stdout",
     "output_type": "stream",
     "text": [
      "SN range = 0.014 - 0.023,  num in each bin =  22.000, Sensitivity = 0.000 +/- 0.000\n",
      "SN range = 0.023 - 0.038,  num in each bin =  49.000, Sensitivity = 0.000 +/- 0.000\n",
      "SN range = 0.038 - 0.062,  num in each bin =  181.000, Sensitivity = 0.000 +/- 0.000\n",
      "SN range = 0.062 - 0.102,  num in each bin =  358.000, Sensitivity = 0.000 +/- 0.000\n",
      "SN range = 0.102 - 0.167,  num in each bin =  634.000, Sensitivity = 0.000 +/- 0.000\n",
      "SN range = 0.167 - 0.272,  num in each bin =  945.000, Sensitivity = 0.003 +/- 0.002\n",
      "SN range = 0.272 - 0.445,  num in each bin =  1147.000, Sensitivity = 0.005 +/- 0.002\n",
      "SN range = 0.445 - 0.727,  num in each bin =  1220.000, Sensitivity = 0.033 +/- 0.005\n",
      "SN range = 0.727 - 1.188,  num in each bin =  1233.000, Sensitivity = 0.069 +/- 0.007\n",
      "SN range = 1.188 - 1.942,  num in each bin =  1211.000, Sensitivity = 0.162 +/- 0.012\n",
      "SN range = 1.942 - 3.173,  num in each bin =  1021.000, Sensitivity = 0.294 +/- 0.017\n",
      "SN range = 3.173 - 5.184,  num in each bin =  780.000, Sensitivity = 0.483 +/- 0.025\n",
      "SN range = 5.184 - 8.471,  num in each bin =  489.000, Sensitivity = 0.628 +/- 0.036\n",
      "SN range = 8.471 - 13.841,  num in each bin =  192.000, Sensitivity = 0.625 +/- 0.057\n",
      "SN range = 13.841 - 22.615,  num in each bin =  94.000, Sensitivity = 0.713 +/- 0.087\n",
      "SN range = 22.615 - 36.953,  num in each bin =  25.000, Sensitivity = 0.720 +/- 0.170\n",
      "SN range = 36.953 - 60.380,  num in each bin =  11.000, Sensitivity = 0.909 +/- 0.287\n",
      "SN range = 60.380 - 98.659,  num in each bin =  2.000, Sensitivity = 1.000 +/- 0.707\n",
      "SN range = 98.659 - 161.207,  num in each bin =  5.000, Sensitivity = 1.000 +/- 0.447\n"
     ]
    }
   ],
   "source": [
    "num_planets_per_SNBin       = np.zeros(num_SNBin)\n",
    "num_detected_SNBin         = np.zeros(num_SNBin)\n",
    "sensitivity_SNBin          = np.zeros(num_SNBin)\n",
    "detection_uncertainty_SNBin = np.zeros(num_SNBin)\n",
    "\n",
    "# Iterate through each Period bin\n",
    "for i, M in enumerate(SNBin[:-1]):\n",
    "        \n",
    "    # Mask to determine if data falls within the current Meriod-mass bin\n",
    "    mask = (df['S/N'] >= SNBin[i]) & (df['S/N'] < SNBin[i+1])\n",
    "\n",
    "    # Determine the number of detected Mlanets in the current bin\n",
    "    detected = mask & (df['Detection'] == 1)\n",
    "\n",
    "    # Find the number of Mlanets/data Moints in the current bin\n",
    "    num_planets_per_SNBin[i] = mask.sum()\n",
    "\n",
    "    # Find the number of detected Mlanets in the current bin\n",
    "    num_detected_SNBin[i] = detected.sum()\n",
    "\n",
    "    sensitivity_SNBin[i] = num_detected_SNBin[i]/ num_planets_per_SNBin[i]\n",
    "    detection_uncertainty_SNBin[i] = np.sqrt(num_detected_SNBin[i])/ num_planets_per_SNBin[i]\n",
    "    \n",
    "    print(f\"SN range = {SNBin[i]:.3f} - {SNBin[i+1]:.3f},  num in each bin =  {num_planets_per_SNBin[i]:.3f}, Sensitivity = {sensitivity_SNBin[i]:.3f} +/- {detection_uncertainty_SNBin[i]:.3f}\")"
   ]
  },
  {
   "cell_type": "code",
   "execution_count": 24,
   "id": "19341ea8",
   "metadata": {},
   "outputs": [
    {
     "data": {
      "text/plain": [
       "Text(0.01, 0.93, '(c)')"
      ]
     },
     "execution_count": 24,
     "metadata": {},
     "output_type": "execute_result"
    },
    {
     "data": {
      "image/png": "[encoded data removed]",
      "text/plain": [
       "<Figure size 936x720 with 1 Axes>"
      ]
     },
     "metadata": {
      "needs_background": "light"
     },
     "output_type": "display_data"
    }
   ],
   "source": [
    "# Create a figure and axes\n",
    "fig, ax = plt.subplots(figsize=(13, 10))\n",
    "\n",
    "# Plot the sensitivity values as a bar graph\n",
    "\n",
    "ax.bar(SNBin_midpoints,\n",
    "       sensitivity_SNBin,\n",
    "       yerr=detection_uncertainty_SNBin,\n",
    "       capsize=5,\n",
    "       width=np.diff(SNBin),\n",
    "       color=my_colours[5], \n",
    "       alpha=alpha, \n",
    "       edgecolor='black',\n",
    "       align=\"edge\",\n",
    "       label='Sensitivity in Each P Bin')\n",
    "\n",
    "\n",
    "# Axes labels \n",
    "ax.set_xlabel('$S/N$', fontsize=axis_label_font)\n",
    "ax.set_ylabel('Detection Fraction', fontsize=axis_label_font)\n",
    "\n",
    "# add legned\n",
    "# ax.legend(fontsize=legend_font)\n",
    "\n",
    "ax.set_xscale('log')\n",
    "\n",
    "# Formatting axes labels to avoid scientific notation\n",
    "ax.xaxis.set_major_formatter(ScalarFormatter(useMathText=True))\n",
    "ax.yaxis.set_major_formatter(ScalarFormatter(useMathText=True))\n",
    "\n",
    "# Set x-axis tick parameters\n",
    "ax.tick_params(labelsize=axis_numbers_font, which='major', length=7)\n",
    "ax.tick_params(which='minor', length=4)\n",
    "\n",
    "ax.text(0.01, 0.93, '(c)', transform=ax.transAxes, fontsize=axis_label_font)"
   ]
  },
  {
   "cell_type": "markdown",
   "id": "0dca683b",
   "metadata": {},
   "source": [
    "# Distance"
   ]
  },
  {
   "cell_type": "code",
   "execution_count": 34,
   "id": "efa1ff60",
   "metadata": {},
   "outputs": [],
   "source": [
    "# DBin = np.linspace(0, 100, 20) \n",
    "\n",
    "# DBin = np.logspace(np.log10(df['Distance'].min()), np.log10(df['Distance'].max()), 50) \n",
    "\n",
    "DBin = np.linspace(df['Distance'].min(), df['Distance'].max(), 50) \n",
    "\n",
    "num_DBin = len(DBin) - 1\n",
    "DBin_midpoints = (DBin[:-1] + DBin[1:]) / 2"
   ]
  },
  {
   "cell_type": "code",
   "execution_count": 35,
   "id": "c509b180",
   "metadata": {},
   "outputs": [
    {
     "name": "stdout",
     "output_type": "stream",
     "text": [
      "Period range = 3.56259 - 5.531, Sensitivity = 1.000\n",
      "Period range = 5.53061 - 7.499, Sensitivity = 0.500\n",
      "Period range = 7.49864 - 9.467, Sensitivity = 1.000\n",
      "Period range = 9.46666 - 11.435, Sensitivity = 0.429\n",
      "Period range = 11.43469 - 13.403, Sensitivity = 0.111\n",
      "Period range = 13.40271 - 15.371, Sensitivity = 0.643\n",
      "Period range = 15.37074 - 17.339, Sensitivity = 0.500\n",
      "Period range = 17.33876 - 19.307, Sensitivity = 0.333\n",
      "Period range = 19.30679 - 21.275, Sensitivity = 0.286\n",
      "Period range = 21.27481 - 23.243, Sensitivity = 0.485\n",
      "Period range = 23.24284 - 25.211, Sensitivity = 0.367\n",
      "Period range = 25.21086 - 27.179, Sensitivity = 0.357\n",
      "Period range = 27.17889 - 29.147, Sensitivity = 0.256\n",
      "Period range = 29.14691 - 31.115, Sensitivity = 0.467\n",
      "Period range = 31.11493 - 33.083, Sensitivity = 0.265\n",
      "Period range = 33.08296 - 35.051, Sensitivity = 0.382\n",
      "Period range = 35.05098 - 37.019, Sensitivity = 0.210\n",
      "Period range = 37.01901 - 38.987, Sensitivity = 0.226\n",
      "Period range = 38.98703 - 40.955, Sensitivity = 0.240\n",
      "Period range = 40.95506 - 42.923, Sensitivity = 0.295\n",
      "Period range = 42.92308 - 44.891, Sensitivity = 0.221\n",
      "Period range = 44.89111 - 46.859, Sensitivity = 0.198\n",
      "Period range = 46.85913 - 48.827, Sensitivity = 0.309\n",
      "Period range = 48.82716 - 50.795, Sensitivity = 0.147\n",
      "Period range = 50.79518 - 52.763, Sensitivity = 0.240\n",
      "Period range = 52.76321 - 54.731, Sensitivity = 0.265\n",
      "Period range = 54.73123 - 56.699, Sensitivity = 0.223\n",
      "Period range = 56.69926 - 58.667, Sensitivity = 0.200\n",
      "Period range = 58.66728 - 60.635, Sensitivity = 0.188\n",
      "Period range = 60.63531 - 62.603, Sensitivity = 0.203\n",
      "Period range = 62.60333 - 64.571, Sensitivity = 0.200\n",
      "Period range = 64.57135 - 66.539, Sensitivity = 0.224\n",
      "Period range = 66.53938 - 68.507, Sensitivity = 0.160\n",
      "Period range = 68.50740 - 70.475, Sensitivity = 0.180\n",
      "Period range = 70.47543 - 72.443, Sensitivity = 0.101\n",
      "Period range = 72.44345 - 74.411, Sensitivity = 0.158\n",
      "Period range = 74.41148 - 76.380, Sensitivity = 0.131\n",
      "Period range = 76.37950 - 78.348, Sensitivity = 0.110\n",
      "Period range = 78.34753 - 80.316, Sensitivity = 0.122\n",
      "Period range = 80.31555 - 82.284, Sensitivity = 0.126\n",
      "Period range = 82.28358 - 84.252, Sensitivity = 0.111\n",
      "Period range = 84.25160 - 86.220, Sensitivity = 0.121\n",
      "Period range = 86.21963 - 88.188, Sensitivity = 0.092\n",
      "Period range = 88.18765 - 90.156, Sensitivity = 0.139\n",
      "Period range = 90.15568 - 92.124, Sensitivity = 0.095\n",
      "Period range = 92.12370 - 94.092, Sensitivity = 0.116\n",
      "Period range = 94.09173 - 96.060, Sensitivity = 0.091\n",
      "Period range = 96.05975 - 98.028, Sensitivity = 0.103\n",
      "Period range = 98.02777 - 99.996, Sensitivity = 0.094\n"
     ]
    }
   ],
   "source": [
    "num_planets_per_DBin       = np.zeros(num_DBin)\n",
    "num_detected_DBin         = np.zeros(num_DBin)\n",
    "sensitivity_DBin          = np.zeros(num_DBin)\n",
    "detection_uncertainty_DBin = np.zeros(num_DBin)\n",
    "\n",
    "# Iterate through each Period bin\n",
    "for i, M in enumerate(DBin[:-1]):\n",
    "        \n",
    "    # Mask to determine if data falls within the current Meriod-mass bin\n",
    "    mask = (df['Distance'] >= DBin[i]) & (df['Distance'] < DBin[i+1])\n",
    "\n",
    "    # Determine the number of detected Mlanets in the current bin\n",
    "    detected = mask & (df['Detection'] == 1)\n",
    "\n",
    "    # Find the number of Mlanets/data Moints in the current bin\n",
    "    num_planets_per_DBin[i] = mask.sum()\n",
    "\n",
    "    # Find the number of detected Mlanets in the current bin\n",
    "    num_detected_DBin[i] = detected.sum()\n",
    "\n",
    "    sensitivity_DBin[i] = num_detected_DBin[i]/ num_planets_per_DBin[i]\n",
    "    detection_uncertainty_DBin[i] = np.sqrt(num_detected_DBin[i])/ num_planets_per_DBin[i]\n",
    "    \n",
    "    print(f\"Period range = {DBin[i]:.5f} - {DBin[i+1]:.3f}, Sensitivity = {sensitivity_DBin[i]:.3f}\")"
   ]
  },
  {
   "cell_type": "code",
   "execution_count": 36,
   "id": "ceed6390",
   "metadata": {},
   "outputs": [
    {
     "name": "stderr",
     "output_type": "stream",
     "text": [
      "No handles with labels found to put in legend.\n",
      "No handles with labels found to put in legend.\n"
     ]
    },
    {
     "data": {
      "image/png": "[encoded data removed]",
      "text/plain": [
       "<Figure size 936x720 with 1 Axes>"
      ]
     },
     "metadata": {
      "needs_background": "light"
     },
     "output_type": "display_data"
    }
   ],
   "source": [
    "import matplotlib.pyplot as plt\n",
    "import numpy as np\n",
    "\n",
    "# Create a figure and axes\n",
    "fig, ax1 = plt.subplots(figsize=(13, 10))\n",
    "\n",
    "# Plot the first set of bars with the primary y-axis (left)\n",
    "ax1.bar(DBin_midpoints,\n",
    "       sensitivity_DBin,\n",
    "       width=np.diff(DBin),\n",
    "       color=my_colours[4], \n",
    "       alpha=alpha, \n",
    "       edgecolor='black',\n",
    "       align=\"edge\")\n",
    "\n",
    "\n",
    "# Create a secondary y-axis for the second set of bars (right)\n",
    "\n",
    "\n",
    "ax2.set_ylabel('Data 2', fontsize=14)\n",
    "ax2.tick_params(axis='y')\n",
    "\n",
    "# Add legend\n",
    "ax1.legend(loc='upper left')\n",
    "ax2.legend(loc='upper right')\n",
    "\n",
    "\n",
    "\n",
    "# Axes labels \n",
    "ax1.set_xlabel('Distance [pc]', fontsize=axis_label_font)\n",
    "\n",
    "ax1.set_ylabel('Detection Fraction', fontsize=axis_label_font)\n",
    "ax2.set_ylabel('Detection Count', fontsize=axis_label_font)\n",
    "\n",
    "\n",
    "# Set x-axis tick parameters\n",
    "ax1.tick_params(labelsize=axis_numbers_font, which='major', length=7)\n",
    "ax1.tick_params(which='minor', length=4)\n",
    "\n",
    "ax2.tick_params(labelsize=axis_numbers_font, which='major', length=7)\n",
    "ax2.tick_params(which='minor', length=4)\n",
    "\n"
   ]
  },
  {
   "cell_type": "code",
   "execution_count": null,
   "id": "110c284b",
   "metadata": {},
   "outputs": [],
   "source": []
  },
  {
   "cell_type": "code",
   "execution_count": null,
   "id": "4534d160",
   "metadata": {},
   "outputs": [],
   "source": []
  }
 ],
 "metadata": {
  "kernelspec": {
   "display_name": "Python 3 (ipykernel)",
   "language": "python",
   "name": "python3"
  },
  "language_info": {
   "codemirror_mode": {
    "name": "ipython",
    "version": 3
   },
   "file_extension": ".py",
   "mimetype": "text/x-python",
   "name": "python",
   "nbconvert_exporter": "python",
   "pygments_lexer": "ipython3",
   "version": "3.9.7"
  },
  "varInspector": {
   "cols": {
    "lenName": 16,
    "lenType": 16,
    "lenVar": 40
   },
   "kernels_config": {
    "python": {
     "delete_cmd_postfix": "",
     "delete_cmd_prefix": "del ",
     "library": "var_list.py",
     "varRefreshCmd": "print(var_dic_list())"
    },
    "r": {
     "delete_cmd_postfix": ") ",
     "delete_cmd_prefix": "rm(",
     "library": "var_list.r",
     "varRefreshCmd": "cat(var_dic_list()) "
    }
   },
   "types_to_exclude": [
    "module",
    "function",
    "builtin_function_or_method",
    "instance",
    "_Feature"
   ],
   "window_display": false
  }
 },
 "nbformat": 4,
 "nbformat_minor": 5
}
