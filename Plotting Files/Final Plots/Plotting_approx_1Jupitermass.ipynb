{
 "cells": [
  {
   "cell_type": "markdown",
   "id": "331dcc32",
   "metadata": {},
   "source": [
    "## Plotting preferences"
   ]
  },
  {
   "cell_type": "code",
   "execution_count": 1,
   "id": "1d2f13d2",
   "metadata": {},
   "outputs": [],
   "source": [
    "# Importing things \n",
    "import numpy as np\n",
    "import pandas as pd \n",
    "import seaborn as sns\n",
    "\n",
    "import matplotlib.pyplot as plt\n",
    "\n",
    "import matplotlib.patches as mpatches\n",
    "\n",
    "import matplotlib.ticker as mticker\n",
    "from matplotlib.ticker import (MultipleLocator, AutoMinorLocator)\n",
    "from matplotlib.ticker import ScalarFormatter\n",
    "\n",
    "import matplotlib.colors as colors\n",
    "from matplotlib.colors import ListedColormap\n",
    "from matplotlib.colors import LogNorm\n",
    "from matplotlib.colors import Normalize\n",
    "\n",
    "from scipy.ndimage import gaussian_filter\n",
    "\n",
    "from matplotlib.gridspec import GridSpec"
   ]
  },
  {
   "cell_type": "code",
   "execution_count": 2,
   "id": "a758abcd",
   "metadata": {},
   "outputs": [],
   "source": [
    "# Font sizes\n",
    "axis_label_font = 30\n",
    "axis_numbers_font = 25\n",
    "title_font = 50\n",
    "legend_font = 25\n",
    "\n",
    "detection_colours = sns.color_palette(\"hls\", 4)\n",
    "dark_colours = sns.color_palette(\"viridis\", 8)\n",
    "my_colours = sns.color_palette(\"husl\", 8)\n",
    "\n",
    "cmap_reds = ListedColormap(plt.cm.get_cmap('Reds', 10)(np.arange(10)))\n",
    "cmap_greens = ListedColormap(plt.cm.get_cmap('Greens', 10)(np.arange(10)))\n",
    "cmap_purples = ListedColormap(plt.cm.get_cmap('Purples', 10)(np.arange(10)))\n",
    "\n",
    "alpha = 0.7\n",
    "\n",
    "path = '/Users/audreyburggraf/Desktop/THESIS/Figures/'"
   ]
  },
  {
   "cell_type": "markdown",
   "id": "bf6f5123",
   "metadata": {},
   "source": [
    "## Data "
   ]
  },
  {
   "cell_type": "code",
   "execution_count": 3,
   "id": "e5b1da1f",
   "metadata": {},
   "outputs": [],
   "source": [
    "# Importing data file \n",
    "df_original = pd.read_csv('/Users/audreyburggraf/Desktop/THESIS/Data Files/bigrun_10000_after_changes.csv')"
   ]
  },
  {
   "cell_type": "code",
   "execution_count": 33,
   "id": "064c4fb6",
   "metadata": {},
   "outputs": [
    {
     "data": {
      "text/plain": [
       "Index(['Inj.0P alpha0', 'Inj.0P delta0', 'Inj.0P pmra', 'Inj.0P pmdec',\n",
       "       'Inj.0P prlx', 'Inj.1P alpha0', 'Inj.1P delta0', 'Inj.1P pmra',\n",
       "       'Inj.1P pmdec', 'Inj.1P prlx', 'Inj.1P e', 'Inj.1P omega',\n",
       "       'Inj.1P Omega', 'Inj.1P cosi', 'Inj.1P log(m_p)', 'Inj.1P log(P)',\n",
       "       'Inj.1P tp', 'Rec.0P alpha0', 'Rec.0P delta0', 'Rec.0P pmra',\n",
       "       'Rec.0P pmdec', 'Rec0P prlx', 'Rec.1P alpha0', 'Rec.1P delta0',\n",
       "       'Rec.1P pmra', 'Rec.1P pmdec', 'Rec.1P prlx', 'Rec.1P e',\n",
       "       'Rec.1P omega', 'Rec.1P Omega', 'Rec.1P cosi', 'Rec.1P log(m_p)',\n",
       "       'Rec.1P log(P)', 'Rec.1P tp', 'np_chi_sq', 'wp_chi_sq', 'npBIC',\n",
       "       'wpBIC', 'DeltaBIC', 'Condition 1', 'Condition 2', 'Condition 3',\n",
       "       'Condition 4', 'Detection', 'Astrometric Signature', 'Stellar Mass',\n",
       "       'Scaling Factor', 'Distance', 'Semi-Major Axis', 'Sigma fov', 'Noise',\n",
       "       'S/N', 'm_p'],\n",
       "      dtype='object')"
      ]
     },
     "execution_count": 33,
     "metadata": {},
     "output_type": "execute_result"
    }
   ],
   "source": [
    "df.columns"
   ]
  },
  {
   "cell_type": "code",
   "execution_count": 4,
   "id": "48aea3c0",
   "metadata": {},
   "outputs": [
    {
     "name": "stdout",
     "output_type": "stream",
     "text": [
      "10000\n",
      "546\n"
     ]
    }
   ],
   "source": [
    "#  add the absolute gaia K band magnitude and stellar mass\n",
    "df_original['m_p'] = 10**df_original['Inj.1P log(m_p)']\n",
    "\n",
    "# cut off certain range \n",
    "df = df_original[(0.9 < df_original.m_p) & (df_original.m_p < 1.1)].reset_index(drop=True)\n",
    "\n",
    "print(len(df_original))\n",
    "print(len(df))"
   ]
  },
  {
   "cell_type": "code",
   "execution_count": 32,
   "id": "86940fc2",
   "metadata": {},
   "outputs": [
    {
     "name": "stdout",
     "output_type": "stream",
     "text": [
      "3\n",
      "0.005494505494505495\n"
     ]
    }
   ],
   "source": [
    "print(df['Detection'].sum())\n",
    "print(df['Detection'].sum()/len(df))"
   ]
  },
  {
   "cell_type": "markdown",
   "id": "22355af1",
   "metadata": {},
   "source": [
    "### Bins"
   ]
  },
  {
   "cell_type": "code",
   "execution_count": 6,
   "id": "fb92089f",
   "metadata": {},
   "outputs": [],
   "source": [
    "inj_mass_data   = 10**df['Inj.1P log(m_p)'] # [M_J]\n",
    "inj_period_data = 10**df['Inj.1P log(P)'] # [years]"
   ]
  },
  {
   "cell_type": "code",
   "execution_count": 7,
   "id": "13c4ce4a",
   "metadata": {},
   "outputs": [],
   "source": [
    "# Setting the mass and period bins \n",
    "Mbins = np.logspace(np.log10(0.3), np.log10(3), 20) \n",
    "Pbins = np.logspace(-2, 1, 20) \n",
    "\n",
    "# Number of bins \n",
    "num_Pbins = len(Pbins) - 1\n",
    "num_Mbins = len(Mbins) - 1\n",
    "\n",
    "# Midpoints of the bins \n",
    "Mbin_midpoints = (Mbins[:-1] + Mbins[1:]) / 2\n",
    "Pbin_midpoints = (Pbins[:-1] + Pbins[1:]) / 2"
   ]
  },
  {
   "cell_type": "markdown",
   "id": "c7c75e9c",
   "metadata": {},
   "source": [
    "# Histograms"
   ]
  },
  {
   "cell_type": "markdown",
   "id": "3e3f586f",
   "metadata": {},
   "source": [
    "## Period $P$"
   ]
  },
  {
   "cell_type": "code",
   "execution_count": 8,
   "id": "db45f717",
   "metadata": {},
   "outputs": [],
   "source": [
    "Pbins = np.logspace(-2, 1, 20) \n",
    "num_Pbins = len(Pbins) - 1\n",
    "Pbin_midpoints = (Pbins[:-1] + Pbins[1:]) / 2"
   ]
  },
  {
   "cell_type": "code",
   "execution_count": 9,
   "id": "a243ea4f",
   "metadata": {},
   "outputs": [
    {
     "name": "stdout",
     "output_type": "stream",
     "text": [
      "Period range = 0.010 - 0.014, Sensitivity = 0.000\n",
      "Period range = 0.014 - 0.021, Sensitivity = 0.000\n",
      "Period range = 0.021 - 0.030, Sensitivity = 0.000\n",
      "Period range = 0.030 - 0.043, Sensitivity = 0.000\n",
      "Period range = 0.043 - 0.062, Sensitivity = 0.000\n",
      "Period range = 0.062 - 0.089, Sensitivity = 0.000\n",
      "Period range = 0.089 - 0.127, Sensitivity = 0.000\n",
      "Period range = 0.127 - 0.183, Sensitivity = 0.000\n",
      "Period range = 0.183 - 0.264, Sensitivity = 0.000\n",
      "Period range = 0.264 - 0.379, Sensitivity = 0.000\n",
      "Period range = 0.379 - 0.546, Sensitivity = 0.000\n",
      "Period range = 0.546 - 0.785, Sensitivity = 0.000\n",
      "Period range = 0.785 - 1.129, Sensitivity = 0.000\n",
      "Period range = 1.129 - 1.624, Sensitivity = 0.000\n",
      "Period range = 1.624 - 2.336, Sensitivity = 0.036\n",
      "Period range = 2.336 - 3.360, Sensitivity = 0.000\n",
      "Period range = 3.360 - 4.833, Sensitivity = 0.048\n",
      "Period range = 4.833 - 6.952, Sensitivity = 0.000\n",
      "Period range = 6.952 - 10.000, Sensitivity = 0.029\n"
     ]
    }
   ],
   "source": [
    "num_planets_per_P_bin       = np.zeros(num_Pbins)\n",
    "num_detected_Pbin           = np.zeros(num_Pbins)\n",
    "sensitivity_Pbins           = np.zeros(num_Pbins)\n",
    "detection_uncertainty_Pbins = np.zeros(num_Pbins)\n",
    "\n",
    "# Iterate through each Period bin\n",
    "for i, P in enumerate(Pbins[:-1]):\n",
    "        \n",
    "    # Mask to determine if data falls within the current Meriod-mass bin\n",
    "    mask = (inj_period_data >= Pbins[i]) & (inj_period_data < Pbins[i+1])\n",
    "\n",
    "    # Determine the number of detected Mlanets in the current bin\n",
    "    detected = mask & (df['Detection'] == 1)\n",
    "\n",
    "    # Find the number of Mlanets/data Moints in the current bin\n",
    "    num_planets_per_P_bin[i] = mask.sum()\n",
    "\n",
    "    # Find the number of detected Mlanets in the current bin\n",
    "    num_detected_Pbin[i] = detected.sum()\n",
    "\n",
    "    sensitivity_Pbins[i] = num_detected_Pbin[i]/ num_planets_per_P_bin[i]\n",
    "    detection_uncertainty_Pbins[i] = np.sqrt(num_detected_Pbin[i])/ num_planets_per_P_bin[i]\n",
    "    \n",
    "    print(f\"Period range = {Pbins[i]:.3f} - {Pbins[i+1]:.3f}, Sensitivity = {sensitivity_Pbins[i]:.3f}\")"
   ]
  },
  {
   "cell_type": "code",
   "execution_count": 10,
   "id": "ce84fb69",
   "metadata": {},
   "outputs": [
    {
     "data": {
      "text/plain": [
       "Text(0.01, 0.93, '(a)')"
      ]
     },
     "execution_count": 10,
     "metadata": {},
     "output_type": "execute_result"
    },
    {
     "data": {
      "image/png": "[encoded data removed]",
      "text/plain": [
       "<Figure size 936x720 with 1 Axes>"
      ]
     },
     "metadata": {
      "needs_background": "light"
     },
     "output_type": "display_data"
    }
   ],
   "source": [
    "Pbar_width = np.diff(Pbins)\n",
    "\n",
    "# Create a figure and axes\n",
    "fig, ax = plt.subplots(figsize=(13, 10))\n",
    "\n",
    "# Plot the sensitivity values as a bar graph\n",
    "\n",
    "# ax.bar(Pbin_midpoints, \n",
    "#         cumulative_sensitivity_P[:-1], \n",
    "#         color=my_colours[5], \n",
    "#         edgecolor='black',\n",
    "#         alpha=1,\n",
    "#         align=\"edge\",\n",
    "#         width = Pbar_width,\n",
    "#         label='Sensitivity for P > x',)\n",
    "\n",
    "\n",
    "ax.bar(Pbin_midpoints,\n",
    "       sensitivity_Pbins,\n",
    "       width=Pbar_width,\n",
    "       color=my_colours[6], \n",
    "       alpha=alpha, \n",
    "       edgecolor='black',\n",
    "       align=\"edge\",\n",
    "       label='Sensitivity in Each P Bin')\n",
    "\n",
    "\n",
    "# ax.plot(Pbin_midpoints, \n",
    "#         sensitivity_Pbins, \n",
    "#         marker='o', \n",
    "#         linestyle='-', \n",
    "#         color=my_colours[0], \n",
    "#         label='Sensitivity (line)')\n",
    "\n",
    "\n",
    "\n",
    "# # # Plot the sensitivity values as a line plot on top of the bar graph\n",
    "# ax.plot(Pbin_midpoints, \n",
    "#         sensitivity_values_P[:-1], \n",
    "#         marker='o', \n",
    "#         linestyle='-', \n",
    "#         color='skyblue', \n",
    "#         label='Sensitivity (line)')\n",
    "\n",
    "# Axes labels \n",
    "ax.set_xlabel('Orbital Period [years]', fontsize=axis_label_font)\n",
    "ax.set_ylabel('Detection Fraction', fontsize=axis_label_font)\n",
    "\n",
    "# add legned\n",
    "# ax.legend(fontsize=legend_font)\n",
    "\n",
    "\n",
    "# Set x-axis to log scale\n",
    "ax.set_xscale('log')\n",
    "\n",
    "# Formatting axes labels to avoid scientific notation\n",
    "ax.xaxis.set_major_formatter(ScalarFormatter(useMathText=True))\n",
    "ax.yaxis.set_major_formatter(ScalarFormatter(useMathText=True))\n",
    "\n",
    "# Set x-axis tick parameters\n",
    "ax.tick_params(labelsize=axis_numbers_font, which='major', length=7)\n",
    "ax.tick_params(which='minor', length=4)\n",
    "\n",
    "ax.text(0.01, 0.93, '(a)', transform=ax.transAxes, fontsize=axis_label_font)"
   ]
  },
  {
   "cell_type": "markdown",
   "id": "891781dd",
   "metadata": {},
   "source": [
    "## Stellar Mass $M_*$"
   ]
  },
  {
   "cell_type": "code",
   "execution_count": 11,
   "id": "48acdcc0",
   "metadata": {},
   "outputs": [
    {
     "name": "stdout",
     "output_type": "stream",
     "text": [
      "Min:  0.0739823467684492\n",
      "Max:  0.7408326078478911\n"
     ]
    }
   ],
   "source": [
    "print('Min: ', df['Stellar Mass'].min())\n",
    "print('Max: ', df['Stellar Mass'].max())"
   ]
  },
  {
   "cell_type": "code",
   "execution_count": 12,
   "id": "3d9641cb",
   "metadata": {},
   "outputs": [],
   "source": [
    "MstarBin = np.linspace(0.07, 0.8, 20) \n",
    "num_MstarBin = len(MstarBin) - 1\n",
    "MstarBin_midpoints = (MstarBin[:-1] + MstarBin[1:]) / 2"
   ]
  },
  {
   "cell_type": "code",
   "execution_count": 13,
   "id": "eb4406d8",
   "metadata": {},
   "outputs": [
    {
     "name": "stdout",
     "output_type": "stream",
     "text": [
      "Period range = 0.070 - 0.108, Sensitivity = 0.000\n",
      "Period range = 0.108 - 0.147, Sensitivity = 0.000\n",
      "Period range = 0.147 - 0.185, Sensitivity = 0.000\n",
      "Period range = 0.185 - 0.224, Sensitivity = 0.000\n",
      "Period range = 0.224 - 0.262, Sensitivity = 0.000\n",
      "Period range = 0.262 - 0.301, Sensitivity = 0.027\n",
      "Period range = 0.301 - 0.339, Sensitivity = 0.000\n",
      "Period range = 0.339 - 0.377, Sensitivity = 0.000\n",
      "Period range = 0.377 - 0.416, Sensitivity = 0.000\n",
      "Period range = 0.416 - 0.454, Sensitivity = 0.000\n",
      "Period range = 0.454 - 0.493, Sensitivity = 0.000\n",
      "Period range = 0.493 - 0.531, Sensitivity = 0.000\n",
      "Period range = 0.531 - 0.569, Sensitivity = 0.000\n",
      "Period range = 0.569 - 0.608, Sensitivity = 0.000\n",
      "Period range = 0.608 - 0.646, Sensitivity = 0.000\n",
      "Period range = 0.646 - 0.685, Sensitivity = 0.059\n",
      "Period range = 0.685 - 0.723, Sensitivity = 0.091\n",
      "Period range = 0.723 - 0.762, Sensitivity = 0.000\n",
      "Period range = 0.762 - 0.800, Sensitivity = nan\n"
     ]
    },
    {
     "name": "stderr",
     "output_type": "stream",
     "text": [
      "/var/folders/p9/hcwv87bd7lxfdw1nmx4wt8d00000gn/T/ipykernel_72516/4133633892.py:21: RuntimeWarning: invalid value encountered in double_scalars\n",
      "  sensitivity_MstarBin[i] = num_detected_MstarBin[i]/ num_planets_per_MstarBin[i]\n",
      "/var/folders/p9/hcwv87bd7lxfdw1nmx4wt8d00000gn/T/ipykernel_72516/4133633892.py:22: RuntimeWarning: invalid value encountered in double_scalars\n",
      "  detection_uncertainty_MstarBin[i] = np.sqrt(num_detected_MstarBin[i])/ num_planets_per_MstarBin[i]\n"
     ]
    }
   ],
   "source": [
    "num_planets_per_MstarBin       = np.zeros(num_MstarBin)\n",
    "num_detected_MstarBin         = np.zeros(num_MstarBin)\n",
    "sensitivity_MstarBin          = np.zeros(num_MstarBin)\n",
    "detection_uncertainty_MstarBin = np.zeros(num_MstarBin)\n",
    "\n",
    "# Iterate through each Period bin\n",
    "for i, M in enumerate(MstarBin[:-1]):\n",
    "        \n",
    "    # Mask to determine if data falls within the current Meriod-mass bin\n",
    "    mask = (df['Stellar Mass'] >= MstarBin[i]) & (df['Stellar Mass'] < MstarBin[i+1])\n",
    "\n",
    "    # Determine the number of detected Mlanets in the current bin\n",
    "    detected = mask & (df['Detection'] == 1)\n",
    "\n",
    "    # Find the number of Mlanets/data Moints in the current bin\n",
    "    num_planets_per_MstarBin[i] = mask.sum()\n",
    "\n",
    "    # Find the number of detected Mlanets in the current bin\n",
    "    num_detected_MstarBin[i] = detected.sum()\n",
    "\n",
    "    sensitivity_MstarBin[i] = num_detected_MstarBin[i]/ num_planets_per_MstarBin[i]\n",
    "    detection_uncertainty_MstarBin[i] = np.sqrt(num_detected_MstarBin[i])/ num_planets_per_MstarBin[i]\n",
    "    \n",
    "    print(f\"Period range = {MstarBin[i]:.3f} - {MstarBin[i+1]:.3f}, Sensitivity = {sensitivity_MstarBin[i]:.3f}\")"
   ]
  },
  {
   "cell_type": "code",
   "execution_count": 14,
   "id": "1a527077",
   "metadata": {},
   "outputs": [
    {
     "data": {
      "text/plain": [
       "Text(0.01, 0.93, '(d)')"
      ]
     },
     "execution_count": 14,
     "metadata": {},
     "output_type": "execute_result"
    },
    {
     "data": {
      "image/png": "[encoded data removed]",
      "text/plain": [
       "<Figure size 936x720 with 1 Axes>"
      ]
     },
     "metadata": {
      "needs_background": "light"
     },
     "output_type": "display_data"
    }
   ],
   "source": [
    "# Create a figure and axes\n",
    "fig, ax = plt.subplots(figsize=(13, 10))\n",
    "\n",
    "# Plot the sensitivity values as a bar graph\n",
    "\n",
    "ax.bar(MstarBin_midpoints,\n",
    "       sensitivity_MstarBin,\n",
    "       width = np.diff(MstarBin),\n",
    "       color=my_colours[3], \n",
    "       alpha=alpha, \n",
    "       edgecolor='black',\n",
    "       align=\"edge\",\n",
    "       label='Sensitivity in Each P Bin')\n",
    "\n",
    "\n",
    "# Axes labels \n",
    "ax.set_xlabel('Stellar Mass [$M_\\odot$]', fontsize=axis_label_font)\n",
    "ax.set_ylabel('Detection Fraction', fontsize=axis_label_font)\n",
    "\n",
    "# add legned\n",
    "# ax.legend(fontsize=legend_font)\n",
    "\n",
    "\n",
    "\n",
    "# Formatting axes labels to avoid scientific notation\n",
    "ax.xaxis.set_major_formatter(ScalarFormatter(useMathText=True))\n",
    "ax.yaxis.set_major_formatter(ScalarFormatter(useMathText=True))\n",
    "\n",
    "# Set x-axis tick parameters\n",
    "ax.tick_params(labelsize=axis_numbers_font, which='major', length=7)\n",
    "ax.tick_params(which='minor', length=4)\n",
    "\n",
    "ax.text(0.01, 0.93, '(d)', transform=ax.transAxes, fontsize=axis_label_font)"
   ]
  },
  {
   "cell_type": "markdown",
   "id": "5415b02e",
   "metadata": {},
   "source": [
    "## Signal to Noise $S/N$"
   ]
  },
  {
   "cell_type": "code",
   "execution_count": 15,
   "id": "64266d86",
   "metadata": {},
   "outputs": [
    {
     "name": "stdout",
     "output_type": "stream",
     "text": [
      "Min:  0.0450795617631554\n",
      "Max:  4.699384125750625\n"
     ]
    }
   ],
   "source": [
    "print('Min: ', df['S/N'].min())\n",
    "print('Max: ', df['S/N'].max())"
   ]
  },
  {
   "cell_type": "code",
   "execution_count": 16,
   "id": "0ac6e020",
   "metadata": {},
   "outputs": [],
   "source": [
    "SNBin = np.linspace(0, 30, 20) \n",
    "num_SNBin = len(SNBin) - 1\n",
    "SNBin_midpoints = (SNBin[:-1] + SNBin[1:]) / 2"
   ]
  },
  {
   "cell_type": "code",
   "execution_count": 17,
   "id": "91c17ac0",
   "metadata": {},
   "outputs": [
    {
     "name": "stdout",
     "output_type": "stream",
     "text": [
      "SN range = 0.000 - 1.579,  num in each bin =  504.000, Sensitivity = 0.006 +/- 0.003\n",
      "SN range = 1.579 - 3.158,  num in each bin =  20.000, Sensitivity = 0.000 +/- 0.000\n",
      "SN range = 3.158 - 4.737,  num in each bin =  3.000, Sensitivity = 0.000 +/- 0.000\n",
      "SN range = 4.737 - 6.316,  num in each bin =  0.000, Sensitivity = nan +/- nan\n",
      "SN range = 6.316 - 7.895,  num in each bin =  0.000, Sensitivity = nan +/- nan\n",
      "SN range = 7.895 - 9.474,  num in each bin =  0.000, Sensitivity = nan +/- nan\n",
      "SN range = 9.474 - 11.053,  num in each bin =  0.000, Sensitivity = nan +/- nan\n",
      "SN range = 11.053 - 12.632,  num in each bin =  0.000, Sensitivity = nan +/- nan\n",
      "SN range = 12.632 - 14.211,  num in each bin =  0.000, Sensitivity = nan +/- nan\n",
      "SN range = 14.211 - 15.789,  num in each bin =  0.000, Sensitivity = nan +/- nan\n",
      "SN range = 15.789 - 17.368,  num in each bin =  0.000, Sensitivity = nan +/- nan\n",
      "SN range = 17.368 - 18.947,  num in each bin =  0.000, Sensitivity = nan +/- nan\n",
      "SN range = 18.947 - 20.526,  num in each bin =  0.000, Sensitivity = nan +/- nan\n",
      "SN range = 20.526 - 22.105,  num in each bin =  0.000, Sensitivity = nan +/- nan\n",
      "SN range = 22.105 - 23.684,  num in each bin =  0.000, Sensitivity = nan +/- nan\n",
      "SN range = 23.684 - 25.263,  num in each bin =  0.000, Sensitivity = nan +/- nan\n",
      "SN range = 25.263 - 26.842,  num in each bin =  0.000, Sensitivity = nan +/- nan\n",
      "SN range = 26.842 - 28.421,  num in each bin =  0.000, Sensitivity = nan +/- nan\n",
      "SN range = 28.421 - 30.000,  num in each bin =  0.000, Sensitivity = nan +/- nan\n"
     ]
    },
    {
     "name": "stderr",
     "output_type": "stream",
     "text": [
      "/var/folders/p9/hcwv87bd7lxfdw1nmx4wt8d00000gn/T/ipykernel_72516/2825652536.py:21: RuntimeWarning: invalid value encountered in double_scalars\n",
      "  sensitivity_SNBin[i] = num_detected_SNBin[i]/ num_planets_per_SNBin[i]\n",
      "/var/folders/p9/hcwv87bd7lxfdw1nmx4wt8d00000gn/T/ipykernel_72516/2825652536.py:22: RuntimeWarning: invalid value encountered in double_scalars\n",
      "  detection_uncertainty_SNBin[i] = np.sqrt(num_detected_SNBin[i])/ num_planets_per_SNBin[i]\n"
     ]
    }
   ],
   "source": [
    "num_planets_per_SNBin       = np.zeros(num_SNBin)\n",
    "num_detected_SNBin         = np.zeros(num_SNBin)\n",
    "sensitivity_SNBin          = np.zeros(num_SNBin)\n",
    "detection_uncertainty_SNBin = np.zeros(num_SNBin)\n",
    "\n",
    "# Iterate through each Period bin\n",
    "for i, M in enumerate(SNBin[:-1]):\n",
    "        \n",
    "    # Mask to determine if data falls within the current Meriod-mass bin\n",
    "    mask = (df['S/N'] >= SNBin[i]) & (df['S/N'] < SNBin[i+1])\n",
    "\n",
    "    # Determine the number of detected Mlanets in the current bin\n",
    "    detected = mask & (df['Detection'] == 1)\n",
    "\n",
    "    # Find the number of Mlanets/data Moints in the current bin\n",
    "    num_planets_per_SNBin[i] = mask.sum()\n",
    "\n",
    "    # Find the number of detected Mlanets in the current bin\n",
    "    num_detected_SNBin[i] = detected.sum()\n",
    "\n",
    "    sensitivity_SNBin[i] = num_detected_SNBin[i]/ num_planets_per_SNBin[i]\n",
    "    detection_uncertainty_SNBin[i] = np.sqrt(num_detected_SNBin[i])/ num_planets_per_SNBin[i]\n",
    "    \n",
    "    print(f\"SN range = {SNBin[i]:.3f} - {SNBin[i+1]:.3f},  num in each bin =  {num_planets_per_SNBin[i]:.3f}, Sensitivity = {sensitivity_SNBin[i]:.3f} +/- {detection_uncertainty_SNBin[i]:.3f}\")"
   ]
  },
  {
   "cell_type": "code",
   "execution_count": 18,
   "id": "ee01dbd2",
   "metadata": {},
   "outputs": [
    {
     "data": {
      "text/plain": [
       "Text(0.01, 0.93, '(c)')"
      ]
     },
     "execution_count": 18,
     "metadata": {},
     "output_type": "execute_result"
    },
    {
     "data": {
      "image/png": "[encoded data removed]",
      "text/plain": [
       "<Figure size 936x720 with 1 Axes>"
      ]
     },
     "metadata": {
      "needs_background": "light"
     },
     "output_type": "display_data"
    }
   ],
   "source": [
    "# Create a figure and axes\n",
    "fig, ax = plt.subplots(figsize=(13, 10))\n",
    "\n",
    "# Plot the sensitivity values as a bar graph\n",
    "\n",
    "ax.bar(SNBin_midpoints,\n",
    "       sensitivity_SNBin,\n",
    "       yerr=detection_uncertainty_SNBin,\n",
    "       capsize=5,\n",
    "       width=np.diff(SNBin),\n",
    "       color=my_colours[5], \n",
    "       alpha=alpha, \n",
    "       edgecolor='black',\n",
    "       align=\"edge\",\n",
    "       label='Sensitivity in Each P Bin')\n",
    "\n",
    "\n",
    "# Axes labels \n",
    "ax.set_xlabel('$S/N$', fontsize=axis_label_font)\n",
    "ax.set_ylabel('Detection Fraction', fontsize=axis_label_font)\n",
    "\n",
    "# add legned\n",
    "# ax.legend(fontsize=legend_font)\n",
    "\n",
    "\n",
    "# Formatting axes labels to avoid scientific notation\n",
    "ax.xaxis.set_major_formatter(ScalarFormatter(useMathText=True))\n",
    "ax.yaxis.set_major_formatter(ScalarFormatter(useMathText=True))\n",
    "\n",
    "# Set x-axis tick parameters\n",
    "ax.tick_params(labelsize=axis_numbers_font, which='major', length=7)\n",
    "ax.tick_params(which='minor', length=4)\n",
    "\n",
    "ax.text(0.01, 0.93, '(c)', transform=ax.transAxes, fontsize=axis_label_font)"
   ]
  },
  {
   "cell_type": "code",
   "execution_count": 19,
   "id": "bcfdc62a",
   "metadata": {},
   "outputs": [
    {
     "name": "stderr",
     "output_type": "stream",
     "text": [
      "No handles with labels found to put in legend.\n",
      "No handles with labels found to put in legend.\n"
     ]
    },
    {
     "data": {
      "image/png": "[encoded data removed]",
      "text/plain": [
       "<Figure size 936x720 with 2 Axes>"
      ]
     },
     "metadata": {
      "needs_background": "light"
     },
     "output_type": "display_data"
    }
   ],
   "source": [
    "import matplotlib.pyplot as plt\n",
    "import numpy as np\n",
    "\n",
    "# Create a figure and axes\n",
    "fig, ax1 = plt.subplots(figsize=(13, 10))\n",
    "\n",
    "# Plot the first set of bars with the primary y-axis (left)\n",
    "ax1.bar(SNBin_midpoints,\n",
    "       sensitivity_SNBin,\n",
    "       width=np.diff(SNBin),\n",
    "       color=my_colours[4], \n",
    "       alpha=alpha, \n",
    "       edgecolor='black',\n",
    "       align=\"edge\")\n",
    "\n",
    "\n",
    "# Create a secondary y-axis for the second set of bars (right)\n",
    "ax2 = ax1.twinx()\n",
    "ax2.bar(SNBin_midpoints,\n",
    "       num_detected_SNBin,\n",
    "       width=np.diff(SNBin),\n",
    "       color='red', \n",
    "       alpha=0.5, \n",
    "       edgecolor='black',\n",
    "       align=\"edge\")\n",
    "\n",
    "ax2.set_ylabel('Data 2', fontsize=14)\n",
    "ax2.tick_params(axis='y')\n",
    "\n",
    "# Add legend\n",
    "ax1.legend(loc='upper left')\n",
    "ax2.legend(loc='upper right')\n",
    "\n",
    "\n",
    "\n",
    "# Axes labels \n",
    "ax1.set_xlabel('Distance [pc]', fontsize=axis_label_font)\n",
    "\n",
    "ax1.set_ylabel('Detection Fraction', fontsize=axis_label_font)\n",
    "ax2.set_ylabel('Detection Count', fontsize=axis_label_font)\n",
    "\n",
    "\n",
    "# Set x-axis tick parameters\n",
    "ax1.tick_params(labelsize=axis_numbers_font, which='major', length=7)\n",
    "ax1.tick_params(which='minor', length=4)\n",
    "\n",
    "ax2.tick_params(labelsize=axis_numbers_font, which='major', length=7)\n",
    "ax2.tick_params(which='minor', length=4)\n",
    "\n"
   ]
  },
  {
   "cell_type": "markdown",
   "id": "3beeaa6e",
   "metadata": {},
   "source": [
    "## Distance $d$"
   ]
  },
  {
   "cell_type": "code",
   "execution_count": null,
   "id": "c717c9af",
   "metadata": {},
   "outputs": [],
   "source": []
  },
  {
   "cell_type": "code",
   "execution_count": 20,
   "id": "d1e7aa02",
   "metadata": {},
   "outputs": [
    {
     "name": "stdout",
     "output_type": "stream",
     "text": [
      "Min:  17.490887052723025\n",
      "Max:  99.94813098472454\n"
     ]
    }
   ],
   "source": [
    "print('Min: ', df['Distance'].min())\n",
    "print('Max: ', df['Distance'].max())"
   ]
  },
  {
   "cell_type": "code",
   "execution_count": 21,
   "id": "0aa8cf99",
   "metadata": {},
   "outputs": [],
   "source": [
    "DBin = np.linspace(0, 100, 20) \n",
    "num_DBin = len(DBin) - 1\n",
    "DBin_midpoints = (DBin[:-1] + DBin[1:]) / 2"
   ]
  },
  {
   "cell_type": "code",
   "execution_count": 22,
   "id": "624f40cb",
   "metadata": {},
   "outputs": [
    {
     "name": "stdout",
     "output_type": "stream",
     "text": [
      "Period range = 0.000 - 5.263, Sensitivity = 0.000\n",
      "Period range = 5.263 - 10.526, Sensitivity = 0.000\n",
      "Period range = 10.526 - 15.789, Sensitivity = 0.000\n",
      "Period range = 15.789 - 21.053, Sensitivity = 0.000\n",
      "Period range = 21.053 - 26.316, Sensitivity = 0.000\n",
      "Period range = 26.316 - 31.579, Sensitivity = 0.000\n",
      "Period range = 31.579 - 36.842, Sensitivity = 0.000\n",
      "Period range = 36.842 - 42.105, Sensitivity = 0.000\n",
      "Period range = 42.105 - 47.368, Sensitivity = 0.000\n",
      "Period range = 47.368 - 52.632, Sensitivity = 0.000\n",
      "Period range = 52.632 - 57.895, Sensitivity = 0.000\n",
      "Period range = 57.895 - 63.158, Sensitivity = 0.000\n",
      "Period range = 63.158 - 68.421, Sensitivity = 0.000\n",
      "Period range = 68.421 - 73.684, Sensitivity = 0.000\n",
      "Period range = 73.684 - 78.947, Sensitivity = 0.036\n",
      "Period range = 78.947 - 84.211, Sensitivity = 0.000\n",
      "Period range = 84.211 - 89.474, Sensitivity = 0.048\n",
      "Period range = 89.474 - 94.737, Sensitivity = 0.000\n",
      "Period range = 94.737 - 100.000, Sensitivity = 0.029\n"
     ]
    },
    {
     "name": "stderr",
     "output_type": "stream",
     "text": [
      "/var/folders/p9/hcwv87bd7lxfdw1nmx4wt8d00000gn/T/ipykernel_72516/2195376765.py:21: RuntimeWarning: invalid value encountered in double_scalars\n",
      "  sensitivity_DBin[i] = num_detected_DBin[i]/ num_planets_per_DBin[i]\n",
      "/var/folders/p9/hcwv87bd7lxfdw1nmx4wt8d00000gn/T/ipykernel_72516/2195376765.py:22: RuntimeWarning: invalid value encountered in double_scalars\n",
      "  detection_uncertainty_DBin[i] = np.sqrt(num_detected_DBin[i])/ num_planets_per_DBin[i]\n"
     ]
    }
   ],
   "source": [
    "num_planets_per_DBin       = np.zeros(num_DBin)\n",
    "num_detected_DBin         = np.zeros(num_DBin)\n",
    "sensitivity_DBin          = np.zeros(num_DBin)\n",
    "detection_uncertainty_DBin = np.zeros(num_DBin)\n",
    "\n",
    "# Iterate through each Period bin\n",
    "for i, M in enumerate(DBin[:-1]):\n",
    "        \n",
    "    # Mask to determine if data falls within the current Meriod-mass bin\n",
    "    mask = (df['Distance'] >= DBin[i]) & (df['Distance'] < DBin[i+1])\n",
    "\n",
    "    # Determine the number of detected Mlanets in the current bin\n",
    "    detected = mask & (df['Detection'] == 1)\n",
    "\n",
    "    # Find the number of Mlanets/data Moints in the current bin\n",
    "    num_planets_per_DBin[i] = mask.sum()\n",
    "\n",
    "    # Find the number of detected Mlanets in the current bin\n",
    "    num_detected_DBin[i] = detected.sum()\n",
    "\n",
    "    sensitivity_DBin[i] = num_detected_DBin[i]/ num_planets_per_DBin[i]\n",
    "    detection_uncertainty_DBin[i] = np.sqrt(num_detected_DBin[i])/ num_planets_per_DBin[i]\n",
    "    \n",
    "    print(f\"Period range = {DBin[i]:.3f} - {DBin[i+1]:.3f}, Sensitivity = {sensitivity_Pbins[i]:.3f}\")"
   ]
  },
  {
   "cell_type": "code",
   "execution_count": 23,
   "id": "b869b4e3",
   "metadata": {},
   "outputs": [
    {
     "name": "stderr",
     "output_type": "stream",
     "text": [
      "No handles with labels found to put in legend.\n",
      "No handles with labels found to put in legend.\n"
     ]
    },
    {
     "data": {
      "image/png": "[encoded data removed]",
      "text/plain": [
       "<Figure size 936x720 with 2 Axes>"
      ]
     },
     "metadata": {
      "needs_background": "light"
     },
     "output_type": "display_data"
    }
   ],
   "source": [
    "import matplotlib.pyplot as plt\n",
    "import numpy as np\n",
    "\n",
    "# Create a figure and axes\n",
    "fig, ax1 = plt.subplots(figsize=(13, 10))\n",
    "\n",
    "# Plot the first set of bars with the primary y-axis (left)\n",
    "ax1.bar(DBin_midpoints,\n",
    "       sensitivity_DBin,\n",
    "       width=np.diff(DBin),\n",
    "       color=my_colours[4], \n",
    "       alpha=alpha, \n",
    "       edgecolor='black',\n",
    "       align=\"edge\")\n",
    "\n",
    "\n",
    "# Create a secondary y-axis for the second set of bars (right)\n",
    "ax2 = ax1.twinx()\n",
    "ax2.bar(DBin_midpoints,\n",
    "       num_detected_DBin,\n",
    "       width=np.diff(DBin),\n",
    "       color=my_colours[4], \n",
    "       alpha=0.5, \n",
    "       edgecolor='black',\n",
    "       align=\"edge\")\n",
    "\n",
    "ax2.set_ylabel('Data 2', fontsize=14)\n",
    "ax2.tick_params(axis='y')\n",
    "\n",
    "# Add legend\n",
    "ax1.legend(loc='upper left')\n",
    "ax2.legend(loc='upper right')\n",
    "\n",
    "\n",
    "\n",
    "# Axes labels \n",
    "ax1.set_xlabel('Distance [pc]', fontsize=axis_label_font)\n",
    "\n",
    "ax1.set_ylabel('Detection Fraction', fontsize=axis_label_font)\n",
    "ax2.set_ylabel('Detection Count', fontsize=axis_label_font)\n",
    "\n",
    "\n",
    "# Set x-axis tick parameters\n",
    "ax1.tick_params(labelsize=axis_numbers_font, which='major', length=7)\n",
    "ax1.tick_params(which='minor', length=4)\n",
    "\n",
    "ax2.tick_params(labelsize=axis_numbers_font, which='major', length=7)\n",
    "ax2.tick_params(which='minor', length=4)\n",
    "\n"
   ]
  },
  {
   "cell_type": "code",
   "execution_count": 24,
   "id": "d3f396da",
   "metadata": {},
   "outputs": [
    {
     "data": {
      "image/png": "[encoded data removed]",
      "text/plain": [
       "<Figure size 1440x1008 with 4 Axes>"
      ]
     },
     "metadata": {
      "needs_background": "light"
     },
     "output_type": "display_data"
    }
   ],
   "source": [
    "cs = 5\n",
    "\n",
    "# Create a 4x4 figure of histograms\n",
    "fig, axs = plt.subplots(2, 2, figsize=(20, 14))\n",
    "\n",
    "# Plot histogram for period (top left)\n",
    "axs[0, 0].bar(Pbin_midpoints,\n",
    "       sensitivity_Pbins,\n",
    "       yerr=detection_uncertainty_Pbins,\n",
    "       capsize=cs,\n",
    "       width=Pbar_width,\n",
    "       color=my_colours[6], \n",
    "       alpha=alpha, \n",
    "       edgecolor='black',\n",
    "       align=\"edge\")\n",
    "\n",
    "axs[0,0].set_xscale('log')\n",
    "\n",
    "# Plot histogram for distance (bottom left)\n",
    "axs[0, 1].bar(DBin_midpoints,\n",
    "       sensitivity_DBin,\n",
    "       yerr=detection_uncertainty_DBin,\n",
    "       capsize=cs,\n",
    "       width=np.diff(DBin),\n",
    "       color=my_colours[4], \n",
    "       alpha=alpha, \n",
    "       edgecolor='black',\n",
    "       align=\"edge\")\n",
    "\n",
    "# Plot histogram stellar mass (bottom right)\n",
    "axs[1, 0].bar(MstarBin_midpoints,\n",
    "       sensitivity_MstarBin,\n",
    "       yerr=detection_uncertainty_MstarBin,\n",
    "       capsize=cs,\n",
    "       width = np.diff(MstarBin),\n",
    "       color=my_colours[3], \n",
    "       alpha=alpha, \n",
    "       edgecolor='black',\n",
    "       align=\"edge\")\n",
    "\n",
    "# Plot histogram stellar mass (bottom right)\n",
    "axs[1, 1].bar(SNBin_midpoints,\n",
    "       sensitivity_SNBin,\n",
    "       yerr=detection_uncertainty_SNBin,\n",
    "       capsize=cs,\n",
    "       width=np.diff(SNBin),\n",
    "       color=my_colours[5], \n",
    "       alpha=alpha, \n",
    "       edgecolor='black',\n",
    "       align=\"edge\")\n",
    "\n",
    "\n",
    "# Axes labels \n",
    "axs[0,0].set_xlabel('Orbital Period, $P$ [years]', fontsize=axis_label_font)\n",
    "axs[0, 1].set_xlabel('Distance, $d$ [pc]', fontsize=axis_label_font)\n",
    "axs[1, 0].set_xlabel('Stellar Mass, $M_*$ [$M_\\odot$]', fontsize=axis_label_font)\n",
    "axs[1, 1].set_xlabel('$S/N$', fontsize=axis_label_font)\n",
    "\n",
    "for i in range(2):\n",
    "    for j in range(2):\n",
    "        axs[i, j].set_ylabel('Detection Fraction', fontsize=axis_label_font)\n",
    "        axs[i, j].tick_params(labelsize=axis_numbers_font, which='major', length=7)\n",
    "        axs[i, j].tick_params(which='minor', length=4)\n",
    "\n",
    "for i in range(1):\n",
    "    for j in range(2):\n",
    "        # Make x-axis lo\n",
    "        \n",
    "        # Make axes not scientific notation\n",
    "        axs[i, j].xaxis.set_major_formatter(ScalarFormatter(useMathText=True))\n",
    "        # axs[i, j].yaxis.set_major_formatter(ScalarFormatter(useMathText=True))\n",
    "\n",
    "# Add (a), (b), (c), (d)\n",
    "axs[0, 0].text(0.03, 0.9, '(a)', transform=axs[0, 0].transAxes, fontsize=axis_label_font)\n",
    "axs[0, 1].text(0.11, 0.9, '(b)', transform=axs[0, 1].transAxes, fontsize=axis_label_font)\n",
    "axs[1, 0].text(0.03, 0.9, '(c)', transform=axs[1, 0].transAxes, fontsize=axis_label_font)\n",
    "axs[1, 1].text(0.03, 0.9, '(d)', transform=axs[1, 1].transAxes, fontsize=axis_label_font)\n",
    "\n",
    "# Adjust layout\n",
    "plt.tight_layout()\n",
    "\n",
    "plt.savefig(path + 'JupiterAnalogDetectionFrac.pdf', dpi=300)"
   ]
  },
  {
   "cell_type": "markdown",
   "id": "c05110d4",
   "metadata": {},
   "source": [
    "# Detection Conditions"
   ]
  },
  {
   "cell_type": "code",
   "execution_count": 25,
   "id": "8d9b99b0",
   "metadata": {},
   "outputs": [],
   "source": [
    "# Sample data\n",
    "conditions = ['Condition 1', 'Condition 2', 'Condition 3', 'Condition 4', 'Detection']\n",
    "\n",
    "pass_c1 = np.sum(df['Condition 1'])\n",
    "pass_c2 = np.sum(df['Condition 2'])\n",
    "pass_c3 = np.sum(df['Condition 3'])\n",
    "pass_c4 = np.sum(df['Condition 4'])  \n",
    "pass_det = np.sum(df['Detection'])\n",
    "\n",
    "fail_c1 = len(df['Condition 1']) - pass_c1\n",
    "fail_c2 = len(df['Condition 2']) - pass_c2\n",
    "fail_c3 = len(df['Condition 3']) - pass_c3\n",
    "fail_c4 = len(df['Condition 4']) - pass_c4\n",
    "fail_det = len(df['Detection'])  - pass_det\n",
    "\n",
    "pass_counts = [pass_c1, pass_c2, pass_c3, pass_c4, pass_det]  # Number of signals passing each condition\n",
    "fail_counts = [fail_c1, fail_c2, fail_c3, fail_c4, fail_det]  # Number of signals failing each condition\n",
    "\n",
    "# Calculate total counts (pass + fail) for each condition\n",
    "total_counts = np.array(pass_counts) + np.array(fail_counts)"
   ]
  },
  {
   "cell_type": "code",
   "execution_count": 26,
   "id": "d7c469e2",
   "metadata": {},
   "outputs": [
    {
     "data": {
      "image/png": "[encoded data removed]",
      "text/plain": [
       "<Figure size 864x432 with 1 Axes>"
      ]
     },
     "metadata": {
      "needs_background": "light"
     },
     "output_type": "display_data"
    }
   ],
   "source": [
    "# Plotting\n",
    "fig, ax = plt.subplots(figsize=(12, 6)) \n",
    "\n",
    "# Stacked bar plot\n",
    "ax.bar(conditions, \n",
    "        pass_counts, \n",
    "        color=my_colours[3],\n",
    "        edgecolor='black',\n",
    "        alpha = alpha,\n",
    "        label='Pass')\n",
    "\n",
    "ax.bar(conditions, \n",
    "        fail_counts, \n",
    "        bottom=pass_counts, \n",
    "        color=detection_colours[0], \n",
    "        edgecolor='black',\n",
    "        alpha = alpha,\n",
    "        label='Fail')\n",
    "\n",
    "\n",
    "#ax.set_xlabel('Conditions',fontsize = paper_axis_label_fs)\n",
    "ax.set_ylabel('Number of Signals', fontsize = axis_label_font)\n",
    "\n",
    "# plt.title('Pass/Fail Ratio for Each Condition', fontsize=paper_title_fs)\n",
    "\n",
    "ax.tick_params(labelsize=20, which='major', length=7)\n",
    "ax.tick_params(which='minor', length=4)\n",
    "        \n",
    "\n",
    "plt.legend(fontsize = 15)\n",
    "\n",
    "plt.tight_layout()\n"
   ]
  },
  {
   "cell_type": "markdown",
   "id": "f01037d3",
   "metadata": {},
   "source": [
    "## P "
   ]
  },
  {
   "cell_type": "code",
   "execution_count": 27,
   "id": "3aca63b6",
   "metadata": {},
   "outputs": [],
   "source": [
    "# cumulative_sensitivity_P = []\n",
    "\n",
    "# # Iterate over each combination of N and n\n",
    "# for n in Pbins:\n",
    "#     # Filter the DataFrame based on the current values of N and n\n",
    "#     filtered_df = filtered_df = df[(inj_period_data > n)]\n",
    "\n",
    "#     # Calculate sensitivity for the filtered DataFrame\n",
    "#     sensitivity = filtered_df['Detection'].mean()  # Assuming detection column contains binary values\n",
    "\n",
    "#     # Print or store the sensitivity along with the current values of N and n\n",
    "#     print(f\"We are sensitive to {sensitivity*100:.2f}% Jupiter analog planets with P>{n} years\")\n",
    "    \n",
    "#     cumulative_sensitivity_P.append(sensitivity)"
   ]
  },
  {
   "cell_type": "code",
   "execution_count": 28,
   "id": "560bf270",
   "metadata": {},
   "outputs": [
    {
     "name": "stdout",
     "output_type": "stream",
     "text": [
      "We are sensitive to 0.55% Jupiter analog planets with P > 0.01 years\n",
      "We are sensitive to 0.56% Jupiter analog planets with P > 0.01438449888287663 years\n",
      "We are sensitive to 0.58% Jupiter analog planets with P > 0.0206913808111479 years\n",
      "We are sensitive to 0.59% Jupiter analog planets with P > 0.029763514416313176 years\n",
      "We are sensitive to 0.61% Jupiter analog planets with P > 0.04281332398719394 years\n",
      "We are sensitive to 0.63% Jupiter analog planets with P > 0.06158482110660264 years\n",
      "We are sensitive to 0.65% Jupiter analog planets with P > 0.08858667904100823 years\n",
      "We are sensitive to 0.67% Jupiter analog planets with P > 0.12742749857031335 years\n",
      "We are sensitive to 0.69% Jupiter analog planets with P > 0.18329807108324356 years\n",
      "We are sensitive to 0.72% Jupiter analog planets with P > 0.26366508987303583 years\n",
      "We are sensitive to 0.74% Jupiter analog planets with P > 0.37926901907322497 years\n",
      "We are sensitive to 0.77% Jupiter analog planets with P > 0.5455594781168517 years\n",
      "We are sensitive to 0.80% Jupiter analog planets with P > 0.7847599703514611 years\n",
      "We are sensitive to 0.83% Jupiter analog planets with P > 1.1288378916846884 years\n",
      "We are sensitive to 0.86% Jupiter analog planets with P > 1.623776739188721 years\n",
      "We are sensitive to 0.88% Jupiter analog planets with P > 2.3357214690901213 years\n",
      "We are sensitive to 0.90% Jupiter analog planets with P > 3.359818286283781 years\n",
      "We are sensitive to 0.91% Jupiter analog planets with P > 4.832930238571752 years\n",
      "We are sensitive to 0.92% Jupiter analog planets with P > 6.951927961775605 years\n"
     ]
    }
   ],
   "source": [
    "cumulative_sensitivity_P = []\n",
    "\n",
    "# Initialize variables to store cumulative detections and planets per bin\n",
    "cumulative_detections = 0\n",
    "cumulative_planets_per_bin = 0\n",
    "\n",
    "# Iterate over each Period bin\n",
    "for i, P in enumerate(Pbins[:-1]):\n",
    "    # Filter the DataFrame based on the current bin's upper limit\n",
    "    filtered_df = df[inj_period_data > P]\n",
    "\n",
    "    # Count the number of detections in the filtered DataFrame\n",
    "    detections_in_bin = filtered_df['Detection'].sum()\n",
    "\n",
    "    # Count the number of planets in the filtered DataFrame\n",
    "    planets_in_bin = len(filtered_df)\n",
    "\n",
    "    # Accumulate detections and planets\n",
    "    cumulative_detections += detections_in_bin\n",
    "    cumulative_planets_per_bin += planets_in_bin\n",
    "\n",
    "    # Calculate cumulative sensitivity\n",
    "    cumulative_sensitivity = cumulative_detections / cumulative_planets_per_bin\n",
    "\n",
    "    # Print or store the cumulative sensitivity along with the current Period bin\n",
    "    print(f\"We are sensitive to {cumulative_sensitivity * 100:.2f}% Jupiter analog planets with P > {P} years\")\n",
    "\n",
    "    cumulative_sensitivity_P.append(cumulative_sensitivity)\n"
   ]
  },
  {
   "cell_type": "code",
   "execution_count": 29,
   "id": "54a11495",
   "metadata": {},
   "outputs": [
    {
     "name": "stdout",
     "output_type": "stream",
     "text": [
      "Period range = 0.010 - 0.014, Sensitivity = 0.000\n",
      "Period range = 0.014 - 0.021, Sensitivity = 0.000\n",
      "Period range = 0.021 - 0.030, Sensitivity = 0.000\n",
      "Period range = 0.030 - 0.043, Sensitivity = 0.000\n",
      "Period range = 0.043 - 0.062, Sensitivity = 0.000\n",
      "Period range = 0.062 - 0.089, Sensitivity = 0.000\n",
      "Period range = 0.089 - 0.127, Sensitivity = 0.000\n",
      "Period range = 0.127 - 0.183, Sensitivity = 0.000\n",
      "Period range = 0.183 - 0.264, Sensitivity = 0.000\n",
      "Period range = 0.264 - 0.379, Sensitivity = 0.000\n",
      "Period range = 0.379 - 0.546, Sensitivity = 0.000\n",
      "Period range = 0.546 - 0.785, Sensitivity = 0.000\n",
      "Period range = 0.785 - 1.129, Sensitivity = 0.000\n",
      "Period range = 1.129 - 1.624, Sensitivity = 0.000\n",
      "Period range = 1.624 - 2.336, Sensitivity = 0.036\n",
      "Period range = 2.336 - 3.360, Sensitivity = 0.000\n",
      "Period range = 3.360 - 4.833, Sensitivity = 0.048\n",
      "Period range = 4.833 - 6.952, Sensitivity = 0.000\n",
      "Period range = 6.952 - 10.000, Sensitivity = 0.029\n"
     ]
    }
   ],
   "source": [
    "num_planets_per_P_bin       = np.zeros(num_Pbins)\n",
    "num_detected_Pbin           = np.zeros(num_Pbins)\n",
    "sensitivity_Pbins           = np.zeros(num_Pbins)\n",
    "detection_uncertainty_Pbins = np.zeros(num_Pbins)\n",
    "\n",
    "# Iterate through each Period bin\n",
    "for i, P in enumerate(Pbins[:-1]):\n",
    "        \n",
    "    # Mask to determine if data falls within the current Meriod-mass bin\n",
    "    mask = (inj_period_data >= Pbins[i]) & (inj_period_data < Pbins[i+1])\n",
    "\n",
    "    # Determine the number of detected Mlanets in the current bin\n",
    "    detected = mask & (df['Detection'] == 1)\n",
    "\n",
    "    # Find the number of Mlanets/data Moints in the current bin\n",
    "    num_planets_per_P_bin[i] = mask.sum()\n",
    "\n",
    "    # Find the number of detected Mlanets in the current bin\n",
    "    num_detected_Pbin[i] = detected.sum()\n",
    "\n",
    "    sensitivity_Pbins[i] = num_detected_Pbin[i]/ num_planets_per_P_bin[i]\n",
    "    \n",
    "    print(f\"Period range = {Pbins[i]:.3f} - {Pbins[i+1]:.3f}, Sensitivity = {sensitivity_Pbins[i]:.3f}\")"
   ]
  },
  {
   "cell_type": "code",
   "execution_count": 30,
   "id": "8a58a19d",
   "metadata": {},
   "outputs": [
    {
     "name": "stdout",
     "output_type": "stream",
     "text": [
      "19\n",
      "18\n",
      "19\n"
     ]
    }
   ],
   "source": [
    "print(len(Pbin_midpoints))\n",
    "print(len(cumulative_sensitivity_P[:-1]))\n",
    "print(len(sensitivity_Pbins))"
   ]
  },
  {
   "cell_type": "code",
   "execution_count": 31,
   "id": "46ef9f3c",
   "metadata": {},
   "outputs": [
    {
     "ename": "NameError",
     "evalue": "name 'n_values_P' is not defined",
     "output_type": "error",
     "traceback": [
      "\u001b[0;31m---------------------------------------------------------------------------\u001b[0m",
      "\u001b[0;31mNameError\u001b[0m                                 Traceback (most recent call last)",
      "\u001b[0;32m/var/folders/p9/hcwv87bd7lxfdw1nmx4wt8d00000gn/T/ipykernel_72516/2878626493.py\u001b[0m in \u001b[0;36m<module>\u001b[0;34m\u001b[0m\n\u001b[1;32m      1\u001b[0m \u001b[0;31m# Convert lists to numpy arrays\u001b[0m\u001b[0;34m\u001b[0m\u001b[0;34m\u001b[0m\u001b[0m\n\u001b[0;32m----> 2\u001b[0;31m \u001b[0mn_values_P\u001b[0m \u001b[0;34m=\u001b[0m \u001b[0mnp\u001b[0m\u001b[0;34m.\u001b[0m\u001b[0marray\u001b[0m\u001b[0;34m(\u001b[0m\u001b[0mn_values_P\u001b[0m\u001b[0;34m)\u001b[0m\u001b[0;34m\u001b[0m\u001b[0;34m\u001b[0m\u001b[0m\n\u001b[0m\u001b[1;32m      3\u001b[0m \u001b[0msensitivity_values_P\u001b[0m \u001b[0;34m=\u001b[0m \u001b[0mnp\u001b[0m\u001b[0;34m.\u001b[0m\u001b[0marray\u001b[0m\u001b[0;34m(\u001b[0m\u001b[0msensitivity_values_P\u001b[0m\u001b[0;34m)\u001b[0m\u001b[0;34m\u001b[0m\u001b[0;34m\u001b[0m\u001b[0m\n\u001b[1;32m      4\u001b[0m \u001b[0;34m\u001b[0m\u001b[0m\n\u001b[1;32m      5\u001b[0m \u001b[0;31m# Plot the sensitivity values as a bar graph\u001b[0m\u001b[0;34m\u001b[0m\u001b[0;34m\u001b[0m\u001b[0m\n",
      "\u001b[0;31mNameError\u001b[0m: name 'n_values_P' is not defined"
     ]
    }
   ],
   "source": [
    "# Convert lists to numpy arrays\n",
    "n_values_P = np.array(n_values_P)\n",
    "sensitivity_values_P = np.array(sensitivity_values_P)\n",
    "\n",
    "# Plot the sensitivity values as a bar graph\n",
    "fig, axs =  plt.subplots(1,1, figsize=(10, 9))\n",
    "\n",
    "axs.bar(Pbins, \n",
    "        sensitivity_values_P, \n",
    "        color='skyblue', \n",
    "        label='Sensitivity',\n",
    "        edgecolor='black',\n",
    "        alpha=0.7)\n",
    "\n",
    "# Plot the sensitivity values as a line plot on top of the bar graph\n",
    "axs.plot(n_values_P, \n",
    "         sensitivity_values_P, \n",
    "         marker='o', \n",
    "         linestyle='-', \n",
    "         color='red', \n",
    "         label='Sensitivity (line)')\n",
    "\n",
    "axs.set_xlabel('Orbital Period [years]', fontsize=axis_label_font)\n",
    "axs.set_ylabel('Detection Fraction', fontsize=axis_label_font)\n",
    "\n",
    "axs.set_xscale('log')\n",
    "\n",
    "\n",
    "# Make axes not scientific notation\n",
    "axs.xaxis.set_major_formatter(ScalarFormatter(useMathText=True))\n",
    "\n",
    "axs.tick_params(labelsize=axis_numbers_font, which='major', length=7)\n",
    "axs.tick_params(which='minor', length=4)\n",
    "\n",
    "# Set axis number size \n",
    "axs.tick_params(labelsize=axis_numbers_font, which='major', length=7)\n",
    "axs.tick_params(which='minor', length=4)\n",
    "\n",
    "\n",
    "# plt.legend()\n",
    "\n",
    "plt.show()"
   ]
  },
  {
   "cell_type": "markdown",
   "id": "1f381aec",
   "metadata": {},
   "source": [
    "## Star Mass"
   ]
  },
  {
   "cell_type": "code",
   "execution_count": null,
   "id": "c1ab2f41",
   "metadata": {},
   "outputs": [],
   "source": [
    "n_values_Mstar = np.linspace(0.08, 0.8, num=10)\n",
    "sensitivity_values_Mstar = []\n",
    "\n",
    "# Iterate over each combination of N and n\n",
    "for n in n_values_Mstar:\n",
    "    # Filter the DataFrame based on the current values of N and n\n",
    "    filtered_df = filtered_df = df[(df['Stellar Mass'] > n)]\n",
    "\n",
    "    # Calculate sensitivity for the filtered DataFrame\n",
    "    sensitivity = filtered_df['Detection'].mean()  # Assuming detection column contains binary values\n",
    "\n",
    "    # Print or store the sensitivity along with the current values of N and n\n",
    "    print(f\"We are sensitive to {sensitivity*100:.2f}% Jupiter analog planets with Mstar>{n:.2f} Msolar\")\n",
    "    \n",
    "    sensitivity_values_Mstar.append(sensitivity)"
   ]
  },
  {
   "cell_type": "code",
   "execution_count": null,
   "id": "969cb7d1",
   "metadata": {},
   "outputs": [],
   "source": [
    "# Convert lists to numpy arrays\n",
    "n_values_Mstar = np.array(n_values_Mstar)\n",
    "sensitivity_values_Mstar = np.array(sensitivity_values_Mstar)\n",
    "\n",
    "bin_width_Mstar = (n_values_Mstar.max() - n_values_Mstar.min()) / len(n_values_Mstar)\n",
    "\n",
    "# Plot the sensitivity values as a bar graph\n",
    "fig, axs =  plt.subplots(1,1, figsize=(10, 9))\n",
    "\n",
    "plt.bar(n_values_Mstar, \n",
    "        sensitivity_values_Mstar, \n",
    "        color='skyblue', \n",
    "        label='Sensitivity',\n",
    "        width=bin_width_Mstar,\n",
    "        edgecolor='black',\n",
    "        alpha=0.7)\n",
    "\n",
    "# Plot the sensitivity values as a line plot on top of the bar graph\n",
    "plt.plot(n_values_Mstar, \n",
    "         sensitivity_values_Mstar, \n",
    "         marker='o', \n",
    "         linestyle='-', \n",
    "         color='red', \n",
    "         label='Sensitivity (line)')\n",
    "\n",
    "plt.xlabel('Stellar Mass [$M_\\odot$]', fontsize=axis_label_font)\n",
    "plt.ylabel('Detection Fraction', fontsize=axis_label_font)\n",
    "\n",
    "axs.tick_params(labelsize=axis_numbers_font, which='major', length=7)\n",
    "axs.tick_params(which='minor', length=4)\n",
    "\n",
    "# Set axis number size \n",
    "axs.tick_params(labelsize=axis_numbers_font, which='major', length=7)\n",
    "axs.tick_params(which='minor', length=4)\n",
    "\n",
    "plt.show()\n"
   ]
  },
  {
   "cell_type": "markdown",
   "id": "5ac6bbe1",
   "metadata": {},
   "source": [
    "## $S/N$"
   ]
  },
  {
   "cell_type": "code",
   "execution_count": null,
   "id": "a529124e",
   "metadata": {},
   "outputs": [],
   "source": [
    "print('Min = ', df['S/N'].min())\n",
    "print('Max = ', df['S/N'].max())"
   ]
  },
  {
   "cell_type": "code",
   "execution_count": null,
   "id": "eab6f834",
   "metadata": {},
   "outputs": [],
   "source": [
    "n_values_SN"
   ]
  },
  {
   "cell_type": "code",
   "execution_count": null,
   "id": "43b330a9",
   "metadata": {},
   "outputs": [],
   "source": [
    "n_values_SN = np.linspace(df['S/N'].min(), 30, num=10)\n",
    "sensitivity_values_SN = []\n",
    "\n",
    "# Iterate over each combination of N and n\n",
    "for n in n_values_SN:\n",
    "    # Filter the DataFrame based on the current values of N and n\n",
    "    filtered_df = filtered_df = df[(df['S/N'] > n)]\n",
    "\n",
    "    # Calculate sensitivity for the filtered DataFrame\n",
    "    sensitivity = filtered_df['Detection'].mean()  # Assuming detection column contains binary values\n",
    "\n",
    "    # Print or store the sensitivity along with the current values of N and n\n",
    "    print(f\"We are sensitive to {sensitivity*100:.2f}% Jupiter analog planets with S/N>{n:.2f} \")\n",
    "    \n",
    "    sensitivity_values_SN.append(sensitivity)"
   ]
  },
  {
   "cell_type": "code",
   "execution_count": null,
   "id": "6a382c0c",
   "metadata": {},
   "outputs": [],
   "source": [
    "# Convert lists to numpy arrays\n",
    "n_values_SN = np.array(n_values_SN)\n",
    "sensitivity_values_SN = np.array(sensitivity_values_SN)\n",
    "\n",
    "bin_width_SN = (n_values_SN.max() - n_values_SN.min()) / len(n_values_SN)\n",
    "\n",
    "# Plot the sensitivity values as a bar graph\n",
    "fig, axs =  plt.subplots(1,1, figsize=(10, 9))\n",
    "\n",
    "plt.bar(n_values_SN, \n",
    "        sensitivity_values_SN, \n",
    "        color='skyblue', \n",
    "        label='Sensitivity',\n",
    "        width=bin_width_SN,\n",
    "        edgecolor='black',\n",
    "        alpha=0.7)\n",
    "\n",
    "# Plot the sensitivity values as a line plot on top of the bar graph\n",
    "plt.plot(n_values_SN, \n",
    "         sensitivity_values_SN, \n",
    "         marker='o', \n",
    "         linestyle='-', \n",
    "         color='red', \n",
    "         label='Sensitivity (line)')\n",
    "\n",
    "plt.xlabel('$S/N$', fontsize=axis_label_font)\n",
    "plt.ylabel('Detection Fraction', fontsize=axis_label_font)\n",
    "\n",
    "axs.tick_params(labelsize=axis_numbers_font, which='major', length=7)\n",
    "axs.tick_params(which='minor', length=4)\n",
    "\n",
    "# Set axis number size \n",
    "axs.tick_params(labelsize=axis_numbers_font, which='major', length=7)\n",
    "axs.tick_params(which='minor', length=4)\n",
    "\n",
    "plt.show()\n"
   ]
  },
  {
   "cell_type": "markdown",
   "id": "18307b5f",
   "metadata": {},
   "source": [
    "## Distance"
   ]
  },
  {
   "cell_type": "code",
   "execution_count": null,
   "id": "7db13baf",
   "metadata": {},
   "outputs": [],
   "source": [
    "print('Min = ', df['Distance'].min())\n",
    "print('Max = ', df['Distance'].max())"
   ]
  },
  {
   "cell_type": "code",
   "execution_count": null,
   "id": "d5d1f1be",
   "metadata": {},
   "outputs": [],
   "source": [
    "n_values_Distance = np.linspace(0, 100, num=10)\n",
    "sensitivity_values_Distance = []\n",
    "\n",
    "# Iterate over each combination of N and n\n",
    "for n in n_values_Distance:\n",
    "    # Filter the DataFrame based on the current values of N and n\n",
    "    filtered_df = filtered_df = df[(df['Distance'] > n)]\n",
    "\n",
    "    # Calculate sensitivity for the filtered DataFrame\n",
    "    sensitivity = filtered_df['Detection'].mean()  # Assuming detection column contains binary values\n",
    "\n",
    "    # Print or store the sensitivity along with the current values of N and n\n",
    "    print(f\"We are sensitive to {sensitivity*100:.2f}% Jupiter analog planets with Distance>{n:.2f} pc\")\n",
    "    \n",
    "    sensitivity_values_Distance.append(sensitivity)"
   ]
  },
  {
   "cell_type": "code",
   "execution_count": null,
   "id": "ad55b51d",
   "metadata": {},
   "outputs": [],
   "source": []
  }
 ],
 "metadata": {
  "kernelspec": {
   "display_name": "Python 3 (ipykernel)",
   "language": "python",
   "name": "python3"
  },
  "language_info": {
   "codemirror_mode": {
    "name": "ipython",
    "version": 3
   },
   "file_extension": ".py",
   "mimetype": "text/x-python",
   "name": "python",
   "nbconvert_exporter": "python",
   "pygments_lexer": "ipython3",
   "version": "3.9.7"
  },
  "varInspector": {
   "cols": {
    "lenName": 16,
    "lenType": 16,
    "lenVar": 40
   },
   "kernels_config": {
    "python": {
     "delete_cmd_postfix": "",
     "delete_cmd_prefix": "del ",
     "library": "var_list.py",
     "varRefreshCmd": "print(var_dic_list())"
    },
    "r": {
     "delete_cmd_postfix": ") ",
     "delete_cmd_prefix": "rm(",
     "library": "var_list.r",
     "varRefreshCmd": "cat(var_dic_list()) "
    }
   },
   "types_to_exclude": [
    "module",
    "function",
    "builtin_function_or_method",
    "instance",
    "_Feature"
   ],
   "window_display": false
  }
 },
 "nbformat": 4,
 "nbformat_minor": 5
}
