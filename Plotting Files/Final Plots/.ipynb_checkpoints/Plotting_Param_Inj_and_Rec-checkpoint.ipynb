{
 "cells": [
  {
   "cell_type": "code",
   "execution_count": 1,
   "id": "1293611c",
   "metadata": {
    "code_folding": []
   },
   "outputs": [],
   "source": [
    "# Importing things \n",
    "import numpy as np\n",
    "import pandas as pd \n",
    "import seaborn as sns\n",
    "\n",
    "import matplotlib.pyplot as plt\n",
    "\n",
    "import matplotlib.patches as mpatches\n",
    "\n",
    "import matplotlib.ticker as mticker\n",
    "from matplotlib.ticker import (MultipleLocator, AutoMinorLocator)\n",
    "from matplotlib.ticker import ScalarFormatter\n",
    "\n",
    "import matplotlib.colors as colors\n",
    "from matplotlib.colors import ListedColormap\n",
    "from matplotlib.colors import LogNorm\n",
    "from matplotlib.colors import Normalize\n",
    "\n",
    "from scipy.ndimage import gaussian_filter\n",
    "\n",
    "from matplotlib.gridspec import GridSpec"
   ]
  },
  {
   "cell_type": "markdown",
   "id": "331dcc32",
   "metadata": {},
   "source": [
    "## Plotting preferences"
   ]
  },
  {
   "cell_type": "code",
   "execution_count": 3,
   "id": "a758abcd",
   "metadata": {},
   "outputs": [],
   "source": [
    "# Font sizes\n",
    "axis_label_font = 30\n",
    "axis_numbers_font = 25\n",
    "title_font = 50\n",
    "legend_font = 50\n",
    "\n",
    "path = '/Users/audreyburggraf/Desktop/THESIS/Figures/'"
   ]
  },
  {
   "cell_type": "code",
   "execution_count": 4,
   "id": "71f85625",
   "metadata": {},
   "outputs": [
    {
     "data": {
      "text/html": [
       "<svg  width=\"220\" height=\"55\"><rect x=\"0\" y=\"0\" width=\"55\" height=\"55\" style=\"fill:#db5f57;stroke-width:2;stroke:rgb(255,255,255)\"/><rect x=\"55\" y=\"0\" width=\"55\" height=\"55\" style=\"fill:#91db57;stroke-width:2;stroke:rgb(255,255,255)\"/><rect x=\"110\" y=\"0\" width=\"55\" height=\"55\" style=\"fill:#57d3db;stroke-width:2;stroke:rgb(255,255,255)\"/><rect x=\"165\" y=\"0\" width=\"55\" height=\"55\" style=\"fill:#a157db;stroke-width:2;stroke:rgb(255,255,255)\"/></svg>"
      ],
      "text/plain": [
       "[(0.86, 0.3712, 0.33999999999999997),\n",
       " (0.5688000000000001, 0.86, 0.33999999999999997),\n",
       " (0.33999999999999997, 0.8287999999999999, 0.86),\n",
       " (0.6311999999999998, 0.33999999999999997, 0.86)]"
      ]
     },
     "execution_count": 4,
     "metadata": {},
     "output_type": "execute_result"
    }
   ],
   "source": [
    "detection_colours = sns.color_palette(\"hls\", 4)\n",
    "detection_colours"
   ]
  },
  {
   "cell_type": "code",
   "execution_count": 5,
   "id": "724f5eb9",
   "metadata": {},
   "outputs": [
    {
     "data": {
      "text/html": [
       "<svg  width=\"440\" height=\"55\"><rect x=\"0\" y=\"0\" width=\"55\" height=\"55\" style=\"fill:#482878;stroke-width:2;stroke:rgb(255,255,255)\"/><rect x=\"55\" y=\"0\" width=\"55\" height=\"55\" style=\"fill:#3e4989;stroke-width:2;stroke:rgb(255,255,255)\"/><rect x=\"110\" y=\"0\" width=\"55\" height=\"55\" style=\"fill:#31688e;stroke-width:2;stroke:rgb(255,255,255)\"/><rect x=\"165\" y=\"0\" width=\"55\" height=\"55\" style=\"fill:#26828e;stroke-width:2;stroke:rgb(255,255,255)\"/><rect x=\"220\" y=\"0\" width=\"55\" height=\"55\" style=\"fill:#1f9e89;stroke-width:2;stroke:rgb(255,255,255)\"/><rect x=\"275\" y=\"0\" width=\"55\" height=\"55\" style=\"fill:#35b779;stroke-width:2;stroke:rgb(255,255,255)\"/><rect x=\"330\" y=\"0\" width=\"55\" height=\"55\" style=\"fill:#6ece58;stroke-width:2;stroke:rgb(255,255,255)\"/><rect x=\"385\" y=\"0\" width=\"55\" height=\"55\" style=\"fill:#b5de2b;stroke-width:2;stroke:rgb(255,255,255)\"/></svg>"
      ],
      "text/plain": [
       "[(0.281412, 0.155834, 0.469201),\n",
       " (0.244972, 0.287675, 0.53726),\n",
       " (0.190631, 0.407061, 0.556089),\n",
       " (0.147607, 0.511733, 0.557049),\n",
       " (0.119699, 0.61849, 0.536347),\n",
       " (0.20803, 0.718701, 0.472873),\n",
       " (0.430983, 0.808473, 0.346476),\n",
       " (0.709898, 0.868751, 0.169257)]"
      ]
     },
     "execution_count": 5,
     "metadata": {},
     "output_type": "execute_result"
    }
   ],
   "source": [
    "dark_colours = sns.color_palette(\"viridis\", 8)\n",
    "dark_colours"
   ]
  },
  {
   "cell_type": "code",
   "execution_count": 6,
   "id": "d55922ed",
   "metadata": {},
   "outputs": [
    {
     "data": {
      "text/html": [
       "<svg  width=\"440\" height=\"55\"><rect x=\"0\" y=\"0\" width=\"55\" height=\"55\" style=\"fill:#f77189;stroke-width:2;stroke:rgb(255,255,255)\"/><rect x=\"55\" y=\"0\" width=\"55\" height=\"55\" style=\"fill:#ce9032;stroke-width:2;stroke:rgb(255,255,255)\"/><rect x=\"110\" y=\"0\" width=\"55\" height=\"55\" style=\"fill:#97a431;stroke-width:2;stroke:rgb(255,255,255)\"/><rect x=\"165\" y=\"0\" width=\"55\" height=\"55\" style=\"fill:#32b166;stroke-width:2;stroke:rgb(255,255,255)\"/><rect x=\"220\" y=\"0\" width=\"55\" height=\"55\" style=\"fill:#36ada4;stroke-width:2;stroke:rgb(255,255,255)\"/><rect x=\"275\" y=\"0\" width=\"55\" height=\"55\" style=\"fill:#39a7d0;stroke-width:2;stroke:rgb(255,255,255)\"/><rect x=\"330\" y=\"0\" width=\"55\" height=\"55\" style=\"fill:#a48cf4;stroke-width:2;stroke:rgb(255,255,255)\"/><rect x=\"385\" y=\"0\" width=\"55\" height=\"55\" style=\"fill:#f561dd;stroke-width:2;stroke:rgb(255,255,255)\"/></svg>"
      ],
      "text/plain": [
       "[(0.9677975592919913, 0.44127456009157356, 0.5358103155058701),\n",
       " (0.8087954113106306, 0.5634700050056693, 0.19502642696727285),\n",
       " (0.5920891529639701, 0.6418467016378244, 0.1935069134991043),\n",
       " (0.19783576093349015, 0.6955516966063037, 0.3995301037444499),\n",
       " (0.21044753832183283, 0.6773105080456748, 0.6433941168468681),\n",
       " (0.22335772267769388, 0.6565792317435265, 0.8171355503265633),\n",
       " (0.6423044349219739, 0.5497680051256467, 0.9582651433656727),\n",
       " (0.9603888539940703, 0.3814317878772117, 0.8683117650835491)]"
      ]
     },
     "execution_count": 6,
     "metadata": {},
     "output_type": "execute_result"
    }
   ],
   "source": [
    "my_colours = sns.color_palette(\"husl\", 8)\n",
    "my_colours"
   ]
  },
  {
   "cell_type": "code",
   "execution_count": 7,
   "id": "2b5a57bc",
   "metadata": {},
   "outputs": [],
   "source": [
    "cmap_reds = ListedColormap(plt.cm.get_cmap('Reds', 10)(np.arange(10)))\n",
    "cmap_greens = ListedColormap(plt.cm.get_cmap('Greens', 10)(np.arange(10)))\n",
    "cmap_purples = ListedColormap(plt.cm.get_cmap('Purples', 10)(np.arange(10)))"
   ]
  },
  {
   "cell_type": "code",
   "execution_count": 8,
   "id": "33b3f707",
   "metadata": {},
   "outputs": [],
   "source": [
    "alpha = 0.7"
   ]
  },
  {
   "cell_type": "markdown",
   "id": "bf6f5123",
   "metadata": {},
   "source": [
    "## Data "
   ]
  },
  {
   "cell_type": "code",
   "execution_count": 9,
   "id": "e5b1da1f",
   "metadata": {},
   "outputs": [
    {
     "data": {
      "text/html": [
       "<div>\n",
       "<style scoped>\n",
       "    .dataframe tbody tr th:only-of-type {\n",
       "        vertical-align: middle;\n",
       "    }\n",
       "\n",
       "    .dataframe tbody tr th {\n",
       "        vertical-align: top;\n",
       "    }\n",
       "\n",
       "    .dataframe thead th {\n",
       "        text-align: right;\n",
       "    }\n",
       "</style>\n",
       "<table border=\"1\" class=\"dataframe\">\n",
       "  <thead>\n",
       "    <tr style=\"text-align: right;\">\n",
       "      <th></th>\n",
       "      <th>Inj.0P alpha0</th>\n",
       "      <th>Inj.0P delta0</th>\n",
       "      <th>Inj.0P pmra</th>\n",
       "      <th>Inj.0P pmdec</th>\n",
       "      <th>Inj.0P prlx</th>\n",
       "      <th>Inj.1P alpha0</th>\n",
       "      <th>Inj.1P delta0</th>\n",
       "      <th>Inj.1P pmra</th>\n",
       "      <th>Inj.1P pmdec</th>\n",
       "      <th>Inj.1P prlx</th>\n",
       "      <th>...</th>\n",
       "      <th>Condition 4</th>\n",
       "      <th>Detection</th>\n",
       "      <th>Astrometric Signature</th>\n",
       "      <th>Stellar Mass</th>\n",
       "      <th>Scaling Factor</th>\n",
       "      <th>Distance</th>\n",
       "      <th>Semi-Major Axis</th>\n",
       "      <th>Sigma fov</th>\n",
       "      <th>Noise</th>\n",
       "      <th>S/N</th>\n",
       "    </tr>\n",
       "  </thead>\n",
       "  <tbody>\n",
       "    <tr>\n",
       "      <th>0</th>\n",
       "      <td>288.503923</td>\n",
       "      <td>-68.088209</td>\n",
       "      <td>-44.551743</td>\n",
       "      <td>-37.022875</td>\n",
       "      <td>10.061523</td>\n",
       "      <td>288.503923</td>\n",
       "      <td>-68.088209</td>\n",
       "      <td>-44.551743</td>\n",
       "      <td>-37.022875</td>\n",
       "      <td>10.061523</td>\n",
       "      <td>...</td>\n",
       "      <td>0</td>\n",
       "      <td>0</td>\n",
       "      <td>56.262094</td>\n",
       "      <td>0.154116</td>\n",
       "      <td>1.272583</td>\n",
       "      <td>99.388534</td>\n",
       "      <td>1.136793</td>\n",
       "      <td>333.149854</td>\n",
       "      <td>471.145042</td>\n",
       "      <td>0.151966</td>\n",
       "    </tr>\n",
       "    <tr>\n",
       "      <th>1</th>\n",
       "      <td>138.039973</td>\n",
       "      <td>-3.377097</td>\n",
       "      <td>-163.019718</td>\n",
       "      <td>-32.490641</td>\n",
       "      <td>11.956663</td>\n",
       "      <td>138.039973</td>\n",
       "      <td>-3.377097</td>\n",
       "      <td>-163.019718</td>\n",
       "      <td>-32.490641</td>\n",
       "      <td>11.956663</td>\n",
       "      <td>...</td>\n",
       "      <td>0</td>\n",
       "      <td>0</td>\n",
       "      <td>1.022224</td>\n",
       "      <td>0.302706</td>\n",
       "      <td>10.244061</td>\n",
       "      <td>83.635376</td>\n",
       "      <td>0.088245</td>\n",
       "      <td>96.705137</td>\n",
       "      <td>136.761717</td>\n",
       "      <td>0.076569</td>\n",
       "    </tr>\n",
       "    <tr>\n",
       "      <th>2</th>\n",
       "      <td>286.695890</td>\n",
       "      <td>-0.244781</td>\n",
       "      <td>-3.752077</td>\n",
       "      <td>-4.259140</td>\n",
       "      <td>10.096390</td>\n",
       "      <td>286.695890</td>\n",
       "      <td>-0.244781</td>\n",
       "      <td>-3.752077</td>\n",
       "      <td>-4.259140</td>\n",
       "      <td>10.096390</td>\n",
       "      <td>...</td>\n",
       "      <td>0</td>\n",
       "      <td>0</td>\n",
       "      <td>18.653842</td>\n",
       "      <td>0.078149</td>\n",
       "      <td>21.004269</td>\n",
       "      <td>99.045303</td>\n",
       "      <td>0.021571</td>\n",
       "      <td>427.687033</td>\n",
       "      <td>604.840802</td>\n",
       "      <td>0.647791</td>\n",
       "    </tr>\n",
       "    <tr>\n",
       "      <th>3</th>\n",
       "      <td>115.135052</td>\n",
       "      <td>0.740534</td>\n",
       "      <td>26.853094</td>\n",
       "      <td>-84.685793</td>\n",
       "      <td>10.182806</td>\n",
       "      <td>115.135052</td>\n",
       "      <td>0.740534</td>\n",
       "      <td>26.853094</td>\n",
       "      <td>-84.685793</td>\n",
       "      <td>10.182806</td>\n",
       "      <td>...</td>\n",
       "      <td>0</td>\n",
       "      <td>0</td>\n",
       "      <td>36.973503</td>\n",
       "      <td>0.386243</td>\n",
       "      <td>3.250046</td>\n",
       "      <td>98.204759</td>\n",
       "      <td>0.442331</td>\n",
       "      <td>91.103628</td>\n",
       "      <td>128.839986</td>\n",
       "      <td>0.932673</td>\n",
       "    </tr>\n",
       "    <tr>\n",
       "      <th>4</th>\n",
       "      <td>262.038776</td>\n",
       "      <td>-14.041731</td>\n",
       "      <td>3.605326</td>\n",
       "      <td>-100.931148</td>\n",
       "      <td>17.001777</td>\n",
       "      <td>262.038776</td>\n",
       "      <td>-14.041731</td>\n",
       "      <td>3.605326</td>\n",
       "      <td>-100.931148</td>\n",
       "      <td>17.001777</td>\n",
       "      <td>...</td>\n",
       "      <td>0</td>\n",
       "      <td>0</td>\n",
       "      <td>0.974203</td>\n",
       "      <td>0.440679</td>\n",
       "      <td>16.434061</td>\n",
       "      <td>58.817380</td>\n",
       "      <td>0.053255</td>\n",
       "      <td>42.230649</td>\n",
       "      <td>59.723156</td>\n",
       "      <td>0.268072</td>\n",
       "    </tr>\n",
       "    <tr>\n",
       "      <th>...</th>\n",
       "      <td>...</td>\n",
       "      <td>...</td>\n",
       "      <td>...</td>\n",
       "      <td>...</td>\n",
       "      <td>...</td>\n",
       "      <td>...</td>\n",
       "      <td>...</td>\n",
       "      <td>...</td>\n",
       "      <td>...</td>\n",
       "      <td>...</td>\n",
       "      <td>...</td>\n",
       "      <td>...</td>\n",
       "      <td>...</td>\n",
       "      <td>...</td>\n",
       "      <td>...</td>\n",
       "      <td>...</td>\n",
       "      <td>...</td>\n",
       "      <td>...</td>\n",
       "      <td>...</td>\n",
       "      <td>...</td>\n",
       "      <td>...</td>\n",
       "    </tr>\n",
       "    <tr>\n",
       "      <th>9995</th>\n",
       "      <td>282.780442</td>\n",
       "      <td>12.718451</td>\n",
       "      <td>8.229683</td>\n",
       "      <td>-11.514563</td>\n",
       "      <td>11.754215</td>\n",
       "      <td>282.780442</td>\n",
       "      <td>12.718451</td>\n",
       "      <td>8.229683</td>\n",
       "      <td>-11.514563</td>\n",
       "      <td>11.754215</td>\n",
       "      <td>...</td>\n",
       "      <td>0</td>\n",
       "      <td>0</td>\n",
       "      <td>223.892367</td>\n",
       "      <td>0.073716</td>\n",
       "      <td>1.132350</td>\n",
       "      <td>85.075868</td>\n",
       "      <td>1.038787</td>\n",
       "      <td>642.528879</td>\n",
       "      <td>908.673054</td>\n",
       "      <td>0.279005</td>\n",
       "    </tr>\n",
       "    <tr>\n",
       "      <th>9996</th>\n",
       "      <td>24.961276</td>\n",
       "      <td>20.537176</td>\n",
       "      <td>47.458743</td>\n",
       "      <td>-84.013850</td>\n",
       "      <td>16.444935</td>\n",
       "      <td>24.961276</td>\n",
       "      <td>20.537176</td>\n",
       "      <td>47.458743</td>\n",
       "      <td>-84.013850</td>\n",
       "      <td>16.444935</td>\n",
       "      <td>...</td>\n",
       "      <td>0</td>\n",
       "      <td>0</td>\n",
       "      <td>17.471990</td>\n",
       "      <td>0.519612</td>\n",
       "      <td>3.435857</td>\n",
       "      <td>60.808996</td>\n",
       "      <td>0.453412</td>\n",
       "      <td>38.329614</td>\n",
       "      <td>54.206261</td>\n",
       "      <td>1.107460</td>\n",
       "    </tr>\n",
       "    <tr>\n",
       "      <th>9997</th>\n",
       "      <td>174.263014</td>\n",
       "      <td>-4.139514</td>\n",
       "      <td>20.895641</td>\n",
       "      <td>-87.415298</td>\n",
       "      <td>12.324102</td>\n",
       "      <td>174.263014</td>\n",
       "      <td>-4.139514</td>\n",
       "      <td>20.895641</td>\n",
       "      <td>-87.415298</td>\n",
       "      <td>12.324102</td>\n",
       "      <td>...</td>\n",
       "      <td>0</td>\n",
       "      <td>0</td>\n",
       "      <td>9.774783</td>\n",
       "      <td>0.175999</td>\n",
       "      <td>18.785303</td>\n",
       "      <td>81.141817</td>\n",
       "      <td>0.032814</td>\n",
       "      <td>167.592378</td>\n",
       "      <td>237.011414</td>\n",
       "      <td>0.774740</td>\n",
       "    </tr>\n",
       "    <tr>\n",
       "      <th>9998</th>\n",
       "      <td>288.104504</td>\n",
       "      <td>-29.673692</td>\n",
       "      <td>5.719830</td>\n",
       "      <td>-123.392905</td>\n",
       "      <td>11.458365</td>\n",
       "      <td>288.104504</td>\n",
       "      <td>-29.673692</td>\n",
       "      <td>5.719830</td>\n",
       "      <td>-123.392905</td>\n",
       "      <td>11.458365</td>\n",
       "      <td>...</td>\n",
       "      <td>0</td>\n",
       "      <td>0</td>\n",
       "      <td>7.164172</td>\n",
       "      <td>0.263144</td>\n",
       "      <td>11.641484</td>\n",
       "      <td>87.272488</td>\n",
       "      <td>0.071018</td>\n",
       "      <td>113.439746</td>\n",
       "      <td>160.428028</td>\n",
       "      <td>0.519869</td>\n",
       "    </tr>\n",
       "    <tr>\n",
       "      <th>9999</th>\n",
       "      <td>308.556030</td>\n",
       "      <td>31.070632</td>\n",
       "      <td>167.354060</td>\n",
       "      <td>-24.717448</td>\n",
       "      <td>18.785055</td>\n",
       "      <td>308.556030</td>\n",
       "      <td>31.070632</td>\n",
       "      <td>167.354060</td>\n",
       "      <td>-24.717448</td>\n",
       "      <td>18.785055</td>\n",
       "      <td>...</td>\n",
       "      <td>0</td>\n",
       "      <td>0</td>\n",
       "      <td>4.875529</td>\n",
       "      <td>0.170601</td>\n",
       "      <td>6.574152</td>\n",
       "      <td>53.233806</td>\n",
       "      <td>0.131680</td>\n",
       "      <td>119.880995</td>\n",
       "      <td>169.537330</td>\n",
       "      <td>0.189058</td>\n",
       "    </tr>\n",
       "  </tbody>\n",
       "</table>\n",
       "<p>10000 rows × 52 columns</p>\n",
       "</div>"
      ],
      "text/plain": [
       "      Inj.0P alpha0  Inj.0P delta0  Inj.0P pmra  Inj.0P pmdec  Inj.0P prlx  \\\n",
       "0        288.503923     -68.088209   -44.551743    -37.022875    10.061523   \n",
       "1        138.039973      -3.377097  -163.019718    -32.490641    11.956663   \n",
       "2        286.695890      -0.244781    -3.752077     -4.259140    10.096390   \n",
       "3        115.135052       0.740534    26.853094    -84.685793    10.182806   \n",
       "4        262.038776     -14.041731     3.605326   -100.931148    17.001777   \n",
       "...             ...            ...          ...           ...          ...   \n",
       "9995     282.780442      12.718451     8.229683    -11.514563    11.754215   \n",
       "9996      24.961276      20.537176    47.458743    -84.013850    16.444935   \n",
       "9997     174.263014      -4.139514    20.895641    -87.415298    12.324102   \n",
       "9998     288.104504     -29.673692     5.719830   -123.392905    11.458365   \n",
       "9999     308.556030      31.070632   167.354060    -24.717448    18.785055   \n",
       "\n",
       "      Inj.1P alpha0  Inj.1P delta0  Inj.1P pmra  Inj.1P pmdec  Inj.1P prlx  \\\n",
       "0        288.503923     -68.088209   -44.551743    -37.022875    10.061523   \n",
       "1        138.039973      -3.377097  -163.019718    -32.490641    11.956663   \n",
       "2        286.695890      -0.244781    -3.752077     -4.259140    10.096390   \n",
       "3        115.135052       0.740534    26.853094    -84.685793    10.182806   \n",
       "4        262.038776     -14.041731     3.605326   -100.931148    17.001777   \n",
       "...             ...            ...          ...           ...          ...   \n",
       "9995     282.780442      12.718451     8.229683    -11.514563    11.754215   \n",
       "9996      24.961276      20.537176    47.458743    -84.013850    16.444935   \n",
       "9997     174.263014      -4.139514    20.895641    -87.415298    12.324102   \n",
       "9998     288.104504     -29.673692     5.719830   -123.392905    11.458365   \n",
       "9999     308.556030      31.070632   167.354060    -24.717448    18.785055   \n",
       "\n",
       "      ...  Condition 4  Detection  Astrometric Signature  Stellar Mass  \\\n",
       "0     ...            0          0              56.262094      0.154116   \n",
       "1     ...            0          0               1.022224      0.302706   \n",
       "2     ...            0          0              18.653842      0.078149   \n",
       "3     ...            0          0              36.973503      0.386243   \n",
       "4     ...            0          0               0.974203      0.440679   \n",
       "...   ...          ...        ...                    ...           ...   \n",
       "9995  ...            0          0             223.892367      0.073716   \n",
       "9996  ...            0          0              17.471990      0.519612   \n",
       "9997  ...            0          0               9.774783      0.175999   \n",
       "9998  ...            0          0               7.164172      0.263144   \n",
       "9999  ...            0          0               4.875529      0.170601   \n",
       "\n",
       "      Scaling Factor   Distance  Semi-Major Axis   Sigma fov       Noise  \\\n",
       "0           1.272583  99.388534         1.136793  333.149854  471.145042   \n",
       "1          10.244061  83.635376         0.088245   96.705137  136.761717   \n",
       "2          21.004269  99.045303         0.021571  427.687033  604.840802   \n",
       "3           3.250046  98.204759         0.442331   91.103628  128.839986   \n",
       "4          16.434061  58.817380         0.053255   42.230649   59.723156   \n",
       "...              ...        ...              ...         ...         ...   \n",
       "9995        1.132350  85.075868         1.038787  642.528879  908.673054   \n",
       "9996        3.435857  60.808996         0.453412   38.329614   54.206261   \n",
       "9997       18.785303  81.141817         0.032814  167.592378  237.011414   \n",
       "9998       11.641484  87.272488         0.071018  113.439746  160.428028   \n",
       "9999        6.574152  53.233806         0.131680  119.880995  169.537330   \n",
       "\n",
       "           S/N  \n",
       "0     0.151966  \n",
       "1     0.076569  \n",
       "2     0.647791  \n",
       "3     0.932673  \n",
       "4     0.268072  \n",
       "...        ...  \n",
       "9995  0.279005  \n",
       "9996  1.107460  \n",
       "9997  0.774740  \n",
       "9998  0.519869  \n",
       "9999  0.189058  \n",
       "\n",
       "[10000 rows x 52 columns]"
      ]
     },
     "execution_count": 9,
     "metadata": {},
     "output_type": "execute_result"
    }
   ],
   "source": [
    "# Importing data file \n",
    "df = pd.read_csv('/Users/audreyburggraf/Desktop/THESIS/Data Files/bigrun_10000_after_changes.csv')\n",
    "df"
   ]
  },
  {
   "cell_type": "code",
   "execution_count": 10,
   "id": "e0459d53",
   "metadata": {},
   "outputs": [
    {
     "data": {
      "text/plain": [
       "Index(['Inj.0P alpha0', 'Inj.0P delta0', 'Inj.0P pmra', 'Inj.0P pmdec',\n",
       "       'Inj.0P prlx', 'Inj.1P alpha0', 'Inj.1P delta0', 'Inj.1P pmra',\n",
       "       'Inj.1P pmdec', 'Inj.1P prlx', 'Inj.1P e', 'Inj.1P omega',\n",
       "       'Inj.1P Omega', 'Inj.1P cosi', 'Inj.1P log(m_p)', 'Inj.1P log(P)',\n",
       "       'Inj.1P tp', 'Rec.0P alpha0', 'Rec.0P delta0', 'Rec.0P pmra',\n",
       "       'Rec.0P pmdec', 'Rec0P prlx', 'Rec.1P alpha0', 'Rec.1P delta0',\n",
       "       'Rec.1P pmra', 'Rec.1P pmdec', 'Rec.1P prlx', 'Rec.1P e',\n",
       "       'Rec.1P omega', 'Rec.1P Omega', 'Rec.1P cosi', 'Rec.1P log(m_p)',\n",
       "       'Rec.1P log(P)', 'Rec.1P tp', 'np_chi_sq', 'wp_chi_sq', 'npBIC',\n",
       "       'wpBIC', 'DeltaBIC', 'Condition 1', 'Condition 2', 'Condition 3',\n",
       "       'Condition 4', 'Detection', 'Astrometric Signature', 'Stellar Mass',\n",
       "       'Scaling Factor', 'Distance', 'Semi-Major Axis', 'Sigma fov', 'Noise',\n",
       "       'S/N'],\n",
       "      dtype='object')"
      ]
     },
     "execution_count": 10,
     "metadata": {},
     "output_type": "execute_result"
    }
   ],
   "source": [
    "df.columns"
   ]
  },
  {
   "cell_type": "code",
   "execution_count": 93,
   "id": "f1bdd80b",
   "metadata": {},
   "outputs": [],
   "source": [
    "# Data in non-log units\n",
    "inj_mass_data   = 10**df['Inj.1P log(m_p)'] # [M_J]\n",
    "inj_period_data = 10**df['Inj.1P log(P)'] # [years]\n",
    "\n",
    "rec_mass_data   = 10**df['Rec.1P log(m_p)'] # [M_J]\n",
    "rec_period_data = 10**df['Rec.1P log(P)'] # [years]"
   ]
  },
  {
   "cell_type": "code",
   "execution_count": 94,
   "id": "2e0b5790",
   "metadata": {
    "code_folding": [
     0
    ]
   },
   "outputs": [
    {
     "data": {
      "image/png": "[encoded data removed]",
      "text/plain": [
       "<Figure size 720x648 with 1 Axes>"
      ]
     },
     "metadata": {
      "needs_background": "light"
     },
     "output_type": "display_data"
    }
   ],
   "source": [
    "# Injecton and recovery plot: M_p\n",
    "fig, axs = plt.subplots(1, 1, figsize=(10,9))\n",
    "\n",
    "# Plot scatter for mass\n",
    "axs.scatter(df['Inj.1P log(m_p)'], \n",
    "               df['Rec.1P log(m_p)'],\n",
    "               color = dark_colours[1])\n",
    "\n",
    "# Plot line for mass\n",
    "axs.plot(df['Inj.1P log(m_p)'], \n",
    "            df['Inj.1P log(m_p)'],\n",
    "            color = 'red',\n",
    "            lw = 2)\n",
    "\n",
    "# Plot titles\n",
    "# axs.set_title('Planet Mass [$\\log_{10}(M_{\\mathrm{Jupiter}}$)]', fontsize=title_font)\n",
    "# axs[1].set_title('Orbital Period [$\\log_{10}$(years)]', fontsize=title_font)\n",
    "\n",
    "axs.set_xlabel('Inj. Planet Mass [$M_{\\mathrm{Jupiter}}$]', fontsize=axis_label_font)\n",
    "axs.set_ylabel('Rec. Planet Mass [$M_{\\mathrm{Jupiter}}$]', fontsize=axis_label_font)\n",
    "\n",
    "\n",
    "\n",
    "# Make axes log\n",
    "axs.set_xscale('log')\n",
    "axs.set_yscale('log')\n",
    "    \n",
    "    # Make axes decimals and not scientific notation\n",
    "#     axs.xaxis.set_major_formatter(ScalarFormatter(useMathText=True, useOffset=False))\n",
    "#     axs.yaxis.set_major_formatter(ScalarFormatter(useMathText=True, useOffset=False))\n",
    "    \n",
    "# Set axis number size \n",
    "axs.tick_params(labelsize=axis_numbers_font, which='major', length=7)\n",
    "axs.tick_params(which='minor', length=4)\n",
    "\n",
    "# Add (a)\n",
    "axs.text(0.05, 0.9, '(a)', transform=axs.transAxes, fontsize=axis_label_font)\n",
    "\n",
    "# Adjust layout\n",
    "plt.tight_layout()\n",
    "\n",
    "plt.savefig(path + 'InjvsRecPlanetMass.pdf', dpi=300)"
   ]
  },
  {
   "cell_type": "code",
   "execution_count": 96,
   "id": "4ebfe69d",
   "metadata": {
    "code_folding": [
     0
    ]
   },
   "outputs": [
    {
     "data": {
      "image/png": "[encoded data removed]",
      "text/plain": [
       "<Figure size 720x648 with 1 Axes>"
      ]
     },
     "metadata": {
      "needs_background": "light"
     },
     "output_type": "display_data"
    }
   ],
   "source": [
    "# Injecton and recovery plot: P\n",
    "fig, axs = plt.subplots(1, 1, figsize=(10,9))\n",
    "\n",
    "axs.scatter(df['Inj.1P log(P)'], \n",
    "               df['Rec.1P log(P)'], \n",
    "               color = dark_colours[1])\n",
    "\n",
    "axs.plot(df['Inj.1P log(P)'], \n",
    "            df['Inj.1P log(P)'],\n",
    "            color = 'red',\n",
    "            lw = 2)\n",
    "\n",
    "axs.set_xlabel('Inj. Orbital Period [years]', fontsize=axis_label_font)\n",
    "axs.set_ylabel('Rec. Orbital Period [years]', fontsize=axis_label_font)\n",
    "\n",
    "# Make axes log\n",
    "axs.set_xscale('log')\n",
    "axs.set_yscale('log')\n",
    "    \n",
    "    # Make axes decimals and not scientific notation\n",
    "#     axs[i].xaxis.set_major_formatter(ScalarFormatter(useMathText=True, useOffset=False))\n",
    "#     axs[i].yaxis.set_major_formatter(ScalarFormatter(useMathText=True, useOffset=False))\n",
    "    \n",
    "# Set axis number size \n",
    "axs.tick_params(labelsize=axis_numbers_font, which='major', length=7)\n",
    "axs.tick_params(which='minor', length=4)\n",
    "\n",
    "# add (b)\n",
    "axs.text(0.05, 0.9, '(b)', transform=axs.transAxes, fontsize=axis_label_font)\n",
    "\n",
    "# Adjust layout\n",
    "plt.tight_layout()\n",
    "\n",
    "plt.savefig(path + 'InjvsRecPeriod.pdf', dpi=300)"
   ]
  },
  {
   "cell_type": "markdown",
   "id": "9794e827",
   "metadata": {},
   "source": [
    "# Parameter Recovery for the 0-planet fit"
   ]
  },
  {
   "cell_type": "code",
   "execution_count": 56,
   "id": "bd102241",
   "metadata": {
    "code_folding": [
     0
    ]
   },
   "outputs": [],
   "source": [
    "# # Injecton and recovery plot: alpha_0"
   ]
  },
  {
   "cell_type": "code",
   "execution_count": 57,
   "id": "1c57cbf0",
   "metadata": {
    "code_folding": [
     0
    ]
   },
   "outputs": [],
   "source": [
    "# # Injecton and recovery plot: delta_0"
   ]
  },
  {
   "cell_type": "code",
   "execution_count": 58,
   "id": "80250760",
   "metadata": {
    "code_folding": [
     0
    ]
   },
   "outputs": [],
   "source": [
    "# # Injecton and recovery plot: mu_alpha"
   ]
  },
  {
   "cell_type": "code",
   "execution_count": 59,
   "id": "03bf6db0",
   "metadata": {
    "code_folding": [
     0
    ]
   },
   "outputs": [],
   "source": [
    "# # Injecton and recovery plot: mu_delta"
   ]
  },
  {
   "cell_type": "code",
   "execution_count": 60,
   "id": "dc93f0cf",
   "metadata": {
    "code_folding": [
     0
    ]
   },
   "outputs": [],
   "source": [
    "# # Injecton and recovery plot: parallax"
   ]
  },
  {
   "cell_type": "markdown",
   "id": "77591608",
   "metadata": {},
   "source": [
    "# Parameter Recovery for the 1-planet fit \n",
    "(without planet mass or orbital period)"
   ]
  },
  {
   "cell_type": "code",
   "execution_count": 61,
   "id": "bfc02523",
   "metadata": {
    "code_folding": [
     0
    ]
   },
   "outputs": [],
   "source": [
    "# # Injecton and recovery plot: alpha_0"
   ]
  },
  {
   "cell_type": "code",
   "execution_count": 62,
   "id": "1ea903d6",
   "metadata": {
    "code_folding": [
     0
    ]
   },
   "outputs": [],
   "source": [
    "# Injecton and recovery plot: delta_0"
   ]
  },
  {
   "cell_type": "code",
   "execution_count": 63,
   "id": "c62803a0",
   "metadata": {
    "code_folding": [
     0
    ]
   },
   "outputs": [],
   "source": [
    "# # Create a 2x1 figure of histograms\n",
    "# fig, axs = plt.subplots(1, 1, figsize=(10,9))\n",
    "\n",
    "# axs.scatter(df['Inj.1P pmra'], \n",
    "#                df['Rec.1P pmra'],\n",
    "#                color = dark_colours[1])\n",
    "\n",
    "# axs.plot(df['Inj.1P pmra'], \n",
    "#             df['Inj.1P pmra'],\n",
    "#             color = 'red',\n",
    "#             lw = 2)\n",
    "\n",
    "\n",
    "# axs.set_xlabel('Inj.1P $\\mu_\\\\alpha$ [mas/year]', fontsize=axis_label_font)\n",
    "# axs.set_ylabel('Rec.1P $\\mu_\\\\alpha$ [mas/year]', fontsize=axis_label_font)\n",
    "\n",
    "    \n",
    "# # Set axis number size \n",
    "# axs.tick_params(labelsize=axis_numbers_font, which='major', length=7)\n",
    "# axs.tick_params(which='minor', length=4)\n",
    "\n",
    "# # Add (c)\n",
    "# axs.text(0.05, 0.9, '(c)', transform=axs.transAxes, fontsize=axis_label_font)\n",
    "\n",
    "# # Adjust layout\n",
    "# plt.tight_layout()\n",
    "\n",
    "# #plt.savefig(path + 'InjvsRecPlanetMass.pdf', dpi=300)"
   ]
  },
  {
   "cell_type": "code",
   "execution_count": 64,
   "id": "7fe95a85",
   "metadata": {
    "code_folding": [
     0
    ]
   },
   "outputs": [],
   "source": [
    "# # Create a 2x1 figure of histograms\n",
    "# fig, axs = plt.subplots(1, 1, figsize=(10,9))\n",
    "\n",
    "# axs.scatter(df['Inj.1P pmdec'], \n",
    "#                df['Rec.1P pmdec'],\n",
    "#                color = dark_colours[1])\n",
    "\n",
    "# axs.plot(df['Inj.1P pmdec'], \n",
    "#             df['Inj.1P pmdec'],\n",
    "#             color = 'red',\n",
    "#             lw = 2)\n",
    "\n",
    "\n",
    "# axs.set_xlabel('Inj.1P $\\mu_\\delta$ [mas/year]', fontsize=axis_label_font)\n",
    "# axs.set_ylabel('Rec.1P $\\mu_\\delta$ [mas/year]', fontsize=axis_label_font)\n",
    "\n",
    "    \n",
    "# # Set axis number size \n",
    "# axs.tick_params(labelsize=axis_numbers_font, which='major', length=7)\n",
    "# axs.tick_params(which='minor', length=4)\n",
    "\n",
    "# # Add (d)\n",
    "# axs.text(0.05, 0.9, '(d)', transform=axs.transAxes, fontsize=axis_label_font)\n",
    "\n",
    "# # Adjust layout\n",
    "# plt.tight_layout()\n",
    "\n",
    "# #plt.savefig(path + 'InjvsRecPlanetMass.pdf', dpi=300)"
   ]
  },
  {
   "cell_type": "code",
   "execution_count": 65,
   "id": "2eac9369",
   "metadata": {
    "code_folding": [
     0
    ]
   },
   "outputs": [],
   "source": [
    "# # Create a 2x1 figure of histograms\n",
    "# fig, axs = plt.subplots(1, 1, figsize=(10,9))\n",
    "\n",
    "# axs.scatter(df['Inj.1P prlx'], \n",
    "#                df['Rec.1P prlx'],\n",
    "#                color = dark_colours[1])\n",
    "\n",
    "# axs.plot(df['Inj.1P prlx'], \n",
    "#             df['Inj.1P prlx'],\n",
    "#             color = 'red',\n",
    "#             lw = 2)\n",
    "\n",
    "\n",
    "# axs.set_xlabel('Inj.1P $\\\\varpi$ [mas]', fontsize=axis_label_font)\n",
    "# axs.set_ylabel('Rec.1P $\\\\varpi$ [mas]', fontsize=axis_label_font)\n",
    "\n",
    "    \n",
    "# # Set axis number size \n",
    "# axs.tick_params(labelsize=axis_numbers_font, which='major', length=7)\n",
    "# axs.tick_params(which='minor', length=4)\n",
    "\n",
    "# # Add (e)\n",
    "# axs.text(0.05, 0.9, '(e)', transform=axs.transAxes, fontsize=axis_label_font)\n",
    "\n",
    "# # Adjust layout\n",
    "# plt.tight_layout()\n",
    "\n",
    "# #plt.savefig(path + 'InjvsRecPlanetMass.pdf', dpi=300)"
   ]
  },
  {
   "cell_type": "code",
   "execution_count": 66,
   "id": "3c17fe4a",
   "metadata": {
    "code_folding": [
     0
    ]
   },
   "outputs": [],
   "source": [
    "# # Create a 2x1 figure of histograms\n",
    "# fig, axs = plt.subplots(1, 1, figsize=(10,9))\n",
    "\n",
    "# axs.scatter(df['Inj.1P e'], \n",
    "#                df['Rec.1P e'],\n",
    "#                color = dark_colours[1])\n",
    "\n",
    "# axs.plot(df['Inj.1P e'], \n",
    "#             df['Inj.1P e'],\n",
    "#             color = 'red',\n",
    "#             lw = 2)\n",
    "\n",
    "\n",
    "# axs.set_xlabel('Inj.1P $e$', fontsize=axis_label_font)\n",
    "# axs.set_ylabel('Rec.1P $e$ ', fontsize=axis_label_font)\n",
    "\n",
    "    \n",
    "# # Set axis number size \n",
    "# axs.tick_params(labelsize=axis_numbers_font, which='major', length=7)\n",
    "# axs.tick_params(which='minor', length=4)\n",
    "\n",
    "# # Add (f)\n",
    "# axs.text(0.05, 0.9, '(f)', transform=axs.transAxes, fontsize=axis_label_font)\n",
    "\n",
    "# # Adjust layout\n",
    "# plt.tight_layout()\n",
    "\n",
    "# #plt.savefig(path + 'InjvsRecPlanetMass.pdf', dpi=300)"
   ]
  },
  {
   "cell_type": "code",
   "execution_count": 67,
   "id": "638973e5",
   "metadata": {
    "code_folding": [
     0
    ]
   },
   "outputs": [],
   "source": [
    "# # Create a 2x1 figure of histograms\n",
    "# fig, axs = plt.subplots(1, 1, figsize=(10,9))\n",
    "\n",
    "# axs.scatter(df['Inj.1P omega'], \n",
    "#                df['Rec.1P omega'],\n",
    "#                color = dark_colours[1])\n",
    "\n",
    "# axs.plot(df['Inj.1P omega'], \n",
    "#             df['Inj.1P omega'],\n",
    "#             color = 'red',\n",
    "#             lw = 2)\n",
    "\n",
    "\n",
    "# axs.set_xlabel('Inj.1P $\\omega$ [rad]', fontsize=axis_label_font)\n",
    "# axs.set_ylabel('Rec.1P $\\omega$ [rad]', fontsize=axis_label_font)\n",
    "\n",
    "    \n",
    "# # Set axis number size \n",
    "# axs.tick_params(labelsize=axis_numbers_font, which='major', length=7)\n",
    "# axs.tick_params(which='minor', length=4)\n",
    "\n",
    "# # Add (g)\n",
    "# axs.text(0.05, 0.9, '(g)', transform=axs.transAxes, fontsize=axis_label_font)\n",
    "\n",
    "# # Adjust layout\n",
    "# plt.tight_layout()\n",
    "\n",
    "# #plt.savefig(path + 'InjvsRecPlanetMass.pdf', dpi=300)"
   ]
  },
  {
   "cell_type": "code",
   "execution_count": 68,
   "id": "38c78051",
   "metadata": {
    "code_folding": [
     0
    ]
   },
   "outputs": [],
   "source": [
    "# # Create a 2x1 figure of histograms\n",
    "# fig, axs = plt.subplots(1, 1, figsize=(10,9))\n",
    "\n",
    "# axs.scatter(df['Inj.1P Omega'], \n",
    "#                df['Rec.1P Omega'],\n",
    "#                color = dark_colours[1])\n",
    "\n",
    "# axs.plot(df['Inj.1P Omega'], \n",
    "#             df['Inj.1P Omega'],\n",
    "#             color = 'red',\n",
    "#             lw = 2)\n",
    "\n",
    "\n",
    "# axs.set_xlabel('Inj.1P $\\Omega$ [rad]', fontsize=axis_label_font)\n",
    "# axs.set_ylabel('Rec.1P $\\Omega$ [rad]', fontsize=axis_label_font)\n",
    "\n",
    "    \n",
    "# # Set axis number size \n",
    "# axs.tick_params(labelsize=axis_numbers_font, which='major', length=7)\n",
    "# axs.tick_params(which='minor', length=4)\n",
    "\n",
    "# # Add (h)\n",
    "# axs.text(0.05, 0.9, '(h)', transform=axs.transAxes, fontsize=axis_label_font)\n",
    "\n",
    "# # Adjust layout\n",
    "# plt.tight_layout()\n",
    "\n",
    "# #plt.savefig(path + 'InjvsRecPlanetMass.pdf', dpi=300)"
   ]
  },
  {
   "cell_type": "code",
   "execution_count": 69,
   "id": "a4d9535f",
   "metadata": {
    "code_folding": [
     0
    ]
   },
   "outputs": [],
   "source": [
    "# # Create a 2x1 figure of histograms\n",
    "# fig, axs = plt.subplots(1, 1, figsize=(10,9))\n",
    "\n",
    "# axs.scatter(df['Inj.1P cosi'], \n",
    "#                df['Rec.1P cosi'],\n",
    "#                color = dark_colours[1])\n",
    "\n",
    "# axs.plot(df['Inj.1P cosi'], \n",
    "#             df['Inj.1P cosi'],\n",
    "#             color = 'red',\n",
    "#             lw = 2)\n",
    "\n",
    "\n",
    "# axs.set_xlabel('Inj.1P $\\cos i$', fontsize=axis_label_font)\n",
    "# axs.set_ylabel('Rec.1P $\\cos i$', fontsize=axis_label_font)\n",
    "\n",
    "    \n",
    "# # Set axis number size \n",
    "# axs.tick_params(labelsize=axis_numbers_font, which='major', length=7)\n",
    "# axs.tick_params(which='minor', length=4)\n",
    "\n",
    "# # Add (i)\n",
    "# axs.text(0.05, 0.9, '(i)', transform=axs.transAxes, fontsize=axis_label_font)\n",
    "\n",
    "# # Adjust layout\n",
    "# plt.tight_layout()\n",
    "\n",
    "# #plt.savefig(path + 'InjvsRecPlanetMass.pdf', dpi=300)"
   ]
  },
  {
   "cell_type": "code",
   "execution_count": 70,
   "id": "89866945",
   "metadata": {
    "code_folding": [
     0
    ]
   },
   "outputs": [],
   "source": [
    "# # Create a 2x1 figure of histograms\n",
    "# fig, axs = plt.subplots(1, 1, figsize=(10,9))\n",
    "\n",
    "# axs.scatter(df['Inj.1P tp'], \n",
    "#                df['Rec.1P tp'],\n",
    "#                color = dark_colours[1])\n",
    "\n",
    "# axs.plot(df['Inj.1P tp'], \n",
    "#             df['Inj.1P tp'],\n",
    "#             color = 'red',\n",
    "#             lw = 2)\n",
    "\n",
    "\n",
    "# axs.set_xlabel('Inj.1P $t_p$ [years]', fontsize=axis_label_font)\n",
    "# axs.set_ylabel('Rec.1P $t_p$ [years]', fontsize=axis_label_font)\n",
    "\n",
    "    \n",
    "# # Set axis number size \n",
    "# axs.tick_params(labelsize=axis_numbers_font, which='major', length=7)\n",
    "# axs.tick_params(which='minor', length=4)\n",
    "\n",
    "# # Add (j)\n",
    "# axs.text(0.05, 0.9, '(j)', transform=axs.transAxes, fontsize=axis_label_font)\n",
    "\n",
    "# # Adjust layout\n",
    "# plt.tight_layout()\n",
    "\n",
    "# #plt.savefig(path + 'InjvsRecPlanetMass.pdf', dpi=300)"
   ]
  }
 ],
 "metadata": {
  "kernelspec": {
   "display_name": "Python 3 (ipykernel)",
   "language": "python",
   "name": "python3"
  },
  "language_info": {
   "codemirror_mode": {
    "name": "ipython",
    "version": 3
   },
   "file_extension": ".py",
   "mimetype": "text/x-python",
   "name": "python",
   "nbconvert_exporter": "python",
   "pygments_lexer": "ipython3",
   "version": "3.9.7"
  },
  "varInspector": {
   "cols": {
    "lenName": 16,
    "lenType": 16,
    "lenVar": 40
   },
   "kernels_config": {
    "python": {
     "delete_cmd_postfix": "",
     "delete_cmd_prefix": "del ",
     "library": "var_list.py",
     "varRefreshCmd": "print(var_dic_list())"
    },
    "r": {
     "delete_cmd_postfix": ") ",
     "delete_cmd_prefix": "rm(",
     "library": "var_list.r",
     "varRefreshCmd": "cat(var_dic_list()) "
    }
   },
   "types_to_exclude": [
    "module",
    "function",
    "builtin_function_or_method",
    "instance",
    "_Feature"
   ],
   "window_display": false
  }
 },
 "nbformat": 4,
 "nbformat_minor": 5
}
