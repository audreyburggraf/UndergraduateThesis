{
 "cells": [
  {
   "cell_type": "code",
   "execution_count": 1,
   "id": "7441bb4b",
   "metadata": {},
   "outputs": [],
   "source": [
    "import numpy as np\n",
    "\n",
    "\n",
    "import pandas as pd \n",
    "\n",
    "# importing functions\n",
    "import sys\n",
    "sys.path.append('/Users/audreyburggraf/Desktop/THESIS/Functions')\n",
    "\n",
    "from functions import *\n",
    "from unit_conversion_functions import *\n",
    "from fitting_functions import *\n",
    "from signal_functions import *\n",
    "from printing_functions import *"
   ]
  },
  {
   "cell_type": "code",
   "execution_count": 2,
   "id": "7cd34e00",
   "metadata": {},
   "outputs": [],
   "source": [
    "df = pd.read_csv('/Users/audreyburggraf/Desktop/THESIS/Gaia Data Files/gaia_data.csv')\n",
    "\n",
    "#  add the absolute gaia K band magnitude and stellar mass\n",
    "df[\"M_ks\"] = df.ks_m + 5 + 5*np.log10(df.parallax/1000)\n",
    "\n",
    "# cut off certain range \n",
    "df = df[(4 < df.M_ks) & (df.M_ks < 11)].reset_index(drop=True)\n",
    "\n",
    "# set the stellar mass \n",
    "df[\"stellar_mass\"] =  find_star_mass(df.M_ks)"
   ]
  },
  {
   "cell_type": "code",
   "execution_count": 3,
   "id": "d3dba068",
   "metadata": {},
   "outputs": [
    {
     "name": "stdout",
     "output_type": "stream",
     "text": [
      "Planetary Parameters:\n",
      "e              : 0.11099658554486974  [unitless]\n",
      "omega          : 5.470972432660289  [radians]\n",
      "Omega          : 1.2988547595412585  [radians]\n",
      "cos_i          : 0.9186109079379216  [unitless]\n",
      "log10(m_planet): 0.27656348124786  [log10(Jupiter masses)]\n",
      "log10(P_orb)   : -0.16476841129206288  [log10(years)]\n",
      "t_peri         : 0.5240927031418511  [years]\n",
      " \n",
      "Gaia Parameters:\n",
      "alpha0         : 177.55505174044077  [degrees]\n",
      "delta0         : -52.96074908143371  [degrees]\n",
      "mu_alpha       : -134.1902063718185  [mas/year]\n",
      "mu_delta       : 16.283442467935146  [mas/year]\n",
      "parallax       : 16.28087886268879  [mas]\n",
      "m_star         : 0.6599415904544755  [M_sun]\n",
      "x              : 199326\n",
      " \n",
      "Astrometric signature: 30.098325405669197 [uas]\n"
     ]
    }
   ],
   "source": [
    "N_synthetic = 70\n",
    "N_model = 70000\n",
    "\n",
    "np.random.seed(5) \n",
    "\n",
    "\n",
    "# call function\n",
    "inj_params_0P, inj_params_1P, synthetic_signal, model_signal, error_components, alpha, m_star = find_signal_components(df, N_synthetic, N_model)"
   ]
  },
  {
   "cell_type": "code",
   "execution_count": 4,
   "id": "cf645562",
   "metadata": {},
   "outputs": [],
   "source": [
    "# Unpack the result statement\n",
    "\n",
    "# Unpack synthetic signal components and times\n",
    "(prop_ra_synthetic, prop_dec_synthetic, \n",
    " parallax_ra_synthetic, parallax_dec_synthetic, \n",
    " planetary_ra_synthetic, planetary_dec_synthetic, \n",
    " times_synthetic) = synthetic_signal\n",
    "\n",
    "# Unpack model signal components and times\n",
    "(prop_ra_model, prop_dec_model, \n",
    " parallax_ra_model, parallax_dec_model, \n",
    " planetary_ra_model, planetary_dec_model, \n",
    " times_model) = model_signal\n",
    "\n",
    "# Unpack noise and error components\n",
    "(noise_ra, noise_dec, errors) = error_components"
   ]
  },
  {
   "cell_type": "code",
   "execution_count": 5,
   "id": "bc930225",
   "metadata": {},
   "outputs": [],
   "source": [
    "noise_ra_std = np.std(noise_ra)\n",
    "noise_dec_std = np.std(noise_dec)\n",
    "\n",
    "# Calculate the overall standard deviation of noise\n",
    "overall_noise_std = np.sqrt(noise_ra_std**2 + noise_dec_std**2)  # Combine RA and Dec noise in quadrature\n",
    "\n",
    "# Alternatively, you can calculate the average standard deviation\n",
    "average_noise_std = (noise_ra_std + noise_dec_std) / 2  # Average of RA and Dec noise standard deviations"
   ]
  },
  {
   "cell_type": "code",
   "execution_count": 6,
   "id": "f9e64e86",
   "metadata": {},
   "outputs": [
    {
     "name": "stdout",
     "output_type": "stream",
     "text": [
      "Overall =  41.48626110132821\n",
      "Average =  29.307919398407144\n"
     ]
    }
   ],
   "source": [
    "print('Overall = ', overall_noise_std)\n",
    "print('Average = ', average_noise_std)"
   ]
  },
  {
   "cell_type": "code",
   "execution_count": 7,
   "id": "2767fcd0",
   "metadata": {},
   "outputs": [],
   "source": [
    "signal_ra_obs  = prop_ra_synthetic + parallax_ra_synthetic + planetary_ra_synthetic + noise_ra\n",
    "signal_dec_obs = prop_dec_synthetic + parallax_dec_synthetic + planetary_dec_synthetic + noise_dec"
   ]
  },
  {
   "cell_type": "code",
   "execution_count": 8,
   "id": "8fdb658f",
   "metadata": {},
   "outputs": [
    {
     "name": "stdout",
     "output_type": "stream",
     "text": [
      "alpha0  : real=177.55505, fitted=177.55791, difference=0.00286\n",
      "delta0  : real=-52.96075, fitted=-53.17082, difference=0.21007\n",
      "mu_alpha: real=-134.19021, fitted=-134.18631, difference=0.00390\n",
      "mu_delta: real=16.28344, fitted=16.27814, difference=0.00530\n",
      "parallax: real=16.28088, fitted=16.21529, difference=0.06559\n"
     ]
    }
   ],
   "source": [
    "fitted_params_0P, np_chi_sq = no_planet_fit(inj_params_0P, signal_ra_obs, signal_dec_obs, noise_ra, noise_dec, times_synthetic)\n",
    "\n",
    "print_parameter_differences(inj_params_0P, fitted_params_0P, return_type='np')"
   ]
  },
  {
   "cell_type": "code",
   "execution_count": 1,
   "id": "2e6e4dce",
   "metadata": {},
   "outputs": [
    {
     "ename": "NameError",
     "evalue": "name 'noise_ra' is not defined",
     "output_type": "error",
     "traceback": [
      "\u001b[0;31m---------------------------------------------------------------------------\u001b[0m",
      "\u001b[0;31mNameError\u001b[0m                                 Traceback (most recent call last)",
      "\u001b[0;32m/var/folders/p9/hcwv87bd7lxfdw1nmx4wt8d00000gn/T/ipykernel_71564/2032617899.py\u001b[0m in \u001b[0;36m<module>\u001b[0;34m\u001b[0m\n\u001b[0;32m----> 1\u001b[0;31m \u001b[0mnoise_ra\u001b[0m\u001b[0;34m\u001b[0m\u001b[0;34m\u001b[0m\u001b[0m\n\u001b[0m",
      "\u001b[0;31mNameError\u001b[0m: name 'noise_ra' is not defined"
     ]
    }
   ],
   "source": [
    "noise_ra"
   ]
  },
  {
   "cell_type": "code",
   "execution_count": 2,
   "id": "2285a231",
   "metadata": {},
   "outputs": [
    {
     "ename": "NameError",
     "evalue": "name 'noise_dec' is not defined",
     "output_type": "error",
     "traceback": [
      "\u001b[0;31m---------------------------------------------------------------------------\u001b[0m",
      "\u001b[0;31mNameError\u001b[0m                                 Traceback (most recent call last)",
      "\u001b[0;32m/var/folders/p9/hcwv87bd7lxfdw1nmx4wt8d00000gn/T/ipykernel_71564/895225569.py\u001b[0m in \u001b[0;36m<module>\u001b[0;34m\u001b[0m\n\u001b[0;32m----> 1\u001b[0;31m \u001b[0mnoise_dec\u001b[0m\u001b[0;34m\u001b[0m\u001b[0;34m\u001b[0m\u001b[0m\n\u001b[0m",
      "\u001b[0;31mNameError\u001b[0m: name 'noise_dec' is not defined"
     ]
    }
   ],
   "source": [
    "noise_dec"
   ]
  },
  {
   "cell_type": "code",
   "execution_count": 9,
   "id": "19d58e2f",
   "metadata": {
    "scrolled": true
   },
   "outputs": [
    {
     "name": "stdout",
     "output_type": "stream",
     "text": [
      "alpha0         : real=177.55505, fitted=177.55727, difference=0.00222\n",
      "delta0         : real=-52.96075, fitted=-52.97655, difference=0.01580\n",
      "mu_alpha       : real=-134.19021, fitted=-134.19090, difference=0.00069\n",
      "mu_delta       : real=16.28344, fitted=16.28373, difference=0.00028\n",
      "parallax       : real=16.28088, fitted=16.27503, difference=0.00585\n",
      "e              : real=0.11100, fitted=0.11214, difference=0.00114\n",
      "omega          : real=5.47097, fitted=5.36529, difference=0.10568\n",
      "Omega          : real=1.29885, fitted=1.13336, difference=0.16550\n",
      "cos_i          : real=0.91861, fitted=0.84760, difference=0.07101\n",
      "log10(m_planet): real=0.27656, fitted=0.27647, difference=0.00009\n",
      "log10(P_orb)   : real=-0.16477, fitted=-0.16547, difference=0.00070\n",
      "t_peri         : real=0.52409, fitted=0.49713, difference=0.02696\n"
     ]
    }
   ],
   "source": [
    "fitted_params_1P, wp_chi_sq = one_planet_fit(inj_params_1P, m_star, signal_ra_obs, signal_dec_obs, noise_ra, noise_dec, times_synthetic)\n",
    "\n",
    "print_parameter_differences(inj_params_1P, fitted_params_1P, return_type='wp')"
   ]
  },
  {
   "cell_type": "code",
   "execution_count": 10,
   "id": "730380cd",
   "metadata": {},
   "outputs": [
    {
     "name": "stdout",
     "output_type": "stream",
     "text": [
      "np_BIC = 7.048443332812278\n",
      "wp_BIC = 42.6615517868888\n",
      "Delta_BIC = 35.613108454076524\n",
      "detection (yes = 1, no=0) = 0\n",
      "conditions satisfied (Delta BIC>20, log(P) within err, mass within err) = [0 1 1]\n"
     ]
    }
   ],
   "source": [
    "detection_result = detection_function(np_chi_sq, wp_chi_sq, inj_params_1P, fitted_params_1P, N_synthetic)\n",
    "\n",
    "print(\"np_BIC =\", detection_result[0])\n",
    "print(\"wp_BIC =\", detection_result[1])\n",
    "print(\"Delta_BIC =\", detection_result[2])\n",
    "print(\"detection (yes = 1, no=0) =\", detection_result[3])\n",
    "print(\"conditions satisfied (Delta BIC>20, log(P) within err, mass within err) =\", detection_result[4])"
   ]
  },
  {
   "cell_type": "code",
   "execution_count": null,
   "id": "e42da56e",
   "metadata": {},
   "outputs": [],
   "source": []
  }
 ],
 "metadata": {
  "kernelspec": {
   "display_name": "Python 3 (ipykernel)",
   "language": "python",
   "name": "python3"
  },
  "language_info": {
   "codemirror_mode": {
    "name": "ipython",
    "version": 3
   },
   "file_extension": ".py",
   "mimetype": "text/x-python",
   "name": "python",
   "nbconvert_exporter": "python",
   "pygments_lexer": "ipython3",
   "version": "3.9.7"
  },
  "varInspector": {
   "cols": {
    "lenName": 16,
    "lenType": 16,
    "lenVar": 40
   },
   "kernels_config": {
    "python": {
     "delete_cmd_postfix": "",
     "delete_cmd_prefix": "del ",
     "library": "var_list.py",
     "varRefreshCmd": "print(var_dic_list())"
    },
    "r": {
     "delete_cmd_postfix": ") ",
     "delete_cmd_prefix": "rm(",
     "library": "var_list.r",
     "varRefreshCmd": "cat(var_dic_list()) "
    }
   },
   "types_to_exclude": [
    "module",
    "function",
    "builtin_function_or_method",
    "instance",
    "_Feature"
   ],
   "window_display": false
  }
 },
 "nbformat": 4,
 "nbformat_minor": 5
}
