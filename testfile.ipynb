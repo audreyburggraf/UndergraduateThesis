{
 "cells": [
  {
   "cell_type": "code",
   "execution_count": 1,
   "id": "eeb91707",
   "metadata": {},
   "outputs": [],
   "source": [
    "import numpy as np\n",
    "\n",
    "import sys\n",
    "sys.path.append('/Users/audreyburggraf/Desktop/THESIS/Functions')\n",
    "\n",
    "from functions import *\n",
    "from unit_conversion_functions import *"
   ]
  },
  {
   "cell_type": "code",
   "execution_count": 2,
   "id": "af1ca35a",
   "metadata": {},
   "outputs": [
    {
     "name": "stdout",
     "output_type": "stream",
     "text": [
      "The period is:\n",
      "111.4367 days\n",
      "0.30509705681040383 years\n",
      "-0.51556198185994 log10(years)\n"
     ]
    }
   ],
   "source": [
    "P_days =  111.43670\n",
    "\n",
    "P_years = days_to_years(P_days)      # [years] (converted from days)\n",
    "\n",
    "log_P = np.log10(P_years)  # [log10(years)] (converted from years)\n",
    "\n",
    "print(\"The period is:\")\n",
    "print(P_days, \"days\")\n",
    "print(P_years, \"years\")\n",
    "print(log_P, \"log10(years)\")"
   ]
  },
  {
   "cell_type": "code",
   "execution_count": 4,
   "id": "bedc4848",
   "metadata": {},
   "outputs": [],
   "source": [
    "m_star = 1.0471375340700000  # [M solar]\n",
    "\n",
    "\n",
    "m_planet = earth_to_jupiter_mass(1392) # [M_Jupiter] (converted from earth masses)\n",
    "\n",
    "\n",
    "d = 66.4711 # [pc]"
   ]
  },
  {
   "cell_type": "code",
   "execution_count": 5,
   "id": "db6d65c9",
   "metadata": {},
   "outputs": [
    {
     "name": "stdout",
     "output_type": "stream",
     "text": [
      "P =  0.30509705681040383 years\n",
      "log10(P) =  -0.51556198185994 log10(years)\n",
      "m_planet =  4.3786473599999995 jupiter masses\n",
      "m_planet =  0.004179813625819754 solar masses\n",
      "The signal is 97.40612610380906 uas\n"
     ]
    }
   ],
   "source": [
    "# # Calculating the astrometric signature in uas (input: M_J, M_S, log10(yrs), pc)\n",
    "HD80606_alpha = astrometric_signature(m_planet, m_star, log_P, d) # [uas]\n",
    "\n",
    "print (\"The signal is\", HD80606_alpha, \"uas\")"
   ]
  },
  {
   "cell_type": "code",
   "execution_count": null,
   "id": "8c74699f",
   "metadata": {},
   "outputs": [],
   "source": []
  },
  {
   "cell_type": "code",
   "execution_count": null,
   "id": "fa719c76",
   "metadata": {},
   "outputs": [],
   "source": []
  }
 ],
 "metadata": {
  "kernelspec": {
   "display_name": "Python 3 (ipykernel)",
   "language": "python",
   "name": "python3"
  },
  "language_info": {
   "codemirror_mode": {
    "name": "ipython",
    "version": 3
   },
   "file_extension": ".py",
   "mimetype": "text/x-python",
   "name": "python",
   "nbconvert_exporter": "python",
   "pygments_lexer": "ipython3",
   "version": "3.9.7"
  },
  "varInspector": {
   "cols": {
    "lenName": 16,
    "lenType": 16,
    "lenVar": 40
   },
   "kernels_config": {
    "python": {
     "delete_cmd_postfix": "",
     "delete_cmd_prefix": "del ",
     "library": "var_list.py",
     "varRefreshCmd": "print(var_dic_list())"
    },
    "r": {
     "delete_cmd_postfix": ") ",
     "delete_cmd_prefix": "rm(",
     "library": "var_list.r",
     "varRefreshCmd": "cat(var_dic_list()) "
    }
   },
   "types_to_exclude": [
    "module",
    "function",
    "builtin_function_or_method",
    "instance",
    "_Feature"
   ],
   "window_display": false
  }
 },
 "nbformat": 4,
 "nbformat_minor": 5
}
