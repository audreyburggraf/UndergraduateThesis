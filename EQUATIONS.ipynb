{
 "cells": [
  {
   "cell_type": "markdown",
   "id": "0a95b7b8",
   "metadata": {},
   "source": [
    "# Astrometric Signature\n",
    "\n",
    "## With semi-major axis:\n",
    "## $\\alpha = \\left(\\frac{M_p}{M_*}\\right)\\left(\\frac{a_p}{AU}\\right)\\left(\\frac{d}{pc}\\right)^{-1}$ arcsec\n",
    "\n",
    "## With period:\n",
    "## $\\alpha = \\left(\\frac{m_p}{m_*}\\right)\\left(\\frac{m_*^{1/3}P^{2/3}}{\\text{1 year}}\\right)\\left(\\frac{d}{\\text{1 pc}}\\right)^{-1}$ = $m_p\\left(\\frac{m_*^{-2/3}P^{2/3}}{\\text{1 year}}\\right)\\left(\\frac{d}{\\text{1 pc}}\\right)^{-1}$ = $m_pP^{2/3}\\left(\\frac{1}{d m_*^{2/3}}\\right)$ arcsec "
   ]
  },
  {
   "cell_type": "markdown",
   "id": "351dd503",
   "metadata": {},
   "source": [
    "# Keplers Third Law\n",
    "\n"
   ]
  },
  {
   "cell_type": "markdown",
   "id": "308b1ca5",
   "metadata": {},
   "source": [
    "### $ P^2 = \\frac{1}{m_*}a^3$\n",
    "### $ P^2 \\times m_* = a^3$\n",
    "\n",
    "### $a [AU]  =\\left(P^2\\times m_*\\right)^{1/3}$"
   ]
  },
  {
   "cell_type": "code",
   "execution_count": null,
   "id": "2e43d328",
   "metadata": {},
   "outputs": [],
   "source": []
  }
 ],
 "metadata": {
  "kernelspec": {
   "display_name": "Python 3 (ipykernel)",
   "language": "python",
   "name": "python3"
  },
  "language_info": {
   "codemirror_mode": {
    "name": "ipython",
    "version": 3
   },
   "file_extension": ".py",
   "mimetype": "text/x-python",
   "name": "python",
   "nbconvert_exporter": "python",
   "pygments_lexer": "ipython3",
   "version": "3.9.7"
  },
  "varInspector": {
   "cols": {
    "lenName": 16,
    "lenType": 16,
    "lenVar": 40
   },
   "kernels_config": {
    "python": {
     "delete_cmd_postfix": "",
     "delete_cmd_prefix": "del ",
     "library": "var_list.py",
     "varRefreshCmd": "print(var_dic_list())"
    },
    "r": {
     "delete_cmd_postfix": ") ",
     "delete_cmd_prefix": "rm(",
     "library": "var_list.r",
     "varRefreshCmd": "cat(var_dic_list()) "
    }
   },
   "types_to_exclude": [
    "module",
    "function",
    "builtin_function_or_method",
    "instance",
    "_Feature"
   ],
   "window_display": false
  }
 },
 "nbformat": 4,
 "nbformat_minor": 5
}
