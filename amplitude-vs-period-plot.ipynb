{
 "cells": [
  {
   "cell_type": "markdown",
   "id": "17b845fd",
   "metadata": {},
   "source": [
    "# Goal: create a plot of period vs amplitude\n",
    "\n",
    "\n",
    "Mass of the planet = $m_p$ = 10% of 15 Jupiter masses \\\n",
    "distance = $d$ = 10 pc\\\n",
    "stellar mass = $m_*$ = 0.4 $M_\\odot$ \n",
    "\n",
    "We find the semi-major axis of the planets orbit Keplers law (equation 55 from Wright and Howard)\n",
    "### ${a_p}^3=\\varpi^3\\frac{{m_p}^3}{(m_*+m_p)^2}P^2=\\frac{1}{d^3}\\frac{{m_p}^3}{(m_*+m_p)^2}P^2 \\longrightarrow a_p=\\frac{m_p}{d}\\left(\\frac{P}{m_*+m_p}\\right)^{2/3}$\n",
    "\n",
    "The sensitivity is calculated using equation 2 from Ranalli:\n",
    "### $\\nu = \\left(\\frac{M_p}{M_*}\\right)\\left(\\frac{a_p}{AU}\\right)\\left(\\frac{d}{pc}\\right)^{-1}$ arcsec"
   ]
  },
  {
   "cell_type": "code",
   "execution_count": 1,
   "id": "a846c31b",
   "metadata": {},
   "outputs": [],
   "source": [
    "import numpy as np\n",
    "import matplotlib.pyplot as plt "
   ]
  },
  {
   "cell_type": "code",
   "execution_count": 2,
   "id": "c0ad67fa",
   "metadata": {},
   "outputs": [],
   "source": [
    "# N is the number of data points (some arbitrary number I chose)\n",
    "N = 30 \n",
    "\n",
    "# period ranges from 0.1 to 10 years in log space\n",
    "period = np.logspace(-1, 1, N)"
   ]
  },
  {
   "cell_type": "code",
   "execution_count": 3,
   "id": "3d164d57",
   "metadata": {},
   "outputs": [],
   "source": [
    "# making sensitivity data \n",
    "m_star   = 0.4 \n",
    "m_planet = 1.5\n",
    "distance = 10\n",
    "\n",
    "# a_planet = m_planet/distance * (period/(m_star+m_planet))**(2/3)\n",
    "\n",
    "# amplitude = (m_planet/m_star)*a_planet*distance**(-1)"
   ]
  },
  {
   "cell_type": "code",
   "execution_count": 4,
   "id": "99808085",
   "metadata": {},
   "outputs": [],
   "source": [
    "def astrometric_amplitude(m_planet, m_star, distance, P):\n",
    "    M = m_planet/m_star * 0.000954 # unitless\n",
    "    \n",
    "    a = (P**2/m_star)**(1/3) # AU\n",
    "    \n",
    "    return M*a/distance*1e6 # uas"
   ]
  },
  {
   "cell_type": "code",
   "execution_count": 5,
   "id": "8c682b6f",
   "metadata": {},
   "outputs": [
    {
     "data": {
      "text/plain": [
       "485.54145116841386"
      ]
     },
     "execution_count": 5,
     "metadata": {},
     "output_type": "execute_result"
    }
   ],
   "source": [
    "astrometric_amplitude(m_planet, m_star, distance, 1)"
   ]
  },
  {
   "cell_type": "code",
   "execution_count": 6,
   "id": "065c4f26",
   "metadata": {},
   "outputs": [],
   "source": [
    "# period_test = 1\n",
    "\n",
    "# a_planet_test = m_planet/distance * (period_test/(m_star+m_planet))**(2/3)\n",
    "\n",
    "# amplitude_test = (m_planet/m_star)*a_planet_test*distance**(-1)\n",
    "\n",
    "# print(amplitude_test, 'arcseconds')\n",
    "# print(amplitude_test*1e6, 'microarcseconds')"
   ]
  },
  {
   "cell_type": "code",
   "execution_count": 7,
   "id": "2a775f43",
   "metadata": {},
   "outputs": [
    {
     "data": {
      "text/plain": [
       "array([ 104.60673458,  116.28847007,  129.27473861,  143.71122118,\n",
       "        159.75986736,  177.60071211,  197.4338954 ,  219.48190741,\n",
       "        243.99208446,  271.23938361,  301.52946717,  335.20213164,\n",
       "        372.63511958,  414.24835715,  460.50866488,  511.93499446,\n",
       "        569.10425046,  632.65776202,  703.30847734,  781.84896162,\n",
       "        869.16028811,  966.22192201, 1074.12270826, 1194.07308624,\n",
       "       1327.41866857, 1475.65533631, 1640.4460199 , 1823.63935397,\n",
       "       2027.29041555, 2253.683778  ])"
      ]
     },
     "execution_count": 7,
     "metadata": {},
     "output_type": "execute_result"
    }
   ],
   "source": [
    "amplitude = astrometric_amplitude(m_planet, m_star, distance, period)\n",
    "amplitude"
   ]
  },
  {
   "cell_type": "code",
   "execution_count": 8,
   "id": "1d316025",
   "metadata": {},
   "outputs": [
    {
     "data": {
      "image/png": "[encoded data removed]",
      "text/plain": [
       "<Figure size 576x468 with 1 Axes>"
      ]
     },
     "metadata": {
      "needs_background": "light"
     },
     "output_type": "display_data"
    }
   ],
   "source": [
    "plt.figure(figsize=(8,6.5))\n",
    "\n",
    "plt.plot(period, amplitude, color='dodgerblue', marker='o')\n",
    "\n",
    "plt.title('Amplitude vs Period', fontsize=20)\n",
    "plt.xlabel('Period (years)', fontsize=15)\n",
    "plt.ylabel('Amplitude ($\\mu$as)', fontsize=15)\n",
    "\n",
    "plt.xscale('log')\n",
    "plt.yscale('log')"
   ]
  },
  {
   "cell_type": "code",
   "execution_count": null,
   "id": "6975176f",
   "metadata": {},
   "outputs": [],
   "source": []
  }
 ],
 "metadata": {
  "kernelspec": {
   "display_name": "Python 3 (ipykernel)",
   "language": "python",
   "name": "python3"
  },
  "language_info": {
   "codemirror_mode": {
    "name": "ipython",
    "version": 3
   },
   "file_extension": ".py",
   "mimetype": "text/x-python",
   "name": "python",
   "nbconvert_exporter": "python",
   "pygments_lexer": "ipython3",
   "version": "3.9.7"
  },
  "varInspector": {
   "cols": {
    "lenName": 16,
    "lenType": 16,
    "lenVar": 40
   },
   "kernels_config": {
    "python": {
     "delete_cmd_postfix": "",
     "delete_cmd_prefix": "del ",
     "library": "var_list.py",
     "varRefreshCmd": "print(var_dic_list())"
    },
    "r": {
     "delete_cmd_postfix": ") ",
     "delete_cmd_prefix": "rm(",
     "library": "var_list.r",
     "varRefreshCmd": "cat(var_dic_list()) "
    }
   },
   "types_to_exclude": [
    "module",
    "function",
    "builtin_function_or_method",
    "instance",
    "_Feature"
   ],
   "window_display": false
  }
 },
 "nbformat": 4,
 "nbformat_minor": 5
}
