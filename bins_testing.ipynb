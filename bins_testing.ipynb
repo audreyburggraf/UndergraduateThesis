{
 "cells": [
  {
   "cell_type": "code",
   "execution_count": 14,
   "id": "ed436132",
   "metadata": {},
   "outputs": [],
   "source": [
    "import numpy as np\n",
    "import matplotlib.pyplot as plt\n",
    "\n",
    "big_font = 25\n",
    "medium_font = 20\n",
    "small_font = 15"
   ]
  },
  {
   "cell_type": "code",
   "execution_count": 23,
   "id": "3f269925",
   "metadata": {},
   "outputs": [],
   "source": [
    "logMbins = np.logspace(np.log10(.3), np.log10(13), 15) \n",
    "logPbins = np.logspace(-2, 1, 20) \n",
    "\n",
    "N = 5000 \n",
    "mass = np.random.uniform(np.log10(.3), np.log10(13), N) \n",
    "period = np.random.uniform(np.log10(.01), np.log10(10), N) \n",
    "detection = np.random.randint(0, 2, N)"
   ]
  },
  {
   "cell_type": "code",
   "execution_count": 24,
   "id": "f32a4f10",
   "metadata": {},
   "outputs": [
    {
     "data": {
      "text/plain": [
       "array([ 0.01      ,  0.0143845 ,  0.02069138,  0.02976351,  0.04281332,\n",
       "        0.06158482,  0.08858668,  0.1274275 ,  0.18329807,  0.26366509,\n",
       "        0.37926902,  0.54555948,  0.78475997,  1.12883789,  1.62377674,\n",
       "        2.33572147,  3.35981829,  4.83293024,  6.95192796, 10.        ])"
      ]
     },
     "execution_count": 24,
     "metadata": {},
     "output_type": "execute_result"
    }
   ],
   "source": [
    "logPbins"
   ]
  },
  {
   "cell_type": "code",
   "execution_count": 25,
   "id": "5b18261c",
   "metadata": {},
   "outputs": [
    {
     "data": {
      "text/plain": [
       "array([ 0.3       ,  0.3926785 ,  0.513988  ,  0.67277345,  0.88061223,\n",
       "        1.15265828,  1.50874707,  1.97484177,  2.58492631,  3.38348326,\n",
       "        4.42873705,  5.79689935,  7.58772573,  9.93178909, 13.        ])"
      ]
     },
     "execution_count": 25,
     "metadata": {},
     "output_type": "execute_result"
    }
   ],
   "source": [
    "logMbins"
   ]
  },
  {
   "cell_type": "code",
   "execution_count": 28,
   "id": "ff0739cc",
   "metadata": {},
   "outputs": [
    {
     "name": "stderr",
     "output_type": "stream",
     "text": [
      "/var/folders/kj/bzmrgm6154j7yg37zyl66c340000gn/T/ipykernel_8592/2782439127.py:15: RuntimeWarning: invalid value encountered in double_scalars\n",
      "  sensitivity[i,j] = num_detected[i,j] / num_planets_per_bin[i,j]\n"
     ]
    }
   ],
   "source": [
    "num_bins = len(logPbins) - 1\n",
    "num_mass_bins = len(logMbins) - 1\n",
    "\n",
    "num_planets_per_bin = np.zeros((num_bins, num_mass_bins))\n",
    "num_detected = np.zeros((num_bins, num_mass_bins))\n",
    "sensitivity = np.zeros((num_bins, num_mass_bins))\n",
    "\n",
    "for i,p in enumerate(logPbins[:-1]):\n",
    "    for j,m in enumerate(logMbins[:-1]):\n",
    "        mask = (mass >= logMbins[j]) & (mass < logMbins[j+1]) & (period >= logPbins[i]) & (period < logPbins[i+1])\n",
    "        detected = mask & (detection == 1)\n",
    "#         print(mask.sum())\n",
    "        num_planets_per_bin[i,j] = mask.sum()\n",
    "        num_detected[i,j] = detected.sum()\n",
    "        sensitivity[i,j] = num_detected[i,j] / num_planets_per_bin[i,j]"
   ]
  },
  {
   "cell_type": "code",
   "execution_count": 27,
   "id": "80f03459",
   "metadata": {},
   "outputs": [
    {
     "data": {
      "image/png": "[encoded data removed]",
      "text/plain": [
       "<Figure size 720x432 with 2 Axes>"
      ]
     },
     "metadata": {
      "needs_background": "light"
     },
     "output_type": "display_data"
    }
   ],
   "source": [
    "# Plotting the heatmap\n",
    "plt.figure(figsize=(10, 6))\n",
    "plt.imshow(sensitivity.T, \n",
    "           extent=[logPbins[0], logPbins[-1], logMbins[0], logMbins[-1]], \n",
    "           aspect='auto', \n",
    "           origin='lower', \n",
    "           cmap='bone_r')\n",
    "\n",
    "plt.colorbar(label='Sensitivity')\n",
    "\n",
    "plt.xlabel('Log Period', fontsize = medium_font)\n",
    "plt.ylabel('Log Mass', fontsize = medium_font)\n",
    "plt.title('Sensitivity over Mass and Period Bins', fontsize = big_font)\n",
    "\n",
    "plt.show()"
   ]
  },
  {
   "cell_type": "code",
   "execution_count": null,
   "id": "03b054fb",
   "metadata": {},
   "outputs": [],
   "source": []
  },
  {
   "cell_type": "code",
   "execution_count": null,
   "id": "1ac701c3",
   "metadata": {},
   "outputs": [],
   "source": []
  }
 ],
 "metadata": {
  "kernelspec": {
   "display_name": "Python 3 (ipykernel)",
   "language": "python",
   "name": "python3"
  },
  "language_info": {
   "codemirror_mode": {
    "name": "ipython",
    "version": 3
   },
   "file_extension": ".py",
   "mimetype": "text/x-python",
   "name": "python",
   "nbconvert_exporter": "python",
   "pygments_lexer": "ipython3",
   "version": "3.10.9"
  },
  "varInspector": {
   "cols": {
    "lenName": 16,
    "lenType": 16,
    "lenVar": 40
   },
   "kernels_config": {
    "python": {
     "delete_cmd_postfix": "",
     "delete_cmd_prefix": "del ",
     "library": "var_list.py",
     "varRefreshCmd": "print(var_dic_list())"
    },
    "r": {
     "delete_cmd_postfix": ") ",
     "delete_cmd_prefix": "rm(",
     "library": "var_list.r",
     "varRefreshCmd": "cat(var_dic_list()) "
    }
   },
   "types_to_exclude": [
    "module",
    "function",
    "builtin_function_or_method",
    "instance",
    "_Feature"
   ],
   "window_display": false
  }
 },
 "nbformat": 4,
 "nbformat_minor": 5
}
