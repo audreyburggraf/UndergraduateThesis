{
 "cells": [
  {
   "cell_type": "code",
   "execution_count": 15,
   "id": "eeb91707",
   "metadata": {},
   "outputs": [],
   "source": [
    "import numpy as np\n",
    "\n",
    "from astropy import constants as const\n",
    "from astropy import units as u "
   ]
  },
  {
   "cell_type": "code",
   "execution_count": 16,
   "id": "fa719c76",
   "metadata": {},
   "outputs": [
    {
     "data": {
      "text/latex": [
       "$6.6743 \\times 10^{-11} \\; \\mathrm{\\frac{m^{3}}{kg\\,s^{2}}}$"
      ],
      "text/plain": [
       "<<class 'astropy.constants.codata2018.CODATA2018'> name='Gravitational constant' value=6.6743e-11 uncertainty=1.5e-15 unit='m3 / (kg s2)' reference='CODATA 2018'>"
      ]
     },
     "execution_count": 16,
     "metadata": {},
     "output_type": "execute_result"
    }
   ],
   "source": [
    "const.G"
   ]
  },
  {
   "cell_type": "code",
   "execution_count": 17,
   "id": "cd250761",
   "metadata": {},
   "outputs": [
    {
     "data": {
      "text/latex": [
       "$2.9979246 \\times 10^{8} \\; \\mathrm{\\frac{m}{s}}$"
      ],
      "text/plain": [
       "<<class 'astropy.constants.codata2018.CODATA2018'> name='Speed of light in vacuum' value=299792458.0 uncertainty=0.0 unit='m / s' reference='CODATA 2018'>"
      ]
     },
     "execution_count": 17,
     "metadata": {},
     "output_type": "execute_result"
    }
   ],
   "source": [
    "const.c"
   ]
  },
  {
   "cell_type": "code",
   "execution_count": 18,
   "id": "08088085",
   "metadata": {},
   "outputs": [
    {
     "data": {
      "text/latex": [
       "$299792.46 \\; \\mathrm{\\frac{km}{s}}$"
      ],
      "text/plain": [
       "<Quantity 299792.458 km / s>"
      ]
     },
     "execution_count": 18,
     "metadata": {},
     "output_type": "execute_result"
    }
   ],
   "source": [
    "const.c.to('km/s')"
   ]
  },
  {
   "cell_type": "code",
   "execution_count": 20,
   "id": "fdc151cc",
   "metadata": {},
   "outputs": [
    {
     "data": {
      "text/latex": [
       "$1 \\; \\mathrm{M_{\\odot}}$"
      ],
      "text/plain": [
       "<Quantity 1. solMass>"
      ]
     },
     "execution_count": 20,
     "metadata": {},
     "output_type": "execute_result"
    }
   ],
   "source": [
    "m_planet = 1\n",
    "m_planet * u.solMass"
   ]
  },
  {
   "cell_type": "code",
   "execution_count": 29,
   "id": "f80e145d",
   "metadata": {},
   "outputs": [
    {
     "data": {
      "text/html": [
       "<table style=\"width:50%\"><tr><th>Primary name</th><th>Unit definition</th><th>Aliases</th></tr><tr><td>M_e</td><td>9.10938e-31 kg</td><td></td></tr><tr><td>M_p</td><td>1.67262e-27 kg</td><td></td></tr><tr><td>earthMass</td><td>5.97217e+24 kg</td><td>M_earth, Mearth</td></tr><tr><td>g</td><td>0.001 kg</td><td>gram</td></tr><tr><td>jupiterMass</td><td>1.89812e+27 kg</td><td>M_jup, Mjup, M_jupiter, Mjupiter</td></tr><tr><td>kg</td><td>irreducible</td><td>kilogram</td></tr><tr><td>solMass</td><td>1.98841e+30 kg</td><td>M_sun, Msun</td></tr><tr><td>t</td><td>1000 kg</td><td>tonne</td></tr><tr><td>u</td><td>1.66054e-27 kg</td><td>Da, Dalton</td></tr></table>"
      ],
      "text/plain": [
       "  Primary name | Unit definition | Aliases                         \n",
       "[\n",
       "  M_e          | 9.10938e-31 kg  |                                  ,\n",
       "  M_p          | 1.67262e-27 kg  |                                  ,\n",
       "  earthMass    | 5.97217e+24 kg  | M_earth, Mearth                  ,\n",
       "  g            | 0.001 kg        | gram                             ,\n",
       "  jupiterMass  | 1.89812e+27 kg  | M_jup, Mjup, M_jupiter, Mjupiter ,\n",
       "  kg           | irreducible     | kilogram                         ,\n",
       "  solMass      | 1.98841e+30 kg  | M_sun, Msun                      ,\n",
       "  t            | 1000 kg         | tonne                            ,\n",
       "  u            | 1.66054e-27 kg  | Da, Dalton                       ,\n",
       "]"
      ]
     },
     "execution_count": 29,
     "metadata": {},
     "output_type": "execute_result"
    }
   ],
   "source": [
    "u.g.find_equivalent_units()"
   ]
  },
  {
   "cell_type": "code",
   "execution_count": 30,
   "id": "95fa7b46",
   "metadata": {},
   "outputs": [],
   "source": [
    "def days_to_years(time_in_days):\n",
    "    \"\"\"\n",
    "    Convert time in days to years.\n",
    "\n",
    "    Parameters:\n",
    "    - time_in_days (float): Time in days.\n",
    "\n",
    "    Returns:\n",
    "    float: Time converted to years.\n",
    "    \"\"\"\n",
    "    days_per_year = 365.25  # Taking into account leap years\n",
    "    years = time_in_days / days_per_year\n",
    "    return years"
   ]
  },
  {
   "cell_type": "code",
   "execution_count": 31,
   "id": "78f6973b",
   "metadata": {},
   "outputs": [],
   "source": [
    "def days_to_years_astropy(time_in_days):\n",
    "    \"\"\"\n",
    "    Convert time in days to years using astropy.\n",
    "\n",
    "    Parameters:\n",
    "    - time_in_days (float): Time in days.\n",
    "\n",
    "    Returns:\n",
    "    Quantity: Time converted to years.\n",
    "    \"\"\"\n",
    "    time_in_years = time_in_days * u.day.to(u.year)\n",
    "    return time_in_years"
   ]
  },
  {
   "cell_type": "code",
   "execution_count": 32,
   "id": "983823b0",
   "metadata": {},
   "outputs": [
    {
     "name": "stdout",
     "output_type": "stream",
     "text": [
      "1.3689253935660506\n"
     ]
    }
   ],
   "source": [
    "time1 = 500\n",
    "time11 = days_to_years(time1)\n",
    "print(time11)"
   ]
  },
  {
   "cell_type": "code",
   "execution_count": 33,
   "id": "32a2e42c",
   "metadata": {},
   "outputs": [],
   "source": [
    "time2 = 500\n",
    "time"
   ]
  },
  {
   "cell_type": "code",
   "execution_count": null,
   "id": "938bcf00",
   "metadata": {},
   "outputs": [],
   "source": []
  }
 ],
 "metadata": {
  "kernelspec": {
   "display_name": "Python 3 (ipykernel)",
   "language": "python",
   "name": "python3"
  },
  "language_info": {
   "codemirror_mode": {
    "name": "ipython",
    "version": 3
   },
   "file_extension": ".py",
   "mimetype": "text/x-python",
   "name": "python",
   "nbconvert_exporter": "python",
   "pygments_lexer": "ipython3",
   "version": "3.9.7"
  },
  "varInspector": {
   "cols": {
    "lenName": 16,
    "lenType": 16,
    "lenVar": 40
   },
   "kernels_config": {
    "python": {
     "delete_cmd_postfix": "",
     "delete_cmd_prefix": "del ",
     "library": "var_list.py",
     "varRefreshCmd": "print(var_dic_list())"
    },
    "r": {
     "delete_cmd_postfix": ") ",
     "delete_cmd_prefix": "rm(",
     "library": "var_list.r",
     "varRefreshCmd": "cat(var_dic_list()) "
    }
   },
   "types_to_exclude": [
    "module",
    "function",
    "builtin_function_or_method",
    "instance",
    "_Feature"
   ],
   "window_display": false
  }
 },
 "nbformat": 4,
 "nbformat_minor": 5
}
