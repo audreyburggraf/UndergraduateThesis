{
 "cells": [
  {
   "cell_type": "code",
   "execution_count": 1,
   "id": "7441bb4b",
   "metadata": {},
   "outputs": [],
   "source": [
    "import numpy as np\n",
    "\n",
    "\n",
    "import pandas as pd \n",
    "\n",
    "# importing functions\n",
    "import sys\n",
    "sys.path.append('/Users/audreyburggraf/Desktop/THESIS/Functions')\n",
    "\n",
    "from functions import *\n",
    "from unit_conversion_functions import *\n",
    "from fitting_functions import *\n",
    "from signal_functions import *\n",
    "from printing_functions import *"
   ]
  },
  {
   "cell_type": "code",
   "execution_count": 2,
   "id": "7cd34e00",
   "metadata": {},
   "outputs": [],
   "source": [
    "df = pd.read_csv('/Users/audreyburggraf/Desktop/THESIS/Gaia Data Files/gaia_data.csv')\n",
    "\n",
    "#  add the absolute gaia K band magnitude and stellar mass\n",
    "df[\"M_ks\"] = df.ks_m + 5 + 5*np.log10(df.parallax/1000)\n",
    "\n",
    "# cut off certain range \n",
    "df = df[(4 < df.M_ks) & (df.M_ks < 11)].reset_index(drop=True)\n",
    "\n",
    "# set the stellar mass \n",
    "df[\"stellar_mass\"] =  find_star_mass(df.M_ks)"
   ]
  },
  {
   "cell_type": "markdown",
   "id": "3e7fce66",
   "metadata": {},
   "source": [
    "# Multiple Systems "
   ]
  },
  {
   "cell_type": "code",
   "execution_count": 3,
   "id": "afe0f60f",
   "metadata": {},
   "outputs": [],
   "source": [
    "N_synthetic = 70\n",
    "N_model = 70000"
   ]
  },
  {
   "cell_type": "code",
   "execution_count": 4,
   "id": "81ec29ce",
   "metadata": {},
   "outputs": [
    {
     "name": "stderr",
     "output_type": "stream",
     "text": [
      "\r",
      "  0%|                                                         | 0/1 [00:00<?, ?it/s]"
     ]
    },
    {
     "name": "stdout",
     "output_type": "stream",
     "text": [
      "Planetary Parameters:\n",
      "e              : 0.11099658554486974  [unitless]\n",
      "omega          : 5.470972432660289  [radians]\n",
      "Omega          : 1.2988547595412585  [radians]\n",
      "cos_i          : 0.9186109079379216  [unitless]\n",
      "log10(m_planet): 1.0  [log10(Jupiter masses)]\n",
      "log10(P_orb)   : 0.3010299956639812  [log10(years)]\n",
      "t_peri         : 0.9768223775896583  [years]\n",
      " \n",
      "Gaia Parameters:\n",
      "alpha0         : 148.7806993450911  [degrees]\n",
      "delta0         : -70.64513244501079  [degrees]\n",
      "mu_alpha       : -36.597143753983296  [mas/year]\n",
      "mu_delta       : 12.150278382941268  [mas/year]\n",
      "parallax       : 10.499193372240294  [mas]\n",
      "m_star         : 1  [M_sun]\n",
      "x              : 35683\n",
      " \n",
      "Astrometric signature: 159.09610435495281 [uas]\n"
     ]
    },
    {
     "name": "stderr",
     "output_type": "stream",
     "text": [
      "100%|█████████████████████████████████████████████████| 1/1 [00:00<00:00,  2.04it/s]"
     ]
    },
    {
     "name": "stdout",
     "output_type": "stream",
     "text": [
      "Run # 0  Detection: 0 Conditions satisfied: [1 1 0 1]\n"
     ]
    },
    {
     "name": "stderr",
     "output_type": "stream",
     "text": [
      "\n"
     ]
    }
   ],
   "source": [
    "num_of_runs = 1\n",
    "\n",
    "m_planet_HARDCODED = 10 # m_jupiter \n",
    "P_HARDCODED = 2 # years \n",
    "m_star_HARDCODED = 1 # m_solar\n",
    "\n",
    "HARDCODED_multiple_fitting_function(m_planet_HARDCODED, \n",
    "                                    P_HARDCODED,\n",
    "                                    m_star_HARDCODED, \n",
    "                                    df, \n",
    "                                    N_synthetic, \n",
    "                                    N_model, \n",
    "                                    num_of_runs, \n",
    "                                    'notsaving.csv', \n",
    "                                    save_to_file = False, \n",
    "                                    print_detection_results = True)"
   ]
  },
  {
   "cell_type": "code",
   "execution_count": null,
   "id": "544d0f28",
   "metadata": {},
   "outputs": [],
   "source": []
  }
 ],
 "metadata": {
  "kernelspec": {
   "display_name": "Python 3 (ipykernel)",
   "language": "python",
   "name": "python3"
  },
  "language_info": {
   "codemirror_mode": {
    "name": "ipython",
    "version": 3
   },
   "file_extension": ".py",
   "mimetype": "text/x-python",
   "name": "python",
   "nbconvert_exporter": "python",
   "pygments_lexer": "ipython3",
   "version": "3.9.7"
  },
  "varInspector": {
   "cols": {
    "lenName": 16,
    "lenType": 16,
    "lenVar": 40
   },
   "kernels_config": {
    "python": {
     "delete_cmd_postfix": "",
     "delete_cmd_prefix": "del ",
     "library": "var_list.py",
     "varRefreshCmd": "print(var_dic_list())"
    },
    "r": {
     "delete_cmd_postfix": ") ",
     "delete_cmd_prefix": "rm(",
     "library": "var_list.r",
     "varRefreshCmd": "cat(var_dic_list()) "
    }
   },
   "types_to_exclude": [
    "module",
    "function",
    "builtin_function_or_method",
    "instance",
    "_Feature"
   ],
   "window_display": false
  }
 },
 "nbformat": 4,
 "nbformat_minor": 5
}
