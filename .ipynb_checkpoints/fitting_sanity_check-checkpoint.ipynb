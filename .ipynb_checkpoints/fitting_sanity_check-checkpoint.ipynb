{
 "cells": [
  {
   "cell_type": "code",
   "execution_count": 1,
   "id": "7441bb4b",
   "metadata": {},
   "outputs": [],
   "source": [
    "import numpy as np\n",
    "\n",
    "\n",
    "import pandas as pd \n",
    "\n",
    "# importing functions\n",
    "import sys\n",
    "sys.path.append('/Users/audreyburggraf/Desktop/THESIS/Functions')\n",
    "\n",
    "from functions import *\n",
    "from unit_conversion_functions import *\n",
    "from fitting_functions import *\n",
    "from signal_functions import *\n",
    "from printing_functions import *"
   ]
  },
  {
   "cell_type": "code",
   "execution_count": 2,
   "id": "7cd34e00",
   "metadata": {},
   "outputs": [],
   "source": [
    "df = pd.read_csv('/Users/audreyburggraf/Desktop/THESIS/Gaia Data Files/gaia_data.csv')\n",
    "\n",
    "#  add the absolute gaia K band magnitude and stellar mass\n",
    "df[\"M_ks\"] = df.ks_m + 5 + 5*np.log10(df.parallax/1000)\n",
    "\n",
    "# cut off certain range \n",
    "df = df[(4 < df.M_ks) & (df.M_ks < 11)].reset_index(drop=True)\n",
    "\n",
    "# set the stellar mass \n",
    "df[\"stellar_mass\"] =  find_star_mass(df.M_ks)"
   ]
  },
  {
   "cell_type": "code",
   "execution_count": 3,
   "id": "3b4e7e02",
   "metadata": {},
   "outputs": [],
   "source": [
    "N_synthetic = 70\n",
    "N_model = 70000"
   ]
  },
  {
   "cell_type": "markdown",
   "id": "63b67cf6",
   "metadata": {},
   "source": [
    "# One System"
   ]
  },
  {
   "cell_type": "code",
   "execution_count": 4,
   "id": "d3dba068",
   "metadata": {},
   "outputs": [
    {
     "name": "stdout",
     "output_type": "stream",
     "text": [
      "Planetary Parameters:\n",
      "e              : 0.11099658554486974  [unitless]\n",
      "omega          : 5.470972432660289  [radians]\n",
      "Omega          : 1.2988547595412585  [radians]\n",
      "cos_i          : 0.9186109079379216  [unitless]\n",
      "log10(m_planet): 1.0  [log10(Jupiter masses)]\n",
      "log10(P_orb)   : 0.3010299956639812  [log10(years)]\n",
      "t_peri         : 0.9768223775896583  [years]\n",
      " \n",
      "Gaia Parameters:\n",
      "alpha0         : 148.7806993450911  [degrees]\n",
      "delta0         : -70.64513244501079  [degrees]\n",
      "mu_alpha       : -36.597143753983296  [mas/year]\n",
      "mu_delta       : 12.150278382941268  [mas/year]\n",
      "parallax       : 10.499193372240294  [mas]\n",
      "m_star         : 0.2430391921985151  [M_sun]\n",
      "x              : 35683\n",
      " \n",
      "Astrometric signature: 408.5156231704785 [uas]\n"
     ]
    }
   ],
   "source": [
    "# call function\n",
    "inj_params_0P, inj_params_1P, synthetic_signal, model_signal, error_components, alpha, m_star = HARDCODED_find_signal_components(df, N_synthetic, N_model)"
   ]
  },
  {
   "cell_type": "code",
   "execution_count": 5,
   "id": "cf645562",
   "metadata": {},
   "outputs": [],
   "source": [
    "# Unpack the result statement\n",
    "\n",
    "# Unpack synthetic signal components and times\n",
    "(prop_ra_synthetic, prop_dec_synthetic, \n",
    " parallax_ra_synthetic, parallax_dec_synthetic, \n",
    " planetary_ra_synthetic, planetary_dec_synthetic, \n",
    " times_synthetic) = synthetic_signal\n",
    "\n",
    "# Unpack model signal components and times\n",
    "(prop_ra_model, prop_dec_model, \n",
    " parallax_ra_model, parallax_dec_model, \n",
    " planetary_ra_model, planetary_dec_model, \n",
    " times_model) = model_signal\n",
    "\n",
    "# Unpack noise and error components\n",
    "(noise_ra, noise_dec, errors) = error_components"
   ]
  },
  {
   "cell_type": "code",
   "execution_count": 6,
   "id": "bc930225",
   "metadata": {},
   "outputs": [],
   "source": [
    "noise_ra_std = np.std(noise_ra)\n",
    "noise_dec_std = np.std(noise_dec)\n",
    "\n",
    "# Calculate the overall standard deviation of noise\n",
    "overall_noise_std = np.sqrt(noise_ra_std**2 + noise_dec_std**2)  # Combine RA and Dec noise in quadrature\n",
    "\n",
    "# Alternatively, you can calculate the average standard deviation\n",
    "average_noise_std = (noise_ra_std + noise_dec_std) / 2  # Average of RA and Dec noise standard deviations"
   ]
  },
  {
   "cell_type": "code",
   "execution_count": 7,
   "id": "f9e64e86",
   "metadata": {},
   "outputs": [
    {
     "name": "stdout",
     "output_type": "stream",
     "text": [
      "Overall =  240.12738086369384\n",
      "Average =  169.77901180842233\n"
     ]
    }
   ],
   "source": [
    "print('Overall = ', overall_noise_std)\n",
    "print('Average = ', average_noise_std)"
   ]
  },
  {
   "cell_type": "code",
   "execution_count": 8,
   "id": "2767fcd0",
   "metadata": {},
   "outputs": [],
   "source": [
    "signal_ra_obs  = prop_ra_synthetic + parallax_ra_synthetic + planetary_ra_synthetic + noise_ra\n",
    "signal_dec_obs = prop_dec_synthetic + parallax_dec_synthetic + planetary_dec_synthetic + noise_dec"
   ]
  },
  {
   "cell_type": "code",
   "execution_count": 9,
   "id": "8fdb658f",
   "metadata": {},
   "outputs": [
    {
     "name": "stdout",
     "output_type": "stream",
     "text": [
      "alpha0  : real=148.78070, fitted=148.66409, difference=0.11661\n",
      "delta0  : real=-70.64513, fitted=-70.51853, difference=0.12660\n",
      "mu_alpha: real=-36.59714, fitted=-36.62231, difference=0.02517\n",
      "mu_delta: real=12.15028, fitted=12.18736, difference=0.03708\n",
      "parallax: real=10.49919, fitted=10.53226, difference=0.03307\n"
     ]
    }
   ],
   "source": [
    "fitted_params_0P, np_chi_sq = no_planet_fit(inj_params_0P, signal_ra_obs, signal_dec_obs, noise_ra, noise_dec, times_synthetic)\n",
    "\n",
    "print_parameter_differences(inj_params_0P, fitted_params_0P, return_type='np')"
   ]
  },
  {
   "cell_type": "code",
   "execution_count": 10,
   "id": "19d58e2f",
   "metadata": {
    "scrolled": true
   },
   "outputs": [
    {
     "name": "stdout",
     "output_type": "stream",
     "text": [
      "alpha0         : real=148.78070, fitted=148.78327, difference=0.00257\n",
      "delta0         : real=-70.64513, fitted=-70.65417, difference=0.00904\n",
      "mu_alpha       : real=-36.59714, fitted=-36.59901, difference=0.00187\n",
      "mu_delta       : real=12.15028, fitted=12.14806, difference=0.00222\n",
      "parallax       : real=10.49919, fitted=10.49310, difference=0.00610\n",
      "e              : real=0.11100, fitted=0.07158, difference=0.03942\n",
      "omega          : real=5.47097, fitted=5.04357, difference=0.42741\n",
      "Omega          : real=1.29885, fitted=1.68563, difference=0.38677\n",
      "cos_i          : real=0.91861, fitted=0.86939, difference=0.04922\n",
      "log10(m_planet): real=1.00000, fitted=1.02666, difference=0.02666\n",
      "log10(P_orb)   : real=0.30103, fitted=0.30132, difference=0.00029\n",
      "t_peri         : real=0.97682, fitted=0.96588, difference=0.01095\n"
     ]
    }
   ],
   "source": [
    "fitted_params_1P, wp_chi_sq = one_planet_fit(inj_params_1P, m_star, signal_ra_obs, signal_dec_obs, noise_ra, noise_dec, times_synthetic)\n",
    "\n",
    "print_parameter_differences(inj_params_1P, fitted_params_1P, return_type='wp')"
   ]
  },
  {
   "cell_type": "code",
   "execution_count": 11,
   "id": "2b0b7102",
   "metadata": {},
   "outputs": [],
   "source": [
    "# Calculate the two BIC values \n",
    "BIC_0P = -2 * np.log(0.5 * np_chi_sq) + 5 * np.log(N_synthetic)\n",
    "BIC_1P = -2 * np.log(0.5 * wp_chi_sq) + 12 * np.log(N_synthetic)\n",
    "\n",
    "# Calculate Delta BIC \n",
    "Delta_BIC = BIC_1P - BIC_0P\n",
    "\n",
    "# Check to see if the three conditions were met \n",
    "# ---------------------------------------------------------------------------  \n",
    "# Condition 1 : ΔBIC < -20\n",
    "condition_1 = Delta_BIC < -20\n",
    "\n",
    "# Condition 2: Recovered P within 5% error of injected P\n",
    "condition_2 = np.isclose(inj_params_1P[10][0], fitted_params_1P[10], rtol=0.05) \n",
    "\n",
    "# Step 3: Recovered m_p within 5% error of injected m_p\n",
    "condition_3 = np.isclose(inj_params_1P[9][0], fitted_params_1P[9], rtol=0.05)\n",
    "\n",
    "conditions_satisfied = np.array([condition_1, condition_2, condition_3], dtype=int)\n",
    "\n",
    "# Combine all conditions into a binary array for detection\n",
    "detection = np.all(conditions_satisfied).astype(int)\n",
    "# ---------------------------------------------------------------------------  "
   ]
  },
  {
   "cell_type": "code",
   "execution_count": 12,
   "id": "730380cd",
   "metadata": {},
   "outputs": [
    {
     "name": "stdout",
     "output_type": "stream",
     "text": [
      "np_BIC = 4.366984507728382\n",
      "wp_BIC = 42.89904191001714\n",
      "Delta_BIC = -38.53205740228876\n",
      "detection (yes = 1, no=0) = 1\n",
      "conditions satisfied (Delta BIC>20, log(P) within err, mass within err) = [1 1 1]\n"
     ]
    }
   ],
   "source": [
    "detection_result = detection_function(np_chi_sq, wp_chi_sq, inj_params_1P, fitted_params_1P, N_synthetic)\n",
    "\n",
    "print(\"np_BIC =\", detection_result[0])\n",
    "print(\"wp_BIC =\", detection_result[1])\n",
    "print(\"Delta_BIC =\", detection_result[2])\n",
    "print(\"detection (yes = 1, no=0) =\", detection_result[3])\n",
    "print(\"conditions satisfied (Delta BIC>20, log(P) within err, mass within err) =\", detection_result[4])"
   ]
  },
  {
   "cell_type": "markdown",
   "id": "3e7fce66",
   "metadata": {},
   "source": [
    "# Multiple Systems "
   ]
  },
  {
   "cell_type": "code",
   "execution_count": 13,
   "id": "81ec29ce",
   "metadata": {},
   "outputs": [
    {
     "name": "stdout",
     "output_type": "stream",
     "text": [
      "Run # 0  Detection: 1 Conditions satisfied: [1 1 1]\n",
      "Run # 1  Detection: 1 Conditions satisfied: [1 1 1]\n",
      "Run # 2  Detection: 1 Conditions satisfied: [1 1 1]\n",
      "Run # 3  Detection: 1 Conditions satisfied: [1 1 1]\n",
      "Run # 4  Detection: 1 Conditions satisfied: [1 1 1]\n"
     ]
    }
   ],
   "source": [
    "num_of_runs = 5\n",
    "\n",
    "HARDCODED_multiple_fitting_function(df, N_synthetic, N_model, num_of_runs, print_detection_results = True)"
   ]
  },
  {
   "cell_type": "code",
   "execution_count": null,
   "id": "544d0f28",
   "metadata": {},
   "outputs": [],
   "source": []
  }
 ],
 "metadata": {
  "kernelspec": {
   "display_name": "Python 3 (ipykernel)",
   "language": "python",
   "name": "python3"
  },
  "language_info": {
   "codemirror_mode": {
    "name": "ipython",
    "version": 3
   },
   "file_extension": ".py",
   "mimetype": "text/x-python",
   "name": "python",
   "nbconvert_exporter": "python",
   "pygments_lexer": "ipython3",
   "version": "3.9.7"
  },
  "varInspector": {
   "cols": {
    "lenName": 16,
    "lenType": 16,
    "lenVar": 40
   },
   "kernels_config": {
    "python": {
     "delete_cmd_postfix": "",
     "delete_cmd_prefix": "del ",
     "library": "var_list.py",
     "varRefreshCmd": "print(var_dic_list())"
    },
    "r": {
     "delete_cmd_postfix": ") ",
     "delete_cmd_prefix": "rm(",
     "library": "var_list.r",
     "varRefreshCmd": "cat(var_dic_list()) "
    }
   },
   "types_to_exclude": [
    "module",
    "function",
    "builtin_function_or_method",
    "instance",
    "_Feature"
   ],
   "window_display": false
  }
 },
 "nbformat": 4,
 "nbformat_minor": 5
}
