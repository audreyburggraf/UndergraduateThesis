{
 "cells": [
  {
   "cell_type": "code",
   "execution_count": 1,
   "id": "631ae85f",
   "metadata": {},
   "outputs": [],
   "source": [
    "import numpy as np\n",
    "\n",
    "import matplotlib.pyplot as plt\n",
    "from matplotlib.ticker import (MultipleLocator, AutoMinorLocator)\n",
    "\n",
    "import pandas as pd \n",
    "\n",
    "# importing functions\n",
    "import sys\n",
    "sys.path.append('/Users/audreyburggraf/Desktop/THESIS/Functions')\n",
    "\n",
    "from functions import *\n",
    "from unit_conversion_functions import *\n",
    "from fitting_functions import *\n",
    "from printing_functions import *"
   ]
  },
  {
   "cell_type": "code",
   "execution_count": 2,
   "id": "0ebcc4ad",
   "metadata": {},
   "outputs": [],
   "source": [
    "df = pd.read_csv('/Users/audreyburggraf/Desktop/THESIS/Gaia Data Files/gaia_data.csv')\n",
    "\n",
    "#  add the absolute gaia K band magnitude and stellar mass\n",
    "df[\"M_ks\"] = df.ks_m + 5 + 5*np.log10(df.parallax/1000)\n",
    "\n",
    "# cut off certain range \n",
    "df = df[(4 < df.M_ks) & (df.M_ks < 11)].reset_index(drop=True)\n",
    "\n",
    "# set the stellar mass \n",
    "df[\"stellar_mass\"] =  find_star_mass(df.M_ks)"
   ]
  },
  {
   "cell_type": "code",
   "execution_count": 3,
   "id": "9ee28085",
   "metadata": {},
   "outputs": [],
   "source": [
    "def multiple_fitting_function(N1, N2, num_of_runs): \n",
    "    \n",
    "    detection_results = []\n",
    "    \n",
    "    for i in range(num_of_runs):\n",
    "    \n",
    "        # call function\n",
    "        parameter_result, synthetic_result, model_result, error_result = find_signal_components(df, N1, N2, print_params='neither')\n",
    "\n",
    "        # break down the result statement \n",
    "\n",
    "        # parameter_result includes the no planet and 1 planet parameters in their proper units \n",
    "        (inj_params_0P, inj_params_1P) = parameter_result\n",
    "\n",
    "        # model_results includes the signal components and times for the synthetic in [uas] and [years]\n",
    "        (prop_ra_synthetic, prop_dec_synthetic, \n",
    "         parallax_ra_synthetic, parallax_dec_synthetic, \n",
    "         planetary_ra_synthetic, planetary_dec_synthetic, \n",
    "         times_synthetic) = synthetic_result\n",
    "\n",
    "        # model_results includes the signal components and times for the model in [uas] and [years]\n",
    "        (prop_ra_model, prop_dec_model, \n",
    "         parallax_ra_model, parallax_dec_model, \n",
    "         planetary_ra_model, planetary_dec_model, \n",
    "         times_model) = model_result\n",
    "\n",
    "        # error_result includes noise in ra and dec direction plus error (same for ra and dec) in [uas]\n",
    "        (noise_ra, noise_dec, errors) = error_result\n",
    "\n",
    "        # finding observed signal\n",
    "        signal_ra_obs  = prop_ra_synthetic + parallax_ra_synthetic + planetary_ra_synthetic + noise_ra\n",
    "        signal_dec_obs = prop_dec_synthetic + parallax_dec_synthetic + planetary_dec_synthetic + noise_dec\n",
    "\n",
    "\n",
    "        # zero planet fit \n",
    "        fitted_params_0P, np_chi_sq = no_planet_fit(inj_params_0P, signal_ra_obs, signal_dec_obs, noise_ra, noise_dec, times_synthetic)\n",
    "\n",
    "        # print_parameter_differences(inj_params_0P, fitted_params_0P, return_type='np')\n",
    "\n",
    "        # one planet fit \n",
    "        fitted_params_1P, wp_chi_sq = one_planet_fit(inj_params_1P, signal_ra_obs, signal_dec_obs, noise_ra, noise_dec, times_synthetic)\n",
    "\n",
    "        # print_parameter_differences(inj_params_1P, fitted_params_1P, return_type='wp')\n",
    "\n",
    "        # finding detection result \n",
    "        detection_result = detection_function(np_chi_sq, wp_chi_sq, inj_params_1P, fitted_params_1P, N1)\n",
    "\n",
    "        (np_BIC, wp_BIC, Delta_BIC, detection, conditions_satisfied) = detection_result\n",
    "        \n",
    "        print(\"run #\", i, \" conditions_satisfied:\", conditions_satisfied )\n",
    "        \n",
    "        detection_results.append(detection)\n",
    "    \n",
    "    return detection_results"
   ]
  },
  {
   "cell_type": "code",
   "execution_count": 4,
   "id": "ceea8735",
   "metadata": {},
   "outputs": [
    {
     "ename": "TypeError",
     "evalue": "multiple_fitting_function() takes 3 positional arguments but 4 were given",
     "output_type": "error",
     "traceback": [
      "\u001b[0;31m---------------------------------------------------------------------------\u001b[0m",
      "\u001b[0;31mTypeError\u001b[0m                                 Traceback (most recent call last)",
      "\u001b[0;32m/var/folders/kj/bzmrgm6154j7yg37zyl66c340000gn/T/ipykernel_17674/1732848436.py\u001b[0m in \u001b[0;36m<module>\u001b[0;34m\u001b[0m\n\u001b[1;32m      3\u001b[0m \u001b[0;31m# num_of_runs = 5\u001b[0m\u001b[0;34m\u001b[0m\u001b[0;34m\u001b[0m\u001b[0m\n\u001b[1;32m      4\u001b[0m \u001b[0;34m\u001b[0m\u001b[0m\n\u001b[0;32m----> 5\u001b[0;31m \u001b[0mdetection_result\u001b[0m \u001b[0;34m=\u001b[0m \u001b[0mmultiple_fitting_function\u001b[0m\u001b[0;34m(\u001b[0m\u001b[0mdf\u001b[0m\u001b[0;34m,\u001b[0m \u001b[0;36m70\u001b[0m\u001b[0;34m,\u001b[0m \u001b[0;36m70000\u001b[0m\u001b[0;34m,\u001b[0m \u001b[0;36m5\u001b[0m\u001b[0;34m)\u001b[0m\u001b[0;34m\u001b[0m\u001b[0;34m\u001b[0m\u001b[0m\n\u001b[0m\u001b[1;32m      6\u001b[0m \u001b[0;34m\u001b[0m\u001b[0m\n\u001b[1;32m      7\u001b[0m \u001b[0;31m# 0 = np, 1 = yes\u001b[0m\u001b[0;34m\u001b[0m\u001b[0;34m\u001b[0m\u001b[0m\n",
      "\u001b[0;31mTypeError\u001b[0m: multiple_fitting_function() takes 3 positional arguments but 4 were given"
     ]
    }
   ],
   "source": [
    "# N1 = 70\n",
    "# N2 = 70000\n",
    "# num_of_runs = 5\n",
    "\n",
    "detection_result = multiple_fitting_function(df, 70, 70000, 5)\n",
    "\n",
    "# 0 = np, 1 = yes\n",
    "\n",
    "print(\" \")\n",
    "print(\"results: \", detection_result)"
   ]
  },
  {
   "cell_type": "code",
   "execution_count": null,
   "id": "985d1bfe",
   "metadata": {},
   "outputs": [],
   "source": []
  }
 ],
 "metadata": {
  "kernelspec": {
   "display_name": "Python 3 (ipykernel)",
   "language": "python",
   "name": "python3"
  },
  "language_info": {
   "codemirror_mode": {
    "name": "ipython",
    "version": 3
   },
   "file_extension": ".py",
   "mimetype": "text/x-python",
   "name": "python",
   "nbconvert_exporter": "python",
   "pygments_lexer": "ipython3",
   "version": "3.9.7"
  },
  "varInspector": {
   "cols": {
    "lenName": 16,
    "lenType": 16,
    "lenVar": 40
   },
   "kernels_config": {
    "python": {
     "delete_cmd_postfix": "",
     "delete_cmd_prefix": "del ",
     "library": "var_list.py",
     "varRefreshCmd": "print(var_dic_list())"
    },
    "r": {
     "delete_cmd_postfix": ") ",
     "delete_cmd_prefix": "rm(",
     "library": "var_list.r",
     "varRefreshCmd": "cat(var_dic_list()) "
    }
   },
   "types_to_exclude": [
    "module",
    "function",
    "builtin_function_or_method",
    "instance",
    "_Feature"
   ],
   "window_display": false
  }
 },
 "nbformat": 4,
 "nbformat_minor": 5
}
