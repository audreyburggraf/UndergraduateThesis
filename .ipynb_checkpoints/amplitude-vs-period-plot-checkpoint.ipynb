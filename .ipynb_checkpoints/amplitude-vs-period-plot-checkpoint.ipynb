{
 "cells": [
  {
   "cell_type": "markdown",
   "id": "17b845fd",
   "metadata": {},
   "source": [
    "# Goal: create a plot of period vs amplitude\n",
    "\n",
    "\n",
    "Mass of the planet = $m_p$ = 10% of 15 Jupiter masses \\\n",
    "distance = $d$ = 10 pc\\\n",
    "stellar mass = $m_*$ = 0.4 $M_\\odot$ \n",
    "\n",
    "We find the semi-major axis of the planets orbit Keplers law (equation 55 from Wright and Howard)\n",
    "### ${a_p}^3=\\varpi^3\\frac{{m_p}^3}{(m_*+m_p)^2}P^2=\\frac{1}{d^3}\\frac{{m_p}^3}{(m_*+m_p)^2}P^2 \\longrightarrow a_p=\\frac{m_p}{d}\\left(\\frac{P}{m_*+m_p}\\right)^{2/3}$\n",
    "\n",
    "The sensitivity is calculated using equation 2 from Ranalli:\n",
    "### $\\nu = \\left(\\frac{M_p}{M_*}\\right)\\left(\\frac{a_p}{AU}\\right)\\left(\\frac{d}{pc}\\right)^{-1}$ arcsec"
   ]
  },
  {
   "cell_type": "code",
   "execution_count": 1,
   "id": "a846c31b",
   "metadata": {},
   "outputs": [],
   "source": [
    "import numpy as np\n",
    "\n",
    "import matplotlib.pyplot as plt\n",
    "from matplotlib.ticker import ScalarFormatter\n",
    "\n",
    "# importing functions\n",
    "import sys\n",
    "sys.path.append('/Users/audreyburggraf/Desktop/THESIS/Functions')\n",
    "from functions import *"
   ]
  },
  {
   "cell_type": "code",
   "execution_count": 2,
   "id": "3d164d57",
   "metadata": {},
   "outputs": [],
   "source": [
    "# making sensitivity data \n",
    "m_star   = 0.4 # mass of the star is 0.4 solar masses \n",
    "log_P = 1 # test log period is log10(1 year) \n",
    "log_m_planet = np.log10(1.5) # mass is log of 10% of 15 Jupiter masses \n",
    "distance = 10 # distance is 10 pc "
   ]
  },
  {
   "cell_type": "code",
   "execution_count": 3,
   "id": "053f33c6",
   "metadata": {},
   "outputs": [],
   "source": [
    "# N is the number of data points (some arbitrary number I chose)\n",
    "N = 30 \n",
    "\n",
    "# period ranges from 0.1 to 10 years in log space\n",
    "period = np.logspace(-1, 1, N)\n",
    "log_period = np.log10(period)"
   ]
  },
  {
   "cell_type": "code",
   "execution_count": 5,
   "id": "81d9a4e0",
   "metadata": {},
   "outputs": [
    {
     "data": {
      "text/plain": [
       "array([  56.82440262,   63.1701474 ,   70.22453979,   78.0667165 ,\n",
       "         86.78465169,   96.47614381,  107.2499128 ,  119.2268196 ,\n",
       "        132.54122211,  147.34248231,  163.79664188,  182.08828487,\n",
       "        202.42260834,  225.0277243 ,  250.1572187 ,  278.09299616,\n",
       "        309.14844238,  343.67193976,  382.05077559,  424.7154866 ,\n",
       "        472.14468883,  524.87044674,  583.48424197,  648.64360861,\n",
       "        721.07950948,  801.60453614,  891.12202456,  990.63618885,\n",
       "       1101.26338663, 1224.24464237])"
      ]
     },
     "execution_count": 5,
     "metadata": {},
     "output_type": "execute_result"
    }
   ],
   "source": [
    "signature = calculate_astrometric_signature(log_m_planet, m_star, log_period, distance)\n",
    "signature"
   ]
  },
  {
   "cell_type": "code",
   "execution_count": 6,
   "id": "6975176f",
   "metadata": {},
   "outputs": [
    {
     "data": {
      "image/png": "[encoded data removed]",
      "text/plain": [
       "<Figure size 576x468 with 1 Axes>"
      ]
     },
     "metadata": {
      "needs_background": "light"
     },
     "output_type": "display_data"
    }
   ],
   "source": [
    "big_font = 25\n",
    "medium_font = 20\n",
    "small_font = 15\n",
    "\n",
    "# Create a figure and axis\n",
    "fig, ax = plt.subplots(figsize=(8, 6.5))\n",
    "\n",
    "# Plot the data\n",
    "plt.plot(period, signature, color='dodgerblue', marker='o')\n",
    "\n",
    "# Set title and axis labels\n",
    "plt.title('Amplitude vs Period', fontsize=big_font)\n",
    "plt.xlabel('Period (years)', fontsize=medium_font)\n",
    "plt.ylabel('Amplitude ($\\mu$as)', fontsize=medium_font)\n",
    "\n",
    "# Set tick parameters\n",
    "plt.tick_params(labelsize=small_font, which='major', length=7)\n",
    "plt.tick_params(which='minor', length=4)\n",
    "\n",
    "# Set log scale for both axes\n",
    "plt.xscale('log')\n",
    "plt.yscale('log')\n",
    "\n",
    "plt.show()"
   ]
  },
  {
   "cell_type": "code",
   "execution_count": null,
   "id": "13acb1a8",
   "metadata": {},
   "outputs": [],
   "source": []
  },
  {
   "cell_type": "code",
   "execution_count": null,
   "id": "0df27b76",
   "metadata": {},
   "outputs": [],
   "source": []
  }
 ],
 "metadata": {
  "kernelspec": {
   "display_name": "Python 3 (ipykernel)",
   "language": "python",
   "name": "python3"
  },
  "language_info": {
   "codemirror_mode": {
    "name": "ipython",
    "version": 3
   },
   "file_extension": ".py",
   "mimetype": "text/x-python",
   "name": "python",
   "nbconvert_exporter": "python",
   "pygments_lexer": "ipython3",
   "version": "3.9.7"
  },
  "varInspector": {
   "cols": {
    "lenName": 16,
    "lenType": 16,
    "lenVar": 40
   },
   "kernels_config": {
    "python": {
     "delete_cmd_postfix": "",
     "delete_cmd_prefix": "del ",
     "library": "var_list.py",
     "varRefreshCmd": "print(var_dic_list())"
    },
    "r": {
     "delete_cmd_postfix": ") ",
     "delete_cmd_prefix": "rm(",
     "library": "var_list.r",
     "varRefreshCmd": "cat(var_dic_list()) "
    }
   },
   "types_to_exclude": [
    "module",
    "function",
    "builtin_function_or_method",
    "instance",
    "_Feature"
   ],
   "window_display": false
  }
 },
 "nbformat": 4,
 "nbformat_minor": 5
}
