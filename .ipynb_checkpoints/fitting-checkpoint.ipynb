{
 "cells": [
  {
   "cell_type": "code",
   "execution_count": 1,
   "id": "7441bb4b",
   "metadata": {},
   "outputs": [],
   "source": [
    "import numpy as np\n",
    "\n",
    "import matplotlib.pyplot as plt\n",
    "from matplotlib.ticker import (MultipleLocator, AutoMinorLocator)\n",
    "\n",
    "import pandas as pd \n",
    "\n",
    "# importing functions\n",
    "import sys\n",
    "sys.path.append('/Users/audreyburggraf/Desktop/THESIS/Functions')\n",
    "\n",
    "from functions import *\n",
    "from unit_conversion_functions import *\n",
    "from fitting_functions import *\n",
    "from printing_functions import *"
   ]
  },
  {
   "cell_type": "code",
   "execution_count": 2,
   "id": "5dabdf02",
   "metadata": {},
   "outputs": [],
   "source": [
    "# names \n",
    "# inj_params_0P: array holding the injected parameters for the 0 planet fit \n",
    "# inj_params_1P: array holding the injected parameters for the 1 planet fit "
   ]
  },
  {
   "cell_type": "code",
   "execution_count": 3,
   "id": "7cd34e00",
   "metadata": {},
   "outputs": [],
   "source": [
    "df = pd.read_csv('/Users/audreyburggraf/Desktop/THESIS/Gaia Data Files/gaia_data.csv')\n",
    "\n",
    "#  add the absolute gaia K band magnitude and stellar mass\n",
    "df[\"M_ks\"] = df.ks_m + 5 + 5*np.log10(df.parallax/1000)\n",
    "\n",
    "# cut off certain range \n",
    "df = df[(4 < df.M_ks) & (df.M_ks < 11)].reset_index(drop=True)\n",
    "\n",
    "# set the stellar mass \n",
    "df[\"stellar_mass\"] =  find_star_mass(df.M_ks)"
   ]
  },
  {
   "cell_type": "code",
   "execution_count": 4,
   "id": "cf645562",
   "metadata": {},
   "outputs": [
    {
     "name": "stdout",
     "output_type": "stream",
     "text": [
      "Planetary parameters:\n",
      "e           : 0.4925951418259181  [unitless]\n",
      "omega       : 3.911801339326185  [radians]\n",
      "Omega       : 0.5433841508274528  [radians]\n",
      "cos_i       : 0.02196704026528562  [unitless]\n",
      "m_planet    : 3.3724256980916696  [Jupiter masses]\n",
      "log10(P_orb): 0.6960500519506949  [log10(years)]\n",
      "t_peri      : 4.707454930360742  [years]\n",
      " \n",
      "Gaia parameters:\n",
      "alpha0      : 1  [degrees]\n",
      "delta0      : 2  [degrees]\n",
      "mu_alpha    : -126.45109233453852  [mas/year]\n",
      "mu_delta    : -81.68374644711278  [mas/year]\n",
      "parallax    : 50  [mas]\n",
      "m_star      : 0.6886354124987328  [M_sun]\n",
      "x =  224773\n"
     ]
    }
   ],
   "source": [
    "N1 = 70\n",
    "N2 = 70000\n",
    "\n",
    "seed = 8\n",
    "\n",
    "# call function\n",
    "parameter_result, synthetic_result, model_result, error_result = find_signal_components(df, N1, N2, print_params='both')\n",
    "\n",
    "# break down the result statement \n",
    "\n",
    "# parameter_result includes the no planet and 1 planet parameters in their proper units \n",
    "(inj_params_0P, inj_params_1P) = parameter_result\n",
    "\n",
    "# model_results includes the signal components and times for the synthetic in [uas] and [years]\n",
    "(prop_ra_synthetic, prop_dec_synthetic, \n",
    " parallax_ra_synthetic, parallax_dec_synthetic, \n",
    " planetary_ra_synthetic, planetary_dec_synthetic, \n",
    " times_synthetic) = synthetic_result\n",
    "\n",
    "# model_results includes the signal components and times for the model in [uas] and [years]\n",
    "(prop_ra_model, prop_dec_model, \n",
    " parallax_ra_model, parallax_dec_model, \n",
    " planetary_ra_model, planetary_dec_model, \n",
    " times_model) = model_result\n",
    "\n",
    "# error_result includes noise in ra and dec direction plus error (same for ra and dec) in [uas]\n",
    "(noise_ra, noise_dec, errors) = error_result"
   ]
  },
  {
   "cell_type": "code",
   "execution_count": 5,
   "id": "2767fcd0",
   "metadata": {},
   "outputs": [],
   "source": [
    "signal_ra_obs  = prop_ra_synthetic + parallax_ra_synthetic + planetary_ra_synthetic + noise_ra\n",
    "signal_dec_obs = prop_dec_synthetic + parallax_dec_synthetic + planetary_dec_synthetic + noise_dec"
   ]
  },
  {
   "cell_type": "code",
   "execution_count": 6,
   "id": "8fdb658f",
   "metadata": {},
   "outputs": [
    {
     "name": "stdout",
     "output_type": "stream",
     "text": [
      "alpha0  : real=1.00000, fitted=1.04916, difference=0.04916\n",
      "delta0  : real=2.00000, fitted=2.00976, difference=0.00976\n",
      "mu_alpha: real=-126.45109, fitted=-126.43391, difference=0.01719\n",
      "mu_delta: real=-81.68375, fitted=-81.66961, difference=0.01413\n",
      "parallax: real=50.00000, fitted=49.99287, difference=0.00713\n"
     ]
    }
   ],
   "source": [
    "fitted_params_0P, np_chi_sq = no_planet_fit(inj_params_0P, signal_ra_obs, signal_dec_obs, noise_ra, noise_dec, times_synthetic)\n",
    "\n",
    "print_parameter_differences(inj_params_0P, fitted_params_0P, return_type='np')"
   ]
  },
  {
   "cell_type": "code",
   "execution_count": 7,
   "id": "19d58e2f",
   "metadata": {
    "scrolled": true
   },
   "outputs": [
    {
     "name": "stdout",
     "output_type": "stream",
     "text": [
      "alpha0      : real=1.00000, fitted=0.96558, difference=0.03442\n",
      "delta0      : real=2.00000, fitted=2.02173, difference=0.02173\n",
      "mu_alpha    : real=-126.45109, fitted=-126.49276, difference=0.04166\n",
      "mu_delta    : real=-81.68375, fitted=-81.75162, difference=0.06787\n",
      "parallax    : real=50.00000, fitted=50.01257, difference=0.01257\n",
      "e           : real=0.49260, fitted=0.74783, difference=0.25524\n",
      "omega       : real=3.91180, fitted=4.13705, difference=0.22524\n",
      "Omega       : real=0.54338, fitted=0.46675, difference=0.07663\n",
      "cos_i       : real=0.02197, fitted=-0.00097, difference=0.02294\n",
      "m_planet    : real=3.37243, fitted=2.05955, difference=1.31287\n",
      "log10(P_orb): real=0.69605, fitted=0.76283, difference=0.06678\n",
      "t_peri      : real=4.70745, fitted=4.81065, difference=0.10319\n"
     ]
    },
    {
     "name": "stderr",
     "output_type": "stream",
     "text": [
      "/Users/audreyburggraf/Desktop/THESIS/Functions/functions.py:463: RuntimeWarning: overflow encountered in double_scalars\n",
      "  P_orb = 10**log_P\n",
      "/Users/audreyburggraf/Desktop/THESIS/Functions/functions.py:145: RuntimeWarning: invalid value encountered in sqrt\n",
      "  sin_i = np.sqrt(1 - cos_i**2)  # [unitless]\n",
      "/Users/audreyburggraf/Desktop/THESIS/Functions/functions.py:186: RuntimeWarning: overflow encountered in double_scalars\n",
      "  P_orb = 10**log_P                           # [years]\n",
      "/Users/audreyburggraf/Desktop/THESIS/Functions/functions.py:193: RuntimeWarning: invalid value encountered in sqrt\n",
      "  Y = np.sqrt((1-e**2))*sin(E) # [unitless]\n"
     ]
    }
   ],
   "source": [
    "fitted_params_1P, wp_chi_sq = one_planet_fit(inj_params_1P, signal_ra_obs, signal_dec_obs, noise_ra, noise_dec, times_synthetic)\n",
    "\n",
    "print_parameter_differences(inj_params_1P, fitted_params_1P, return_type='wp')"
   ]
  },
  {
   "cell_type": "code",
   "execution_count": 8,
   "id": "730380cd",
   "metadata": {},
   "outputs": [
    {
     "data": {
      "text/plain": [
       "(16712.932804106218,\n",
       " 3064.640733888897,\n",
       " 13648.292070217321,\n",
       " 0,\n",
       " array([1, 0, 0]))"
      ]
     },
     "execution_count": 8,
     "metadata": {},
     "output_type": "execute_result"
    }
   ],
   "source": [
    "detection_result = detection_function(np_chi_sq, wp_chi_sq, inj_params_1P, fitted_params_1P, N1)\n",
    "detection_result"
   ]
  },
  {
   "cell_type": "code",
   "execution_count": 9,
   "id": "54ce14a7",
   "metadata": {},
   "outputs": [
    {
     "name": "stdout",
     "output_type": "stream",
     "text": [
      "(270.5318261732636, nan, nan, 0, array([0, 1, 1]))\n",
      "run # 0  conditions_satisfied: [0 1 1]\n"
     ]
    },
    {
     "name": "stderr",
     "output_type": "stream",
     "text": [
      "/Users/audreyburggraf/Desktop/THESIS/Functions/functions.py:466: RuntimeWarning: invalid value encountered in double_scalars\n",
      "  a = (P_orb**2 * m_star)**(1/3) # [AU]\n"
     ]
    },
    {
     "data": {
      "text/plain": [
       "[0]"
      ]
     },
     "execution_count": 9,
     "metadata": {},
     "output_type": "execute_result"
    }
   ],
   "source": [
    "N1 = 70\n",
    "N2 = 70000\n",
    "\n",
    "seed = 8\n",
    "\n",
    "detection_result = multiple_fitting_function(df, N1, N2, 1)\n",
    "detection_result"
   ]
  },
  {
   "cell_type": "code",
   "execution_count": null,
   "id": "bb70207c",
   "metadata": {},
   "outputs": [],
   "source": []
  }
 ],
 "metadata": {
  "kernelspec": {
   "display_name": "Python 3 (ipykernel)",
   "language": "python",
   "name": "python3"
  },
  "language_info": {
   "codemirror_mode": {
    "name": "ipython",
    "version": 3
   },
   "file_extension": ".py",
   "mimetype": "text/x-python",
   "name": "python",
   "nbconvert_exporter": "python",
   "pygments_lexer": "ipython3",
   "version": "3.9.7"
  },
  "varInspector": {
   "cols": {
    "lenName": 16,
    "lenType": 16,
    "lenVar": 40
   },
   "kernels_config": {
    "python": {
     "delete_cmd_postfix": "",
     "delete_cmd_prefix": "del ",
     "library": "var_list.py",
     "varRefreshCmd": "print(var_dic_list())"
    },
    "r": {
     "delete_cmd_postfix": ") ",
     "delete_cmd_prefix": "rm(",
     "library": "var_list.r",
     "varRefreshCmd": "cat(var_dic_list()) "
    }
   },
   "types_to_exclude": [
    "module",
    "function",
    "builtin_function_or_method",
    "instance",
    "_Feature"
   ],
   "window_display": false
  }
 },
 "nbformat": 4,
 "nbformat_minor": 5
}
