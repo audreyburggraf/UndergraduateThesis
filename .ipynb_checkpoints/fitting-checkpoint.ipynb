{
 "cells": [
  {
   "cell_type": "code",
   "execution_count": null,
   "id": "4b4f49aa",
   "metadata": {},
   "outputs": [],
   "source": [
    "import numpy as np\n",
    "\n",
    "import matplotlib.pyplot as plt\n",
    "from matplotlib.ticker import (MultipleLocator, AutoMinorLocator)\n",
    "\n",
    "import pandas as pd \n",
    "\n",
    "# importing functions\n",
    "import sys\n",
    "sys.path.append('/Users/audreyburggraf/Desktop/THESIS/Functions')\n",
    "\n",
    "from functions import *\n",
    "from unit_conversion_functions import *\n",
    "from fitting_functions import *"
   ]
  },
  {
   "cell_type": "code",
   "execution_count": null,
   "id": "d25874f9",
   "metadata": {},
   "outputs": [],
   "source": [
    "df = pd.read_csv('/Users/audreyburggraf/Desktop/THESIS/Gaia Data Files/gaia_data.csv')\n",
    "\n",
    "#  add the absolute gaia K band magnitude and stellar mass\n",
    "df[\"M_ks\"] = df.ks_m + 5 + 5*np.log10(df.parallax/1000)\n",
    "\n",
    "# cut off certain range \n",
    "df = df[(4 < df.M_ks) & (df.M_ks < 11)].reset_index(drop=True)\n",
    "\n",
    "# set the stellar mass \n",
    "df[\"stellar_mass\"] =  find_star_mass(df.M_ks)"
   ]
  },
  {
   "cell_type": "code",
   "execution_count": null,
   "id": "ad8f3a25",
   "metadata": {},
   "outputs": [],
   "source": [
    "N1 = 70\n",
    "N2 = 70000\n",
    "\n",
    "seed = 8\n",
    "\n",
    "np_parameters, parameters, prop_ra_synthetic, prop_dec_synthetic, parallax_ra_synthetic, parallax_dec_synthetic, planetary_ra_synthetic, planetary_dec_synthetic, prop_ra_model, prop_dec_model, parallax_ra_model, parallax_dec_model, planetary_ra_model, planetary_dec_model, noise_ra, noise_dec, errors, times_synthetic, times_model = find_signal_components(df, N1, N2, print_params='both')"
   ]
  },
  {
   "cell_type": "code",
   "execution_count": null,
   "id": "513cdb61",
   "metadata": {},
   "outputs": [],
   "source": [
    "signal_ra_obs  = prop_ra_synthetic + parallax_ra_synthetic + planetary_ra_synthetic + noise_ra\n",
    "signal_dec_obs = prop_dec_synthetic + parallax_dec_synthetic + planetary_dec_synthetic + noise_dec"
   ]
  },
  {
   "cell_type": "code",
   "execution_count": null,
   "id": "b6bb53ed",
   "metadata": {},
   "outputs": [],
   "source": [
    "# N1 = 5\n",
    "# # \n",
    "# M = np.zeros((2*N1, 5), dtype=object)\n",
    "\n",
    "# times_test = ['t1', 't2']\n",
    "# parallax_ra = ['PI_ra(t1)', 'PI_ra(t2)']\n",
    "# parallax_dec = ['PI_dec(t1)', 'PI_dec(t2)']\n",
    "\n",
    "# for i in range(N1):\n",
    "#     M[i,0] = 1 \n",
    "#     M[i,1] = 0 \n",
    "#     M[i,2] = times_test[i]\n",
    "#     M[i,3] = 0\n",
    "#     M[i,4] = parallax_ra[i]\n",
    "    \n",
    "#     M[i + N1, 0] = 0\n",
    "#     M[i + N1, 1] = 1\n",
    "#     M[i + N1, 2] = 0\n",
    "#     M[i + N1, 3] = times_test[i]\n",
    "#     M[i + N1, 4] = parallax_dec[i]\n",
    "\n",
    "# for row in M:\n",
    "#     print(row)"
   ]
  },
  {
   "cell_type": "code",
   "execution_count": null,
   "id": "b9372fde",
   "metadata": {},
   "outputs": [],
   "source": [
    "np_best_fit_val_ra, np_best_fit_val_dec, np_chi_sq_ra, np_chi_sq_dec = no_planet_fit(np_parameters, signal_ra_obs, signal_dec_obs,noise_ra, noise_dec,N1, times_synthetic)\n",
    "\n",
    "np_parameter_names = ['alpha0', 'delta0', 'mu_alpha', 'mu_delta', 'parallax']\n",
    "\n",
    "# for name, real_value, fitted_value in zip(parameter_names, parameters, fitted_params_1P):\n",
    "#     difference = real_value - fitted_value\n",
    "#     print(f'{name}: real={real_value}, fitted={fitted_value}, difference={np.abs(difference)}')\n",
    "\n",
    "\n",
    "print(\"RA\")\n",
    "for name, real_value, fitted_value in zip(np_parameter_names, np_parameters, np_best_fit_val_ra):\n",
    "    difference = real_value - fitted_value\n",
    "    print(f'{name: <10}: real={real_value.item():.5f}, fitted={fitted_value.item():.5f}, difference={np.abs(difference.item()):.5f}')\n",
    "    \n",
    "print(\" \")\n",
    "\n",
    "print(\"DEC\")\n",
    "for name, real_value, fitted_value in zip(np_parameter_names, np_parameters, np_best_fit_val_dec):\n",
    "    difference = real_value - fitted_value\n",
    "    print(f'{name: <10}: real={real_value.item():.5f}, fitted={fitted_value.item():.5f}, difference={np.abs(difference.item()):.5f}')\n",
    "    "
   ]
  },
  {
   "cell_type": "code",
   "execution_count": null,
   "id": "6ab383ad",
   "metadata": {},
   "outputs": [],
   "source": [
    "\n",
    "\n",
    "fitted_params_1P, wp_chi_sq_ra, wp_chi_sq_dec = one_planet_fit(parameters, signal_ra_obs, signal_dec_obs, noise_ra, noise_dec, times_synthetic)\n",
    "\n",
    "\n",
    "parameter_names = ['alpha0', 'delta0', 'mu_alpha', 'mu_delta', 'parallax', 'm_star', 'e', 'omega', 'Omega', 'cos_i', 'm_planet', 'P_orb', 't_peri']\n",
    "\n",
    "# for name, real_value, fitted_value in zip(parameter_names, parameters, fitted_params_1P):\n",
    "#     difference = real_value - fitted_value\n",
    "#     print(f'{name}: real={real_value}, fitted={fitted_value}, difference={np.abs(difference)}')\n",
    "\n",
    "\n",
    "for name, real_value, fitted_value in zip(parameter_names, parameters, fitted_params_1P):\n",
    "    difference = real_value - fitted_value\n",
    "    print(f'{name: <10}: real={real_value.item():.5f}, fitted={fitted_value.item():.5f}, difference={np.abs(difference.item()):.5f}')"
   ]
  },
  {
   "cell_type": "code",
   "execution_count": null,
   "id": "f75ca953",
   "metadata": {},
   "outputs": [],
   "source": [
    "Delta_BIC_ra = BIC(np_chi_sq_ra, wp_chi_sq_dec, N1)\n",
    "Delta_BIC_ra"
   ]
  },
  {
   "cell_type": "code",
   "execution_count": null,
   "id": "f08607dc",
   "metadata": {},
   "outputs": [],
   "source": [
    "Delta_BIC_dec = BIC(np_chi_sq_dec, wp_chi_sq_dec, N1)\n",
    "Delta_BIC_dec"
   ]
  },
  {
   "cell_type": "code",
   "execution_count": null,
   "id": "e7d1dbb7",
   "metadata": {},
   "outputs": [],
   "source": []
  }
 ],
 "metadata": {
  "kernelspec": {
   "display_name": "Python 3 (ipykernel)",
   "language": "python",
   "name": "python3"
  },
  "language_info": {
   "codemirror_mode": {
    "name": "ipython",
    "version": 3
   },
   "file_extension": ".py",
   "mimetype": "text/x-python",
   "name": "python",
   "nbconvert_exporter": "python",
   "pygments_lexer": "ipython3",
   "version": "3.9.7"
  },
  "varInspector": {
   "cols": {
    "lenName": 16,
    "lenType": 16,
    "lenVar": 40
   },
   "kernels_config": {
    "python": {
     "delete_cmd_postfix": "",
     "delete_cmd_prefix": "del ",
     "library": "var_list.py",
     "varRefreshCmd": "print(var_dic_list())"
    },
    "r": {
     "delete_cmd_postfix": ") ",
     "delete_cmd_prefix": "rm(",
     "library": "var_list.r",
     "varRefreshCmd": "cat(var_dic_list()) "
    }
   },
   "types_to_exclude": [
    "module",
    "function",
    "builtin_function_or_method",
    "instance",
    "_Feature"
   ],
   "window_display": false
  }
 },
 "nbformat": 4,
 "nbformat_minor": 5
}
