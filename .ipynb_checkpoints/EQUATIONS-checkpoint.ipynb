{
 "cells": [
  {
   "cell_type": "code",
   "execution_count": 5,
   "id": "dae70a7c",
   "metadata": {},
   "outputs": [],
   "source": [
    "import sympy as sp\n",
    "from matplotlib import pyplot as plt\n",
    "import numpy as np\n",
    "\n",
    "from sympy import init_printing\n",
    "init_printing()\n",
    "\n",
    "%matplotlib inline\n",
    "from sympy import *"
   ]
  },
  {
   "cell_type": "code",
   "execution_count": 6,
   "id": "d7ba21f4",
   "metadata": {},
   "outputs": [],
   "source": [
    "x, y, z, d = sp.symbols('x y z d')\n",
    "x_dot = sp.symbols(r\"\\dot{x},\\dot{y},\\dot{z}\", real= True)\n",
    "vx, vy, vz = sp.symbols(\"v_x, v_y, v_z \"     , real=True)\n",
    "d, alpha, delta  = sp.symbols(\"d,alpha,delta\", real=True)\n",
    "d_dot, alpha_dot, delta_dot  = sp.symbols(r\"\\dot{d}, \\dot{\\alpha}, \\dot{\\delta}\",real= True)"
   ]
  },
  {
   "cell_type": "markdown",
   "id": "cb679e33",
   "metadata": {},
   "source": [
    "<span style=\"color:blue\"> $A = \\begin{bmatrix} x \\\\ y  \\\\z\\end{bmatrix}$ =$d$$\\begin{bmatrix} \\cos\\alpha\\cos\\delta  \\\\ \\sin\\alpha\\cos\\delta  \\\\ \\sin\\delta  \\end{bmatrix}$ </span> "
   ]
  },
  {
   "cell_type": "code",
   "execution_count": 7,
   "id": "b0b7def2",
   "metadata": {},
   "outputs": [
    {
     "name": "stderr",
     "output_type": "stream",
     "text": [
      "/opt/anaconda3/lib/python3.9/site-packages/IPython/lib/latextools.py:126: MatplotlibDeprecationWarning: \n",
      "The to_png function was deprecated in Matplotlib 3.4 and will be removed two minor releases later. Use mathtext.math_to_image instead.\n",
      "  mt.to_png(f, s, fontsize=12, dpi=dpi, color=color)\n",
      "/opt/anaconda3/lib/python3.9/site-packages/IPython/lib/latextools.py:126: MatplotlibDeprecationWarning: \n",
      "The to_rgba function was deprecated in Matplotlib 3.4 and will be removed two minor releases later. Use mathtext.math_to_image instead.\n",
      "  mt.to_png(f, s, fontsize=12, dpi=dpi, color=color)\n",
      "/opt/anaconda3/lib/python3.9/site-packages/IPython/lib/latextools.py:126: MatplotlibDeprecationWarning: \n",
      "The to_mask function was deprecated in Matplotlib 3.4 and will be removed two minor releases later. Use mathtext.math_to_image instead.\n",
      "  mt.to_png(f, s, fontsize=12, dpi=dpi, color=color)\n",
      "/opt/anaconda3/lib/python3.9/site-packages/IPython/lib/latextools.py:126: MatplotlibDeprecationWarning: \n",
      "The MathtextBackendBitmap class was deprecated in Matplotlib 3.4 and will be removed two minor releases later. Use mathtext.math_to_image instead.\n",
      "  mt.to_png(f, s, fontsize=12, dpi=dpi, color=color)\n"
     ]
    },
    {
     "data": {
      "text/latex": [
       "$\\displaystyle \\left[\\begin{matrix}d \\cos{\\left(\\alpha \\right)} \\cos{\\left(\\delta \\right)}\\\\d \\sin{\\left(\\alpha \\right)} \\cos{\\left(\\delta \\right)}\\\\d \\sin{\\left(\\delta \\right)}\\end{matrix}\\right]$"
      ],
      "text/plain": [
       "⎡d⋅cos(α)⋅cos(δ)⎤\n",
       "⎢               ⎥\n",
       "⎢d⋅sin(α)⋅cos(δ)⎥\n",
       "⎢               ⎥\n",
       "⎣   d⋅sin(δ)    ⎦"
      ]
     },
     "execution_count": 7,
     "metadata": {},
     "output_type": "execute_result"
    }
   ],
   "source": [
    "x = d*cos(alpha)*cos(delta)\n",
    "y = d*sin(alpha)*cos(delta)\n",
    "z = d*sin(delta)\n",
    "\n",
    "A = Matrix([[x], \n",
    "            [y], \n",
    "            [z]])\n",
    "A"
   ]
  },
  {
   "cell_type": "markdown",
   "id": "8d28153f",
   "metadata": {},
   "source": [
    "<span style=\"color:blue\"> $B = \\begin{bmatrix} v_x \\\\ v_y\\\\v_z\\end{bmatrix} =\\frac{d}{dt}\\begin{bmatrix} x \\\\ y  \\\\z\\end{bmatrix}$  </span>"
   ]
  },
  {
   "cell_type": "code",
   "execution_count": 8,
   "id": "407f7d1e",
   "metadata": {},
   "outputs": [
    {
     "data": {
      "text/latex": [
       "$\\displaystyle \\left[\\begin{matrix}- \\dot{\\alpha} d \\sin{\\left(\\alpha \\right)} \\cos{\\left(\\delta \\right)} - \\dot{\\delta} d \\sin{\\left(\\delta \\right)} \\cos{\\left(\\alpha \\right)} + \\dot{d} \\cos{\\left(\\alpha \\right)} \\cos{\\left(\\delta \\right)}\\\\\\dot{\\alpha} d \\cos{\\left(\\alpha \\right)} \\cos{\\left(\\delta \\right)} - \\dot{\\delta} d \\sin{\\left(\\alpha \\right)} \\sin{\\left(\\delta \\right)} + \\dot{d} \\sin{\\left(\\alpha \\right)} \\cos{\\left(\\delta \\right)}\\\\\\dot{\\delta} d \\cos{\\left(\\delta \\right)} + \\dot{d} \\sin{\\left(\\delta \\right)}\\end{matrix}\\right]$"
      ],
      "text/plain": [
       "⎡-\\dot{\\alpha}⋅d⋅sin(α)⋅cos(δ) - \\dot{\\delta}⋅d⋅sin(δ)⋅cos(α) + \\dot{d}⋅cos(α)\n",
       "⎢                                                                             \n",
       "⎢\\dot{\\alpha}⋅d⋅cos(α)⋅cos(δ) - \\dot{\\delta}⋅d⋅sin(α)⋅sin(δ) + \\dot{d}⋅sin(α)⋅\n",
       "⎢                                                                             \n",
       "⎣                       \\dot{\\delta}⋅d⋅cos(δ) + \\dot{d}⋅sin(δ)                \n",
       "\n",
       "⋅cos(δ)⎤\n",
       "       ⎥\n",
       "cos(δ) ⎥\n",
       "       ⎥\n",
       "       ⎦"
      ]
     },
     "execution_count": 8,
     "metadata": {},
     "output_type": "execute_result"
    }
   ],
   "source": [
    "a = diff(d_dot     * A.row(0), d)\n",
    "b = diff(alpha_dot * A.row(0), alpha)\n",
    "c = diff(delta_dot * A.row(0), delta)\n",
    "\n",
    "e = diff(d_dot     * A.row(1), d)\n",
    "f = diff(alpha_dot * A.row(1), alpha)\n",
    "g = diff(delta_dot * A.row(1), delta)\n",
    "\n",
    "h = diff(d_dot     * A.row(2), d)\n",
    "i = diff(alpha_dot * A.row(2), alpha)\n",
    "j = diff(delta_dot * A.row(2), delta)\n",
    "\n",
    "B = Matrix([[a + b + c],\n",
    "            [e + f + g],\n",
    "            [h + i + j]])\n",
    "\n",
    "B"
   ]
  },
  {
   "cell_type": "code",
   "execution_count": 9,
   "id": "a91fc13f",
   "metadata": {},
   "outputs": [
    {
     "data": {
      "text/latex": [
       "$\\displaystyle \\left[\\begin{matrix}\\cos{\\left(\\alpha \\right)} \\cos{\\left(\\delta \\right)} & - d \\sin{\\left(\\alpha \\right)} \\cos{\\left(\\delta \\right)} & - d \\sin{\\left(\\delta \\right)} \\cos{\\left(\\alpha \\right)}\\\\\\sin{\\left(\\alpha \\right)} \\cos{\\left(\\delta \\right)} & d \\cos{\\left(\\alpha \\right)} \\cos{\\left(\\delta \\right)} & - d \\sin{\\left(\\alpha \\right)} \\sin{\\left(\\delta \\right)}\\\\\\sin{\\left(\\delta \\right)} & 0 & d \\cos{\\left(\\delta \\right)}\\end{matrix}\\right]$"
      ],
      "text/plain": [
       "⎡cos(α)⋅cos(δ)  -d⋅sin(α)⋅cos(δ)  -d⋅sin(δ)⋅cos(α)⎤\n",
       "⎢                                                 ⎥\n",
       "⎢sin(α)⋅cos(δ)  d⋅cos(α)⋅cos(δ)   -d⋅sin(α)⋅sin(δ)⎥\n",
       "⎢                                                 ⎥\n",
       "⎣   sin(δ)             0              d⋅cos(δ)    ⎦"
      ]
     },
     "execution_count": 9,
     "metadata": {},
     "output_type": "execute_result"
    }
   ],
   "source": [
    "rlist = [x,y,z]\n",
    "der_list = (d, alpha, delta)\n",
    "\n",
    "M = sp.Matrix(3,3, lambda i,j: sp.diff(rlist[i],der_list[j]))\n",
    "M"
   ]
  },
  {
   "cell_type": "markdown",
   "id": "5c86c1ce",
   "metadata": {},
   "source": [
    "<span style=\"color:blue\"> $D =[M(d,\\alpha,\\delta)]^{-1}$ </span> "
   ]
  },
  {
   "cell_type": "code",
   "execution_count": 12,
   "id": "b35f0edf",
   "metadata": {},
   "outputs": [
    {
     "data": {
      "text/latex": [
       "$\\displaystyle \\left[\\begin{matrix}\\cos{\\left(\\alpha \\right)} \\cos{\\left(\\delta \\right)} & \\sin{\\left(\\alpha \\right)} \\cos{\\left(\\delta \\right)} & \\sin{\\left(\\delta \\right)}\\\\- \\frac{\\sin{\\left(\\alpha \\right)}}{d \\cos{\\left(\\delta \\right)}} & \\frac{\\cos{\\left(\\alpha \\right)}}{d \\cos{\\left(\\delta \\right)}} & 0\\\\- \\frac{\\sin{\\left(\\delta \\right)} \\cos{\\left(\\alpha \\right)}}{d} & - \\frac{\\sin{\\left(\\alpha \\right)} \\sin{\\left(\\delta \\right)}}{d} & \\frac{\\cos{\\left(\\delta \\right)}}{d}\\end{matrix}\\right]$"
      ],
      "text/plain": [
       "⎡ cos(α)⋅cos(δ)    sin(α)⋅cos(δ)   sin(δ)⎤\n",
       "⎢                                        ⎥\n",
       "⎢   -sin(α)           cos(α)             ⎥\n",
       "⎢   ────────         ────────        0   ⎥\n",
       "⎢   d⋅cos(δ)         d⋅cos(δ)            ⎥\n",
       "⎢                                        ⎥\n",
       "⎢-sin(δ)⋅cos(α)   -sin(α)⋅sin(δ)   cos(δ)⎥\n",
       "⎢───────────────  ───────────────  ──────⎥\n",
       "⎣       d                d           d   ⎦"
      ]
     },
     "execution_count": 12,
     "metadata": {},
     "output_type": "execute_result"
    }
   ],
   "source": [
    "D = sp.simplify(M.inv())\n",
    "D"
   ]
  },
  {
   "cell_type": "code",
   "execution_count": 34,
   "id": "c8666cde",
   "metadata": {},
   "outputs": [],
   "source": [
    "Dfunc =  sp.lambdify((d,alpha,delta),D)"
   ]
  },
  {
   "cell_type": "code",
   "execution_count": 35,
   "id": "38f3ccb6",
   "metadata": {},
   "outputs": [
    {
     "data": {
      "text/plain": [
       "array([ 1.80269621, -0.00574638, -0.03270031])"
      ]
     },
     "execution_count": 35,
     "metadata": {},
     "output_type": "execute_result"
    }
   ],
   "source": [
    "Dfunc(100,1,2) @ np.array([1,2,3])"
   ]
  },
  {
   "cell_type": "code",
   "execution_count": 36,
   "id": "08c9d3c4",
   "metadata": {},
   "outputs": [],
   "source": [
    "x= np.arange(5)"
   ]
  },
  {
   "cell_type": "code",
   "execution_count": 37,
   "id": "b9e369bf",
   "metadata": {},
   "outputs": [
    {
     "data": {
      "text/plain": [
       "30"
      ]
     },
     "execution_count": 37,
     "metadata": {},
     "output_type": "execute_result"
    }
   ],
   "source": [
    "x@x"
   ]
  },
  {
   "cell_type": "code",
   "execution_count": 23,
   "id": "4b725717",
   "metadata": {},
   "outputs": [
    {
     "data": {
      "text/latex": [
       "$\\displaystyle \\left[\\begin{matrix}v_{x}\\\\v_{y}\\\\v_{z}\\end{matrix}\\right]$"
      ],
      "text/plain": [
       "⎡vₓ ⎤\n",
       "⎢   ⎥\n",
       "⎢v_y⎥\n",
       "⎢   ⎥\n",
       "⎣v_z⎦"
      ]
     },
     "execution_count": 23,
     "metadata": {},
     "output_type": "execute_result"
    }
   ],
   "source": [
    "F = Matrix([[vx],\n",
    "           [vy],[vz]])\n",
    "F"
   ]
  },
  {
   "cell_type": "markdown",
   "id": "8eb1be56",
   "metadata": {},
   "source": [
    "<span style=\"color:blue\"> $E = $$\\begin{bmatrix} \\dot{d} \\\\ \\dot{\\alpha}  \\\\ \\dot{\\delta}\\end{bmatrix}$ =$[M(d,\\alpha,\\delta)]^{-1}$ $\\begin{bmatrix} v_x \\\\ v_y  \\\\ v_z\\end{bmatrix}=D\\cdot B$ </span> "
   ]
  },
  {
   "cell_type": "code",
   "execution_count": 24,
   "id": "3b9d2f78",
   "metadata": {},
   "outputs": [
    {
     "data": {
      "text/latex": [
       "$\\displaystyle \\left[\\begin{matrix}v_{x} \\cos{\\left(\\alpha \\right)} \\cos{\\left(\\delta \\right)} + v_{y} \\sin{\\left(\\alpha \\right)} \\cos{\\left(\\delta \\right)} + v_{z} \\sin{\\left(\\delta \\right)}\\\\- \\frac{v_{x} \\sin{\\left(\\alpha \\right)}}{d \\cos{\\left(\\delta \\right)}} + \\frac{v_{y} \\cos{\\left(\\alpha \\right)}}{d \\cos{\\left(\\delta \\right)}}\\\\- \\frac{v_{x} \\sin{\\left(\\delta \\right)} \\cos{\\left(\\alpha \\right)}}{d} - \\frac{v_{y} \\sin{\\left(\\alpha \\right)} \\sin{\\left(\\delta \\right)}}{d} + \\frac{v_{z} \\cos{\\left(\\delta \\right)}}{d}\\end{matrix}\\right]$"
      ],
      "text/plain": [
       "⎡ vₓ⋅cos(α)⋅cos(δ) + v_y⋅sin(α)⋅cos(δ) + v_z⋅sin(δ) ⎤\n",
       "⎢                                                   ⎥\n",
       "⎢               vₓ⋅sin(α)   v_y⋅cos(α)              ⎥\n",
       "⎢             - ───────── + ──────────              ⎥\n",
       "⎢                d⋅cos(δ)    d⋅cos(δ)               ⎥\n",
       "⎢                                                   ⎥\n",
       "⎢  vₓ⋅sin(δ)⋅cos(α)   v_y⋅sin(α)⋅sin(δ)   v_z⋅cos(δ)⎥\n",
       "⎢- ──────────────── - ───────────────── + ──────────⎥\n",
       "⎣         d                   d               d     ⎦"
      ]
     },
     "execution_count": 24,
     "metadata": {},
     "output_type": "execute_result"
    }
   ],
   "source": [
    "E = D*F\n",
    "E"
   ]
  },
  {
   "cell_type": "code",
   "execution_count": 18,
   "id": "628a2927",
   "metadata": {},
   "outputs": [
    {
     "data": {
      "text/latex": [
       "$\\displaystyle \\left[\\begin{matrix}\\dot{d}\\\\\\dot{\\alpha}\\\\\\dot{\\delta}\\end{matrix}\\right]$"
      ],
      "text/plain": [
       "⎡  \\dot{d}   ⎤\n",
       "⎢            ⎥\n",
       "⎢\\dot{\\alpha}⎥\n",
       "⎢            ⎥\n",
       "⎣\\dot{\\delta}⎦"
      ]
     },
     "execution_count": 18,
     "metadata": {},
     "output_type": "execute_result"
    }
   ],
   "source": [
    "F = sp.simplify(E)\n",
    "F"
   ]
  },
  {
   "cell_type": "code",
   "execution_count": null,
   "id": "30557fa3",
   "metadata": {},
   "outputs": [],
   "source": []
  },
  {
   "cell_type": "code",
   "execution_count": null,
   "id": "095b3e90",
   "metadata": {},
   "outputs": [],
   "source": []
  }
 ],
 "metadata": {
  "kernelspec": {
   "display_name": "Python 3 (ipykernel)",
   "language": "python",
   "name": "python3"
  },
  "language_info": {
   "codemirror_mode": {
    "name": "ipython",
    "version": 3
   },
   "file_extension": ".py",
   "mimetype": "text/x-python",
   "name": "python",
   "nbconvert_exporter": "python",
   "pygments_lexer": "ipython3",
   "version": "3.9.7"
  },
  "varInspector": {
   "cols": {
    "lenName": 16,
    "lenType": 16,
    "lenVar": 40
   },
   "kernels_config": {
    "python": {
     "delete_cmd_postfix": "",
     "delete_cmd_prefix": "del ",
     "library": "var_list.py",
     "varRefreshCmd": "print(var_dic_list())"
    },
    "r": {
     "delete_cmd_postfix": ") ",
     "delete_cmd_prefix": "rm(",
     "library": "var_list.r",
     "varRefreshCmd": "cat(var_dic_list()) "
    }
   },
   "types_to_exclude": [
    "module",
    "function",
    "builtin_function_or_method",
    "instance",
    "_Feature"
   ],
   "window_display": false
  }
 },
 "nbformat": 4,
 "nbformat_minor": 5
}
