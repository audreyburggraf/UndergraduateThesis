{
 "cells": [
  {
   "cell_type": "code",
   "execution_count": 1,
   "id": "7441bb4b",
   "metadata": {},
   "outputs": [],
   "source": [
    "import numpy as np\n",
    "\n",
    "import matplotlib.pyplot as plt\n",
    "from matplotlib.ticker import (MultipleLocator, AutoMinorLocator)\n",
    "\n",
    "import pandas as pd \n",
    "\n",
    "# importing functions\n",
    "import sys\n",
    "sys.path.append('/Users/audreyburggraf/Desktop/THESIS/Functions')\n",
    "\n",
    "from functions import *\n",
    "from unit_conversion_functions import *\n",
    "from fitting_functions import *\n",
    "from printing_functions import *"
   ]
  },
  {
   "cell_type": "code",
   "execution_count": 2,
   "id": "707e01fe",
   "metadata": {},
   "outputs": [],
   "source": [
    "# names \n",
    "# inj_params_0P: array holding the injected parameters for the 0 planet fit \n",
    "# inj_params_1P: array holding the injected parameters for the 1 planet fit "
   ]
  },
  {
   "cell_type": "code",
   "execution_count": 3,
   "id": "7cd34e00",
   "metadata": {},
   "outputs": [],
   "source": [
    "df = pd.read_csv('/Users/audreyburggraf/Desktop/THESIS/Gaia Data Files/gaia_data.csv')\n",
    "\n",
    "#  add the absolute gaia K band magnitude and stellar mass\n",
    "df[\"M_ks\"] = df.ks_m + 5 + 5*np.log10(df.parallax/1000)\n",
    "\n",
    "# cut off certain range \n",
    "df = df[(4 < df.M_ks) & (df.M_ks < 11)].reset_index(drop=True)\n",
    "\n",
    "# set the stellar mass \n",
    "df[\"stellar_mass\"] =  find_star_mass(df.M_ks)"
   ]
  },
  {
   "cell_type": "code",
   "execution_count": 4,
   "id": "cf645562",
   "metadata": {},
   "outputs": [
    {
     "name": "stdout",
     "output_type": "stream",
     "text": [
      "N for synthetic data:  70\n",
      "N for model data    :  70000\n",
      " \n",
      "Planetary parameters:\n",
      "e       : 0.051808070535058814  [unitless]\n",
      "omega   : 0.5926930861883118  [radians]\n",
      "Omega   : 0.6228846014825858  [radians]\n",
      "cos_i   : 0.09590947862585042  [unitless]\n",
      "m_planet: 9.877355977413515  [Jupiter masses]\n",
      "P_orb   : 0.7163163880302189  [years]\n",
      "t_peri  : 0.35680097024947205  [years]\n",
      " \n",
      "Gaia parameters:\n",
      "alpha0  : 1  [degrees]\n",
      "delta0  : 2  [degrees]\n",
      "mu_alpha: 13.538769285974364  [mas/year]\n",
      "mu_delta: -182.83832022732648  [mas/year]\n",
      "parallax: 50  [mas]\n",
      "m_star  : 0.6569865189014348  [M_sun]\n",
      "x =  247963\n",
      " \n",
      "astrometric_signature( [9.87735598] [0.65698652] [0.71631639] [20.] ) =  [499.41311552] [uas]\n"
     ]
    }
   ],
   "source": [
    "N1 = 70\n",
    "N2 = 70000\n",
    "\n",
    "seed = 8\n",
    "\n",
    "# call function\n",
    "parameter_result, synthetic_result, model_result, error_result = find_signal_components(df, N1, N2, print_params='both')\n",
    "\n",
    "# break down the result statement \n",
    "\n",
    "# parameter_result includes the no planet and 1 planet parameters in their proper units \n",
    "(inj_params_0P, inj_params_1P) = parameter_result\n",
    "\n",
    "# model_results includes the signal components and times for the synthetic in [uas] and [years]\n",
    "(prop_ra_synthetic, prop_dec_synthetic, \n",
    " parallax_ra_synthetic, parallax_dec_synthetic, \n",
    " planetary_ra_synthetic, planetary_dec_synthetic, \n",
    " times_synthetic) = synthetic_result\n",
    "\n",
    "# model_results includes the signal components and times for the model in [uas] and [years]\n",
    "(prop_ra_model, prop_dec_model, \n",
    " parallax_ra_model, parallax_dec_model, \n",
    " planetary_ra_model, planetary_dec_model, \n",
    " times_model) = model_result\n",
    "\n",
    "# error_result includes noise in ra and dec direction plus error (same for ra and dec) in [uas]\n",
    "(noise_ra, noise_dec, errors) = error_result"
   ]
  },
  {
   "cell_type": "code",
   "execution_count": 5,
   "id": "2767fcd0",
   "metadata": {},
   "outputs": [],
   "source": [
    "signal_ra_obs  = prop_ra_synthetic + parallax_ra_synthetic + planetary_ra_synthetic + noise_ra\n",
    "signal_dec_obs = prop_dec_synthetic + parallax_dec_synthetic + planetary_dec_synthetic + noise_dec"
   ]
  },
  {
   "cell_type": "code",
   "execution_count": 6,
   "id": "8fdb658f",
   "metadata": {},
   "outputs": [
    {
     "name": "stdout",
     "output_type": "stream",
     "text": [
      "alpha0  : real=1.00000, fitted=0.99442, difference=0.00558\n",
      "delta0  : real=2.00000, fitted=2.00915, difference=0.00915\n",
      "mu_alpha: real=13.53877, fitted=13.53765, difference=0.00112\n",
      "mu_delta: real=-182.83832, fitted=-182.83209, difference=0.00623\n",
      "parallax: real=50.00000, fitted=50.01203, difference=0.01203\n"
     ]
    }
   ],
   "source": [
    "fitted_params_0P, np_chi_sq = no_planet_fit(inj_params_0P, signal_ra_obs, signal_dec_obs, noise_ra, noise_dec, times_synthetic)\n",
    "\n",
    "print_parameter_differences(inj_params_0P, fitted_params_0P, return_type='np')"
   ]
  },
  {
   "cell_type": "code",
   "execution_count": 8,
   "id": "19d58e2f",
   "metadata": {},
   "outputs": [
    {
     "name": "stderr",
     "output_type": "stream",
     "text": [
      "/Users/audreyburggraf/Desktop/THESIS/Functions/functions.py:457: RuntimeWarning: invalid value encountered in double_scalars\n",
      "  a = (P**2 * m_star)**(1/3) # [AU]\n",
      "/Users/audreyburggraf/Desktop/THESIS/Functions/functions.py:144: RuntimeWarning: invalid value encountered in sqrt\n",
      "  sin_i = np.sqrt(1 - cos_i**2)  # [unitless]\n",
      "/Users/audreyburggraf/Desktop/THESIS/Functions/functions.py:189: RuntimeWarning: invalid value encountered in sqrt\n",
      "  Y = np.sqrt((1-e**2))*sin(E) # [unitless]\n"
     ]
    },
    {
     "name": "stdout",
     "output_type": "stream",
     "text": [
      "alpha0  : real=1.00000, fitted=0.99797, difference=0.00203\n",
      "delta0  : real=2.00000, fitted=2.01308, difference=0.01308\n",
      "mu_alpha: real=13.53877, fitted=13.53585, difference=0.00292\n",
      "mu_delta: real=-182.83832, fitted=-182.83857, difference=0.00025\n",
      "parallax: real=50.00000, fitted=50.01054, difference=0.01054\n",
      "e       : real=0.05181, fitted=0.99850, difference=0.94669\n",
      "omega   : real=0.59269, fitted=9.43292, difference=8.84023\n",
      "Omega   : real=0.62288, fitted=1.12628, difference=0.50339\n",
      "cos_i   : real=0.09591, fitted=-44.93601, difference=45.03192\n",
      "m_planet: real=9.87736, fitted=0.50212, difference=9.37523\n",
      "P_orb   : real=0.71632, fitted=2.79570, difference=2.07938\n",
      "t_peri  : real=0.35680, fitted=0.40592, difference=0.04912\n"
     ]
    }
   ],
   "source": [
    "fitted_params_1P, wp_chi_sq = one_planet_fit(inj_params_1P, signal_ra_obs, signal_dec_obs, noise_ra, noise_dec, times_synthetic)\n",
    "\n",
    "print_parameter_differences(inj_params_1P, fitted_params_1P, return_type='wp')"
   ]
  },
  {
   "cell_type": "code",
   "execution_count": 9,
   "id": "730380cd",
   "metadata": {},
   "outputs": [
    {
     "data": {
      "text/plain": [
       "(1147.7975566270302, 410.2410951933886, 737.5564614336415, array([0]))"
      ]
     },
     "execution_count": 9,
     "metadata": {},
     "output_type": "execute_result"
    }
   ],
   "source": [
    "detection_result = detection_function(np_chi_sq, wp_chi_sq, inj_params_1P, fitted_params_1P, N1)\n",
    "detection_result"
   ]
  },
  {
   "cell_type": "code",
   "execution_count": null,
   "id": "7f9ea2fa",
   "metadata": {},
   "outputs": [],
   "source": []
  }
 ],
 "metadata": {
  "kernelspec": {
   "display_name": "Python 3 (ipykernel)",
   "language": "python",
   "name": "python3"
  },
  "language_info": {
   "codemirror_mode": {
    "name": "ipython",
    "version": 3
   },
   "file_extension": ".py",
   "mimetype": "text/x-python",
   "name": "python",
   "nbconvert_exporter": "python",
   "pygments_lexer": "ipython3",
   "version": "3.9.7"
  },
  "varInspector": {
   "cols": {
    "lenName": 16,
    "lenType": 16,
    "lenVar": 40
   },
   "kernels_config": {
    "python": {
     "delete_cmd_postfix": "",
     "delete_cmd_prefix": "del ",
     "library": "var_list.py",
     "varRefreshCmd": "print(var_dic_list())"
    },
    "r": {
     "delete_cmd_postfix": ") ",
     "delete_cmd_prefix": "rm(",
     "library": "var_list.r",
     "varRefreshCmd": "cat(var_dic_list()) "
    }
   },
   "types_to_exclude": [
    "module",
    "function",
    "builtin_function_or_method",
    "instance",
    "_Feature"
   ],
   "window_display": false
  }
 },
 "nbformat": 4,
 "nbformat_minor": 5
}
