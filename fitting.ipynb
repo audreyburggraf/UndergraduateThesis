{
 "cells": [
  {
   "cell_type": "code",
   "execution_count": 1,
   "id": "7441bb4b",
   "metadata": {},
   "outputs": [],
   "source": [
    "import numpy as np\n",
    "\n",
    "import matplotlib.pyplot as plt\n",
    "from matplotlib.ticker import (MultipleLocator, AutoMinorLocator)\n",
    "\n",
    "import pandas as pd \n",
    "\n",
    "# importing functions\n",
    "import sys\n",
    "sys.path.append('/Users/audreyburggraf/Desktop/THESIS/Functions')\n",
    "\n",
    "from functions import *\n",
    "from unit_conversion_functions import *\n",
    "from fitting_functions import *"
   ]
  },
  {
   "cell_type": "code",
   "execution_count": 2,
   "id": "7cd34e00",
   "metadata": {},
   "outputs": [],
   "source": [
    "df = pd.read_csv('/Users/audreyburggraf/Desktop/THESIS/Gaia Data Files/gaia_data.csv')\n",
    "\n",
    "#  add the absolute gaia K band magnitude and stellar mass\n",
    "df[\"M_ks\"] = df.ks_m + 5 + 5*np.log10(df.parallax/1000)\n",
    "\n",
    "# cut off certain range \n",
    "df = df[(4 < df.M_ks) & (df.M_ks < 11)].reset_index(drop=True)\n",
    "\n",
    "# set the stellar mass \n",
    "df[\"stellar_mass\"] =  find_star_mass(df.M_ks)"
   ]
  },
  {
   "cell_type": "code",
   "execution_count": 3,
   "id": "cf645562",
   "metadata": {},
   "outputs": [
    {
     "name": "stdout",
     "output_type": "stream",
     "text": [
      "N for synthetic data:  70\n",
      "N for model data:  70000\n",
      " \n",
      "Planetary parameters:\n",
      "e: 0.11607003530679166  [unitless]\n",
      "omega: 3.5759668607870405  [radians]\n",
      "Omega: 1.072807089658365  [radians]\n",
      "cos_i: 0.6376434203665425  [unitless]\n",
      "m_planet: 8.702935835841917  [Jupiter masses]\n",
      "P_orb: 0.17293455510715125  [years]\n",
      "t_peri: 0.08568328606447792  [years]\n",
      " \n",
      "Gaia parameters:\n",
      "alpha0: 1  [degrees]\n",
      "delta0: 2  [degrees]\n",
      "mu_alpha: 115.32790772892858  [mas/year]\n",
      "mu_delta: -355.3659662031838  [mas/year]\n",
      "parallax: 50  [mas]\n",
      "m_star: 0.26311240169941863  [M_sun]\n",
      "x =  230965\n",
      " \n",
      "astrometric_signature( [8.70293584] [0.2631124] [0.17293456] [20.] ) =  [314.01209372] [uas]\n"
     ]
    }
   ],
   "source": [
    "N1 = 70\n",
    "N2 = 70000\n",
    "\n",
    "seed = 8\n",
    "\n",
    "np_parameters, parameters, prop_ra_synthetic, prop_dec_synthetic, parallax_ra_synthetic, parallax_dec_synthetic, planetary_ra_synthetic, planetary_dec_synthetic, prop_ra_model, prop_dec_model, parallax_ra_model, parallax_dec_model, planetary_ra_model, planetary_dec_model, noise_ra, noise_dec, errors, times_synthetic, times_model = find_signal_components(df, N1, N2, print_params='both')"
   ]
  },
  {
   "cell_type": "code",
   "execution_count": 4,
   "id": "2767fcd0",
   "metadata": {},
   "outputs": [],
   "source": [
    "signal_ra_obs  = prop_ra_synthetic + parallax_ra_synthetic + planetary_ra_synthetic + noise_ra\n",
    "signal_dec_obs = prop_dec_synthetic + parallax_dec_synthetic + planetary_dec_synthetic + noise_dec"
   ]
  },
  {
   "cell_type": "code",
   "execution_count": 6,
   "id": "5b036ace",
   "metadata": {},
   "outputs": [],
   "source": [
    "# N1 = 5\n",
    "# # \n",
    "# M = np.zeros((2*N1, 5), dtype=object)\n",
    "\n",
    "# times_test = ['t1', 't2']\n",
    "# parallax_ra = ['PI_ra(t1)', 'PI_ra(t2)']\n",
    "# parallax_dec = ['PI_dec(t1)', 'PI_dec(t2)']\n",
    "\n",
    "# for i in range(N1):\n",
    "#     M[i,0] = 1 \n",
    "#     M[i,1] = 0 \n",
    "#     M[i,2] = times_test[i]\n",
    "#     M[i,3] = 0\n",
    "#     M[i,4] = parallax_ra[i]\n",
    "    \n",
    "#     M[i + N1, 0] = 0\n",
    "#     M[i + N1, 1] = 1\n",
    "#     M[i + N1, 2] = 0\n",
    "#     M[i + N1, 3] = times_test[i]\n",
    "#     M[i + N1, 4] = parallax_dec[i]\n",
    "\n",
    "# for row in M:\n",
    "#     print(row)"
   ]
  },
  {
   "cell_type": "code",
   "execution_count": 19,
   "id": "8fdb658f",
   "metadata": {},
   "outputs": [],
   "source": [
    "# ------------------------------- N O - P L A N E T - F I T --------------------------------------\n",
    "def no_planet_fit(pars, signal_ra_obs, signal_dec_obs, errors, N, times): \n",
    "    alpha0, delta0, mu_alpha, mu_delta, parallax = pars\n",
    "    \n",
    "    param_nim = 3\n",
    "\n",
    "    M = np.zeros((2*N, param_nim))\n",
    "\n",
    "    parallax_ra, parallax_dec = generate_parallax_signal(alpha0, delta0, parallax, times) # [uas]\n",
    "    \n",
    "\n",
    "    for i in range(N):\n",
    "        M[i,0] = times[i]\n",
    "        M[i,1] = 0.0\n",
    "        M[i,2] = parallax_ra[i]\n",
    "        \n",
    "        M[i+N, 0] = 0.0\n",
    "        M[i+N, 1] = times[i]\n",
    "        M[i+N, 2] = parallax_dec[i]\n",
    "        \n",
    "#     for row in M:\n",
    "#         formatted_row = ['{:.0f}'.format(cell) for cell in row]\n",
    "#         print(formatted_row)\n",
    "\n",
    "    # finding the best fit values for the S samples\n",
    "    signal_obs = np.concatenate((signal_ra_obs, signal_dec_obs))\n",
    "    \n",
    "    errors_long = np.concatenate((errors, errors))\n",
    "    \n",
    "    np_best_fit_val, _, _, _ = lstsq(M, signal_obs)\n",
    "    \n",
    "\n",
    "    # create empty arrays \n",
    "    array = np.zeros((2*N, param_nim))\n",
    "\n",
    "    for i in range(N):\n",
    "        x = np_best_fit_val \n",
    "\n",
    "        for j in range(param_nim):\n",
    "            array[i,j] = M[i,j]*x[j]\n",
    "\n",
    "    array_row_sums = np.sum(array, axis=1) \n",
    "\n",
    "    np_chi_sq = np.sum((array_row_sums - signal_obs)**2/errors_long**2)\n",
    "\n",
    "    return np_best_fit_val, np_chi_sq\n",
    "    # ----------------------------------------------------------------------------------------------------------\n",
    "# -----------------------------------------------------------------------------------------------------------------------------\n"
   ]
  },
  {
   "cell_type": "code",
   "execution_count": 22,
   "id": "547792be",
   "metadata": {},
   "outputs": [
    {
     "name": "stdout",
     "output_type": "stream",
     "text": [
      " \n",
      "mu_alpha  : real=115.32791, fitted=115.34194, difference=0.01404\n",
      "mu_delta  : real=-355.36597, fitted=-355.36189, difference=0.00408\n",
      "parallax  : real=50.00000, fitted=1.00010, difference=48.99990\n"
     ]
    }
   ],
   "source": [
    "np_best_fit_val, np_chi_sq = no_planet_fit(np_parameters, signal_ra_obs, signal_dec_obs,errors,N1, times_synthetic)\n",
    "\n",
    "alpha0, delta0, mu_alpha, mu_delta, parallax = np_parameters\n",
    "\n",
    "np_fitted_params = mu_alpha, mu_delta, parallax\n",
    "\n",
    "np_parameter_names = ['mu_alpha', 'mu_delta', 'parallax']\n",
    "\n",
    "# for name, real_value, fitted_value in zip(parameter_names, parameters, fitted_params_1P):\n",
    "#     difference = real_value - fitted_value\n",
    "#     print(f'{name}: real={real_value}, fitted={fitted_value}, difference={np.abs(difference)}')\n",
    "\n",
    "\n",
    "np_best_fit_val[0] *=1/1000\n",
    "np_best_fit_val[1] *=1/1000\n",
    "\n",
    "print(\" \")\n",
    "\n",
    "\n",
    "for name, real_value, fitted_value in zip(np_parameter_names, np_fitted_params, np_best_fit_val):\n",
    "    difference = real_value - fitted_value\n",
    "    print(f'{name: <10}: real={real_value.item():.5f}, fitted={fitted_value.item():.5f}, difference={np.abs(difference.item()):.5f}')\n",
    "    "
   ]
  },
  {
   "cell_type": "code",
   "execution_count": 14,
   "id": "19d58e2f",
   "metadata": {},
   "outputs": [
    {
     "name": "stdout",
     "output_type": "stream",
     "text": [
      "alpha0    : real=1.00000, fitted=1.00010, difference=0.00010\n",
      "delta0    : real=2.00000, fitted=1.99937, difference=0.00063\n",
      "mu_alpha  : real=115.32791, fitted=115.32796, difference=0.00005\n",
      "mu_delta  : real=-355.36597, fitted=-355.36695, difference=0.00099\n",
      "parallax  : real=50.00000, fitted=49.99708, difference=0.00292\n",
      "m_star    : real=0.26311, fitted=0.22764, difference=0.03547\n",
      "e         : real=0.11607, fitted=0.11227, difference=0.00380\n",
      "omega     : real=3.57597, fitted=3.53462, difference=0.04135\n",
      "Omega     : real=1.07281, fitted=1.06121, difference=0.01159\n",
      "cos_i     : real=0.63764, fitted=0.63899, difference=0.00135\n",
      "m_planet  : real=8.70294, fitted=7.92285, difference=0.78008\n",
      "P_orb     : real=0.17293, fitted=0.17292, difference=0.00002\n",
      "t_peri    : real=0.08568, fitted=0.08447, difference=0.00122\n"
     ]
    }
   ],
   "source": [
    "\n",
    "\n",
    "fitted_params_1P, wp_chi_sq_ra, wp_chi_sq_dec = one_planet_fit(parameters, signal_ra_obs, signal_dec_obs, noise_ra, noise_dec, times_synthetic)\n",
    "\n",
    "\n",
    "parameter_names = ['alpha0', 'delta0', 'mu_alpha', 'mu_delta', 'parallax', 'm_star', 'e', 'omega', 'Omega', 'cos_i', 'm_planet', 'P_orb', 't_peri']\n",
    "\n",
    "# for name, real_value, fitted_value in zip(parameter_names, parameters, fitted_params_1P):\n",
    "#     difference = real_value - fitted_value\n",
    "#     print(f'{name}: real={real_value}, fitted={fitted_value}, difference={np.abs(difference)}')\n",
    "\n",
    "\n",
    "for name, real_value, fitted_value in zip(parameter_names, parameters, fitted_params_1P):\n",
    "    difference = real_value - fitted_value\n",
    "    print(f'{name: <10}: real={real_value.item():.5f}, fitted={fitted_value.item():.5f}, difference={np.abs(difference.item()):.5f}')"
   ]
  },
  {
   "cell_type": "code",
   "execution_count": 23,
   "id": "c68baadd",
   "metadata": {},
   "outputs": [
    {
     "data": {
      "text/plain": [
       "65.43539723433533"
      ]
     },
     "execution_count": 23,
     "metadata": {},
     "output_type": "execute_result"
    }
   ],
   "source": [
    "wp_chi_sq_dec"
   ]
  },
  {
   "cell_type": "code",
   "execution_count": 24,
   "id": "b5213c03",
   "metadata": {},
   "outputs": [
    {
     "data": {
      "text/plain": [
       "66.3816530891677"
      ]
     },
     "execution_count": 24,
     "metadata": {},
     "output_type": "execute_result"
    }
   ],
   "source": [
    "wp_chi_sq_ra"
   ]
  },
  {
   "cell_type": "code",
   "execution_count": 15,
   "id": "730380cd",
   "metadata": {},
   "outputs": [
    {
     "data": {
      "text/plain": [
       "-25120508802.30738"
      ]
     },
     "execution_count": 15,
     "metadata": {},
     "output_type": "execute_result"
    }
   ],
   "source": [
    "Delta_BIC_ra = BIC(np_chi_sq, wp_chi_sq_dec, N1)\n",
    "Delta_BIC_ra"
   ]
  },
  {
   "cell_type": "code",
   "execution_count": 16,
   "id": "1892283b",
   "metadata": {},
   "outputs": [
    {
     "data": {
      "text/plain": [
       "-25120508802.30738"
      ]
     },
     "execution_count": 16,
     "metadata": {},
     "output_type": "execute_result"
    }
   ],
   "source": [
    "Delta_BIC_dec = BIC(np_chi_sq, wp_chi_sq_dec, N1)\n",
    "Delta_BIC_dec"
   ]
  },
  {
   "cell_type": "code",
   "execution_count": null,
   "id": "7e5f7d74",
   "metadata": {},
   "outputs": [],
   "source": []
  }
 ],
 "metadata": {
  "kernelspec": {
   "display_name": "Python 3 (ipykernel)",
   "language": "python",
   "name": "python3"
  },
  "language_info": {
   "codemirror_mode": {
    "name": "ipython",
    "version": 3
   },
   "file_extension": ".py",
   "mimetype": "text/x-python",
   "name": "python",
   "nbconvert_exporter": "python",
   "pygments_lexer": "ipython3",
   "version": "3.9.7"
  },
  "varInspector": {
   "cols": {
    "lenName": 16,
    "lenType": 16,
    "lenVar": 40
   },
   "kernels_config": {
    "python": {
     "delete_cmd_postfix": "",
     "delete_cmd_prefix": "del ",
     "library": "var_list.py",
     "varRefreshCmd": "print(var_dic_list())"
    },
    "r": {
     "delete_cmd_postfix": ") ",
     "delete_cmd_prefix": "rm(",
     "library": "var_list.r",
     "varRefreshCmd": "cat(var_dic_list()) "
    }
   },
   "types_to_exclude": [
    "module",
    "function",
    "builtin_function_or_method",
    "instance",
    "_Feature"
   ],
   "window_display": false
  }
 },
 "nbformat": 4,
 "nbformat_minor": 5
}
