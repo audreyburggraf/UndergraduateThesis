{
 "cells": [
  {
   "cell_type": "code",
   "execution_count": 1,
   "id": "7441bb4b",
   "metadata": {},
   "outputs": [],
   "source": [
    "import numpy as np\n",
    "\n",
    "import matplotlib.pyplot as plt\n",
    "from matplotlib.ticker import (MultipleLocator, AutoMinorLocator)\n",
    "\n",
    "import pandas as pd \n",
    "\n",
    "# importing functions\n",
    "import sys\n",
    "sys.path.append('/Users/audreyburggraf/Desktop/THESIS/Functions')\n",
    "\n",
    "from functions import *\n",
    "from unit_conversion_functions import *\n",
    "from fitting_functions import *\n",
    "from printing_functions import *"
   ]
  },
  {
   "cell_type": "code",
   "execution_count": 2,
   "id": "5dabdf02",
   "metadata": {},
   "outputs": [],
   "source": [
    "# names \n",
    "# inj_params_0P: array holding the injected parameters for the 0 planet fit \n",
    "# inj_params_1P: array holding the injected parameters for the 1 planet fit "
   ]
  },
  {
   "cell_type": "code",
   "execution_count": 3,
   "id": "7cd34e00",
   "metadata": {},
   "outputs": [],
   "source": [
    "df = pd.read_csv('/Users/audreyburggraf/Desktop/THESIS/Gaia Data Files/gaia_data.csv')\n",
    "\n",
    "#  add the absolute gaia K band magnitude and stellar mass\n",
    "df[\"M_ks\"] = df.ks_m + 5 + 5*np.log10(df.parallax/1000)\n",
    "\n",
    "# cut off certain range \n",
    "df = df[(4 < df.M_ks) & (df.M_ks < 11)].reset_index(drop=True)\n",
    "\n",
    "# set the stellar mass \n",
    "df[\"stellar_mass\"] =  find_star_mass(df.M_ks)"
   ]
  },
  {
   "cell_type": "code",
   "execution_count": 4,
   "id": "cf645562",
   "metadata": {},
   "outputs": [
    {
     "name": "stdout",
     "output_type": "stream",
     "text": [
      "Planetary parameters:\n",
      "e           : 0.13003744369330628  [unitless]\n",
      "omega       : 5.813494981781561  [radians]\n",
      "Omega       : 3.9104750247099913  [radians]\n",
      "cos_i       : 0.48417338181696956  [unitless]\n",
      "m_planet    : 0.34603994707664776  [Jupiter masses]\n",
      "log10(P_orb): 0.03807756303253029  [log10(years)]\n",
      "t_peri      : 0.6801331664876508  [years]\n",
      " \n",
      "Gaia parameters:\n",
      "alpha0      : 1  [degrees]\n",
      "delta0      : 2  [degrees]\n",
      "mu_alpha    : -2.897642821950277  [mas/year]\n",
      "mu_delta    : -12.29304229257255  [mas/year]\n",
      "parallax    : 50  [mas]\n",
      "m_star      : 0.2203081678177399  [M_sun]\n",
      "x =  149186\n"
     ]
    }
   ],
   "source": [
    "N1 = 70\n",
    "N2 = 70000\n",
    "\n",
    "seed = 8\n",
    "\n",
    "# call function\n",
    "parameter_result, synthetic_result, model_result, error_result = find_signal_components(df, N1, N2, print_params='both')\n",
    "\n",
    "# break down the result statement \n",
    "\n",
    "# parameter_result includes the no planet and 1 planet parameters in their proper units \n",
    "(inj_params_0P, inj_params_1P) = parameter_result\n",
    "\n",
    "# model_results includes the signal components and times for the synthetic in [uas] and [years]\n",
    "(prop_ra_synthetic, prop_dec_synthetic, \n",
    " parallax_ra_synthetic, parallax_dec_synthetic, \n",
    " planetary_ra_synthetic, planetary_dec_synthetic, \n",
    " times_synthetic) = synthetic_result\n",
    "\n",
    "# model_results includes the signal components and times for the model in [uas] and [years]\n",
    "(prop_ra_model, prop_dec_model, \n",
    " parallax_ra_model, parallax_dec_model, \n",
    " planetary_ra_model, planetary_dec_model, \n",
    " times_model) = model_result\n",
    "\n",
    "# error_result includes noise in ra and dec direction plus error (same for ra and dec) in [uas]\n",
    "(noise_ra, noise_dec, errors) = error_result"
   ]
  },
  {
   "cell_type": "code",
   "execution_count": 5,
   "id": "2767fcd0",
   "metadata": {},
   "outputs": [],
   "source": [
    "signal_ra_obs  = prop_ra_synthetic + parallax_ra_synthetic + planetary_ra_synthetic + noise_ra\n",
    "signal_dec_obs = prop_dec_synthetic + parallax_dec_synthetic + planetary_dec_synthetic + noise_dec"
   ]
  },
  {
   "cell_type": "code",
   "execution_count": 6,
   "id": "8fdb658f",
   "metadata": {},
   "outputs": [
    {
     "name": "stdout",
     "output_type": "stream",
     "text": [
      "alpha0  : real=1.00000, fitted=1.04117, difference=0.04117\n",
      "delta0  : real=2.00000, fitted=1.99116, difference=0.00884\n",
      "mu_alpha: real=-2.89764, fitted=-2.89658, difference=0.00106\n",
      "mu_delta: real=-12.29304, fitted=-12.28917, difference=0.00388\n",
      "parallax: real=50.00000, fitted=49.99530, difference=0.00470\n"
     ]
    }
   ],
   "source": [
    "fitted_params_0P, np_chi_sq = no_planet_fit(inj_params_0P, signal_ra_obs, signal_dec_obs, noise_ra, noise_dec, times_synthetic)\n",
    "\n",
    "print_parameter_differences(inj_params_0P, fitted_params_0P, return_type='np')"
   ]
  },
  {
   "cell_type": "code",
   "execution_count": 7,
   "id": "19d58e2f",
   "metadata": {
    "scrolled": true
   },
   "outputs": [
    {
     "name": "stdout",
     "output_type": "stream",
     "text": [
      "alpha0      : real=1.00000, fitted=1.04608, difference=0.04608\n",
      "delta0      : real=2.00000, fitted=1.99807, difference=0.00193\n",
      "mu_alpha    : real=-2.89764, fitted=-2.89501, difference=0.00264\n",
      "mu_delta    : real=-12.29304, fitted=-12.29220, difference=0.00084\n",
      "parallax    : real=50.00000, fitted=49.99311, difference=0.00689\n",
      "e           : real=0.13004, fitted=-0.98338, difference=1.11342\n",
      "omega       : real=5.81349, fitted=4.74747, difference=1.06602\n",
      "Omega       : real=3.91048, fitted=2.98333, difference=0.92715\n",
      "cos_i       : real=0.48417, fitted=-0.03841, difference=0.52259\n",
      "m_planet    : real=0.34604, fitted=0.77572, difference=0.42968\n",
      "log10(P_orb): real=0.03808, fitted=0.26878, difference=0.23070\n",
      "t_peri      : real=0.68013, fitted=0.50426, difference=0.17587\n"
     ]
    }
   ],
   "source": [
    "fitted_params_1P, wp_chi_sq = one_planet_fit(inj_params_1P, signal_ra_obs, signal_dec_obs, noise_ra, noise_dec, times_synthetic)\n",
    "\n",
    "print_parameter_differences(inj_params_1P, fitted_params_1P, return_type='wp')"
   ]
  },
  {
   "cell_type": "code",
   "execution_count": 16,
   "id": "730380cd",
   "metadata": {},
   "outputs": [
    {
     "name": "stdout",
     "output_type": "stream",
     "text": [
      "np_BIC = 539.9636528315746\n",
      "wp_BIC = 290.97320773938316\n",
      "Delta_BIC = 248.9904450921914\n",
      "detection (yes = 1, no=0) = 0\n",
      "conditions satisfied (Delta BIC>20, log(P) within err, mass within err) = [1 0 0]\n"
     ]
    }
   ],
   "source": [
    "detection_result = detection_function(np_chi_sq, wp_chi_sq, inj_params_1P, fitted_params_1P, N1)\n",
    "\n",
    "\n",
    "print(\"np_BIC =\", detection_result[0])\n",
    "print(\"wp_BIC =\", detection_result[1])\n",
    "print(\"Delta_BIC =\", detection_result[2])\n",
    "print(\"detection (yes = 1, no=0) =\", detection_result[3])\n",
    "print(\"conditions satisfied (Delta BIC>20, log(P) within err, mass within err) =\", detection_result[4])"
   ]
  },
  {
   "cell_type": "code",
   "execution_count": 17,
   "id": "54ce14a7",
   "metadata": {},
   "outputs": [
    {
     "name": "stdout",
     "output_type": "stream",
     "text": [
      "(567.8557207772806, 208.9606174454837, 358.89510333179686, 0, array([1, 0, 0]))\n",
      "run # 0  conditions_satisfied: [1 0 0]\n"
     ]
    },
    {
     "data": {
      "text/plain": [
       "[0]"
      ]
     },
     "execution_count": 17,
     "metadata": {},
     "output_type": "execute_result"
    }
   ],
   "source": [
    "N1 = 70\n",
    "N2 = 70000\n",
    "\n",
    "seed = 8\n",
    "\n",
    "detection_result = multiple_fitting_function(df, N1, N2, 1)\n",
    "detection_result"
   ]
  },
  {
   "cell_type": "code",
   "execution_count": null,
   "id": "bb70207c",
   "metadata": {},
   "outputs": [],
   "source": []
  }
 ],
 "metadata": {
  "kernelspec": {
   "display_name": "Python 3 (ipykernel)",
   "language": "python",
   "name": "python3"
  },
  "language_info": {
   "codemirror_mode": {
    "name": "ipython",
    "version": 3
   },
   "file_extension": ".py",
   "mimetype": "text/x-python",
   "name": "python",
   "nbconvert_exporter": "python",
   "pygments_lexer": "ipython3",
   "version": "3.9.7"
  },
  "varInspector": {
   "cols": {
    "lenName": 16,
    "lenType": 16,
    "lenVar": 40
   },
   "kernels_config": {
    "python": {
     "delete_cmd_postfix": "",
     "delete_cmd_prefix": "del ",
     "library": "var_list.py",
     "varRefreshCmd": "print(var_dic_list())"
    },
    "r": {
     "delete_cmd_postfix": ") ",
     "delete_cmd_prefix": "rm(",
     "library": "var_list.r",
     "varRefreshCmd": "cat(var_dic_list()) "
    }
   },
   "types_to_exclude": [
    "module",
    "function",
    "builtin_function_or_method",
    "instance",
    "_Feature"
   ],
   "window_display": false
  }
 },
 "nbformat": 4,
 "nbformat_minor": 5
}
