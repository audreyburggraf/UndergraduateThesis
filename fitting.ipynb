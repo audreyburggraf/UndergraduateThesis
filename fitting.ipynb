{
 "cells": [
  {
   "cell_type": "code",
   "execution_count": 1,
   "id": "7441bb4b",
   "metadata": {},
   "outputs": [],
   "source": [
    "import numpy as np\n",
    "\n",
    "import matplotlib.pyplot as plt\n",
    "from matplotlib.ticker import (MultipleLocator, AutoMinorLocator)\n",
    "\n",
    "import pandas as pd \n",
    "\n",
    "# importing functions\n",
    "import sys\n",
    "sys.path.append('/Users/audreyburggraf/Desktop/THESIS/Functions')\n",
    "\n",
    "from functions import *\n",
    "from unit_conversion_functions import *\n",
    "from fitting_functions import *\n",
    "from printing_functions import *"
   ]
  },
  {
   "cell_type": "code",
   "execution_count": 2,
   "id": "b29b774d",
   "metadata": {},
   "outputs": [],
   "source": [
    "# names \n",
    "# inj_params_0P: array holding the injected parameters for the 0 planet fit \n",
    "# inj_params_1P: array holding the injected parameters for the 1 planet fit "
   ]
  },
  {
   "cell_type": "code",
   "execution_count": 3,
   "id": "7cd34e00",
   "metadata": {},
   "outputs": [],
   "source": [
    "df = pd.read_csv('/Users/audreyburggraf/Desktop/THESIS/Gaia Data Files/gaia_data.csv')\n",
    "\n",
    "#  add the absolute gaia K band magnitude and stellar mass\n",
    "df[\"M_ks\"] = df.ks_m + 5 + 5*np.log10(df.parallax/1000)\n",
    "\n",
    "# cut off certain range \n",
    "df = df[(4 < df.M_ks) & (df.M_ks < 11)].reset_index(drop=True)\n",
    "\n",
    "# set the stellar mass \n",
    "df[\"stellar_mass\"] =  find_star_mass(df.M_ks)"
   ]
  },
  {
   "cell_type": "code",
   "execution_count": 4,
   "id": "cf645562",
   "metadata": {},
   "outputs": [
    {
     "name": "stdout",
     "output_type": "stream",
     "text": [
      "N for synthetic data:  70\n",
      "N for model data    :  70000\n",
      " \n",
      "Planetary parameters:\n",
      "e           : 0.302912000589295  [unitless]\n",
      "omega       : 4.313677832870261  [radians]\n",
      "Omega       : 2.6435535652811666  [radians]\n",
      "cos_i       : 0.12912894817108467  [unitless]\n",
      "m_planet    : 0.9552856398248216  [Jupiter masses]\n",
      "log10(P_orb): 0.0405557069420337  [log10(years)]\n",
      "t_peri      : 0.3334655018688819  [years]\n",
      " \n",
      "Gaia parameters:\n",
      "alpha0      : 1  [degrees]\n",
      "delta0      : 2  [degrees]\n",
      "mu_alpha    : 63.20071839452851  [mas/year]\n",
      "mu_delta    : -81.25858742746935  [mas/year]\n",
      "parallax    : 50  [mas]\n",
      "m_star      : 0.1533814175442969  [M_sun]\n",
      "x =  202554\n",
      " \n",
      "astrometric_signature( [0.95528564] [0.15338142] [0.04055571] [20.] ) =  [169.34622012] [uas]\n"
     ]
    }
   ],
   "source": [
    "N1 = 70\n",
    "N2 = 70000\n",
    "\n",
    "seed = 8\n",
    "\n",
    "# call function\n",
    "parameter_result, synthetic_result, model_result, error_result = find_signal_components(df, N1, N2, print_params='both')\n",
    "\n",
    "# break down the result statement \n",
    "\n",
    "# parameter_result includes the no planet and 1 planet parameters in their proper units \n",
    "(inj_params_0P, inj_params_1P) = parameter_result\n",
    "\n",
    "# model_results includes the signal components and times for the synthetic in [uas] and [years]\n",
    "(prop_ra_synthetic, prop_dec_synthetic, \n",
    " parallax_ra_synthetic, parallax_dec_synthetic, \n",
    " planetary_ra_synthetic, planetary_dec_synthetic, \n",
    " times_synthetic) = synthetic_result\n",
    "\n",
    "# model_results includes the signal components and times for the model in [uas] and [years]\n",
    "(prop_ra_model, prop_dec_model, \n",
    " parallax_ra_model, parallax_dec_model, \n",
    " planetary_ra_model, planetary_dec_model, \n",
    " times_model) = model_result\n",
    "\n",
    "# error_result includes noise in ra and dec direction plus error (same for ra and dec) in [uas]\n",
    "(noise_ra, noise_dec, errors) = error_result"
   ]
  },
  {
   "cell_type": "code",
   "execution_count": 5,
   "id": "2767fcd0",
   "metadata": {},
   "outputs": [],
   "source": [
    "signal_ra_obs  = prop_ra_synthetic + parallax_ra_synthetic + planetary_ra_synthetic + noise_ra\n",
    "signal_dec_obs = prop_dec_synthetic + parallax_dec_synthetic + planetary_dec_synthetic + noise_dec"
   ]
  },
  {
   "cell_type": "code",
   "execution_count": 6,
   "id": "8fdb658f",
   "metadata": {},
   "outputs": [
    {
     "name": "stdout",
     "output_type": "stream",
     "text": [
      "alpha0  : real=1.00000, fitted=1.00599, difference=0.00599\n",
      "delta0  : real=2.00000, fitted=1.99661, difference=0.00339\n",
      "mu_alpha: real=63.20072, fitted=63.19964, difference=0.00108\n",
      "mu_delta: real=-81.25859, fitted=-81.25577, difference=0.00282\n",
      "parallax: real=50.00000, fitted=49.99719, difference=0.00281\n"
     ]
    }
   ],
   "source": [
    "fitted_params_0P, np_chi_sq = no_planet_fit(inj_params_0P, signal_ra_obs, signal_dec_obs, noise_ra, noise_dec, times_synthetic)\n",
    "\n",
    "print_parameter_differences(inj_params_0P, fitted_params_0P, return_type='np')"
   ]
  },
  {
   "cell_type": "code",
   "execution_count": 7,
   "id": "19d58e2f",
   "metadata": {
    "scrolled": true
   },
   "outputs": [
    {
     "name": "stdout",
     "output_type": "stream",
     "text": [
      "alpha0      : real=1.00000, fitted=1.00173, difference=0.00173\n",
      "delta0      : real=2.00000, fitted=2.00170, difference=0.00170\n",
      "mu_alpha    : real=63.20072, fitted=63.20094, difference=0.00022\n",
      "mu_delta    : real=-81.25859, fitted=-81.25639, difference=0.00220\n",
      "parallax    : real=50.00000, fitted=49.97702, difference=0.02298\n",
      "e           : real=0.30291, fitted=0.81723, difference=0.51432\n",
      "omega       : real=4.31368, fitted=7.70971, difference=3.39604\n",
      "Omega       : real=2.64355, fitted=1.15582, difference=1.48773\n",
      "cos_i       : real=0.12913, fitted=0.00356, difference=0.12557\n",
      "m_planet    : real=0.95529, fitted=0.02845, difference=0.92684\n",
      "log10(P_orb): real=0.04056, fitted=0.01447, difference=0.02609\n",
      "t_peri      : real=0.33347, fitted=0.31624, difference=0.01723\n"
     ]
    },
    {
     "name": "stderr",
     "output_type": "stream",
     "text": [
      "/Users/audreyburggraf/Desktop/THESIS/Functions/functions.py:472: RuntimeWarning: invalid value encountered in double_scalars\n",
      "  a = (P_orb**2 * m_star)**(1/3)\n"
     ]
    }
   ],
   "source": [
    "fitted_params_1P, wp_chi_sq = one_planet_fit(inj_params_1P, signal_ra_obs, signal_dec_obs, noise_ra, noise_dec, times_synthetic)\n",
    "\n",
    "print_parameter_differences(inj_params_1P, fitted_params_1P, return_type='wp')"
   ]
  },
  {
   "cell_type": "code",
   "execution_count": 8,
   "id": "730380cd",
   "metadata": {},
   "outputs": [
    {
     "data": {
      "text/plain": [
       "(155.00892437562246, 177.75830198867925, 22.749377613056794, array([0]))"
      ]
     },
     "execution_count": 8,
     "metadata": {},
     "output_type": "execute_result"
    }
   ],
   "source": [
    "detection_result = detection_function(np_chi_sq, wp_chi_sq, inj_params_1P, fitted_params_1P, N1)\n",
    "detection_result"
   ]
  },
  {
   "cell_type": "code",
   "execution_count": null,
   "id": "1b1da04e",
   "metadata": {},
   "outputs": [],
   "source": []
  }
 ],
 "metadata": {
  "kernelspec": {
   "display_name": "Python 3 (ipykernel)",
   "language": "python",
   "name": "python3"
  },
  "language_info": {
   "codemirror_mode": {
    "name": "ipython",
    "version": 3
   },
   "file_extension": ".py",
   "mimetype": "text/x-python",
   "name": "python",
   "nbconvert_exporter": "python",
   "pygments_lexer": "ipython3",
   "version": "3.9.7"
  },
  "varInspector": {
   "cols": {
    "lenName": 16,
    "lenType": 16,
    "lenVar": 40
   },
   "kernels_config": {
    "python": {
     "delete_cmd_postfix": "",
     "delete_cmd_prefix": "del ",
     "library": "var_list.py",
     "varRefreshCmd": "print(var_dic_list())"
    },
    "r": {
     "delete_cmd_postfix": ") ",
     "delete_cmd_prefix": "rm(",
     "library": "var_list.r",
     "varRefreshCmd": "cat(var_dic_list()) "
    }
   },
   "types_to_exclude": [
    "module",
    "function",
    "builtin_function_or_method",
    "instance",
    "_Feature"
   ],
   "window_display": false
  }
 },
 "nbformat": 4,
 "nbformat_minor": 5
}
